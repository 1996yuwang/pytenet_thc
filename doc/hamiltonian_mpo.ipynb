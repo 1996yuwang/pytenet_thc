{
 "cells": [
  {
   "cell_type": "markdown",
   "metadata": {},
   "source": [
    "# Quantum Hamiltonians as matrix product operators"
   ]
  },
  {
   "cell_type": "markdown",
   "metadata": {},
   "source": [
    "In this tutorial, we will first introduce so-called operator chains, and demonstrate how to convert them to MPO form. This mechanism facilitates a concise construction of quantum Hamiltonians as MPOs."
   ]
  },
  {
   "cell_type": "code",
   "execution_count": 1,
   "metadata": {},
   "outputs": [],
   "source": [
    "# import NumPy and the PyTeNet package\n",
    "import numpy as np\n",
    "import pytenet as ptn"
   ]
  },
  {
   "cell_type": "markdown",
   "metadata": {},
   "source": [
    "## Operator chains"
   ]
  },
  {
   "cell_type": "markdown",
   "metadata": {},
   "source": [
    "An \"operator chain\" defined in `opchain.py` consists of an outer product of local operators, i.e., $c \\cdot \\mathrm{op}_i \\otimes \\mathrm{op}_{i+1} \\otimes \\cdots \\otimes \\mathrm{op}_{i+n-1}$, with $c$ a coefficient and $\\mathrm{op}_i$ acting on lattice site $i$ (and identity operations on the remaining lattice sites). Here is a basic illustration:"
   ]
  },
  {
   "cell_type": "code",
   "execution_count": 2,
   "metadata": {},
   "outputs": [],
   "source": [
    "# Pauli matrices\n",
    "sigma_x = np.array([[0.,  1.], [1.,  0.]])\n",
    "sigma_y = np.array([[0., -1j], [1j,  0.]])\n",
    "sigma_z = np.array([[1.,  0.], [0., -1.]])\n",
    "\n",
    "# store operators in a dictionary\n",
    "opmap = {\n",
    "    0: np.identity(2),\n",
    "    1: sigma_x,\n",
    "    2: sigma_y,\n",
    "    3: sigma_z }\n",
    "\n",
    "# create the symbolic operator chain 0.7 * I I X X Z I I ...\n",
    "opchain = ptn.OpChain([1, 1, 3], [0, 0, 0, 0], 0.7, 2)\n",
    "# The second parameter contains quantum numbers to be interleaved with the operators,\n",
    "# see the section below for an explanation.\n",
    "# The last argument is the first site which the operator chain acts on other than identities."
   ]
  },
  {
   "cell_type": "markdown",
   "metadata": {},
   "source": [
    "Our `opchain` simply stores the arguments used for constructing it as instance variables:"
   ]
  },
  {
   "cell_type": "code",
   "execution_count": 3,
   "metadata": {},
   "outputs": [
    {
     "data": {
      "text/plain": [
       "[1, 1, 3]"
      ]
     },
     "execution_count": 3,
     "metadata": {},
     "output_type": "execute_result"
    }
   ],
   "source": [
    "opchain.oids"
   ]
  },
  {
   "cell_type": "code",
   "execution_count": 4,
   "metadata": {},
   "outputs": [
    {
     "data": {
      "text/plain": [
       "[0, 0, 0, 0]"
      ]
     },
     "execution_count": 4,
     "metadata": {},
     "output_type": "execute_result"
    }
   ],
   "source": [
    "opchain.qnums"
   ]
  },
  {
   "cell_type": "code",
   "execution_count": 5,
   "metadata": {},
   "outputs": [
    {
     "data": {
      "text/plain": [
       "0.7"
      ]
     },
     "execution_count": 5,
     "metadata": {},
     "output_type": "execute_result"
    }
   ],
   "source": [
    "opchain.coeff"
   ]
  },
  {
   "cell_type": "code",
   "execution_count": 6,
   "metadata": {},
   "outputs": [
    {
     "data": {
      "text/plain": [
       "2"
      ]
     },
     "execution_count": 6,
     "metadata": {},
     "output_type": "execute_result"
    }
   ],
   "source": [
    "opchain.istart"
   ]
  },
  {
   "cell_type": "markdown",
   "metadata": {},
   "source": [
    "The `as_matrix()` function forms the outer product, i.e., the matrix representation of the operator chain (without the leading and trailing identities):"
   ]
  },
  {
   "cell_type": "code",
   "execution_count": 7,
   "metadata": {},
   "outputs": [
    {
     "data": {
      "text/plain": [
       "array([[ 0. ,  0. ,  0. ,  0. ,  0. ,  0. ,  0.7,  0. ],\n",
       "       [ 0. , -0. ,  0. , -0. ,  0. , -0. ,  0. , -0.7],\n",
       "       [ 0. ,  0. ,  0. ,  0. ,  0.7,  0. ,  0. ,  0. ],\n",
       "       [ 0. , -0. ,  0. , -0. ,  0. , -0.7,  0. , -0. ],\n",
       "       [ 0. ,  0. ,  0.7,  0. ,  0. ,  0. ,  0. ,  0. ],\n",
       "       [ 0. , -0. ,  0. , -0.7,  0. , -0. ,  0. , -0. ],\n",
       "       [ 0.7,  0. ,  0. ,  0. ,  0. ,  0. ,  0. ,  0. ],\n",
       "       [ 0. , -0.7,  0. , -0. ,  0. , -0. ,  0. , -0. ]])"
      ]
     },
     "execution_count": 7,
     "metadata": {},
     "output_type": "execute_result"
    }
   ],
   "source": [
    "opchain.as_matrix(opmap)"
   ]
  },
  {
   "cell_type": "markdown",
   "metadata": {},
   "source": [
    "## Converting operator chains to MPOs"
   ]
  },
  {
   "cell_type": "markdown",
   "metadata": {},
   "source": [
    "How can we construct a MPO version of a sum of operator chains? A useful mental picture are railway tracks running from east to west (i.e., from the rightmost to the leftmost lattice site), possibly interconnected by switches. Each operator chain corresponds to a train running once from east to west along one route through the tracks. (There is no risk of collision since trains operate at different hours.) Markers are placed at uniform intervals besides the tracks, each displaying a local operator (like the Pauli matrices in the example above). The operator chain (train) collects the markers which it encounters during its ride (preserving order).\n",
    "\n",
    "We can exploit the locality of typical operator chains (e.g., acting non-trivially only on two neighboring lattice sites) by creating a special \"identity\" track: its markers solely display the local identity operation. Operator trains share this identity track before and after the sites which they act on.\n",
    "\n",
    "To convert the operator chains to an `MPO`, we use an intermediate `OpGraph` data structure, which represents the overall track layout as a graph. We can then assemble an `MPO` from it. The number of tracks running in parallel (at a given longitude) is precisely the virtual bond dimension."
   ]
  },
  {
   "cell_type": "code",
   "execution_count": 8,
   "metadata": {},
   "outputs": [],
   "source": [
    "# first create two additional operator chains:\n",
    "# 0.5 * I Y Z I I ...\n",
    "opchain2 = ptn.OpChain([2, 3], [0, 0, 0], 0.5, 1)\n",
    "# -1.3 * I I I X I I ...\n",
    "opchain3 = ptn.OpChain([1], [0, 0], -1.3, 4)"
   ]
  },
  {
   "cell_type": "code",
   "execution_count": 9,
   "metadata": {},
   "outputs": [],
   "source": [
    "# overall system size (number of lattice sites)\n",
    "L = 8"
   ]
  },
  {
   "cell_type": "code",
   "execution_count": 10,
   "metadata": {},
   "outputs": [
    {
     "name": "stdout",
     "output_type": "stream",
     "text": [
      "True\n"
     ]
    }
   ],
   "source": [
    "# construct the graph;\n",
    "# last argument is the operator index (ID) in the above `opmap` of the identity operation\n",
    "opgraph = ptn.OpGraph.from_opchains([opchain, opchain2, opchain3], L, 0)\n",
    "# internal consistency check\n",
    "print(opgraph.is_consistent(verbose=True))"
   ]
  },
  {
   "cell_type": "code",
   "execution_count": 11,
   "metadata": {},
   "outputs": [],
   "source": [
    "# physical quantum numbers (see below)\n",
    "qd = [0, 0]\n",
    "\n",
    "# construct MPO representation of the operator graph\n",
    "mpo = ptn.MPO.from_opgraph(qd, opgraph, opmap)"
   ]
  },
  {
   "cell_type": "code",
   "execution_count": 12,
   "metadata": {},
   "outputs": [
    {
     "data": {
      "text/plain": [
       "[1, 1, 2, 3, 3, 1, 1, 1, 1]"
      ]
     },
     "execution_count": 12,
     "metadata": {},
     "output_type": "execute_result"
    }
   ],
   "source": [
    "# need at most 3 virtual bonds\n",
    "mpo.bond_dims"
   ]
  },
  {
   "cell_type": "code",
   "execution_count": 13,
   "metadata": {},
   "outputs": [
    {
     "data": {
      "text/plain": [
       "0.0"
      ]
     },
     "execution_count": 13,
     "metadata": {},
     "output_type": "execute_result"
    }
   ],
   "source": [
    "# consistency check\n",
    "# include leading and trailing identities to construct reference matrix represenation\n",
    "opchains_mat = sum(np.kron(np.kron(\n",
    "    np.identity(2**opc.istart),\n",
    "    opc.as_matrix(opmap)),\n",
    "    np.identity(2**(L - (opc.istart + opc.length))))\n",
    "        for opc in [opchain, opchain2, opchain3])\n",
    "# difference should be zero\n",
    "np.linalg.norm(mpo.as_matrix() - opchains_mat)"
   ]
  },
  {
   "cell_type": "markdown",
   "metadata": {},
   "source": [
    "## Constructing quantum Hamiltonians"
   ]
  },
  {
   "cell_type": "markdown",
   "metadata": {},
   "source": [
    "The module `hamiltonian.py` uses the mechanism to construct quantum Hamiltonians as MPOs. As illustration, for the Ising Hamiltonian\n",
    "\n",
    "$$\n",
    "H = \\sum_{j=1}^{L-1} J\\,\\sigma^z_j \\sigma^z_{j+1} + \\sum_{j=1}^L \\left( h\\,\\sigma^z_j + g\\,\\sigma^x_j \\right)\n",
    "$$\n",
    "\n",
    "(where we have omitted the $\\otimes$ symbol between $\\sigma^z_j$ and $\\sigma^z_{j+1}$ for brevity), the function `ising_MPO(L, J, h, g)` in `hamiltonian.py` creates an operator chain for $J\\,\\sigma^z_0 \\sigma^z_1$ and one for $h\\,\\sigma^z_0 + g\\,\\sigma^x_0$, and then shifts them along the lattice (i.e., perform the sum over $j$). The same procedure works for other quantum Hamiltonians, and is not restricted to nearest neighbor interactions."
   ]
  },
  {
   "cell_type": "code",
   "execution_count": 14,
   "metadata": {},
   "outputs": [],
   "source": [
    "# Hamiltonian parameters\n",
    "J =  1.0\n",
    "h = -0.4\n",
    "g =  0.7\n",
    "# construct Ising Hamiltonian as MPO\n",
    "mpo_ising = ptn.ising_mpo(L, J, h, g)"
   ]
  },
  {
   "cell_type": "code",
   "execution_count": 15,
   "metadata": {},
   "outputs": [
    {
     "data": {
      "text/plain": [
       "[1, 3, 3, 3, 3, 3, 3, 3, 1]"
      ]
     },
     "execution_count": 15,
     "metadata": {},
     "output_type": "execute_result"
    }
   ],
   "source": [
    "# virtual bond dimensions\n",
    "mpo_ising.bond_dims"
   ]
  },
  {
   "cell_type": "markdown",
   "metadata": {},
   "source": [
    "## Quantum numbers and conservation laws"
   ]
  },
  {
   "cell_type": "markdown",
   "metadata": {},
   "source": [
    "Let's discuss how (additive) quantum numbers enter the story so far. In many cases, a Hamiltonian respects conservation laws, like preserving the total spin or particle number of a physical system, for example. How to exploit this within the matrix product operator formalism is not entirely obvious, but here is how it works: we first identify the physical quantum numbers at each lattice site, like $\\pm \\frac{1}{2}$ for spin-up or spin-down. (PyTeNet stores them in variables denoted `qd`.) Likewise, each virtual bond is also associated with a quantum number (`qD` in PyTeNet). Now every MPO tensor obeys a sparsity pattern dictated by the quantum numbers: The sum of first physical and left virtual bond quantum number of each non-zero tensor entry is equal to the sum of second physical and right virtual bond quantum number. (Here \"first\" and \"second\" refers to the row and column dimension of a site-local operator.) PyTeNet provides the `is_qsparse` utility function to probe such a sparsity pattern. Note that we do not have to manually enforce it; instead, the sparsity pattern appears naturally when constructing the MPO representation of a Hamiltonian, and quantum numbers provide the means for actually recognizing and understanding it. In practical terms, quantum numbers allow to optimize common operations like singular value decompositions via partitioning into non-zero blocks.\n",
    "\n",
    "How can we obtain the virtual bond quantum numbers in the first place? Let's illustrate this via the XXZ Heisenberg model, with Hamiltonian represented as\n",
    "\n",
    "$$\n",
    "H = \\sum_{j=1}^{L-1} \\left( \\tfrac{1}{2} J\\,S^{+}_j S^{-}_{j+1} + \\tfrac{1}{2} J\\,S^{-}_j S^{+}_{j+1} + \\Delta\\,S^z_j S^z_{j+1} \\right) - \\sum_{j=1}^L h\\,S^z_j\n",
    "$$\n",
    "\n",
    "where $S^{\\pm}_j$ are the spin raising and lowering operators at site $j$, respectively, and $S^z_j = \\frac{1}{2} \\sigma^z_j$. As one might guess, the raising and lowering operators change the spin quantum number by $1$ (such that the overall net effect of both $S^{+}_j S^{-}_{j+1}$ and $S^{-}_j S^{+}_{j+1}$ is zero). We can translate this into code by sandwiching the virtual bond quantum number $1$ between $S^{+}_j$ and $S^{-}_{j+1}$, and likewise $-1$ between $S^{-}_j$ and $S^{+}_{j+1}$. (To avoid any numerical rounding issues, quantum numbers are generally stored as integers, and thus we multiply all spin quantum numbers by $2$ in the code.) By the same functionality as above, the quantum numbers are copied from the operator chains to the graph and finally into the virtual bond quantum numbers of the MPO, endowing MPO representation of the Hamiltonian with quantum numbers. See `hamiltonian.py` for the concrete implementation."
   ]
  },
  {
   "cell_type": "code",
   "execution_count": 16,
   "metadata": {},
   "outputs": [],
   "source": [
    "# Hamiltonian parameters\n",
    "J =  1.0\n",
    "D =  0.8\n",
    "h = -0.1\n",
    "# construct XXZ Heisenberg Hamiltonian as MPO\n",
    "mpo_xxz = ptn.heisenberg_xxz_mpo(L, J, D, h)"
   ]
  },
  {
   "cell_type": "code",
   "execution_count": 17,
   "metadata": {},
   "outputs": [
    {
     "data": {
      "text/plain": [
       "array([ 1, -1])"
      ]
     },
     "execution_count": 17,
     "metadata": {},
     "output_type": "execute_result"
    }
   ],
   "source": [
    "# physical quantum numbers (multiplied by 2)\n",
    "mpo_xxz.qd"
   ]
  },
  {
   "cell_type": "code",
   "execution_count": 18,
   "metadata": {},
   "outputs": [
    {
     "data": {
      "text/plain": [
       "[1, 5, 5, 5, 5, 5, 5, 5, 1]"
      ]
     },
     "execution_count": 18,
     "metadata": {},
     "output_type": "execute_result"
    }
   ],
   "source": [
    "# virtual bond dimensions\n",
    "mpo_xxz.bond_dims"
   ]
  },
  {
   "cell_type": "code",
   "execution_count": 19,
   "metadata": {},
   "outputs": [
    {
     "data": {
      "text/plain": [
       "array([ 0,  2,  0, -2,  0])"
      ]
     },
     "execution_count": 19,
     "metadata": {},
     "output_type": "execute_result"
    }
   ],
   "source": [
    "# virtual bond quantum numbers of third bond (multiplied by 2)\n",
    "mpo_xxz.qD[3]"
   ]
  },
  {
   "cell_type": "code",
   "execution_count": 20,
   "metadata": {},
   "outputs": [
    {
     "data": {
      "text/plain": [
       "True"
      ]
     },
     "execution_count": 20,
     "metadata": {},
     "output_type": "execute_result"
    }
   ],
   "source": [
    "# sparsity pattern consistency check\n",
    "ptn.is_qsparse(mpo_xxz.A[3], [mpo_xxz.qd, -mpo_xxz.qd, mpo_xxz.qD[3], -mpo_xxz.qD[4]])"
   ]
  },
  {
   "cell_type": "markdown",
   "metadata": {},
   "source": [
    "Note that we can effectively disable quantum numbers by setting them all to zero, since the above sparsity pattern rule is then always trivially satisfied."
   ]
  }
 ],
 "metadata": {
  "kernelspec": {
   "display_name": "Python 3 (ipykernel)",
   "language": "python",
   "name": "python3"
  },
  "language_info": {
   "codemirror_mode": {
    "name": "ipython",
    "version": 3
   },
   "file_extension": ".py",
   "mimetype": "text/x-python",
   "name": "python",
   "nbconvert_exporter": "python",
   "pygments_lexer": "ipython3",
   "version": "3.10.12"
  }
 },
 "nbformat": 4,
 "nbformat_minor": 4
}
