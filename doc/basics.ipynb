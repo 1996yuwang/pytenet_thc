{
 "cells": [
  {
   "cell_type": "markdown",
   "metadata": {},
   "source": [
    "# PyTeNet Basics\n",
    "\n",
    "This tutorial shows how to construct a matrix product state (MPS) with random entries, a Hamiltonian in matrix product operator (MPO) form and compute the corresponding average energy."
   ]
  },
  {
   "cell_type": "code",
   "execution_count": 1,
   "metadata": {},
   "outputs": [],
   "source": [
    "# import NumPy and the PyTeNet package\n",
    "import numpy as np\n",
    "import pytenet as ptn"
   ]
  },
  {
   "cell_type": "code",
   "execution_count": 2,
   "metadata": {
    "tags": []
   },
   "outputs": [],
   "source": [
    "# seed random number generator for reproducibility\n",
    "rng = np.random.default_rng(42)\n"
   ]
  },
  {
   "cell_type": "markdown",
   "metadata": {},
   "source": [
    "## Matrix product states"
   ]
  },
  {
   "cell_type": "markdown",
   "metadata": {},
   "source": [
    "Create a matrix product state with random tensor entries:"
   ]
  },
  {
   "cell_type": "code",
   "execution_count": 3,
   "metadata": {
    "tags": []
   },
   "outputs": [],
   "source": [
    "# physical dimension (of each lattice site);\n",
    "# this could be spin 1, 0, -1 for example, or 0, 1, 2 particles per lattice site\n",
    "d = 3\n",
    "\n",
    "# virtual bond dimensions (note the leading and trailing 1)\n",
    "D = [1, 4, 15, 13, 7, 1]\n",
    "\n",
    "# set all physical and virtual bond quantum numbers to zero\n",
    "# (effectively disabling quantum numbers)\n",
    "qd = np.zeros(d, dtype=int)\n",
    "qD = [np.zeros(Di, dtype=int) for Di in D]\n",
    "\n",
    "# now create the matrix product state\n",
    "mps = ptn.MPS(qd, qD, fill='random', rng=rng)"
   ]
  },
  {
   "cell_type": "markdown",
   "metadata": {},
   "source": [
    "The actual tensors of the MPS are stored in the `mps.A` instance variable (list of NumPy arrays)."
   ]
  },
  {
   "cell_type": "code",
   "execution_count": 4,
   "metadata": {},
   "outputs": [
    {
     "data": {
      "text/plain": [
       "list"
      ]
     },
     "execution_count": 4,
     "metadata": {},
     "output_type": "execute_result"
    }
   ],
   "source": [
    "type(mps.A)"
   ]
  },
  {
   "cell_type": "code",
   "execution_count": 5,
   "metadata": {},
   "outputs": [
    {
     "data": {
      "text/plain": [
       "numpy.ndarray"
      ]
     },
     "execution_count": 5,
     "metadata": {},
     "output_type": "execute_result"
    }
   ],
   "source": [
    "type(mps.A[0])"
   ]
  },
  {
   "cell_type": "code",
   "execution_count": 6,
   "metadata": {},
   "outputs": [
    {
     "data": {
      "text/plain": [
       "(3, 1, 4)"
      ]
     },
     "execution_count": 6,
     "metadata": {},
     "output_type": "execute_result"
    }
   ],
   "source": [
    "# the first dimension is the physical dimension,\n",
    "# and the second and third dimension the left and right virtual bond dimensions\n",
    "mps.A[0].shape"
   ]
  },
  {
   "cell_type": "code",
   "execution_count": 7,
   "metadata": {},
   "outputs": [
    {
     "data": {
      "text/plain": [
       "array([[[ 0.06220011+0.01347846j, -0.21228587+0.23009715j,\n",
       "          0.15318521+0.09542994j,  0.19199197-0.17540234j]],\n",
       "\n",
       "       [[-0.39825339+0.07527094j, -0.26580628-0.19573109j,\n",
       "          0.02609531+0.17931292j, -0.06455275-0.01019108j]],\n",
       "\n",
       "       [[-0.00342952-0.03773487j, -0.17412686-0.13899416j,\n",
       "          0.17950636+0.24955021j,  0.15876611-0.0315432j ]]])"
      ]
     },
     "execution_count": 7,
     "metadata": {},
     "output_type": "execute_result"
    }
   ],
   "source": [
    "# show random entries of leftmost tensor as illustration\n",
    "mps.A[0]"
   ]
  },
  {
   "cell_type": "code",
   "execution_count": 8,
   "metadata": {},
   "outputs": [
    {
     "data": {
      "text/plain": [
       "(5, 5, 5)"
      ]
     },
     "execution_count": 8,
     "metadata": {},
     "output_type": "execute_result"
    }
   ],
   "source": [
    "# the number of lattice sites is (by definition) the length of mps.A;\n",
    "# by construction same as length of virtual bond dimension list - 1\n",
    "L = mps.nsites\n",
    "(L, len(mps.A), len(D)-1)"
   ]
  },
  {
   "cell_type": "markdown",
   "metadata": {},
   "source": [
    "Here are our virtual bond dimensions (same as `D` above):"
   ]
  },
  {
   "cell_type": "code",
   "execution_count": 9,
   "metadata": {},
   "outputs": [
    {
     "data": {
      "text/plain": [
       "[1, 4, 15, 13, 7, 1]"
      ]
     },
     "execution_count": 9,
     "metadata": {},
     "output_type": "execute_result"
    }
   ],
   "source": [
    "mps.bond_dims"
   ]
  },
  {
   "cell_type": "markdown",
   "metadata": {},
   "source": [
    "The `as_vector()` function computes the vector representation of a matrix product state:"
   ]
  },
  {
   "cell_type": "code",
   "execution_count": 10,
   "metadata": {},
   "outputs": [
    {
     "data": {
      "text/plain": [
       "((243,), 243)"
      ]
     },
     "execution_count": 10,
     "metadata": {},
     "output_type": "execute_result"
    }
   ],
   "source": [
    "x = mps.as_vector()\n",
    "# the length of x is equal to the physical Hilbert space dimension,\n",
    "# i.e., d^L with L the number of lattice sites:\n",
    "(x.shape, d**L)"
   ]
  },
  {
   "cell_type": "code",
   "execution_count": 11,
   "metadata": {},
   "outputs": [
    {
     "data": {
      "text/plain": [
       "0.00873358512801628"
      ]
     },
     "execution_count": 11,
     "metadata": {},
     "output_type": "execute_result"
    }
   ],
   "source": [
    "# in general, the MPS is not normalized\n",
    "np.linalg.norm(x)"
   ]
  },
  {
   "cell_type": "markdown",
   "metadata": {},
   "source": [
    "Call `mps.orthonormalize()` to left- or right-orthonormalize the `mps.A` tensors (via QR decompositions). This function returns the hitherto norm."
   ]
  },
  {
   "cell_type": "code",
   "execution_count": 12,
   "metadata": {},
   "outputs": [
    {
     "data": {
      "text/plain": [
       "0.008733585128016278"
      ]
     },
     "execution_count": 12,
     "metadata": {},
     "output_type": "execute_result"
    }
   ],
   "source": [
    "# returns previous norm\n",
    "mps.orthonormalize(mode='left')"
   ]
  },
  {
   "cell_type": "code",
   "execution_count": 13,
   "metadata": {},
   "outputs": [
    {
     "data": {
      "text/plain": [
       "1.0000000000000002"
      ]
     },
     "execution_count": 13,
     "metadata": {},
     "output_type": "execute_result"
    }
   ],
   "source": [
    "# now the norm is 1, as expected\n",
    "x = mps.as_vector()\n",
    "np.linalg.norm(x)"
   ]
  },
  {
   "cell_type": "markdown",
   "metadata": {},
   "source": [
    "## Hamiltonian as matrix product operator"
   ]
  },
  {
   "cell_type": "markdown",
   "metadata": {},
   "source": [
    "PyTeNet supports some common quantum Hamiltonians in MPO form, see `hamiltonian.py`. The construction method there is very general and straightforward to adapt (see the `hamiltonian_mpo.ipynb` tutorial). Here we use the Bose-Hubbard model with the following Hamiltonian as illustration."
   ]
  },
  {
   "cell_type": "markdown",
   "metadata": {},
   "source": [
    "$$\n",
    "H = -t \\sum_{j=1}^{L-1} \\left(b^{\\dagger}_j b_{j+1} + \\text{h.c.}\\right) + \\tfrac{1}{2} U \\sum_{j=1}^L \\hat{n}_j \\left(\\hat{n}_j - 1\\right) - \\mu \\sum_{j=1}^L \\hat{n}_j\n",
    "$$"
   ]
  },
  {
   "cell_type": "code",
   "execution_count": 14,
   "metadata": {
    "tags": []
   },
   "outputs": [],
   "source": [
    "# Hamiltonian parameters\n",
    "t  =  1.0\n",
    "U  =  4.0\n",
    "mu = -0.5\n",
    "# construct MPO (allowed local occupancies are 0, 1, ..., d - 1)\n",
    "BH = ptn.bose_hubbard_mpo(d, L, t, U, mu)"
   ]
  },
  {
   "cell_type": "markdown",
   "metadata": {},
   "source": [
    "As for matrix product states, the actual tensors of the MPO are stored in the `BH.A` instance variable (list of NumPy arrays):"
   ]
  },
  {
   "cell_type": "code",
   "execution_count": 15,
   "metadata": {},
   "outputs": [
    {
     "data": {
      "text/plain": [
       "list"
      ]
     },
     "execution_count": 15,
     "metadata": {},
     "output_type": "execute_result"
    }
   ],
   "source": [
    "type(BH.A)"
   ]
  },
  {
   "cell_type": "code",
   "execution_count": 16,
   "metadata": {},
   "outputs": [
    {
     "data": {
      "text/plain": [
       "numpy.ndarray"
      ]
     },
     "execution_count": 16,
     "metadata": {},
     "output_type": "execute_result"
    }
   ],
   "source": [
    "type(BH.A[0])"
   ]
  },
  {
   "cell_type": "code",
   "execution_count": 17,
   "metadata": {},
   "outputs": [
    {
     "data": {
      "text/plain": [
       "((3, 3, 1, 4), (3, 3, 4, 4), (3, 3, 4, 4))"
      ]
     },
     "execution_count": 17,
     "metadata": {},
     "output_type": "execute_result"
    }
   ],
   "source": [
    "# the first and second dimensions are the physical dimensions,\n",
    "# and the third and fourth dimension the left and right virtual bond dimensions\n",
    "(BH.A[0].shape, BH.A[1].shape, BH.A[2].shape)"
   ]
  },
  {
   "cell_type": "code",
   "execution_count": 18,
   "metadata": {},
   "outputs": [
    {
     "data": {
      "text/plain": [
       "array([[[[ 0.        +0.j,  1.        +0.j,  0.        +0.j,\n",
       "           0.        +0.j]],\n",
       "\n",
       "        [[ 0.        +0.j,  0.        +0.j,  1.        +0.j,\n",
       "           0.        +0.j]],\n",
       "\n",
       "        [[ 0.        +0.j,  0.        +0.j,  0.        +0.j,\n",
       "           0.        +0.j]]],\n",
       "\n",
       "\n",
       "       [[[-1.        +0.j,  0.        +0.j,  0.        +0.j,\n",
       "           0.        +0.j]],\n",
       "\n",
       "        [[ 0.        +0.j,  1.        +0.j,  0.        +0.j,\n",
       "           0.5       +0.j]],\n",
       "\n",
       "        [[ 0.        +0.j,  0.        +0.j,  1.41421356+0.j,\n",
       "           0.        +0.j]]],\n",
       "\n",
       "\n",
       "       [[[ 0.        +0.j,  0.        +0.j,  0.        +0.j,\n",
       "           0.        +0.j]],\n",
       "\n",
       "        [[-1.41421356+0.j,  0.        +0.j,  0.        +0.j,\n",
       "           0.        +0.j]],\n",
       "\n",
       "        [[ 0.        +0.j,  1.        +0.j,  0.        +0.j,\n",
       "           5.        +0.j]]]])"
      ]
     },
     "execution_count": 18,
     "metadata": {},
     "output_type": "execute_result"
    }
   ],
   "source": [
    "# tensors are quite sparse\n",
    "BH.A[0]"
   ]
  },
  {
   "cell_type": "markdown",
   "metadata": {},
   "source": [
    "The `as_matrix()` function computes the matrix representation of a matrix product operator:"
   ]
  },
  {
   "cell_type": "code",
   "execution_count": 19,
   "metadata": {},
   "outputs": [],
   "source": [
    "BH_mat = BH.as_matrix()"
   ]
  },
  {
   "cell_type": "code",
   "execution_count": 20,
   "metadata": {},
   "outputs": [
    {
     "data": {
      "text/plain": [
       "numpy.ndarray"
      ]
     },
     "execution_count": 20,
     "metadata": {},
     "output_type": "execute_result"
    }
   ],
   "source": [
    "type(BH_mat)"
   ]
  },
  {
   "cell_type": "code",
   "execution_count": 21,
   "metadata": {},
   "outputs": [
    {
     "data": {
      "text/plain": [
       "(243, 243)"
      ]
     },
     "execution_count": 21,
     "metadata": {},
     "output_type": "execute_result"
    }
   ],
   "source": [
    "BH_mat.shape"
   ]
  },
  {
   "cell_type": "markdown",
   "metadata": {},
   "source": [
    "## Expectation values"
   ]
  },
  {
   "cell_type": "markdown",
   "metadata": {},
   "source": [
    "Now let's compute the average energy (expectation value) $\\langle\\psi \\vert H \\vert \\psi\\rangle$ via the MPS formalism:"
   ]
  },
  {
   "cell_type": "code",
   "execution_count": 22,
   "metadata": {},
   "outputs": [
    {
     "data": {
      "text/plain": [
       "(9.249829654930819-4.0592529337857286e-16j)"
      ]
     },
     "execution_count": 22,
     "metadata": {},
     "output_type": "execute_result"
    }
   ],
   "source": [
    "ptn.operator_average(mps, BH)"
   ]
  },
  {
   "cell_type": "code",
   "execution_count": 23,
   "metadata": {},
   "outputs": [
    {
     "data": {
      "text/plain": [
       "(9.24982965493082+1.3877787807814457e-16j)"
      ]
     },
     "execution_count": 23,
     "metadata": {},
     "output_type": "execute_result"
    }
   ],
   "source": [
    "# should agree with matrix-vector representation\n",
    "np.vdot(x, np.dot(BH_mat, x))"
   ]
  },
  {
   "cell_type": "code",
   "execution_count": null,
   "metadata": {},
   "outputs": [],
   "source": []
  }
 ],
 "metadata": {
  "kernelspec": {
   "display_name": "Python 3 (ipykernel)",
   "language": "python",
   "name": "python3"
  },
  "language_info": {
   "codemirror_mode": {
    "name": "ipython",
    "version": 3
   },
   "file_extension": ".py",
   "mimetype": "text/x-python",
   "name": "python",
   "nbconvert_exporter": "python",
   "pygments_lexer": "ipython3",
   "version": "3.10.7"
  }
 },
 "nbformat": 4,
 "nbformat_minor": 4
}
