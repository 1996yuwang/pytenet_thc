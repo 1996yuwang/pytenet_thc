{
 "cells": [
  {
   "cell_type": "code",
   "execution_count": 1,
   "metadata": {},
   "outputs": [],
   "source": [
    "from pyscf import gto, scf, fci\n"
   ]
  },
  {
   "cell_type": "code",
   "execution_count": 2,
   "metadata": {},
   "outputs": [],
   "source": [
    "atomdesription =  '''\n",
    "N  0.0000  0.0000  0.1173\n",
    "H  0.0000  0.9367 -0.3909\n",
    "H  0.8111 -0.4683 -0.3909\n",
    "H -0.8111 -0.4683 -0.3909\n",
    "'''"
   ]
  },
  {
   "cell_type": "code",
   "execution_count": 3,
   "metadata": {},
   "outputs": [
    {
     "data": {
      "text/plain": [
       "<pyscf.gto.mole.Mole at 0x7506b4bfa1d0>"
      ]
     },
     "execution_count": 3,
     "metadata": {},
     "output_type": "execute_result"
    }
   ],
   "source": [
    "# Define molecular geometry and basis set\n",
    "mol = gto.Mole()\n",
    "mol.atom = atomdesription\n",
    "mol.basis = 'sto-6g'\n",
    "mol.spin = 0        \n",
    "mol.charge = 0\n",
    "mol.build()\n"
   ]
  },
  {
   "cell_type": "code",
   "execution_count": 4,
   "metadata": {},
   "outputs": [
    {
     "name": "stdout",
     "output_type": "stream",
     "text": [
      "converged SCF energy = -55.9844445222266\n"
     ]
    },
    {
     "data": {
      "text/plain": [
       "-55.984444522226646"
      ]
     },
     "execution_count": 4,
     "metadata": {},
     "output_type": "execute_result"
    }
   ],
   "source": [
    "# Run Restricted Hartree-Fock (RHF) calculation\n",
    "mf = scf.RHF(mol)\n",
    "mf.kernel()\n"
   ]
  },
  {
   "cell_type": "code",
   "execution_count": 5,
   "metadata": {},
   "outputs": [],
   "source": [
    "# Initialize the FCI solver\n",
    "cisolver = fci.FCI(mol, mf.mo_coeff)\n",
    "\n",
    "# Compute the ground state energy\n",
    "e_fci, fcivec = cisolver.kernel()\n",
    "\n",
    "# To compute multiple states (e.g., first 5 states)\n",
    "nroots = 10\n",
    "e_fci, fcivecs = cisolver.kernel(nroots=nroots)\n"
   ]
  },
  {
   "cell_type": "code",
   "execution_count": 6,
   "metadata": {},
   "outputs": [
    {
     "name": "stdout",
     "output_type": "stream",
     "text": [
      "FCI Energy Spectrum:\n",
      "State 0: Energy = -67.46923609481902 Hartree\n",
      "State 1: Energy = -67.00839085980512 Hartree\n",
      "State 2: Energy = -67.0003898611537 Hartree\n",
      "State 3: Energy = -67.00033422063291 Hartree\n",
      "State 4: Energy = -66.95867489127038 Hartree\n",
      "State 5: Energy = -66.92527217215476 Hartree\n",
      "State 6: Energy = -66.92521652642243 Hartree\n",
      "State 7: Energy = -66.87902264427447 Hartree\n",
      "State 8: Energy = -66.87263669475023 Hartree\n",
      "State 9: Energy = -66.87256389479849 Hartree\n"
     ]
    }
   ],
   "source": [
    "# Print the FCI energy spectrum\n",
    "print('FCI Energy Spectrum:')\n",
    "for i, energy in enumerate(e_fci):\n",
    "    #print(f'State {i}: Energy = {energy- mol.get_enuc()} Hartree')\n",
    "    print(f'State {i}: Energy = {energy - mol.get_enuc()} Hartree')\n"
   ]
  },
  {
   "cell_type": "code",
   "execution_count": 7,
   "metadata": {},
   "outputs": [],
   "source": [
    "# NH3:\n",
    "\n",
    "# spin 0\n",
    "# FCI Energy Spectrum:\n",
    "# State 0: Energy = -67.46923609481895 Hartree\n",
    "# State 1: Energy = -67.00839085980502 Hartree\n",
    "# State 2: Energy = -67.00038986115365 Hartree\n",
    "# State 3: Energy = -67.00033422063288 Hartree\n",
    "# State 4: Energy = -66.95867489127029 Hartree\n",
    "# State 5: Energy = -66.92527217215475 Hartree\n",
    "# State 6: Energy = -66.92521652642232 Hartree\n",
    "# State 7: Energy = -66.8790226442745 Hartree\n",
    "# State 8: Energy = -66.8726366947502 Hartree\n",
    "# State 9: Energy = -66.87256389479838 Hartree\n",
    "\n",
    "# spin 2\n",
    "# FCI Energy Spectrum:\n",
    "# State 0: Energy = -67.0083908598048 Hartree\n",
    "# State 1: Energy = -67.00038986115318 Hartree\n",
    "# State 2: Energy = -67.0003342206318 Hartree\n",
    "# State 3: Energy = -66.87902264427463 Hartree\n",
    "# State 4: Energy = -66.87263669477437 Hartree\n",
    "# State 5: Energy = -66.87256389481155 Hartree\n",
    "# State 6: Energy = -66.75883112822066 Hartree\n",
    "# State 7: Energy = -66.75877021317763 Hartree\n",
    "# State 8: Energy = -66.72270133842429 Hartree\n",
    "# State 9: Energy = -66.51548979887954 Hartree\n"
   ]
  }
 ],
 "metadata": {
  "kernelspec": {
   "display_name": "Python 3",
   "language": "python",
   "name": "python3"
  },
  "language_info": {
   "codemirror_mode": {
    "name": "ipython",
    "version": 3
   },
   "file_extension": ".py",
   "mimetype": "text/x-python",
   "name": "python",
   "nbconvert_exporter": "python",
   "pygments_lexer": "ipython3",
   "version": "3.10.12"
  }
 },
 "nbformat": 4,
 "nbformat_minor": 2
}
