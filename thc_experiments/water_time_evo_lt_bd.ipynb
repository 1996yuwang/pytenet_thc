{
 "cells": [
  {
   "cell_type": "code",
   "execution_count": 1,
   "metadata": {},
   "outputs": [],
   "source": [
    "import sys\n",
    "sys.path.append('..')\n",
    "\n",
    "import numpy as np\n",
    "from pytenet.hartree_fock_mps import generate_single_state\n",
    "from pytenet.hamiltonian_thc import eval_func, generate_thc_mpos_by_layer_qn, get_t, get_h1_spin, get_g_spin\n",
    "from pytenet.global_krylov_method import generate_krylov_space_in_disk, get_W, get_S, remain_only_tridiagonal_elements\n",
    "from pytenet.global_krylov_method import generate_Hamiltonian_with_occupation_number, generate_reduced_H_non_ortho, store_file, load_file\n",
    "from pytenet.operation_thc import apply_thc_mpo_and_compress, add_mps_and_compress\n",
    "from pytenet.operation import vdot, add_mps\n",
    "import numpy as np\n",
    "from scipy import sparse\n",
    "import copy\n",
    "import h5py\n",
    "from numpy.linalg import norm\n",
    "#np.set_printoptions(precision=4,suppress=True)\n",
    "import scipy.io\n",
    "import matplotlib.pyplot as plt\n",
    "import pickle\n",
    "import pytenet as ptn\n",
    "import scipy.sparse.linalg as spla\n",
    "from pytenet.krylov_time_evo import ED_time_evo, Krylov_evo_using_vecs_single_step, Krylov_time_evo_using_vecs, Krylov_evo_using_built_space, create_Krylov_space, gram_schmidt, Krylov_evo_using_built_mps_space"
   ]
  },
  {
   "cell_type": "code",
   "execution_count": 2,
   "metadata": {},
   "outputs": [
    {
     "name": "stdout",
     "output_type": "stream",
     "text": [
      "7\n",
      "(7, 28)\n",
      "(28, 28)\n",
      "rl errV: 2.8386751875274264e-12\n",
      "abs errV: 2.0615721155266396e-11\n",
      "errt: 7.097049412242525e-13\n",
      "errh: 2.585427402664151e-13\n",
      "errht: 9.079449636842276e-14\n"
     ]
    }
   ],
   "source": [
    "#load integrals\n",
    "with h5py.File(\"../data_water/eri_water.hdf5\", \"r\") as f:\n",
    "#with h5py.File(\"/work_fast/ge49cag/pytenet_yu/water/eri_water.hdf5\", \"r\") as f:\n",
    "    eri = f[\"eri\"][()]\n",
    "    hkin = f[\"hkin\"][()]\n",
    "    hnuc = f[\"hnuc\"][()]\n",
    "\n",
    "#print(np.linalg.norm(eri))\n",
    "#print(eri.shape)\n",
    "\n",
    "no = eri.shape[0]\n",
    "MV = eri.reshape(no*no,no*no)\n",
    "\n",
    "u = np.load(\"../data_water/x.npy\")\n",
    "#u = np.load(\"/work_fast/ge49cag/pytenet_yu/water/x.npy\")\n",
    "X_mo = u.transpose(1,0)\n",
    "g_thc, Z_mo = eval_func(u,eri,hkin,hnuc,)\n",
    "h1 = hnuc+hkin\n",
    "nmo = X_mo.shape[1]\n",
    "L = X_mo.shape[1]\n",
    "g_thc = g_thc.reshape(nmo, nmo, nmo, nmo)\n",
    "r_thc = X_mo.shape[0]"
   ]
  },
  {
   "cell_type": "code",
   "execution_count": 3,
   "metadata": {},
   "outputs": [
    {
     "name": "stdout",
     "output_type": "stream",
     "text": [
      "[1, 16, 58, 96, 96, 58, 16, 1]\n"
     ]
    }
   ],
   "source": [
    "# h1_spin = get_h1_spin(h1)\n",
    "# g_spin = get_g_spin(eri)\n",
    "g_phy =  eri.transpose(0, 2, 1, 3)\n",
    "#mpo_ref = ptn.hamiltonian.molecular_hamiltonian_mpo(h1_spin, g_spin_phy)\n",
    "mpo_ref = ptn.hamiltonian.spin_molecular_hamiltonian_mpo(h1, g_phy)\n",
    "print(mpo_ref.bond_dims)"
   ]
  },
  {
   "cell_type": "code",
   "execution_count": 4,
   "metadata": {},
   "outputs": [],
   "source": [
    "#ref Hamiltonian as matrix\n",
    "H_ref = scipy.io.mmread('../data_water/H_water_correct.mtx').tocsr()\n",
    "H_thc = scipy.io.mmread('../data_water/H_water_thc.mtx').tocsr()\n",
    "\n",
    "#initial state\n",
    "filename = f\"/work_fast/ge49cag/code_datas\" + f\"/water_ground_ionization.pkl\"\n",
    "with open(filename, 'rb') as file:\n",
    "    initial_state = pickle.load(file)\n",
    "\n",
    "#thc mpo\n",
    "t = get_t(h1, eri)\n",
    "H_mu_nu_list_spin_layer = generate_thc_mpos_by_layer_qn(X_mo, Z_mo, L, t)\n",
    "r_THC = int((len(H_mu_nu_list_spin_layer)-1)**(1/2) / 2)\n",
    "    "
   ]
  },
  {
   "cell_type": "code",
   "execution_count": 5,
   "metadata": {},
   "outputs": [
    {
     "name": "stderr",
     "output_type": "stream",
     "text": [
      "/work_fast/ge49cag/pytenet_thc_spin_cons/thc_experiments/../pytenet/krylov_time_evo.py:181: ComplexWarning: Casting complex values to real discards the imaginary part\n",
      "  TN[i, j] = operator_inner_product(Krylov_mps_list[i], H_mpo, Krylov_mps_list[j])\n",
      "/work_fast/ge49cag/pytenet_thc_spin_cons/thc_experiments/../pytenet/krylov_time_evo.py:103: ComplexWarning: Casting complex values to real discards the imaginary part\n",
      "  TN[i, j] = np.vdot(Krylov_vector_list[i], H@Krylov_vector_list[j])\n"
     ]
    },
    {
     "name": "stdout",
     "output_type": "stream",
     "text": [
      "30 1 0.1\n",
      "trunc error 0.0012123657416281224\n",
      "krylov error 0.0005478885143321248\n",
      "total error 0.0013200280334069077\n",
      "30 2 0.05\n",
      "trunc error 0.0011563865513609644\n",
      "krylov error 8.154651777402249e-05\n",
      "total error 0.001158129877912271\n"
     ]
    },
    {
     "ename": "KeyboardInterrupt",
     "evalue": "",
     "output_type": "error",
     "traceback": [
      "\u001b[0;31m---------------------------------------------------------------------------\u001b[0m",
      "\u001b[0;31mKeyboardInterrupt\u001b[0m                         Traceback (most recent call last)",
      "Cell \u001b[0;32mIn[5], line 22\u001b[0m\n\u001b[1;32m     20\u001b[0m \u001b[38;5;28;01mfor\u001b[39;00m i \u001b[38;5;129;01min\u001b[39;00m \u001b[38;5;28mrange\u001b[39m(n):\n\u001b[1;32m     21\u001b[0m     \u001b[38;5;28;01mif\u001b[39;00m i \u001b[38;5;241m==\u001b[39m \u001b[38;5;241m0\u001b[39m:\n\u001b[0;32m---> 22\u001b[0m         space \u001b[38;5;241m=\u001b[39m \u001b[43mcreate_Krylov_space\u001b[49m\u001b[43m(\u001b[49m\u001b[43mN_krylov\u001b[49m\u001b[43m,\u001b[49m\u001b[43m \u001b[49m\u001b[43mH_mu_nu_list_spin_layer\u001b[49m\u001b[43m,\u001b[49m\u001b[43m \u001b[49m\u001b[43mcopy\u001b[49m\u001b[38;5;241;43m.\u001b[39;49m\u001b[43mdeepcopy\u001b[49m\u001b[43m(\u001b[49m\u001b[43minitial_state\u001b[49m\u001b[43m)\u001b[49m\u001b[43m,\u001b[49m\u001b[43m \u001b[49m\u001b[38;5;241;43m0\u001b[39;49m\u001b[43m,\u001b[49m\u001b[43m \u001b[49m\u001b[43mmax_bond\u001b[49m\u001b[43m,\u001b[49m\u001b[43m \u001b[49m\u001b[43mr_THC\u001b[49m\u001b[43m)\u001b[49m\n\u001b[1;32m     23\u001b[0m         time_evolved_mps \u001b[38;5;241m=\u001b[39m Krylov_evo_using_built_mps_space(mpo_ref, space, max_bond, dt)\n\u001b[1;32m     24\u001b[0m         store_file(foldername, \u001b[38;5;124mf\u001b[39m\u001b[38;5;124m\"\u001b[39m\u001b[38;5;124m/N\u001b[39m\u001b[38;5;132;01m{\u001b[39;00mN_krylov\u001b[38;5;132;01m}\u001b[39;00m\u001b[38;5;124mB\u001b[39m\u001b[38;5;132;01m{\u001b[39;00mmax_bond\u001b[38;5;132;01m}\u001b[39;00m\u001b[38;5;124mn\u001b[39m\u001b[38;5;132;01m{\u001b[39;00mn\u001b[38;5;132;01m}\u001b[39;00m\u001b[38;5;124mi\u001b[39m\u001b[38;5;132;01m{\u001b[39;00mi\u001b[38;5;132;01m}\u001b[39;00m\u001b[38;5;124m.pkl\u001b[39m\u001b[38;5;124m\"\u001b[39m, time_evolved_mps)\n",
      "File \u001b[0;32m/work_fast/ge49cag/pytenet_thc_spin_cons/thc_experiments/../pytenet/krylov_time_evo.py:138\u001b[0m, in \u001b[0;36mcreate_Krylov_space\u001b[0;34m(N_Krylov, H_mu_nu_list_spin_layer, last_mps, trunc_tol, max_bond, r_THC)\u001b[0m\n\u001b[1;32m    135\u001b[0m Krylov_space\u001b[38;5;241m.\u001b[39mappend(v0)\n\u001b[1;32m    136\u001b[0m \u001b[38;5;66;03m#print(v0.bond_dims)\u001b[39;00m\n\u001b[0;32m--> 138\u001b[0m v1 \u001b[38;5;241m=\u001b[39m \u001b[43mapply_thc_mpo_and_compress\u001b[49m\u001b[43m(\u001b[49m\u001b[43mH_mu_nu_list_spin_layer\u001b[49m\u001b[43m,\u001b[49m\u001b[43m \u001b[49m\u001b[43mcopy\u001b[49m\u001b[38;5;241;43m.\u001b[39;49m\u001b[43mdeepcopy\u001b[49m\u001b[43m(\u001b[49m\u001b[43mv0\u001b[49m\u001b[43m)\u001b[49m\u001b[43m,\u001b[49m\u001b[43m \u001b[49m\u001b[43mtrunc_tol\u001b[49m\u001b[43m,\u001b[49m\u001b[43m \u001b[49m\u001b[38;5;241;43m2\u001b[39;49m\u001b[38;5;241;43m*\u001b[39;49m\u001b[43mmax_bond\u001b[49m\u001b[43m,\u001b[49m\u001b[43m \u001b[49m\u001b[43mr_THC\u001b[49m\u001b[43m)\u001b[49m\n\u001b[1;32m    139\u001b[0m \u001b[38;5;66;03m#v1 = apply_operator(H_mu_nu_list_spin_layer, copy.deepcopy(last_mps), trunc_tol, max_bond, r_THC)\u001b[39;00m\n\u001b[1;32m    140\u001b[0m \u001b[38;5;66;03m#v1.orthonormalize('left')\u001b[39;00m\n\u001b[1;32m    141\u001b[0m \u001b[38;5;66;03m#v1.orthonormalize('right')\u001b[39;00m\n\u001b[1;32m    142\u001b[0m temp \u001b[38;5;241m=\u001b[39m copy\u001b[38;5;241m.\u001b[39mdeepcopy(v0)\n",
      "File \u001b[0;32m/work_fast/ge49cag/pytenet_thc_spin_cons/thc_experiments/../pytenet/operation_thc.py:84\u001b[0m, in \u001b[0;36mapply_thc_mpo_and_compress\u001b[0;34m(sub_H_list_as_layer, psi, trunc_tol, max_bond_global, r_THC)\u001b[0m\n\u001b[1;32m     82\u001b[0m \u001b[38;5;28;01melse\u001b[39;00m: \n\u001b[1;32m     83\u001b[0m     \u001b[38;5;28;01mtry\u001b[39;00m:\n\u001b[0;32m---> 84\u001b[0m         temp_mps \u001b[38;5;241m=\u001b[39m \u001b[43mH_on_mps_compress_by_layer\u001b[49m\u001b[43m(\u001b[49m\u001b[43mtemp_layers_mu\u001b[49m\u001b[43m,\u001b[49m\u001b[43m \u001b[49m\u001b[43mH_nu_psi\u001b[49m\u001b[43m,\u001b[49m\u001b[43m \u001b[49m\u001b[43mtrunc_tol\u001b[49m\u001b[43m,\u001b[49m\u001b[43m \u001b[49m\u001b[43mmax_bond_global\u001b[49m\u001b[43m)\u001b[49m\n\u001b[1;32m     85\u001b[0m         \u001b[38;5;66;03m#we allow a little larger bond-dims for addition\u001b[39;00m\n\u001b[1;32m     86\u001b[0m         \u001b[38;5;66;03m#H_on_psi = add_mps_and_compress_direct_SVD(H_on_psi, temp_mps, trunc_tol, 2*max_bond_global) \u001b[39;00m\n\u001b[1;32m     87\u001b[0m         H_on_psi \u001b[38;5;241m=\u001b[39m add_mps_and_compress(H_on_psi, temp_mps, trunc_tol, max_bond_global) \n",
      "File \u001b[0;32m/work_fast/ge49cag/pytenet_thc_spin_cons/thc_experiments/../pytenet/operation_thc.py:18\u001b[0m, in \u001b[0;36mH_on_mps_compress_by_layer\u001b[0;34m(H_mu_nu_by_layer, psi, tol, max_bond_layer)\u001b[0m\n\u001b[1;32m     16\u001b[0m \u001b[38;5;28;01mfor\u001b[39;00m layer \u001b[38;5;129;01min\u001b[39;00m H_mu_nu_by_layer:\n\u001b[1;32m     17\u001b[0m     temp \u001b[38;5;241m=\u001b[39m apply_operator(layer, temp)\n\u001b[0;32m---> 18\u001b[0m     \u001b[43mtemp\u001b[49m\u001b[38;5;241;43m.\u001b[39;49m\u001b[43mcompress_no_normalization_max_bond\u001b[49m\u001b[43m(\u001b[49m\u001b[43mtol\u001b[49m\u001b[43m,\u001b[49m\u001b[43m \u001b[49m\u001b[43mmax_bond\u001b[49m\u001b[43m \u001b[49m\u001b[38;5;241;43m=\u001b[39;49m\u001b[43m \u001b[49m\u001b[43mmax_bond_layer\u001b[49m\u001b[43m)\u001b[49m\n\u001b[1;32m     19\u001b[0m \u001b[38;5;28;01mreturn\u001b[39;00m temp\n",
      "File \u001b[0;32m/work_fast/ge49cag/pytenet_thc_spin_cons/thc_experiments/../pytenet/mps.py:185\u001b[0m, in \u001b[0;36mMPS.compress_no_normalization_max_bond\u001b[0;34m(self, tol, mode, max_bond)\u001b[0m\n\u001b[1;32m    183\u001b[0m \u001b[38;5;28mself\u001b[39m\u001b[38;5;241m.\u001b[39mA[\u001b[38;5;241m0\u001b[39m] \u001b[38;5;241m=\u001b[39m nrm\u001b[38;5;241m*\u001b[39m \u001b[38;5;28mself\u001b[39m\u001b[38;5;241m.\u001b[39mA[\u001b[38;5;241m0\u001b[39m]\n\u001b[1;32m    184\u001b[0m \u001b[38;5;28;01mfor\u001b[39;00m i \u001b[38;5;129;01min\u001b[39;00m \u001b[38;5;28mrange\u001b[39m(\u001b[38;5;28mlen\u001b[39m(\u001b[38;5;28mself\u001b[39m\u001b[38;5;241m.\u001b[39mA) \u001b[38;5;241m-\u001b[39m \u001b[38;5;241m1\u001b[39m):\n\u001b[0;32m--> 185\u001b[0m     \u001b[38;5;28mself\u001b[39m\u001b[38;5;241m.\u001b[39mA[i], \u001b[38;5;28mself\u001b[39m\u001b[38;5;241m.\u001b[39mA[i\u001b[38;5;241m+\u001b[39m\u001b[38;5;241m1\u001b[39m], \u001b[38;5;28mself\u001b[39m\u001b[38;5;241m.\u001b[39mqD[i\u001b[38;5;241m+\u001b[39m\u001b[38;5;241m1\u001b[39m] \u001b[38;5;241m=\u001b[39m \u001b[43mlocal_orthonormalize_left_svd_max_bond\u001b[49m\u001b[43m(\u001b[49m\u001b[38;5;28;43mself\u001b[39;49m\u001b[38;5;241;43m.\u001b[39;49m\u001b[43mA\u001b[49m\u001b[43m[\u001b[49m\u001b[43mi\u001b[49m\u001b[43m]\u001b[49m\u001b[43m,\u001b[49m\u001b[43m \u001b[49m\u001b[38;5;28;43mself\u001b[39;49m\u001b[38;5;241;43m.\u001b[39;49m\u001b[43mA\u001b[49m\u001b[43m[\u001b[49m\u001b[43mi\u001b[49m\u001b[38;5;241;43m+\u001b[39;49m\u001b[38;5;241;43m1\u001b[39;49m\u001b[43m]\u001b[49m\u001b[43m,\u001b[49m\u001b[43m \u001b[49m\u001b[38;5;28;43mself\u001b[39;49m\u001b[38;5;241;43m.\u001b[39;49m\u001b[43mqd\u001b[49m\u001b[43m,\u001b[49m\u001b[43m \u001b[49m\u001b[38;5;28;43mself\u001b[39;49m\u001b[38;5;241;43m.\u001b[39;49m\u001b[43mqD\u001b[49m\u001b[43m[\u001b[49m\u001b[43mi\u001b[49m\u001b[43m:\u001b[49m\u001b[43mi\u001b[49m\u001b[38;5;241;43m+\u001b[39;49m\u001b[38;5;241;43m2\u001b[39;49m\u001b[43m]\u001b[49m\u001b[43m,\u001b[49m\u001b[43m \u001b[49m\u001b[43mtol\u001b[49m\u001b[43m,\u001b[49m\u001b[43m \u001b[49m\u001b[43mmax_bond\u001b[49m\u001b[43m)\u001b[49m\n\u001b[1;32m    186\u001b[0m     \u001b[38;5;28;01massert\u001b[39;00m is_qsparse(\u001b[38;5;28mself\u001b[39m\u001b[38;5;241m.\u001b[39mA[i], [\u001b[38;5;28mself\u001b[39m\u001b[38;5;241m.\u001b[39mqd, \u001b[38;5;28mself\u001b[39m\u001b[38;5;241m.\u001b[39mqD[i], \u001b[38;5;241m-\u001b[39m\u001b[38;5;28mself\u001b[39m\u001b[38;5;241m.\u001b[39mqD[i\u001b[38;5;241m+\u001b[39m\u001b[38;5;241m1\u001b[39m]]), \\\n\u001b[1;32m    187\u001b[0m         \u001b[38;5;124m'\u001b[39m\u001b[38;5;124msparsity pattern of MPS tensor does not match quantum numbers\u001b[39m\u001b[38;5;124m'\u001b[39m\n\u001b[1;32m    188\u001b[0m \u001b[38;5;66;03m# last tensor\u001b[39;00m\n",
      "File \u001b[0;32m/work_fast/ge49cag/pytenet_thc_spin_cons/thc_experiments/../pytenet/mps.py:568\u001b[0m, in \u001b[0;36mlocal_orthonormalize_left_svd_max_bond\u001b[0;34m(A, Anext, qd, qD, tol, max_bond)\u001b[0m\n\u001b[1;32m    566\u001b[0m A \u001b[38;5;241m=\u001b[39m U\u001b[38;5;241m.\u001b[39mreshape((s[\u001b[38;5;241m0\u001b[39m], s[\u001b[38;5;241m1\u001b[39m], U\u001b[38;5;241m.\u001b[39mshape[\u001b[38;5;241m1\u001b[39m]))\n\u001b[1;32m    567\u001b[0m \u001b[38;5;66;03m# update Anext tensor: multiply with (sigma @ V) from left\u001b[39;00m\n\u001b[0;32m--> 568\u001b[0m Anext \u001b[38;5;241m=\u001b[39m \u001b[43mnp\u001b[49m\u001b[38;5;241;43m.\u001b[39;49m\u001b[43mtensordot\u001b[49m\u001b[43m(\u001b[49m\u001b[43msigma\u001b[49m\u001b[43m[\u001b[49m\u001b[43m:\u001b[49m\u001b[43m,\u001b[49m\u001b[43m \u001b[49m\u001b[38;5;28;43;01mNone\u001b[39;49;00m\u001b[43m]\u001b[49m\u001b[43m \u001b[49m\u001b[38;5;241;43m*\u001b[39;49m\u001b[43m \u001b[49m\u001b[43mV\u001b[49m\u001b[43m,\u001b[49m\u001b[43m \u001b[49m\u001b[43mAnext\u001b[49m\u001b[43m,\u001b[49m\u001b[43m \u001b[49m\u001b[43m(\u001b[49m\u001b[38;5;241;43m1\u001b[39;49m\u001b[43m,\u001b[49m\u001b[43m \u001b[49m\u001b[38;5;241;43m1\u001b[39;49m\u001b[43m)\u001b[49m\u001b[43m)\u001b[49m\u001b[38;5;241m.\u001b[39mtranspose((\u001b[38;5;241m1\u001b[39m, \u001b[38;5;241m0\u001b[39m, \u001b[38;5;241m2\u001b[39m))\n\u001b[1;32m    569\u001b[0m \u001b[38;5;28;01mreturn\u001b[39;00m (A, Anext, qbond)\n",
      "File \u001b[0;32m~/.local/lib/python3.10/site-packages/numpy/core/numeric.py:1121\u001b[0m, in \u001b[0;36mtensordot\u001b[0;34m(a, b, axes)\u001b[0m\n\u001b[1;32m   1119\u001b[0m at \u001b[38;5;241m=\u001b[39m a\u001b[38;5;241m.\u001b[39mtranspose(newaxes_a)\u001b[38;5;241m.\u001b[39mreshape(newshape_a)\n\u001b[1;32m   1120\u001b[0m bt \u001b[38;5;241m=\u001b[39m b\u001b[38;5;241m.\u001b[39mtranspose(newaxes_b)\u001b[38;5;241m.\u001b[39mreshape(newshape_b)\n\u001b[0;32m-> 1121\u001b[0m res \u001b[38;5;241m=\u001b[39m \u001b[43mdot\u001b[49m\u001b[43m(\u001b[49m\u001b[43mat\u001b[49m\u001b[43m,\u001b[49m\u001b[43m \u001b[49m\u001b[43mbt\u001b[49m\u001b[43m)\u001b[49m\n\u001b[1;32m   1122\u001b[0m \u001b[38;5;28;01mreturn\u001b[39;00m res\u001b[38;5;241m.\u001b[39mreshape(olda \u001b[38;5;241m+\u001b[39m oldb)\n",
      "\u001b[0;31mKeyboardInterrupt\u001b[0m: "
     ]
    }
   ],
   "source": [
    "T = 0.1\n",
    "N_krylov = 4\n",
    "#dt_list = [0.05, 0.1]\n",
    "n_list = [1, 2]\n",
    "dt_list = [T / n for n in n_list]\n",
    "max_bond_list = [30, 35]\n",
    "foldername = f\"/work_fast/ge49cag/code_datas/water_time_evo\"\n",
    "error_total_list = []\n",
    "\n",
    "for max_bond in max_bond_list:\n",
    "    \n",
    "    error_list_bond = []\n",
    "    \n",
    "    for n in n_list:\n",
    "        \n",
    "        dt = T/n\n",
    "        \n",
    "        error_list_n = []\n",
    "            \n",
    "        for i in range(n):\n",
    "            if i == 0:\n",
    "                space = create_Krylov_space(N_krylov, H_mu_nu_list_spin_layer, copy.deepcopy(initial_state), 0, max_bond, r_THC)\n",
    "                time_evolved_mps = Krylov_evo_using_built_mps_space(mpo_ref, space, max_bond, dt)\n",
    "                store_file(foldername, f\"/N{N_krylov}B{max_bond}n{n}i{i}.pkl\", time_evolved_mps)\n",
    "                \n",
    "            else:\n",
    "                space = create_Krylov_space(N_krylov, H_mu_nu_list_spin_layer, copy.deepcopy(time_evolved_mps), 0, max_bond, r_THC)\n",
    "                time_evolved_mps = Krylov_evo_using_built_mps_space(mpo_ref, space, max_bond, dt)\n",
    "                store_file(foldername, f\"/N{N_krylov}B{max_bond}n{n}i{i}.pkl\", time_evolved_mps)\n",
    "\n",
    "        psi_ed = ED_time_evo(H_ref, initial_state.as_vector(), T)\n",
    "        psi_krylov_ref = Krylov_time_evo_using_vecs(H_ref, N_krylov, initial_state.as_vector(), n, T)\n",
    "        \n",
    "        trunc_error = norm(time_evolved_mps.as_vector() - psi_krylov_ref)\n",
    "        krylov_error = norm(psi_krylov_ref - psi_ed)\n",
    "        total_error = norm(time_evolved_mps.as_vector() - psi_ed)\n",
    "\n",
    "        print(max_bond, n, dt)\n",
    "        print('trunc error', trunc_error)\n",
    "        print('krylov error', krylov_error )\n",
    "        print('total error', total_error)\n",
    "        \n",
    "        # error_list_dt.append(trunc_error)\n",
    "        # error_list_dt.append(krylov_error)\n",
    "        # error_list_dt.append(total_error)\n",
    "        # error_list_dt.append(dt)\n",
    "        # error_list_dt.append(max_bond)\n",
    "        \n",
    "        error_list_n.extend([trunc_error, krylov_error, total_error, dt, max_bond])\n",
    "    \n",
    "        error_list_bond.append(error_list_n)\n",
    "    \n",
    "    error_total_list.append(error_list_bond)\n",
    "    \n"
   ]
  },
  {
   "cell_type": "code",
   "execution_count": 6,
   "metadata": {},
   "outputs": [
    {
     "name": "stderr",
     "output_type": "stream",
     "text": [
      "/work_fast/ge49cag/pytenet_thc_spin_cons/thc_experiments/../pytenet/krylov_time_evo.py:103: ComplexWarning: Casting complex values to real discards the imaginary part\n",
      "  TN[i, j] = np.vdot(Krylov_vector_list[i], H@Krylov_vector_list[j])\n"
     ]
    },
    {
     "name": "stdout",
     "output_type": "stream",
     "text": [
      "30 0.05\n",
      "trunc error 0.0016574753674084655\n",
      "krylov error 0.00016303524095210876\n",
      "total error 0.0016627731061591906\n",
      "30 0.1\n",
      "trunc error 0.0017407080846674925\n",
      "krylov error 0.0011032316400110716\n",
      "total error 0.002032265410030439\n",
      "35 0.05\n",
      "trunc error 1.695080382960917e-05\n",
      "krylov error 0.00016303524095210876\n",
      "total error 0.00016386071662893614\n",
      "35 0.1\n",
      "trunc error 2.1514668362178476e-05\n",
      "krylov error 0.0011032316400110716\n",
      "total error 0.0011034034458631335\n"
     ]
    }
   ],
   "source": [
    "# T = 0.2\n",
    "# N_krylov = 4\n",
    "# dt_list = [0.05, 0.1]\n",
    "# max_bond_list = [30, 35]\n",
    "# foldername = f\"/work_fast/ge49cag/code_datas/water_time_evo\"\n",
    "# error_total_list = []\n",
    "\n",
    "# for max_bond in max_bond_list:\n",
    "    \n",
    "#     error_list_bond = []\n",
    "    \n",
    "#     for dt in dt_list:\n",
    "        \n",
    "#         n = round(T/dt)\n",
    "#         error_list_dt = []\n",
    "        \n",
    "#         time_evolved_mps = load_file(foldername, f\"/Krylov_space{N_krylov}{max_bond}{dt}{n-1}.pkl\")\n",
    "\n",
    "#         psi_ed = ED_time_evo(H_ref, initial_state.as_vector(), T)\n",
    "#         psi_krylov_ref = Krylov_time_evo_using_vecs(H_ref, N_krylov, initial_state.as_vector(), n, T)\n",
    "        \n",
    "#         trunc_error = norm(time_evolved_mps.as_vector() - psi_krylov_ref)\n",
    "#         krylov_error = norm(psi_krylov_ref - psi_ed)\n",
    "#         total_error = norm(time_evolved_mps.as_vector() - psi_ed)\n",
    "\n",
    "#         print(max_bond, dt)\n",
    "#         print('trunc error', trunc_error)\n",
    "#         print('krylov error', krylov_error )\n",
    "#         print('total error', total_error)\n",
    "        \n",
    "#         # error_list_dt.append(trunc_error)\n",
    "#         # error_list_dt.append(krylov_error)\n",
    "#         # error_list_dt.append(total_error)\n",
    "#         # error_list_dt.append(dt)\n",
    "#         # error_list_dt.append(max_bond)\n",
    "        \n",
    "#         error_list_dt.extend([trunc_error, krylov_error, total_error, dt, max_bond])\n",
    "    \n",
    "#         error_list_bond.append(error_list_dt)\n",
    "    \n",
    "#     error_total_list.append(error_list_bond)\n",
    "    \n"
   ]
  },
  {
   "cell_type": "code",
   "execution_count": null,
   "metadata": {},
   "outputs": [],
   "source": []
  },
  {
   "cell_type": "code",
   "execution_count": null,
   "metadata": {},
   "outputs": [],
   "source": []
  },
  {
   "cell_type": "code",
   "execution_count": null,
   "metadata": {},
   "outputs": [],
   "source": []
  },
  {
   "cell_type": "code",
   "execution_count": 7,
   "metadata": {},
   "outputs": [],
   "source": [
    "# dt = 0.03\n",
    "\n",
    "# Krylov_mps_list = copy.deepcopy(space_test)\n",
    "# TN = np.zeros([len(Krylov_mps_list),len(Krylov_mps_list)])\n",
    "# for i in range (TN.shape[0]):\n",
    "#     for j in range (TN.shape[1]):\n",
    "#         if abs(i - j) < 2:\n",
    "#             TN[i, j] = ptn.operation.operator_inner_product(Krylov_mps_list[i], mpo_ref, Krylov_mps_list[j])\n",
    "            \n",
    "# c1 = np.zeros([len(Krylov_mps_list), 1])\n",
    "# c1[0,0] = 1\n",
    "# exp_TN = spla.expm(-1j*dt*TN)\n",
    "# c_reduced = exp_TN@ c1\n",
    "\n",
    "# psi_evloved = copy.deepcopy(Krylov_mps_list[0])\n",
    "# psi_evloved.A[0] = c_reduced[0] *psi_evloved.A[0]\n",
    "\n",
    "# for i in range (1, len(Krylov_mps_list), 1):\n",
    "#     temp = copy.deepcopy(Krylov_mps_list[i])\n",
    "#     temp.A[0] = c_reduced[i] *temp.A[0]\n",
    "#     psi_evloved = add_mps(psi_evloved, temp)\n",
    "    \n",
    "# print(norm(psi_evloved.as_vector() - psi_krylov_ref))\n",
    "# psi_evloved.orthonormalize('right')\n",
    "# psi_evloved.orthonormalize('left')\n",
    "\n",
    "\n",
    "# psi_evloved.compress_direct_svd_right_max_bond(0, max_bond)\n",
    "# psi_evloved.orthonormalize('right')\n",
    "# psi_evloved.orthonormalize('left')\n",
    "    \n",
    "# print(norm(psi_evloved.as_vector() - psi_krylov_ref))\n",
    "# print(norm(psi_evloved.as_vector() - psi_ed))\n",
    "# print(norm(psi_krylov_ref - psi_ed))"
   ]
  },
  {
   "cell_type": "code",
   "execution_count": 8,
   "metadata": {},
   "outputs": [],
   "source": [
    "# /tmp/ipykernel_3032840/2463284093.py:8: ComplexWarning: Casting complex values to real discards the imaginary part\n",
    "#   TN[i, j] = ptn.operation.operator_inner_product(Krylov_mps_list[i], mpo_ref, Krylov_mps_list[j])\n",
    "# 3.5432687797238603e-06\n",
    "# 9.462310845684574e-06\n",
    "# 1.093342968130352e-05\n",
    "# 5.4866900147348975e-06"
   ]
  },
  {
   "cell_type": "code",
   "execution_count": null,
   "metadata": {},
   "outputs": [],
   "source": []
  },
  {
   "cell_type": "code",
   "execution_count": 9,
   "metadata": {},
   "outputs": [],
   "source": [
    "# space_test_vec = []\n",
    "# for i in range (len(space_test)):\n",
    "#     temp = space_test[i].as_vector()\n",
    "#     temp /= norm(temp)\n",
    "#     space_test_vec.append(temp)\n",
    "\n",
    "# space_test_vec = gram_schmidt(space_test_vec)\n",
    "\n",
    "# space_test_vec = [mps_krylov.as_vector() for mps_krylov in space_test]\n",
    "# space_test_vec = gram_schmidt(space_test_vec)"
   ]
  },
  {
   "cell_type": "code",
   "execution_count": 10,
   "metadata": {},
   "outputs": [],
   "source": [
    "# #only use max_bond, don't set truncation tol!\n",
    "# vec_test = Krylov_evo_using_built_space(H_ref, space_test_vec, 0.05)\n",
    "# print(norm(vec_test - psi_krylov_ref))\n",
    "# print(norm(vec_test - psi_ed))"
   ]
  },
  {
   "cell_type": "code",
   "execution_count": 11,
   "metadata": {},
   "outputs": [],
   "source": [
    "# dt = 0.03\n",
    "\n",
    "# D = 45:\n",
    "\n",
    "\n",
    "\n",
    "# D = 40:\n",
    "# 7.159356839258043e-13 (trunc error)\n",
    "# 5.486690011281797e-06 (total error)\n",
    "\n",
    "# D = 35\n",
    "# 3.537471270532817e-06 (trunc error)\n",
    "# 6.522437168647089e-06 (total error)\n",
    "\n",
    "# D= 30\n",
    "# 0.0004761841209985205 (trunc error)\n",
    "# 0.00047618669594564364 (total error)"
   ]
  },
  {
   "cell_type": "code",
   "execution_count": null,
   "metadata": {},
   "outputs": [],
   "source": []
  },
  {
   "cell_type": "code",
   "execution_count": null,
   "metadata": {},
   "outputs": [],
   "source": []
  }
 ],
 "metadata": {
  "kernelspec": {
   "display_name": "Python 3",
   "language": "python",
   "name": "python3"
  },
  "language_info": {
   "codemirror_mode": {
    "name": "ipython",
    "version": 3
   },
   "file_extension": ".py",
   "mimetype": "text/x-python",
   "name": "python",
   "nbconvert_exporter": "python",
   "pygments_lexer": "ipython3",
   "version": "3.10.12"
  }
 },
 "nbformat": 4,
 "nbformat_minor": 2
}
