{
 "cells": [
  {
   "cell_type": "code",
   "execution_count": 4,
   "metadata": {},
   "outputs": [],
   "source": [
    "import sys\n",
    "sys.path.append('..')\n",
    "\n",
    "import numpy as np\n",
    "from pytenet.hartree_fock_mps import generate_single_state\n",
    "from pytenet.hamiltonian_thc import eval_func, generate_thc_mpos_by_layer_qn, get_t, get_h1_spin, get_g_spin\n",
    "from pytenet.global_krylov_method import generate_krylov_space_in_disk, get_W, get_S, remain_only_tridiagonal_elements, solve_ritz\n",
    "from pytenet.global_krylov_method import generate_Hamiltonian_with_occupation_number, generate_reduced_H_non_ortho, coeff_gram_schmidt\n",
    "import numpy as np\n",
    "from scipy import sparse\n",
    "import copy\n",
    "import h5py\n",
    "from numpy.linalg import norm\n",
    "#np.set_printoptions(precision=4,suppress=True)\n",
    "import scipy.io\n",
    "import matplotlib.pyplot as plt\n",
    "import pickle\n",
    "import pytenet as ptn\n"
   ]
  },
  {
   "cell_type": "code",
   "execution_count": 2,
   "metadata": {},
   "outputs": [
    {
     "name": "stdout",
     "output_type": "stream",
     "text": [
      "8\n",
      "(8, 21)\n",
      "(21, 21)\n",
      "rl errV: 2.6368292973414723e-05\n",
      "abs errV: 7.428768900793086e-05\n",
      "errt: 0.00034576375364847226\n",
      "errh: 4.908986218433534e-05\n",
      "errht: 0.00013382891090997002\n"
     ]
    }
   ],
   "source": [
    "#load integrals\n",
    "with h5py.File(\"/work_fast/ge49cag/code_datas/hchain/NH_8/integral.hdf5\", \"r\") as f:\n",
    "#with h5py.File(\"/work_fast/ge49cag/pytenet_yu/water/eri_water.hdf5\", \"r\") as f:\n",
    "    eri = f[\"eri\"][()]\n",
    "    hkin = f[\"hkin\"][()]\n",
    "    hnuc = f[\"hnuc\"][()]\n",
    "\n",
    "#print(np.linalg.norm(eri))\n",
    "#print(eri.shape)\n",
    "\n",
    "no = eri.shape[0]\n",
    "MV = eri.reshape(no*no,no*no)\n",
    "\n",
    "u = np.load(\"/work_fast/ge49cag/code_datas/hchain/NH_8/u.npy\")\n",
    "#u = np.load(\"/work_fast/ge49cag/pytenet_yu/water/x.npy\")\n",
    "X_mo = u.transpose(1,0)\n",
    "g_thc, Z_mo = eval_func(u,eri,hkin,hnuc,)\n",
    "h1 = hnuc+hkin\n",
    "nmo = X_mo.shape[1]\n",
    "L = 2*X_mo.shape[1]\n",
    "g_thc = g_thc.reshape(nmo, nmo, nmo, nmo)\n",
    "r_thc = X_mo.shape[0]"
   ]
  },
  {
   "cell_type": "markdown",
   "metadata": {},
   "source": [
    "These Hamiltonian are exact molecular Hamiltonian and molecular Hamiltonian reconstructed by THC tensors. The calculation cost time, so that we store them in disk and load them when needed. For water molecule H2O in STO-6G basis, the error is small for r_THC = 28.\n",
    "\n",
    "Actually, considering there are always 10 electrons for a water molecule, we only retain the elements which operator quantum states with 10 electrons."
   ]
  },
  {
   "cell_type": "code",
   "execution_count": 3,
   "metadata": {},
   "outputs": [
    {
     "name": "stderr",
     "output_type": "stream",
     "text": [
      "/home/ge49cag/.local/lib/python3.10/site-packages/scipy/sparse/_index.py:143: SparseEfficiencyWarning: Changing the sparsity structure of a csr_matrix is expensive. lil_matrix is more efficient.\n",
      "  self._set_arrayXarray(i, j, x)\n"
     ]
    }
   ],
   "source": [
    "H_correct = scipy.io.mmread('/work_fast/ge49cag/code_datas/H8_Hamiltonian.mtx').tocsr()\n",
    "H_correct_8 = generate_Hamiltonian_with_occupation_number(H_correct.real, 8)\n",
    "e_test, v_test = sparse.linalg.eigsh(H_correct_8, which = 'SA', k = 10)\n",
    "e_ground = e_test[0]\n",
    "e_1st_ex = e_test[1]"
   ]
  },
  {
   "cell_type": "code",
   "execution_count": 5,
   "metadata": {},
   "outputs": [
    {
     "name": "stdout",
     "output_type": "stream",
     "text": [
      "[1, 16, 62, 100, 154, 100, 62, 16, 1]\n",
      "<class 'list'>\n",
      "<class 'list'>\n",
      "<class 'pytenet.mpo.MPO'>\n",
      "[1, 2, 2, 2, 2, 2, 2, 2, 1]\n"
     ]
    }
   ],
   "source": [
    "g_phy =  eri.transpose(0, 2, 1, 3)\n",
    "mpo_ref = ptn.hamiltonian.spin_molecular_hamiltonian_mpo(h1, g_phy)\n",
    "print(mpo_ref.bond_dims)\n",
    "\n",
    "\n",
    "#generate thc_mpo\n",
    "t = get_t(h1, eri)\n",
    "H_mu_nu_list_spin_layer = generate_thc_mpos_by_layer_qn(X_mo, Z_mo, L, t)\n",
    "\n",
    "print(type(H_mu_nu_list_spin_layer))\n",
    "print(type(H_mu_nu_list_spin_layer[0]))\n",
    "print(type(H_mu_nu_list_spin_layer[0][0]))\n",
    "print((H_mu_nu_list_spin_layer[0][0].bond_dims))"
   ]
  },
  {
   "cell_type": "markdown",
   "metadata": {},
   "source": [
    "For ground state finding, we use Hatree fock state |11111111110000> as initial state.\n",
    "\n",
    "For 1st excited state, please use single-excited Hatree-Fock state as initial state, or even superposition of several single-excited Hatree-Fock states as initial state."
   ]
  },
  {
   "cell_type": "code",
   "execution_count": 6,
   "metadata": {},
   "outputs": [],
   "source": [
    "#excited states for different molecules could have different total spins, please try different spin sections.\n",
    "#for water in sto-6g: 1st excited state has spin 1\n",
    "#initial1 = generate_single_state(14, [1, 1, 1, 1, 1, 1, 1, 1, 1, 1, 0, 0, 0, 0])\n",
    "initial = generate_single_state(8, [3,3,3,3,0,0,0,0])\n",
    "# initial = ptn.mps.add_mps(initial1, initial2)\n",
    "# initial.orthonormalize('left')\n",
    "# initial.orthonormalize('right')\n"
   ]
  },
  {
   "cell_type": "markdown",
   "metadata": {},
   "source": [
    "We generate a group of orthogonal Krylov vectors using THC-MPO, with bond dim 40 for Krylov vectors. The vectors are stored in the folder = 'foldername', thus you don't have to generate them again for next time use. "
   ]
  },
  {
   "cell_type": "code",
   "execution_count": 8,
   "metadata": {},
   "outputs": [],
   "source": [
    "N_Krylov_1 = 25\n",
    "psi_original = copy.deepcopy(initial)\n",
    "max_bond_Krylov = 150\n",
    "trunc_tol = 1e-11\n",
    "foldername_1 = f\"/work_fast/ge49cag/code_datas/H8_Krylov\"\n",
    "#Krylov vectors are included in data, you dont have to run generate it. ofc, you can -regenerate it to verify the algorithm using the following code:\n",
    "#generate_krylov_space_in_disk(N_Krylov_1, H_mu_nu_list_spin_layer, psi_original, max_bond_Krylov, trunc_tol, r_thc, foldername_1)\n",
    "\n",
    "#it indicates that even though during the calculation the bond dims exceed 40, but we only need 37 for Krylov vectors."
   ]
  },
  {
   "cell_type": "markdown",
   "metadata": {},
   "source": [
    "Make use of method proposed in https://journals.aps.org/prb/abstract/10.1103/PhysRevB.85.205119 to improve the orthogonality of Krylov vectors. "
   ]
  },
  {
   "cell_type": "code",
   "execution_count": 9,
   "metadata": {},
   "outputs": [
    {
     "name": "stderr",
     "output_type": "stream",
     "text": [
      "/work_fast/ge49cag/pytenet_thc_spin_cons/thc_experiments/../pytenet/global_krylov_method.py:214: ComplexWarning: Casting complex values to real discards the imaginary part\n",
      "  H_reduced[i, j] = operator_inner_product(temp1, H_mpo, temp2)\n",
      "/work_fast/ge49cag/pytenet_thc_spin_cons/thc_experiments/../pytenet/global_krylov_method.py:113: ComplexWarning: Casting complex values to real discards the imaginary part\n",
      "  W[i,j] = vdot(temp1, temp2)\n"
     ]
    }
   ],
   "source": [
    "#N_use = 30\n",
    "# C = coeff_canonical_orthogonalization(N_use, foldername)\n",
    "# vector_list = generate_re_ortho_space_with_coeff(N_use, C, foldername)\n",
    "#vector_list = generate_re_ortho_space(N_use, foldername)\n",
    "H_reduced_non_rotho_1 = generate_reduced_H_non_ortho(N_Krylov_1, foldername_1, mpo_ref)\n",
    "coeff_1 = coeff_gram_schmidt(N_Krylov_1, foldername_1)\n",
    "H_reduced_1 = np.einsum('ik, kl, jl -> ij', coeff_1.conj(), H_reduced_non_rotho_1, coeff_1)\n",
    "#H_reduced_1 = remain_only_tridiagonal_elements(H_reduced_1)"
   ]
  },
  {
   "cell_type": "code",
   "execution_count": 12,
   "metadata": {},
   "outputs": [
    {
     "name": "stdout",
     "output_type": "stream",
     "text": [
      "(3.1056646837181887+0j)\n",
      "(1.4171435471643337+0j)\n",
      "(0.5881029804806595+0j)\n",
      "(0.13968977241255232+0j)\n",
      "(0.0007551916160366545+0j)\n"
     ]
    }
   ],
   "source": [
    "e_ritz_1, v_ritz_1 = solve_ritz(foldername_1, H_reduced_1, N_Krylov_1, coeff_1, max_bond_Krylov, e_ground, mpo_ref)"
   ]
  },
  {
   "cell_type": "code",
   "execution_count": null,
   "metadata": {},
   "outputs": [],
   "source": [
    "# (2.372950682823987+0j)\n",
    "# (1.3619017579585355+0j)\n",
    "# (0.6261388289291965+0j)\n",
    "# (0.2514166942954521+0j)\n",
    "# (0.07860499329798287+0j)\n",
    "# (0.03354498244057602+0j)"
   ]
  },
  {
   "cell_type": "markdown",
   "metadata": {},
   "source": [
    "Restart:"
   ]
  },
  {
   "cell_type": "code",
   "execution_count": 11,
   "metadata": {},
   "outputs": [
    {
     "name": "stdout",
     "output_type": "stream",
     "text": [
      "[1, 2, 4, 8, 16, 32, 64, 124, 153, 124, 64, 32, 16, 8, 4, 2, 1]\n",
      "2\n",
      "[1, 2, 4, 8, 16, 32, 64, 127, 150, 127, 64, 32, 16, 8, 4, 2, 1]\n",
      "3\n",
      "[1, 2, 4, 8, 16, 32, 64, 127, 150, 127, 64, 32, 16, 8, 4, 2, 1]\n",
      "4\n",
      "[1, 2, 4, 8, 16, 32, 64, 127, 150, 127, 64, 32, 16, 8, 4, 2, 1]\n",
      "5\n",
      "[1, 2, 4, 8, 16, 32, 64, 127, 150, 127, 64, 32, 16, 8, 4, 2, 1]\n",
      "6\n",
      "[1, 2, 4, 8, 16, 32, 64, 127, 150, 127, 64, 32, 16, 8, 4, 2, 1]\n",
      "7\n",
      "[1, 2, 4, 8, 16, 32, 64, 127, 150, 127, 64, 32, 16, 8, 4, 2, 1]\n",
      "8\n",
      "[1, 2, 4, 8, 16, 32, 64, 128, 150, 127, 64, 32, 16, 8, 4, 2, 1]\n",
      "9\n",
      "[1, 2, 4, 8, 16, 32, 64, 128, 150, 127, 64, 32, 16, 8, 4, 2, 1]\n",
      "10\n",
      "[1, 2, 4, 8, 16, 32, 64, 128, 150, 127, 64, 32, 16, 8, 4, 2, 1]\n",
      "11\n",
      "[1, 2, 4, 8, 16, 32, 64, 128, 150, 127, 64, 32, 16, 8, 4, 2, 1]\n",
      "12\n",
      "[1, 2, 4, 8, 16, 32, 64, 128, 150, 127, 64, 32, 16, 8, 4, 2, 1]\n",
      "13\n",
      "[1, 2, 4, 8, 16, 32, 64, 128, 150, 127, 64, 32, 16, 8, 4, 2, 1]\n",
      "14\n",
      "[1, 2, 4, 8, 16, 32, 64, 128, 150, 127, 64, 32, 16, 8, 4, 2, 1]\n",
      "15\n",
      "[1, 2, 4, 8, 16, 32, 64, 128, 150, 128, 64, 32, 16, 8, 4, 2, 1]\n",
      "16\n",
      "[1, 2, 4, 8, 16, 32, 64, 128, 150, 128, 64, 32, 16, 8, 4, 2, 1]\n",
      "17\n",
      "[1, 2, 4, 8, 16, 32, 64, 128, 150, 128, 64, 32, 16, 8, 4, 2, 1]\n",
      "18\n",
      "[1, 2, 4, 8, 16, 32, 64, 128, 150, 128, 64, 32, 16, 8, 4, 2, 1]\n",
      "19\n",
      "[1, 2, 4, 8, 16, 32, 64, 128, 150, 128, 64, 32, 16, 8, 4, 2, 1]\n",
      "20\n",
      "[1, 2, 4, 8, 16, 32, 64, 128, 150, 128, 64, 32, 16, 8, 4, 2, 1]\n",
      "21\n",
      "[1, 2, 4, 8, 16, 32, 64, 128, 150, 128, 64, 32, 16, 8, 4, 2, 1]\n",
      "22\n",
      "[1, 2, 4, 8, 16, 32, 64, 128, 150, 128, 64, 32, 16, 8, 4, 2, 1]\n",
      "23\n",
      "[1, 2, 4, 8, 16, 32, 64, 128, 150, 128, 64, 32, 16, 8, 4, 2, 1]\n",
      "24\n",
      "[1, 2, 4, 8, 16, 32, 64, 128, 150, 128, 64, 32, 16, 8, 4, 2, 1]\n",
      "25\n",
      "[1, 2, 4, 8, 16, 32, 64, 128, 150, 128, 64, 32, 16, 8, 4, 2, 1]\n",
      "26\n",
      "[1, 2, 4, 8, 16, 32, 64, 128, 150, 128, 64, 32, 16, 8, 4, 2, 1]\n",
      "27\n",
      "[1, 2, 4, 8, 16, 32, 64, 128, 150, 128, 64, 32, 16, 8, 4, 2, 1]\n",
      "28\n",
      "[1, 2, 4, 8, 16, 32, 64, 128, 150, 128, 64, 32, 16, 8, 4, 2, 1]\n",
      "29\n",
      "[1, 2, 4, 8, 16, 32, 64, 128, 150, 128, 64, 32, 16, 8, 4, 2, 1]\n",
      "30\n",
      "[1, 2, 4, 8, 16, 32, 64, 128, 150, 128, 64, 32, 16, 8, 4, 2, 1]\n",
      "31\n",
      "[1, 2, 4, 8, 16, 32, 64, 128, 150, 128, 64, 32, 16, 8, 4, 2, 1]\n",
      "32\n",
      "[1, 2, 4, 8, 16, 32, 64, 128, 150, 128, 64, 32, 16, 8, 4, 2, 1]\n",
      "33\n",
      "[1, 2, 4, 8, 16, 32, 64, 128, 150, 128, 64, 32, 16, 8, 4, 2, 1]\n",
      "34\n",
      "[1, 2, 4, 8, 16, 32, 64, 128, 150, 128, 64, 32, 16, 8, 4, 2, 1]\n"
     ]
    }
   ],
   "source": [
    "N_Krylov_2 = 35\n",
    "psi_original_2 = copy.deepcopy(v_ritz_1)\n",
    "max_bond_Krylov_2 = 150\n",
    "trunc_tol = 1e-11\n",
    "foldername_2= f\"/work_fast/ge49cag/code_datas/H8_Krylov_1ex_energy_continue\"\n",
    "generate_krylov_space_in_disk(N_Krylov_2, H_mu_nu_list_spin_layer, psi_original_2, max_bond_Krylov_2, trunc_tol, r_thc, foldername_2)\n"
   ]
  },
  {
   "cell_type": "code",
   "execution_count": 12,
   "metadata": {},
   "outputs": [
    {
     "name": "stderr",
     "output_type": "stream",
     "text": [
      "/work_fast/ge49cag/pytenet_thc/thc_experiments/../pytenet/global_krylov_method.py:212: ComplexWarning: Casting complex values to real discards the imaginary part\n",
      "  H_reduced[i, j] = operator_inner_product(temp1, H_mpo, temp2)\n",
      "/work_fast/ge49cag/pytenet_thc/thc_experiments/../pytenet/global_krylov_method.py:111: ComplexWarning: Casting complex values to real discards the imaginary part\n",
      "  W[i,j] = vdot(temp1, temp2)\n"
     ]
    }
   ],
   "source": [
    "H_reduced_non_rotho_2 = generate_reduced_H_non_ortho(N_Krylov_2, foldername_2, mpo_ref)\n",
    "coeff_2 = coeff_gram_schmidt(N_Krylov_2, foldername_2)\n",
    "#H_reduced: elements calculated by post-orthogonalized Krylov vectos\n",
    "H_reduced_2 = np.einsum('ik, kl, jl -> ij', coeff_2.conj(), H_reduced_non_rotho_2, coeff_2)\n",
    "H_reduced_2 = remain_only_tridiagonal_elements(H_reduced_2)"
   ]
  },
  {
   "cell_type": "code",
   "execution_count": 13,
   "metadata": {},
   "outputs": [
    {
     "name": "stdout",
     "output_type": "stream",
     "text": [
      "(0.014881602303610464+0j)\n",
      "(0.0018350796427935023+0j)\n",
      "(6.0683247237847127e-05+0j)\n",
      "(1.7247480208482102e-06+0j)\n",
      "(2.2193896676014901e-07+0j)\n",
      "(1.5797739472134253e-07+0j)\n",
      "(1.5300436828624697e-07+0j)\n"
     ]
    }
   ],
   "source": [
    "e_ritz_2, v_ritz_2 = solve_ritz(foldername_2, H_reduced_2, N_Krylov_2, coeff_2, max_bond_Krylov_2, e_1st_ex, mpo_ref)"
   ]
  },
  {
   "cell_type": "code",
   "execution_count": 68,
   "metadata": {},
   "outputs": [
    {
     "name": "stdout",
     "output_type": "stream",
     "text": [
      "0b1001100110100110\n"
     ]
    }
   ],
   "source": [
    "max_index = np.argmax((v_ritz_2.as_vector()))\n",
    "#v_ritz_2.as_vector()[max_index]\n",
    "print(bin(max_index))"
   ]
  },
  {
   "cell_type": "code",
   "execution_count": null,
   "metadata": {},
   "outputs": [],
   "source": []
  },
  {
   "cell_type": "code",
   "execution_count": null,
   "metadata": {},
   "outputs": [],
   "source": []
  }
 ],
 "metadata": {
  "kernelspec": {
   "display_name": "Python 3",
   "language": "python",
   "name": "python3"
  },
  "language_info": {
   "codemirror_mode": {
    "name": "ipython",
    "version": 3
   },
   "file_extension": ".py",
   "mimetype": "text/x-python",
   "name": "python",
   "nbconvert_exporter": "python",
   "pygments_lexer": "ipython3",
   "version": "3.10.12"
  }
 },
 "nbformat": 4,
 "nbformat_minor": 2
}
