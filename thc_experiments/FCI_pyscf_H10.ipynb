{
 "cells": [
  {
   "cell_type": "code",
   "execution_count": 1,
   "metadata": {},
   "outputs": [],
   "source": [
    "from pyscf import gto, scf, fci\n"
   ]
  },
  {
   "cell_type": "code",
   "execution_count": 2,
   "metadata": {},
   "outputs": [],
   "source": [
    "atomdesription = '; '.join(['H 0 0 %.1f'%(1.4*i) for i in range(10)])"
   ]
  },
  {
   "cell_type": "code",
   "execution_count": 3,
   "metadata": {},
   "outputs": [
    {
     "data": {
      "text/plain": [
       "<pyscf.gto.mole.Mole at 0x72e8909ea1d0>"
      ]
     },
     "execution_count": 3,
     "metadata": {},
     "output_type": "execute_result"
    }
   ],
   "source": [
    "# Define molecular geometry and basis set\n",
    "mol = gto.Mole()\n",
    "mol.atom = atomdesription\n",
    "mol.basis = 'sto-6g'\n",
    "mol.spin = 0        \n",
    "mol.charge = 0\n",
    "mol.build()\n"
   ]
  },
  {
   "cell_type": "code",
   "execution_count": 4,
   "metadata": {},
   "outputs": [
    {
     "name": "stdout",
     "output_type": "stream",
     "text": [
      "converged SCF energy = -4.77464731304085\n"
     ]
    },
    {
     "data": {
      "text/plain": [
       "-4.7746473130408535"
      ]
     },
     "execution_count": 4,
     "metadata": {},
     "output_type": "execute_result"
    }
   ],
   "source": [
    "# Run Restricted Hartree-Fock (RHF) calculation\n",
    "mf = scf.RHF(mol)\n",
    "mf.kernel()\n"
   ]
  },
  {
   "cell_type": "code",
   "execution_count": 5,
   "metadata": {},
   "outputs": [],
   "source": [
    "# Initialize the FCI solver\n",
    "cisolver = fci.FCI(mol, mf.mo_coeff)\n",
    "\n",
    "# Compute the ground state energy\n",
    "e_fci, fcivec = cisolver.kernel()\n",
    "\n",
    "# To compute multiple states (e.g., first 5 states)\n",
    "nroots = 10\n",
    "e_fci, fcivecs = cisolver.kernel(nroots=nroots)\n"
   ]
  },
  {
   "cell_type": "code",
   "execution_count": 6,
   "metadata": {},
   "outputs": [
    {
     "name": "stdout",
     "output_type": "stream",
     "text": [
      "FCI Energy Spectrum:\n",
      "State 0: Energy = -12.407196480428968 Hartree\n",
      "State 1: Energy = -12.362467008874392 Hartree\n",
      "State 2: Energy = -12.31032368166584 Hartree\n",
      "State 3: Energy = -12.297838840358382 Hartree\n",
      "State 4: Energy = -12.263552617394607 Hartree\n",
      "State 5: Energy = -12.258754899947906 Hartree\n",
      "State 6: Energy = -12.249060385429278 Hartree\n",
      "State 7: Energy = -12.226582751909199 Hartree\n",
      "State 8: Energy = -12.225643052150081 Hartree\n",
      "State 9: Energy = -12.212323355875617 Hartree\n"
     ]
    }
   ],
   "source": [
    "# Print the FCI energy spectrum\n",
    "print('FCI Energy Spectrum:')\n",
    "for i, energy in enumerate(e_fci):\n",
    "    #print(f'State {i}: Energy = {energy- mol.get_enuc()} Hartree')\n",
    "    print(f'State {i}: Energy = {energy - mol.get_enuc()} Hartree')\n"
   ]
  },
  {
   "cell_type": "code",
   "execution_count": 7,
   "metadata": {},
   "outputs": [],
   "source": [
    "# H10:\n",
    "\n",
    "# spin 0\n",
    "# FCI Energy Spectrum:\n",
    "# State 0: Energy = -5.116010476227951 Hartree\n",
    "# State 1: Energy = -5.071281004673368 Hartree\n",
    "# State 2: Energy = -5.019137677464833 Hartree\n",
    "# State 3: Energy = -5.006652836157366 Hartree\n",
    "# State 4: Energy = -4.972366613193593 Hartree\n",
    "# State 5: Energy = -4.967568895746888 Hartree\n",
    "# State 6: Energy = -4.95787438122826 Hartree\n",
    "# State 7: Energy = -4.93539674770817 Hartree\n",
    "# State 8: Energy = -4.934457047949287 Hartree\n",
    "# State 9: Energy = -4.921137351674364 Hartree\n",
    "\n",
    "# spin 2\n",
    "# FCI Energy Spectrum:\n",
    "# State 0: Energy = -5.071281004674081 Hartree\n",
    "# State 1: Energy = -5.019137677464334 Hartree\n",
    "# State 2: Energy = -4.9723666132045885 Hartree\n",
    "# State 3: Energy = -4.967568895785059 Hartree\n",
    "# State 4: Energy = -4.935396755677889 Hartree\n",
    "# State 5: Energy = -4.93445743757229 Hartree\n",
    "# State 6: Energy = -4.921138575833002 Hartree\n",
    "# State 7: Energy = -4.91174717928738 Hartree\n",
    "# State 8: Energy = -4.889145249621045 Hartree\n",
    "# State 9: Energy = -4.884449093068026 Hartree\n"
   ]
  }
 ],
 "metadata": {
  "kernelspec": {
   "display_name": "Python 3",
   "language": "python",
   "name": "python3"
  },
  "language_info": {
   "codemirror_mode": {
    "name": "ipython",
    "version": 3
   },
   "file_extension": ".py",
   "mimetype": "text/x-python",
   "name": "python",
   "nbconvert_exporter": "python",
   "pygments_lexer": "ipython3",
   "version": "3.10.12"
  }
 },
 "nbformat": 4,
 "nbformat_minor": 2
}
