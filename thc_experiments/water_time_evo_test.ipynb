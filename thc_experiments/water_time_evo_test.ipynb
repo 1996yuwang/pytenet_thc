{
 "cells": [
  {
   "cell_type": "code",
   "execution_count": 1,
   "metadata": {},
   "outputs": [],
   "source": [
    "import sys\n",
    "sys.path.append('..')\n",
    "\n",
    "import numpy as np\n",
    "from pytenet.hartree_fock_mps import generate_single_state\n",
    "from pytenet.hamiltonian_thc import eval_func, generate_thc_mpos_by_layer_qn, get_t, get_h1_spin, get_g_spin\n",
    "from pytenet.global_krylov_method import generate_krylov_space_in_disk, get_W, get_S, remain_only_tridiagonal_elements\n",
    "from pytenet.global_krylov_method import generate_Hamiltonian_with_occupation_number, generate_reduced_H_non_ortho\n",
    "from pytenet.operation_thc import apply_thc_mpo_and_compress, add_mps_and_compress\n",
    "from pytenet.operation import vdot, add_mps\n",
    "import numpy as np\n",
    "from scipy import sparse\n",
    "import copy\n",
    "import h5py\n",
    "from numpy.linalg import norm\n",
    "#np.set_printoptions(precision=4,suppress=True)\n",
    "import scipy.io\n",
    "import matplotlib.pyplot as plt\n",
    "import pickle\n",
    "import pytenet as ptn\n",
    "import scipy.sparse.linalg as spla\n",
    "from pytenet.krylov_time_evo import ED_time_evo, Krylov_evo_using_vecs_single_step, Krylov_time_evo_using_vecs, Krylov_evo_using_built_space, create_Krylov_space, gram_schmidt"
   ]
  },
  {
   "cell_type": "code",
   "execution_count": 2,
   "metadata": {},
   "outputs": [
    {
     "name": "stdout",
     "output_type": "stream",
     "text": [
      "7\n",
      "(7, 28)\n",
      "(28, 28)\n",
      "rl errV: 2.8386751875274264e-12\n",
      "abs errV: 2.0615721155266396e-11\n",
      "errt: 7.097049412242525e-13\n",
      "errh: 2.585427402664151e-13\n",
      "errht: 9.079449636842276e-14\n"
     ]
    }
   ],
   "source": [
    "#load integrals\n",
    "with h5py.File(\"../data_water/eri_water.hdf5\", \"r\") as f:\n",
    "#with h5py.File(\"/work_fast/ge49cag/pytenet_yu/water/eri_water.hdf5\", \"r\") as f:\n",
    "    eri = f[\"eri\"][()]\n",
    "    hkin = f[\"hkin\"][()]\n",
    "    hnuc = f[\"hnuc\"][()]\n",
    "\n",
    "#print(np.linalg.norm(eri))\n",
    "#print(eri.shape)\n",
    "\n",
    "no = eri.shape[0]\n",
    "MV = eri.reshape(no*no,no*no)\n",
    "\n",
    "u = np.load(\"../data_water/x.npy\")\n",
    "#u = np.load(\"/work_fast/ge49cag/pytenet_yu/water/x.npy\")\n",
    "X_mo = u.transpose(1,0)\n",
    "g_thc, Z_mo = eval_func(u,eri,hkin,hnuc,)\n",
    "h1 = hnuc+hkin\n",
    "nmo = X_mo.shape[1]\n",
    "L = X_mo.shape[1]\n",
    "g_thc = g_thc.reshape(nmo, nmo, nmo, nmo)\n",
    "r_thc = X_mo.shape[0]"
   ]
  },
  {
   "cell_type": "code",
   "execution_count": 3,
   "metadata": {},
   "outputs": [],
   "source": [
    "#ref Hamiltonian as matrix\n",
    "H_ref = scipy.io.mmread('../data_water/H_water_correct.mtx').tocsr()\n",
    "H_thc = scipy.io.mmread('../data_water/H_water_thc.mtx').tocsr()\n",
    "\n",
    "#initial state\n",
    "filename = f\"/work_fast/ge49cag/code_datas\" + f\"/water_ground_ionization.pkl\"\n",
    "with open(filename, 'rb') as file:\n",
    "    initial_state = pickle.load(file)\n",
    "\n",
    "#thc mpo\n",
    "t = get_t(h1, eri)\n",
    "H_mu_nu_list_spin_layer = generate_thc_mpos_by_layer_qn(X_mo, Z_mo, L, t)\n",
    "r_THC = int((len(H_mu_nu_list_spin_layer)-1)**(1/2) / 2)\n",
    "    "
   ]
  },
  {
   "cell_type": "code",
   "execution_count": 28,
   "metadata": {},
   "outputs": [
    {
     "name": "stdout",
     "output_type": "stream",
     "text": [
      "[[-4.72803783e-01-8.80997071e-01j]\n",
      " [-1.46584636e-02+8.99739033e-03j]\n",
      " [ 1.76683447e-03+1.27867724e-03j]\n",
      " [ 1.13656067e-04-3.86514204e-04j]]\n",
      "total swift: 1.7162772406158837\n",
      "4.078012059353811e-05\n"
     ]
    }
   ],
   "source": [
    "N_krylov = 4\n",
    "\n",
    "psi_krylov_ref = Krylov_time_evo_using_vecs(H_ref, N_krylov, initial_state.as_vector(), 1, 0.05)\n",
    "psi_ed = ED_time_evo(H_ref, initial_state.as_vector(), 0.05)\n",
    "print('total swift:', norm(psi_ed - initial_state.as_vector()))\n",
    "print(norm(psi_krylov_ref - psi_ed))"
   ]
  },
  {
   "cell_type": "code",
   "execution_count": 5,
   "metadata": {},
   "outputs": [
    {
     "data": {
      "text/plain": [
       "'\\nfor i in range(n):\\nfirst update foldername\\ngenerate_krylov_space_in_disk(N_Krylov, H_mu_nu_list_spin_layer, psi_original, max_bond_Krylov, trunc_tol, r_THC, foldername)\\nthen calculate time-evolved state (with re-ortho)\\n'"
      ]
     },
     "execution_count": 5,
     "metadata": {},
     "output_type": "execute_result"
    }
   ],
   "source": [
    "'''\n",
    "for i in range(n):\n",
    "first update foldername\n",
    "generate_krylov_space_in_disk(N_Krylov, H_mu_nu_list_spin_layer, psi_original, max_bond_Krylov, trunc_tol, r_THC, foldername)\n",
    "then calculate time-evolved state (with re-ortho)\n",
    "'''\n",
    "#不需要创造很多文件夹储存文件，对每个文件好好命名然后都存在同一个文件夹即可"
   ]
  },
  {
   "cell_type": "code",
   "execution_count": 6,
   "metadata": {},
   "outputs": [],
   "source": [
    "Krylov_vector_list = []\n",
    "\n",
    "Krylov_vector_list.append(initial_state.as_vector())\n",
    "\n",
    "for i in range (N_krylov-1):\n",
    "    krylov_vector = H_ref@ Krylov_vector_list[i]\n",
    "    krylov_vector /= norm(krylov_vector)\n",
    "        \n",
    "    for j in range (i+1):    \n",
    "        krylov_vector +=  -np.vdot(Krylov_vector_list[j], krylov_vector)*Krylov_vector_list[j]\n",
    "    \n",
    "    krylov_vector /= norm(krylov_vector)\n",
    "    Krylov_vector_list.append(krylov_vector)"
   ]
  },
  {
   "cell_type": "code",
   "execution_count": 7,
   "metadata": {},
   "outputs": [],
   "source": [
    "#space_test = create_Krylov_space(4, H_mu_nu_list_spin_layer, copy.deepcopy(initial_state), 1e-10, 100, r_THC)"
   ]
  },
  {
   "cell_type": "code",
   "execution_count": 20,
   "metadata": {},
   "outputs": [
    {
     "name": "stdout",
     "output_type": "stream",
     "text": [
      "[1, 4, 16, 31, 31, 16, 4, 1]\n",
      "[0.+0.j 0.+0.j 0.+0.j ... 0.+0.j 0.+0.j 0.+0.j]\n",
      "[0.+0.j 0.+0.j 0.+0.j ... 0.+0.j 0.+0.j 0.+0.j]\n",
      "[1, 4, 16, 35, 35, 16, 4, 1]\n",
      "0.00035098443767252435\n"
     ]
    }
   ],
   "source": [
    "trunc_tol = 0\n",
    "max_bond = 35\n",
    "\n",
    "Krylov_space = []\n",
    "    \n",
    "v0 = copy.deepcopy(initial_state)\n",
    "v0.orthonormalize('left')\n",
    "v0.orthonormalize('right')\n",
    "Krylov_space.append(v0)\n",
    "\n",
    "print(v0.bond_dims)\n",
    "print(v0.as_vector() - initial_state.as_vector())\n",
    "\n",
    "\n",
    "\n",
    "v1 = apply_thc_mpo_and_compress(H_mu_nu_list_spin_layer, copy.deepcopy(v0), trunc_tol, 2*max_bond, r_THC)\n",
    "print(v1.as_vector() - H_ref@v0.as_vector())\n",
    "#v1.orthonormalize('left')\n",
    "#v1.orthonormalize('right')\n",
    "temp = copy.deepcopy(v0)\n",
    "temp.A[0] = -vdot(v1, temp)* temp.A[0]\n",
    "v1 =  add_mps_and_compress(copy.deepcopy(v1), temp, trunc_tol, max_bond)\n",
    "v1.orthonormalize('left')\n",
    "v1.orthonormalize('right')\n",
    "Krylov_space.append(v1)\n",
    "print(v1.bond_dims)\n",
    "\n",
    "#print(v1.as_vector() - H_ref@v0.as_vector())\n",
    "\n",
    "print(norm(v1.as_vector() - Krylov_vector_list[1]))\n"
   ]
  },
  {
   "cell_type": "code",
   "execution_count": 21,
   "metadata": {},
   "outputs": [
    {
     "name": "stdout",
     "output_type": "stream",
     "text": [
      "[1, 4, 16, 35, 35, 16, 4, 1]\n",
      "[1, 4, 16, 35, 35, 16, 4, 1]\n"
     ]
    }
   ],
   "source": [
    "for i in range(2, N_krylov, 1):\n",
    "    \n",
    "    v_i = apply_thc_mpo_and_compress(H_mu_nu_list_spin_layer, copy.deepcopy(Krylov_space[i-1]), trunc_tol, 2*max_bond, r_THC)\n",
    "    v_i.orthonormalize('left')\n",
    "    v_i.orthonormalize('right')\n",
    "    \n",
    "    temp1 = copy.deepcopy(Krylov_space[i-2])\n",
    "    temp1.A[0] = -vdot(v_i, temp1)* temp1.A[0]\n",
    "    v_i =  add_mps(copy.deepcopy(v_i), temp1)\n",
    "    #v_i.orthonormalize('left')\n",
    "    #v_i.orthonormalize('right')\n",
    "    \n",
    "    temp2 = copy.deepcopy(Krylov_space[i-1])\n",
    "    temp2.A[0] = -vdot(v_i, temp2)* temp2.A[0]\n",
    "    v_i =  add_mps_and_compress(copy.deepcopy(v_i), temp2, trunc_tol, max_bond)\n",
    "    v_i.orthonormalize('left')\n",
    "    v_i.orthonormalize('right')\n",
    "    print(v_i.bond_dims)\n",
    "    Krylov_space.append(v_i)\n",
    "        \n",
    "        # print(vdot(Krylov_space[i], Krylov_space[i-1]))\n",
    "        # print(vdot(Krylov_space[i], Krylov_space[i-2]))"
   ]
  },
  {
   "cell_type": "code",
   "execution_count": 22,
   "metadata": {},
   "outputs": [],
   "source": [
    "# space_test_store = copy.deepcopy(space_test)"
   ]
  },
  {
   "cell_type": "code",
   "execution_count": 23,
   "metadata": {},
   "outputs": [],
   "source": [
    "# space_test = copy.deepcopy(space_test)\n",
    "# space_test = space_test[:4]"
   ]
  },
  {
   "cell_type": "code",
   "execution_count": 24,
   "metadata": {},
   "outputs": [],
   "source": [
    "# space_test_vec = [krylov_mps.as_vector() for krylov_mps in space_test]\n",
    "# space_test_vec = gram_schmidt(space_test_vec)"
   ]
  },
  {
   "cell_type": "code",
   "execution_count": 25,
   "metadata": {},
   "outputs": [],
   "source": [
    "space_test_vec = []\n",
    "for i in range (len(Krylov_space)):\n",
    "    temp = Krylov_space[i].as_vector()\n",
    "    temp /= norm(temp)\n",
    "    space_test_vec.append(temp)\n",
    "\n",
    "space_test_vec = gram_schmidt(space_test_vec)"
   ]
  },
  {
   "cell_type": "code",
   "execution_count": 29,
   "metadata": {},
   "outputs": [
    {
     "name": "stdout",
     "output_type": "stream",
     "text": [
      "5.6108776621505995e-06\n",
      "4.114603732732838e-05\n"
     ]
    }
   ],
   "source": [
    "#H_thc\n",
    "vec_test = Krylov_evo_using_built_space(H_ref, space_test_vec, 0.05)\n",
    "print(norm(vec_test - psi_krylov_ref))\n",
    "print(norm(vec_test - psi_ed))"
   ]
  },
  {
   "cell_type": "code",
   "execution_count": null,
   "metadata": {},
   "outputs": [],
   "source": [
    "# 40:\n",
    "# 7.159356839258043e-13\n",
    "# 5.486690011281797e-06"
   ]
  },
  {
   "cell_type": "code",
   "execution_count": null,
   "metadata": {},
   "outputs": [],
   "source": [
    "# print(norm(vec_test - psi_ed))"
   ]
  },
  {
   "cell_type": "code",
   "execution_count": null,
   "metadata": {},
   "outputs": [],
   "source": [
    "# for i in range (len(space_test_vec)):\n",
    "#     for j in range (len(space_test_vec)):\n",
    "#         if i != j:\n",
    "#             print(i, j)\n",
    "#             print(np.vdot(space_test_vec[i], space_test_vec[j])) "
   ]
  },
  {
   "cell_type": "code",
   "execution_count": null,
   "metadata": {},
   "outputs": [
    {
     "name": "stdout",
     "output_type": "stream",
     "text": [
      "[[-8.19779916e-01+5.72583803e-01j]\n",
      " [ 6.25416544e-03+8.29909387e-03j]\n",
      " [ 4.97250480e-04-6.54384024e-04j]\n",
      " [-1.01664789e-04-4.66367026e-05j]]\n"
     ]
    },
    {
     "name": "stderr",
     "output_type": "stream",
     "text": [
      "/tmp/ipykernel_3010123/2780000454.py:7: ComplexWarning: Casting complex values to real discards the imaginary part\n",
      "  TN[i, j] = np.vdot(space_test_vec[i], H_ref @space_test_vec[j])\n"
     ]
    }
   ],
   "source": [
    "dt = 0.03\n",
    "\n",
    "TN = np.zeros([len(space_test_vec),len(space_test_vec)])\n",
    "for i in range (TN.shape[0]):\n",
    "    for j in range (TN.shape[1]):\n",
    "        #if abs(i - j) < 2:\n",
    "        TN[i, j] = np.vdot(space_test_vec[i], H_ref @space_test_vec[j])\n",
    "                \n",
    "c1 = np.zeros([len(space_test_vec), 1])\n",
    "c1[0,0] = 1\n",
    "exp_TN = spla.expm(-1j*dt*TN)\n",
    "c_reduced = exp_TN@ c1\n",
    "\n",
    "print(c_reduced)\n"
   ]
  },
  {
   "cell_type": "code",
   "execution_count": null,
   "metadata": {},
   "outputs": [],
   "source": [
    "psi_evloved = np.zeros_like(space_test_vec[0], dtype=np.complex128)\n",
    "\n",
    "for i in range (len(space_test_vec)):\n",
    "    psi_evloved += c_reduced[i] * space_test_vec[i]"
   ]
  },
  {
   "cell_type": "code",
   "execution_count": null,
   "metadata": {},
   "outputs": [
    {
     "name": "stdout",
     "output_type": "stream",
     "text": [
      "0.0002521637526303062\n"
     ]
    }
   ],
   "source": [
    "print(norm(psi_evloved - psi_ed))"
   ]
  },
  {
   "cell_type": "code",
   "execution_count": null,
   "metadata": {},
   "outputs": [
    {
     "name": "stdout",
     "output_type": "stream",
     "text": [
      "5.4866900147348975e-06\n"
     ]
    }
   ],
   "source": [
    "print(norm(psi_krylov_ref - psi_ed))\n"
   ]
  },
  {
   "cell_type": "code",
   "execution_count": null,
   "metadata": {},
   "outputs": [
    {
     "name": "stdout",
     "output_type": "stream",
     "text": [
      "0.00025208484466916634\n"
     ]
    }
   ],
   "source": [
    "print(norm(psi_evloved - psi_krylov_ref))"
   ]
  },
  {
   "cell_type": "code",
   "execution_count": null,
   "metadata": {},
   "outputs": [],
   "source": []
  },
  {
   "cell_type": "code",
   "execution_count": null,
   "metadata": {},
   "outputs": [],
   "source": []
  }
 ],
 "metadata": {
  "kernelspec": {
   "display_name": "Python 3",
   "language": "python",
   "name": "python3"
  },
  "language_info": {
   "codemirror_mode": {
    "name": "ipython",
    "version": 3
   },
   "file_extension": ".py",
   "mimetype": "text/x-python",
   "name": "python",
   "nbconvert_exporter": "python",
   "pygments_lexer": "ipython3",
   "version": "3.10.12"
  }
 },
 "nbformat": 4,
 "nbformat_minor": 2
}
