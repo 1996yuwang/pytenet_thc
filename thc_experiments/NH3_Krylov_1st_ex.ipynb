{
 "cells": [
  {
   "cell_type": "code",
   "execution_count": 1,
   "metadata": {},
   "outputs": [],
   "source": [
    "import sys\n",
    "sys.path.append('..')\n",
    "\n",
    "import numpy as np\n",
    "from pytenet.hartree_fock_mps import generate_single_state\n",
    "from pytenet.operation import add_mps, operator_average\n",
    "from pytenet.hamiltonian_thc import eval_func, generate_thc_mpos_by_layer_qn, get_t_spin, get_h1_spin, get_g_spin, get_t\n",
    "from pytenet.global_krylov_method import generate_krylov_space_in_disk, get_W, get_S, generate_re_ortho_space_with_coeff, coeff_canonical_orthogonalization, remain_only_tridiagonal_elements\n",
    "from pytenet.global_krylov_method import solve_ritz, generate_reduced_H_non_ortho, remain_only_tridiagonal_elements, coeff_gram_schmidt,  generate_krylov_space_othogonal_against\n",
    "import numpy as np\n",
    "from scipy import sparse\n",
    "import copy\n",
    "import h5py\n",
    "from numpy.linalg import norm\n",
    "#np.set_printoptions(precision=4,suppress=True)\n",
    "import scipy.io\n",
    "import matplotlib.pyplot as plt\n",
    "import pickle\n",
    "import pytenet as ptn\n"
   ]
  },
  {
   "cell_type": "markdown",
   "metadata": {},
   "source": [
    "Load and initialize datas: \n",
    "\n",
    "no is number of spatial orbitals\n",
    "\n",
    "L is number of spinor orbitals, L = 2*no\n",
    "\n",
    "t_spin is one-body integral in Chemist's notation (considering spins)\n",
    "\n",
    "g_spin is two-body integral in Chemist's notation (considering spins)\n",
    "\n",
    "X_mo and Z_mo are THC tensors, X_mo_up/down are X_mo considering spins\n",
    "\n",
    "r_THC is THC rank"
   ]
  },
  {
   "cell_type": "code",
   "execution_count": 2,
   "metadata": {},
   "outputs": [
    {
     "name": "stdout",
     "output_type": "stream",
     "text": [
      "8\n",
      "(8, 36)\n",
      "(36, 36)\n",
      "rl errV: 6.421105521729929e-13\n",
      "abs errV: 4.286591936668418e-12\n",
      "errt: 1.0574710399920436e-13\n",
      "errh: 1.8088404989173088e-14\n",
      "errht: 9.006422291220954e-14\n"
     ]
    }
   ],
   "source": [
    "#load integrals\n",
    "with h5py.File(\"/work_fast/ge49cag/code_datas/NH3/integral.hdf5\", \"r\") as f:\n",
    "#with h5py.File(\"/work_fast/ge49cag/pytenet_yu/water/eri_water.hdf5\", \"r\") as f:\n",
    "    eri = f[\"eri\"][()]\n",
    "    hkin = f[\"hkin\"][()]\n",
    "    hnuc = f[\"hnuc\"][()]\n",
    "\n",
    "#print(np.linalg.norm(eri))\n",
    "#print(eri.shape)\n",
    "\n",
    "no = eri.shape[0]\n",
    "MV = eri.reshape(no*no,no*no)\n",
    "\n",
    "u = np.load(\"/work_fast/ge49cag/code_datas/NH3/x.npy\")\n",
    "#u = np.load(\"/work_fast/ge49cag/pytenet_yu/water/x.npy\")\n",
    "X_mo = u.transpose(1,0)\n",
    "g_thc, Z_mo = eval_func(u,eri,hkin,hnuc,)\n",
    "h1 = hnuc+hkin\n",
    "nmo = X_mo.shape[1]\n",
    "L = 2*X_mo.shape[1]\n",
    "g_thc = g_thc.reshape(nmo, nmo, nmo, nmo)\n",
    "r_thc = X_mo.shape[0]"
   ]
  },
  {
   "cell_type": "code",
   "execution_count": 3,
   "metadata": {},
   "outputs": [],
   "source": [
    "# H_correct = get_molecular_Hamiltonian_as_sparse_matrix(get_h1_spin(h1), get_g_spin(eri))\n",
    "# H_correct = scipy.io.mmread('/work_fast/ge49cag/code_datas/H_correct_NH3.mtx').tocsr()\n",
    "# H_correct_10e = generate_Hamiltonian_with_occupation_number(H_correct.real, 10)\n",
    "# sparse.linalg.eigsh(H_correct_10e, which='SA', k = 15)"
   ]
  },
  {
   "cell_type": "code",
   "execution_count": 4,
   "metadata": {},
   "outputs": [],
   "source": [
    "# H_correct_10e = generate_Hamiltonian_with_occupation_number(H_correct.real, 10)\n",
    "# sparse.linalg.eigsh(H_correct_10e, which='SA', k = 15)"
   ]
  },
  {
   "cell_type": "markdown",
   "metadata": {},
   "source": [
    "These Hamiltonian are exact molecular Hamiltonian and molecular Hamiltonian reconstructed by THC tensors. The calculation cost time, so that we store them in disk and load them when needed. For water molecule H2O in STO-6G basis, the error is small for r_THC = 28.\n",
    "\n",
    "Actually, considering there are always 10 electrons for a water molecule, we only retain the elements which operator quantum states with 10 electrons."
   ]
  },
  {
   "cell_type": "code",
   "execution_count": 5,
   "metadata": {},
   "outputs": [],
   "source": [
    "e_ground = -67.46923609481743\n",
    "e_1st_ex = -67.00839085980371\n",
    "e_2nd_ex = -67.00038986115365"
   ]
  },
  {
   "cell_type": "markdown",
   "metadata": {},
   "source": [
    "We can calculate elements in reduced Hamiltonian using conventional MPO.\n",
    "\n",
    "Since we only need to store ONE block during contraction, memory needed is only $\\mathcal{O}(L^2 M^2)$.\n",
    "\n",
    "Create conventional mpo for molecular Hamiltonian:"
   ]
  },
  {
   "cell_type": "code",
   "execution_count": 6,
   "metadata": {},
   "outputs": [
    {
     "name": "stdout",
     "output_type": "stream",
     "text": [
      "[1, 16, 62, 100, 154, 100, 62, 16, 1]\n"
     ]
    }
   ],
   "source": [
    "# h1_spin = get_h1_spin(h1)\n",
    "# g_spin = get_g_spin(eri)\n",
    "g_phy =  eri.transpose(0, 2, 1, 3)\n",
    "#mpo_ref = ptn.hamiltonian.molecular_hamiltonian_mpo(h1_spin, g_spin_phy)\n",
    "mpo_ref = ptn.hamiltonian.spin_molecular_hamiltonian_mpo(h1, g_phy)\n",
    "print(mpo_ref.bond_dims)"
   ]
  },
  {
   "cell_type": "markdown",
   "metadata": {},
   "source": [
    "Generate THC-MPO by layers, using THC tensors. \n",
    "t_spin is used to create MPO for kinetic term.\n",
    "It returns a list of H_mu_nu, each H_mu_nu is also a list, which contains four smaller MPOs with bond dims 2.\n",
    "The final element of this list is MPO for kinetic term."
   ]
  },
  {
   "cell_type": "code",
   "execution_count": 7,
   "metadata": {},
   "outputs": [
    {
     "name": "stdout",
     "output_type": "stream",
     "text": [
      "<class 'list'>\n",
      "<class 'list'>\n",
      "<class 'pytenet.mpo.MPO'>\n",
      "[1, 2, 2, 2, 2, 2, 2, 2, 1]\n"
     ]
    }
   ],
   "source": [
    "#generate thc_mpo\n",
    "t = get_t(h1, eri)\n",
    "H_mu_nu_list_spin_layer = generate_thc_mpos_by_layer_qn(X_mo, Z_mo, L, t)\n",
    "\n",
    "print(type(H_mu_nu_list_spin_layer))\n",
    "print(type(H_mu_nu_list_spin_layer[0]))\n",
    "print(type(H_mu_nu_list_spin_layer[0][0]))\n",
    "print((H_mu_nu_list_spin_layer[0][0].bond_dims))"
   ]
  },
  {
   "cell_type": "markdown",
   "metadata": {},
   "source": [
    "For ground state finding, we use Hatree fock state |11111111110000> as initial state.\n",
    "\n",
    "For 1st excited state, please use single-excited Hatree-Fock state as initial state."
   ]
  },
  {
   "cell_type": "code",
   "execution_count": 8,
   "metadata": {},
   "outputs": [
    {
     "name": "stdout",
     "output_type": "stream",
     "text": [
      "(0.00929712659700499+0j)\n"
     ]
    }
   ],
   "source": [
    "filename = f\"/work_fast/ge49cag/code_datas\" + f\"/NH3_1st_excited.pkl\"\n",
    "with open(filename, 'rb') as file:\n",
    "    initial = pickle.load(file)\n",
    "\n",
    "print(operator_average(initial, mpo_ref) - e_1st_ex)"
   ]
  },
  {
   "cell_type": "code",
   "execution_count": 9,
   "metadata": {},
   "outputs": [
    {
     "name": "stdout",
     "output_type": "stream",
     "text": [
      "(2.747419941329099e-06+0j)\n"
     ]
    }
   ],
   "source": [
    "filename = f\"/work_fast/ge49cag/code_datas\" + f\"/NH3_ground_state.pkl\"\n",
    "with open(filename, 'rb') as file:\n",
    "    NH3_ground = pickle.load(file)\n",
    "    \n",
    "print(operator_average(NH3_ground, mpo_ref) - e_ground)    "
   ]
  },
  {
   "cell_type": "markdown",
   "metadata": {},
   "source": [
    "MAYBE: for each new-generated Krylov, we delete the component of ground state and then store it.\n",
    "When approximate state is not available, orthogonalize a initial state to all previous ground/excited states.\n",
    "实在不行：用HFS强行和基态正交再找激发态。"
   ]
  },
  {
   "cell_type": "markdown",
   "metadata": {},
   "source": [
    "generate Krylov space:"
   ]
  },
  {
   "cell_type": "code",
   "execution_count": 11,
   "metadata": {},
   "outputs": [],
   "source": [
    "N_Krylov_1 = 45\n",
    "psi_original_1 = copy.deepcopy(initial)\n",
    "max_bond_Krylov_1 = 120\n",
    "trunc_tol = 0\n",
    "foldername_1 = f\"/work_fast/ge49cag/code_datas/NH3_1st_ex\" \n",
    "#generate_krylov_space_in_disk(N_Krylov_1, H_mu_nu_list_spin_layer, psi_original_1, max_bond_Krylov_1, trunc_tol, r_thc, foldername_1)\n",
    "generate_krylov_space_othogonal_against(N_Krylov_1, H_mu_nu_list_spin_layer, psi_original_1, max_bond_Krylov_1, trunc_tol, r_thc, foldername_1, copy.deepcopy(NH3_ground))\n",
    "#generate_krylov_space_othogonal_against(N_Krylov, H_mu_nu_list_spin_layer, psi_original, max_bond_Krylov, trunc_tol, r_THC, foldername, vec_to_remove)"
   ]
  },
  {
   "cell_type": "code",
   "execution_count": 12,
   "metadata": {},
   "outputs": [
    {
     "name": "stderr",
     "output_type": "stream",
     "text": [
      "/work_fast/ge49cag/pytenet_thc_spin_cons/thc_experiments/../pytenet/global_krylov_method.py:214: ComplexWarning: Casting complex values to real discards the imaginary part\n",
      "  H_reduced[i, j] = operator_inner_product(temp1, H_mpo, temp2)\n",
      "/work_fast/ge49cag/pytenet_thc_spin_cons/thc_experiments/../pytenet/global_krylov_method.py:113: ComplexWarning: Casting complex values to real discards the imaginary part\n",
      "  W[i,j] = vdot(temp1, temp2)\n"
     ]
    }
   ],
   "source": [
    "#或许在这一步生成GS的时候也把ground state考虑进来\n",
    "H_reduced_non_rotho_1 = generate_reduced_H_non_ortho(N_Krylov_1, foldername_1, mpo_ref)\n",
    "coeff_1 = coeff_gram_schmidt(N_Krylov_1, foldername_1)\n",
    "H_reduced_1 = np.einsum('ik, kl, jl -> ij', coeff_1.conj(), H_reduced_non_rotho_1, coeff_1)"
   ]
  },
  {
   "cell_type": "code",
   "execution_count": 13,
   "metadata": {},
   "outputs": [
    {
     "name": "stdout",
     "output_type": "stream",
     "text": [
      "(0.008924045479787424+0j)\n",
      "(0.006944921294376627+0j)\n",
      "(0.004542685518458711+0j)\n",
      "(0.0035258704237861593+0j)\n",
      "(0.0028410827820266604+0j)\n",
      "(0.0023823890522578495+0j)\n",
      "(0.0021159262222312236+0j)\n",
      "(0.00182515476662104+0j)\n",
      "(0.0015054096524380611+0j)\n"
     ]
    }
   ],
   "source": [
    "e_ritz_1, v_ritz_1 = solve_ritz(foldername_1, H_reduced_1, N_Krylov_1, coeff_1, max_bond_Krylov_1, e_1st_ex, mpo_ref)"
   ]
  },
  {
   "cell_type": "code",
   "execution_count": null,
   "metadata": {},
   "outputs": [],
   "source": [
    "# (0.008924045400320324+0j)\n",
    "# (0.006944921621780509+0j)\n",
    "# (0.004542685286736514+0j)\n",
    "# (0.003525847583532027+0j)\n",
    "# (0.0028409863732150598+0j)\n",
    "# (0.002382367171549049+0j)\n",
    "# (0.0021164262737585204+0j)\n",
    "# (0.0018315294370978563+0j)\n",
    "# (0.00152519022194042+0j)\n",
    "# (0.001436938691853129+0j)"
   ]
  },
  {
   "cell_type": "code",
   "execution_count": null,
   "metadata": {},
   "outputs": [],
   "source": [
    "# spin = 0\n",
    "# for i in range (L):\n",
    "#     if i%2 == 0:\n",
    "#         spin_local = 0.5* operator_average(v_ritz_1, get_num_op_mpo(i, L))\n",
    "#     if i%2 == 1:\n",
    "#         spin_local = -0.5* operator_average(v_ritz_1, get_num_op_mpo(i, L))\n",
    "#     spin += spin_local \n",
    "# print(spin)"
   ]
  },
  {
   "cell_type": "markdown",
   "metadata": {},
   "source": [
    "Restart:"
   ]
  },
  {
   "cell_type": "code",
   "execution_count": null,
   "metadata": {},
   "outputs": [
    {
     "name": "stdout",
     "output_type": "stream",
     "text": [
      "[1, 4, 16, 64, 120, 64, 16, 4, 1]\n",
      "2\n",
      "[1, 4, 16, 64, 120, 64, 16, 4, 1]\n",
      "(-6.77047505470435e-06+0j)\n",
      "3\n",
      "[1, 4, 16, 64, 120, 64, 16, 4, 1]\n",
      "(-1.2933849698838579e-06+0j)\n",
      "4\n",
      "[1, 4, 16, 64, 120, 64, 16, 4, 1]\n",
      "(3.772016248569063e-07+0j)\n",
      "5\n",
      "[1, 4, 16, 64, 120, 64, 16, 4, 1]\n",
      "(2.0990392024621059e-07+0j)\n",
      "6\n",
      "[1, 4, 16, 64, 120, 64, 16, 4, 1]\n",
      "(-3.885470724582259e-06+0j)\n",
      "7\n",
      "[1, 4, 16, 64, 120, 64, 16, 4, 1]\n",
      "(2.107521030046309e-08+0j)\n",
      "8\n",
      "[1, 4, 16, 64, 120, 64, 16, 4, 1]\n",
      "(-6.509714558195473e-07+0j)\n",
      "9\n",
      "[1, 4, 16, 64, 120, 64, 16, 4, 1]\n",
      "(3.448180842619225e-07+0j)\n",
      "10\n",
      "[1, 4, 16, 64, 120, 64, 16, 4, 1]\n",
      "(9.733482179195114e-08+0j)\n",
      "11\n",
      "[1, 4, 16, 64, 120, 64, 16, 4, 1]\n",
      "(1.0429497301813612e-08+0j)\n",
      "12\n",
      "[1, 4, 16, 64, 120, 64, 16, 4, 1]\n",
      "(-4.6068225919828005e-07+0j)\n",
      "13\n",
      "[1, 4, 16, 64, 120, 64, 16, 4, 1]\n",
      "(4.149838447702059e-09+0j)\n",
      "14\n",
      "[1, 4, 16, 64, 120, 64, 16, 4, 1]\n",
      "(-1.6312851680045108e-07+0j)\n",
      "15\n",
      "[1, 4, 16, 64, 120, 64, 16, 4, 1]\n",
      "(-1.7616285503729628e-07+0j)\n",
      "16\n",
      "[1, 4, 16, 64, 120, 64, 16, 4, 1]\n",
      "(4.532341180791752e-08+0j)\n",
      "17\n",
      "[1, 4, 16, 64, 120, 64, 16, 4, 1]\n",
      "(-3.4636540497526617e-07+0j)\n",
      "18\n",
      "[1, 4, 16, 64, 120, 64, 16, 4, 1]\n",
      "(-1.0303910567621222e-07+0j)\n",
      "19\n",
      "[1, 4, 16, 64, 120, 64, 16, 4, 1]\n",
      "(1.6997501189988965e-07+0j)\n",
      "20\n",
      "[1, 4, 16, 64, 120, 64, 16, 4, 1]\n",
      "(8.481373676398217e-07+0j)\n",
      "21\n",
      "[1, 4, 16, 64, 120, 64, 16, 4, 1]\n",
      "(-1.0693115147754681e-07+0j)\n",
      "22\n",
      "[1, 4, 16, 64, 120, 64, 16, 4, 1]\n",
      "(-5.397854122296005e-08+0j)\n",
      "23\n",
      "[1, 4, 16, 64, 120, 64, 16, 4, 1]\n",
      "(-4.946558907415659e-08+0j)\n",
      "24\n",
      "[1, 4, 16, 64, 120, 64, 16, 4, 1]\n",
      "(-1.6569298094806296e-06+0j)\n",
      "25\n",
      "[1, 4, 16, 64, 120, 64, 16, 4, 1]\n",
      "(1.8801251498573037e-08+0j)\n",
      "26\n",
      "[1, 4, 16, 64, 120, 64, 16, 4, 1]\n",
      "(-4.309557288609549e-07+0j)\n",
      "27\n",
      "[1, 4, 16, 64, 120, 64, 16, 4, 1]\n",
      "(1.281702551044579e-07+0j)\n",
      "28\n",
      "[1, 4, 16, 64, 120, 64, 16, 4, 1]\n",
      "(2.68111547518311e-07+0j)\n",
      "29\n",
      "[1, 4, 16, 64, 120, 64, 16, 4, 1]\n",
      "(3.7319002984062283e-08+0j)\n",
      "30\n",
      "[1, 4, 16, 64, 120, 64, 16, 4, 1]\n",
      "(3.958837833082946e-08+0j)\n",
      "31\n",
      "[1, 4, 16, 64, 120, 64, 16, 4, 1]\n",
      "(-1.135622235145877e-08+0j)\n",
      "32\n",
      "[1, 4, 16, 64, 120, 64, 16, 4, 1]\n",
      "(1.3890073429934785e-06+0j)\n",
      "33\n",
      "[1, 4, 16, 64, 120, 64, 16, 4, 1]\n",
      "(-1.156844640097705e-08+0j)\n",
      "34\n",
      "[1, 4, 16, 64, 120, 64, 16, 4, 1]\n",
      "(-2.0572821662543078e-07+0j)\n",
      "35\n",
      "[1, 4, 16, 64, 120, 64, 16, 4, 1]\n",
      "(-5.884727129104703e-07+0j)\n",
      "36\n",
      "[1, 4, 16, 64, 120, 64, 16, 4, 1]\n",
      "(-1.8772706090815932e-08+0j)\n",
      "37\n",
      "[1, 4, 16, 64, 120, 64, 16, 4, 1]\n",
      "(-2.2248341449856122e-09+0j)\n",
      "38\n",
      "[1, 4, 16, 64, 120, 64, 16, 4, 1]\n",
      "(1.4391978465694202e-08+0j)\n",
      "39\n",
      "[1, 4, 16, 64, 120, 64, 16, 4, 1]\n",
      "(-4.678903545640364e-09+0j)\n",
      "40\n",
      "[1, 4, 16, 64, 120, 64, 16, 4, 1]\n",
      "(4.848006237208346e-07+0j)\n",
      "41\n",
      "[1, 4, 16, 64, 120, 64, 16, 4, 1]\n",
      "(-4.775856750371501e-07+0j)\n",
      "42\n",
      "[1, 4, 16, 64, 120, 64, 16, 4, 1]\n",
      "(2.3292565143562217e-08+0j)\n",
      "43\n",
      "[1, 4, 16, 64, 120, 64, 16, 4, 1]\n",
      "(1.4121913629895882e-06+0j)\n",
      "44\n",
      "[1, 4, 16, 64, 120, 64, 16, 4, 1]\n",
      "(-3.7683681422311045e-07+0j)\n",
      "45\n",
      "[1, 4, 16, 64, 120, 64, 16, 4, 1]\n",
      "(4.324471150585988e-09+0j)\n",
      "46\n",
      "[1, 4, 16, 64, 120, 64, 16, 4, 1]\n",
      "(-3.9583509624612737e-07+0j)\n",
      "47\n",
      "[1, 4, 16, 64, 120, 64, 16, 4, 1]\n",
      "(1.7245092210303996e-08+0j)\n",
      "48\n",
      "[1, 4, 16, 64, 120, 64, 16, 4, 1]\n",
      "(-6.157691214477029e-08+0j)\n",
      "49\n",
      "[1, 4, 16, 64, 120, 64, 16, 4, 1]\n",
      "(-9.122730149978644e-07+0j)\n"
     ]
    }
   ],
   "source": [
    "N_Krylov_2 = 50\n",
    "psi_original_2 = copy.deepcopy(v_ritz_1)\n",
    "max_bond_Krylov_2 = 120\n",
    "trunc_tol = 0\n",
    "foldername_2= f\"/work_fast/ge49cag/code_datas/NH3_1st_ex_restart_1\"\n",
    "generate_krylov_space_othogonal_against(N_Krylov_2, H_mu_nu_list_spin_layer, psi_original_2, max_bond_Krylov_2, trunc_tol, r_thc, foldername_2, copy.deepcopy(NH3_ground))"
   ]
  },
  {
   "cell_type": "code",
   "execution_count": null,
   "metadata": {},
   "outputs": [],
   "source": [
    "H_reduced_non_rotho_2 = generate_reduced_H_non_ortho(N_Krylov_2, foldername_2, mpo_ref)\n",
    "coeff_2 = coeff_gram_schmidt(N_Krylov_2, foldername_2)\n",
    "#H_reduced: elements calculated by post-orthogonalized Krylov vectos\n",
    "H_reduced_2 = np.einsum('ik, kl, jl -> ij', coeff_2.conj(), H_reduced_non_rotho_2, coeff_2)\n",
    "#H_reduced_2 = remain_only_tridiagonal_elements(H_reduced_2)"
   ]
  },
  {
   "cell_type": "code",
   "execution_count": null,
   "metadata": {},
   "outputs": [],
   "source": [
    "H_reduced_2 = np.einsum('ik, kl, jl -> ij', coeff_2.conj(), H_reduced_non_rotho_2, coeff_2)"
   ]
  },
  {
   "cell_type": "code",
   "execution_count": null,
   "metadata": {},
   "outputs": [
    {
     "name": "stdout",
     "output_type": "stream",
     "text": [
      "(0.001397955184486932+0j)\n",
      "(0.0013183691311979828+0j)\n",
      "(0.0012464339127689072+0j)\n",
      "(0.0011965522737682477+0j)\n",
      "(0.0011858446152643864+0j)\n",
      "(0.0011833601004553884+0j)\n",
      "(0.0011826279005475726+0j)\n",
      "(0.0011798755404157646+0j)\n",
      "(0.0011749765497484077+0j)\n",
      "(0.001154484244935361+0j)\n"
     ]
    }
   ],
   "source": [
    "e_ritz_2, v_ritz_2 = solve_ritz(foldername_2, H_reduced_2, N_Krylov_2, coeff_2, max_bond_Krylov_2, e_1st_ex, mpo_ref)"
   ]
  },
  {
   "cell_type": "markdown",
   "metadata": {},
   "source": [
    "Restart:"
   ]
  },
  {
   "cell_type": "code",
   "execution_count": null,
   "metadata": {},
   "outputs": [
    {
     "name": "stdout",
     "output_type": "stream",
     "text": [
      "[1, 4, 16, 64, 120, 64, 16, 4, 1]\n",
      "2\n",
      "[1, 4, 16, 64, 120, 64, 16, 4, 1]\n",
      "(8.353112347673614e-06+0j)\n",
      "3\n",
      "[1, 4, 16, 64, 120, 64, 16, 4, 1]\n",
      "(6.9899508935772e-06+0j)\n",
      "4\n",
      "[1, 4, 16, 64, 120, 64, 16, 4, 1]\n",
      "(-4.816275200445849e-07+0j)\n",
      "5\n",
      "[1, 4, 16, 64, 120, 64, 16, 4, 1]\n",
      "(-8.118258827661227e-08+0j)\n",
      "6\n",
      "[1, 4, 16, 64, 120, 64, 16, 4, 1]\n",
      "(-1.1949016067989065e-06+0j)\n",
      "7\n",
      "[1, 4, 16, 64, 120, 64, 16, 4, 1]\n",
      "(-4.1905757771203167e-08+0j)\n",
      "8\n",
      "[1, 4, 16, 64, 120, 64, 16, 4, 1]\n",
      "(-1.673782543077859e-08+0j)\n",
      "9\n",
      "[1, 4, 16, 64, 120, 64, 16, 4, 1]\n",
      "(-7.235602668192255e-07+0j)\n",
      "10\n",
      "[1, 4, 16, 64, 120, 64, 16, 4, 1]\n",
      "(3.340514967856774e-08+0j)\n",
      "11\n",
      "[1, 4, 16, 64, 120, 64, 16, 4, 1]\n",
      "(4.103633266679639e-08+0j)\n",
      "12\n",
      "[1, 4, 16, 64, 120, 64, 16, 4, 1]\n",
      "(8.273274449644102e-07+0j)\n",
      "13\n",
      "[1, 4, 16, 64, 120, 64, 16, 4, 1]\n",
      "(-1.6561415740320648e-09+0j)\n",
      "14\n",
      "[1, 4, 16, 64, 120, 64, 16, 4, 1]\n",
      "(4.113574233793253e-07+0j)\n",
      "15\n",
      "[1, 4, 16, 64, 120, 64, 16, 4, 1]\n",
      "(-8.206539858778038e-07+0j)\n",
      "16\n",
      "[1, 4, 16, 64, 120, 64, 16, 4, 1]\n",
      "(1.0553350940042169e-08+0j)\n",
      "17\n",
      "[1, 4, 16, 64, 120, 64, 16, 4, 1]\n",
      "(-7.70360567421997e-07+0j)\n",
      "18\n",
      "[1, 4, 16, 64, 120, 64, 16, 4, 1]\n",
      "(2.940832224363759e-08+0j)\n",
      "19\n",
      "[1, 4, 16, 64, 120, 64, 16, 4, 1]\n",
      "(1.561801349149629e-08+0j)\n",
      "20\n",
      "[1, 4, 16, 64, 120, 64, 16, 4, 1]\n",
      "(3.9539672232581993e-07+0j)\n",
      "21\n",
      "[1, 4, 16, 64, 120, 64, 16, 4, 1]\n",
      "(1.8327163773371766e-07+0j)\n",
      "22\n",
      "[1, 4, 16, 64, 120, 64, 16, 4, 1]\n",
      "(-1.702398541714052e-08+0j)\n",
      "23\n",
      "[1, 4, 16, 64, 120, 64, 16, 4, 1]\n",
      "(2.1293577619793495e-07+0j)\n",
      "24\n",
      "[1, 4, 16, 64, 120, 64, 16, 4, 1]\n",
      "(-2.03241620140343e-08+0j)\n",
      "25\n",
      "[1, 4, 16, 64, 120, 64, 16, 4, 1]\n",
      "(-3.351419427321747e-08+0j)\n",
      "26\n",
      "[1, 4, 16, 64, 120, 64, 16, 4, 1]\n",
      "(1.7249399847382523e-07+0j)\n",
      "27\n",
      "[1, 4, 16, 64, 120, 64, 16, 4, 1]\n",
      "(-7.316577485972232e-07+0j)\n",
      "28\n",
      "[1, 4, 16, 64, 120, 64, 16, 4, 1]\n",
      "(-3.901128873618539e-08+0j)\n",
      "29\n",
      "[1, 4, 16, 64, 120, 64, 16, 4, 1]\n",
      "(2.979331195047746e-07+0j)\n"
     ]
    }
   ],
   "source": [
    "N_Krylov_3 = 30\n",
    "psi_original_3 = copy.deepcopy(v_ritz_2)\n",
    "max_bond_Krylov_3 = 120\n",
    "trunc_tol = 0\n",
    "foldername_3 = f\"/work_fast/ge49cag/code_datas/NH3_1st_ex_restart_2\"\n",
    "generate_krylov_space_othogonal_against(N_Krylov_3, H_mu_nu_list_spin_layer, psi_original_3, max_bond_Krylov_3, trunc_tol, r_thc, foldername_3, copy.deepcopy(NH3_ground))\n"
   ]
  },
  {
   "cell_type": "code",
   "execution_count": null,
   "metadata": {},
   "outputs": [],
   "source": [
    "H_reduced_non_rotho_3 = generate_reduced_H_non_ortho(N_Krylov_3, foldername_3, mpo_ref)\n",
    "coeff_3 = coeff_gram_schmidt(N_Krylov_3, foldername_3)\n",
    "#H_reduced: elements calculated by post-orthogonalized Krylov vectos\n",
    "H_reduced_3 = np.einsum('ik, kl, jl -> ij', coeff_3.conj(), H_reduced_non_rotho_3, coeff_3)\n"
   ]
  },
  {
   "cell_type": "code",
   "execution_count": null,
   "metadata": {},
   "outputs": [
    {
     "name": "stdout",
     "output_type": "stream",
     "text": [
      "(0.0011470223215042097+0j)\n",
      "(0.0011260387373823733+0j)\n",
      "(0.0011241968222037713+0j)\n",
      "(0.0011203298214326196+0j)\n"
     ]
    },
    {
     "name": "stdout",
     "output_type": "stream",
     "text": [
      "(0.0011112679826084104+0j)\n",
      "(0.001103322100689752+0j)\n"
     ]
    }
   ],
   "source": [
    "e_ritz_3, v_ritz_3 = solve_ritz(foldername_3, H_reduced_3, N_Krylov_3, coeff_3, max_bond_Krylov_3, e_1st_ex, mpo_ref)"
   ]
  },
  {
   "cell_type": "markdown",
   "metadata": {},
   "source": [
    "restart:"
   ]
  },
  {
   "cell_type": "code",
   "execution_count": null,
   "metadata": {},
   "outputs": [
    {
     "name": "stdout",
     "output_type": "stream",
     "text": [
      "[1, 4, 16, 64, 120, 64, 16, 4, 1]\n",
      "2\n",
      "[1, 4, 16, 64, 120, 64, 16, 4, 1]\n",
      "(-9.04424251187529e-07+0j)\n",
      "3\n",
      "[1, 4, 16, 64, 120, 64, 16, 4, 1]\n",
      "(-9.089688248584515e-07+0j)\n",
      "4\n",
      "[1, 4, 16, 64, 120, 64, 16, 4, 1]\n",
      "(4.5949291244500837e-07+0j)\n",
      "5\n",
      "[1, 4, 16, 64, 120, 64, 16, 4, 1]\n",
      "(-3.944863132818875e-07+0j)\n",
      "6\n",
      "[1, 4, 16, 64, 120, 64, 16, 4, 1]\n",
      "(5.490490026248179e-07+0j)\n",
      "7\n",
      "[1, 4, 16, 64, 120, 64, 16, 4, 1]\n",
      "(-7.567945349207434e-08+0j)\n",
      "8\n",
      "[1, 4, 16, 64, 120, 64, 16, 4, 1]\n",
      "(1.8574054452423407e-08+0j)\n",
      "9\n",
      "[1, 4, 16, 64, 120, 64, 16, 4, 1]\n",
      "(-9.074157716841406e-08+0j)\n",
      "10\n",
      "[1, 4, 16, 64, 120, 64, 16, 4, 1]\n",
      "(-3.435466685707423e-10+0j)\n",
      "11\n",
      "[1, 4, 16, 64, 120, 64, 16, 4, 1]\n",
      "(-1.0212469814187448e-07+0j)\n",
      "12\n",
      "[1, 4, 16, 64, 120, 64, 16, 4, 1]\n",
      "(-1.3604932507102014e-06+0j)\n",
      "13\n",
      "[1, 4, 16, 64, 120, 64, 16, 4, 1]\n",
      "(-4.356213597839025e-09+0j)\n",
      "14\n",
      "[1, 4, 16, 64, 120, 64, 16, 4, 1]\n",
      "(3.4772839981265572e-06+0j)\n",
      "15\n",
      "[1, 4, 16, 64, 120, 64, 16, 4, 1]\n",
      "(2.870208327517961e-07+0j)\n",
      "16\n",
      "[1, 4, 16, 64, 120, 64, 16, 4, 1]\n",
      "(1.1956536341109253e-07+0j)\n",
      "17\n",
      "[1, 4, 16, 64, 120, 64, 16, 4, 1]\n",
      "(6.772685048111386e-07+0j)\n",
      "18\n",
      "[1, 4, 16, 64, 120, 64, 16, 4, 1]\n",
      "(-3.2878450238475374e-07+0j)\n",
      "19\n",
      "[1, 4, 16, 64, 120, 64, 16, 4, 1]\n",
      "(-1.010703371385704e-08+0j)\n",
      "20\n",
      "[1, 4, 16, 64, 120, 64, 16, 4, 1]\n",
      "(-2.1976215085008934e-06+0j)\n",
      "21\n",
      "[1, 4, 16, 64, 120, 64, 16, 4, 1]\n",
      "(9.242077825686776e-09+0j)\n",
      "22\n",
      "[1, 4, 16, 64, 120, 64, 16, 4, 1]\n",
      "(-1.643987049205673e-07+0j)\n",
      "23\n",
      "[1, 4, 16, 64, 120, 64, 16, 4, 1]\n",
      "(1.1356801195175977e-06+0j)\n",
      "24\n",
      "[1, 4, 16, 64, 120, 64, 16, 4, 1]\n",
      "(4.828946690709442e-07+0j)\n",
      "25\n",
      "[1, 4, 16, 64, 120, 64, 16, 4, 1]\n",
      "(1.8125811918072345e-08+0j)\n",
      "26\n",
      "[1, 4, 16, 64, 120, 64, 16, 4, 1]\n",
      "(2.0203844695287887e-07+0j)\n",
      "27\n",
      "[1, 4, 16, 64, 120, 64, 16, 4, 1]\n",
      "(-3.108881473788043e-07+0j)\n",
      "28\n",
      "[1, 4, 16, 64, 120, 64, 16, 4, 1]\n",
      "(-1.8987091305034374e-09+0j)\n",
      "29\n",
      "[1, 4, 16, 64, 120, 64, 16, 4, 1]\n",
      "(-4.6468383375900175e-08+0j)\n"
     ]
    }
   ],
   "source": [
    "N_Krylov_4 = 30\n",
    "psi_original_4 = copy.deepcopy(v_ritz_3)\n",
    "max_bond_Krylov_4 = 120\n",
    "trunc_tol = 0\n",
    "foldername_4 = f\"/work_fast/ge49cag/code_datas/NH3_1st_ex_restart_3\"\n",
    "generate_krylov_space_othogonal_against(N_Krylov_4, H_mu_nu_list_spin_layer, psi_original_4, max_bond_Krylov_4, trunc_tol, r_thc, foldername_4, copy.deepcopy(NH3_ground))\n"
   ]
  },
  {
   "cell_type": "code",
   "execution_count": null,
   "metadata": {},
   "outputs": [],
   "source": [
    "H_reduced_non_rotho_4 = generate_reduced_H_non_ortho(N_Krylov_4, foldername_4, mpo_ref)\n",
    "coeff_4 = coeff_gram_schmidt(N_Krylov_4, foldername_4)\n",
    "#H_reduced: elements calculated by post-orthogonalized Krylov vectos\n",
    "H_reduced_4 = np.einsum('ik, kl, jl -> ij', coeff_4.conj(), H_reduced_non_rotho_4, coeff_4)"
   ]
  },
  {
   "cell_type": "code",
   "execution_count": null,
   "metadata": {},
   "outputs": [
    {
     "name": "stdout",
     "output_type": "stream",
     "text": [
      "(0.0010998118856093697+0j)\n",
      "(0.0010968866635892027+0j)\n"
     ]
    },
    {
     "name": "stdout",
     "output_type": "stream",
     "text": [
      "(0.0010942610815902754+0j)\n",
      "(0.0010934011441037228+0j)\n",
      "(0.0010919006127920738+0j)\n",
      "(0.0010755484506006496+0j)\n"
     ]
    }
   ],
   "source": [
    "e_ritz_4, v_ritz_4 = solve_ritz(foldername_4, H_reduced_4, N_Krylov_4, coeff_4, max_bond_Krylov_4, e_1st_ex, mpo_ref)"
   ]
  },
  {
   "cell_type": "markdown",
   "metadata": {},
   "source": [
    "restart:"
   ]
  },
  {
   "cell_type": "code",
   "execution_count": null,
   "metadata": {},
   "outputs": [
    {
     "name": "stdout",
     "output_type": "stream",
     "text": [
      "[1, 4, 16, 64, 120, 64, 16, 4, 1]\n",
      "2\n",
      "[1, 4, 16, 64, 120, 64, 16, 4, 1]\n",
      "(-1.1714048211014957e-05+0j)\n",
      "3\n",
      "[1, 4, 16, 64, 120, 64, 16, 4, 1]\n",
      "(-3.468066074480815e-06+0j)\n",
      "4\n",
      "[1, 4, 16, 64, 120, 64, 16, 4, 1]\n",
      "(6.886328102325909e-07+0j)\n",
      "5\n",
      "[1, 4, 16, 64, 120, 64, 16, 4, 1]\n",
      "(-1.4154127993493354e-08+0j)\n",
      "6\n",
      "[1, 4, 16, 64, 120, 64, 16, 4, 1]\n",
      "(9.736887697931861e-08+0j)\n",
      "7\n",
      "[1, 4, 16, 64, 120, 64, 16, 4, 1]\n",
      "(6.65531486721666e-09+0j)\n",
      "8\n",
      "[1, 4, 16, 64, 120, 64, 16, 4, 1]\n",
      "(-2.9969235399237995e-08+0j)\n",
      "9\n",
      "[1, 4, 16, 64, 120, 64, 16, 4, 1]\n",
      "(3.087406012742564e-06+0j)\n",
      "10\n",
      "[1, 4, 16, 64, 120, 64, 16, 4, 1]\n",
      "(-2.8024365038685777e-07+0j)\n",
      "11\n",
      "[1, 4, 16, 64, 120, 64, 16, 4, 1]\n",
      "(3.5136955011210694e-08+0j)\n",
      "12\n",
      "[1, 4, 16, 64, 120, 64, 16, 4, 1]\n",
      "(2.246726629742614e-07+0j)\n",
      "13\n",
      "[1, 4, 16, 64, 120, 64, 16, 4, 1]\n",
      "(1.3225036972998512e-08+0j)\n",
      "14\n",
      "[1, 4, 16, 64, 120, 64, 16, 4, 1]\n",
      "(7.971523854286835e-09+0j)\n",
      "15\n",
      "[1, 4, 16, 64, 120, 64, 16, 4, 1]\n",
      "(2.304633255564045e-07+0j)\n",
      "16\n",
      "[1, 4, 16, 64, 120, 64, 16, 4, 1]\n",
      "(-1.899711602542601e-07+0j)\n",
      "17\n",
      "[1, 4, 16, 64, 120, 64, 16, 4, 1]\n",
      "(4.0468247044524695e-07+0j)\n",
      "18\n",
      "[1, 4, 16, 64, 120, 64, 16, 4, 1]\n",
      "(-1.3461853089823486e-07+0j)\n",
      "19\n",
      "[1, 4, 16, 64, 120, 64, 16, 4, 1]\n",
      "(5.2852865290853714e-08+0j)\n",
      "20\n",
      "[1, 4, 16, 64, 120, 64, 16, 4, 1]\n",
      "(9.531225685021033e-08+0j)\n",
      "21\n",
      "[1, 4, 16, 64, 120, 64, 16, 4, 1]\n",
      "(7.287815872799469e-08+0j)\n",
      "22\n",
      "[1, 4, 16, 64, 120, 64, 16, 4, 1]\n",
      "(3.018661722159859e-07+0j)\n",
      "23\n",
      "[1, 4, 16, 64, 120, 64, 16, 4, 1]\n",
      "(1.535244755138511e-06+0j)\n",
      "24\n",
      "[1, 4, 16, 64, 120, 64, 16, 4, 1]\n",
      "(9.271012791966176e-08+0j)\n",
      "25\n",
      "[1, 4, 16, 64, 120, 64, 16, 4, 1]\n",
      "(-1.5526692756281783e-08+0j)\n",
      "26\n",
      "[1, 4, 16, 64, 120, 64, 16, 4, 1]\n",
      "(1.8936469881694368e-07+0j)\n",
      "27\n",
      "[1, 4, 16, 64, 120, 64, 16, 4, 1]\n",
      "(5.3551858455804804e-08+0j)\n",
      "28\n",
      "[1, 4, 16, 64, 120, 64, 16, 4, 1]\n",
      "(-5.73518290059226e-08+0j)\n",
      "29\n",
      "[1, 4, 16, 64, 120, 64, 16, 4, 1]\n",
      "(-6.56647760333411e-08+0j)\n"
     ]
    }
   ],
   "source": [
    "N_Krylov_5 = 30\n",
    "psi_original_5 = copy.deepcopy(v_ritz_4)\n",
    "max_bond_Krylov_5 = 120\n",
    "trunc_tol = 0\n",
    "foldername_5 = f\"/work_fast/ge49cag/code_datas/NH3_1st_ex_restart_4\"\n",
    "generate_krylov_space_othogonal_against(N_Krylov_5, H_mu_nu_list_spin_layer, psi_original_5, max_bond_Krylov_5, trunc_tol, r_thc, foldername_5, copy.deepcopy(NH3_ground))"
   ]
  },
  {
   "cell_type": "code",
   "execution_count": null,
   "metadata": {},
   "outputs": [],
   "source": [
    "H_reduced_non_rotho_5 = generate_reduced_H_non_ortho(N_Krylov_5, foldername_5, mpo_ref)\n",
    "coeff_5 = coeff_gram_schmidt(N_Krylov_5, foldername_5)\n",
    "#H_reduced: elements calculated by post-orthogonalized Krylov vectos\n",
    "H_reduced_5 = np.einsum('ik, kl, jl -> ij', coeff_5.conj(), H_reduced_non_rotho_5, coeff_5)"
   ]
  },
  {
   "cell_type": "code",
   "execution_count": null,
   "metadata": {},
   "outputs": [
    {
     "name": "stdout",
     "output_type": "stream",
     "text": [
      "(0.0010687932477679851+0j)\n",
      "(0.0010643892557027357+0j)\n",
      "(0.001063453286022309+0j)\n",
      "(0.0010632522551645707+0j)\n",
      "(0.0010630885972489068+0j)\n"
     ]
    },
    {
     "name": "stdout",
     "output_type": "stream",
     "text": [
      "(0.0010598104073693548+0j)\n"
     ]
    }
   ],
   "source": [
    "e_ritz_5, v_ritz_5 = solve_ritz(foldername_5, H_reduced_5, N_Krylov_5, coeff_5, max_bond_Krylov_5, e_1st_ex, mpo_ref)"
   ]
  },
  {
   "cell_type": "code",
   "execution_count": null,
   "metadata": {},
   "outputs": [
    {
     "name": "stdout",
     "output_type": "stream",
     "text": [
      "[1, 4, 16, 64, 120, 64, 16, 4, 1]\n",
      "2\n",
      "[1, 4, 16, 64, 120, 64, 16, 4, 1]\n",
      "(-7.765123833580649e-06+0j)\n",
      "3\n",
      "[1, 4, 16, 64, 120, 64, 16, 4, 1]\n",
      "(-1.8931886490041909e-06+0j)\n",
      "4\n",
      "[1, 4, 16, 64, 120, 64, 16, 4, 1]\n",
      "(-5.502639112260296e-07+0j)\n",
      "5\n",
      "[1, 4, 16, 64, 120, 64, 16, 4, 1]\n",
      "(-4.3133040821631335e-09+0j)\n",
      "6\n",
      "[1, 4, 16, 64, 120, 64, 16, 4, 1]\n",
      "(-1.8187130070257103e-07+0j)\n",
      "7\n",
      "[1, 4, 16, 64, 120, 64, 16, 4, 1]\n",
      "(-1.2350674923418045e-08+0j)\n",
      "8\n",
      "[1, 4, 16, 64, 120, 64, 16, 4, 1]\n",
      "(5.611878675267892e-09+0j)\n",
      "9\n",
      "[1, 4, 16, 64, 120, 64, 16, 4, 1]\n",
      "(-4.370169294692089e-09+0j)\n",
      "10\n",
      "[1, 4, 16, 64, 120, 64, 16, 4, 1]\n",
      "(-1.5058555171740777e-08+0j)\n",
      "11\n",
      "[1, 4, 16, 64, 120, 64, 16, 4, 1]\n",
      "(1.966361544850293e-08+0j)\n",
      "12\n",
      "[1, 4, 16, 64, 120, 64, 16, 4, 1]\n",
      "(-3.7441013605670175e-07+0j)\n",
      "13\n",
      "[1, 4, 16, 64, 120, 64, 16, 4, 1]\n",
      "(2.0963182562993947e-08+0j)\n",
      "14\n",
      "[1, 4, 16, 64, 120, 64, 16, 4, 1]\n",
      "(-2.6248132087796196e-07+0j)\n",
      "15\n",
      "[1, 4, 16, 64, 120, 64, 16, 4, 1]\n",
      "(3.361750166233098e-07+0j)\n",
      "16\n",
      "[1, 4, 16, 64, 120, 64, 16, 4, 1]\n",
      "(-9.027061427419487e-08+0j)\n",
      "17\n",
      "[1, 4, 16, 64, 120, 64, 16, 4, 1]\n",
      "(3.5466534017389745e-06+0j)\n",
      "18\n",
      "[1, 4, 16, 64, 120, 64, 16, 4, 1]\n",
      "(2.5482076096883417e-08+0j)\n",
      "19\n",
      "[1, 4, 16, 64, 120, 64, 16, 4, 1]\n",
      "(-6.304272080297202e-08+0j)\n",
      "20\n",
      "[1, 4, 16, 64, 120, 64, 16, 4, 1]\n",
      "(2.201476959181475e-06+0j)\n",
      "21\n",
      "[1, 4, 16, 64, 120, 64, 16, 4, 1]\n",
      "(4.6003970806991355e-07+0j)\n",
      "22\n"
     ]
    },
    {
     "ename": "KeyboardInterrupt",
     "evalue": "",
     "output_type": "error",
     "traceback": [
      "\u001b[0;31m---------------------------------------------------------------------------\u001b[0m",
      "\u001b[0;31mKeyboardInterrupt\u001b[0m                         Traceback (most recent call last)",
      "Cell \u001b[0;32mIn[27], line 6\u001b[0m\n\u001b[1;32m      4\u001b[0m trunc_tol \u001b[38;5;241m=\u001b[39m \u001b[38;5;241m0\u001b[39m\n\u001b[1;32m      5\u001b[0m foldername_6 \u001b[38;5;241m=\u001b[39m \u001b[38;5;124mf\u001b[39m\u001b[38;5;124m\"\u001b[39m\u001b[38;5;124m/work_fast/ge49cag/code_datas/NH3_1st_ex_restart_5\u001b[39m\u001b[38;5;124m\"\u001b[39m\n\u001b[0;32m----> 6\u001b[0m \u001b[43mgenerate_krylov_space_othogonal_against\u001b[49m\u001b[43m(\u001b[49m\u001b[43mN_Krylov_6\u001b[49m\u001b[43m,\u001b[49m\u001b[43m \u001b[49m\u001b[43mH_mu_nu_list_spin_layer\u001b[49m\u001b[43m,\u001b[49m\u001b[43m \u001b[49m\u001b[43mpsi_original_6\u001b[49m\u001b[43m,\u001b[49m\u001b[43m \u001b[49m\u001b[43mmax_bond_Krylov_6\u001b[49m\u001b[43m,\u001b[49m\u001b[43m \u001b[49m\u001b[43mtrunc_tol\u001b[49m\u001b[43m,\u001b[49m\u001b[43m \u001b[49m\u001b[43mr_thc\u001b[49m\u001b[43m,\u001b[49m\u001b[43m \u001b[49m\u001b[43mfoldername_6\u001b[49m\u001b[43m,\u001b[49m\u001b[43m \u001b[49m\u001b[43mcopy\u001b[49m\u001b[38;5;241;43m.\u001b[39;49m\u001b[43mdeepcopy\u001b[49m\u001b[43m(\u001b[49m\u001b[43mNH3_ground\u001b[49m\u001b[43m)\u001b[49m\u001b[43m)\u001b[49m\n",
      "File \u001b[0;32m/work_fast/ge49cag/pytenet_thc_spin_cons/thc_experiments/../pytenet/global_krylov_method.py:545\u001b[0m, in \u001b[0;36mgenerate_krylov_space_othogonal_against\u001b[0;34m(N_Krylov, H_mu_nu_list_spin_layer, psi_original, max_bond_Krylov, trunc_tol, r_THC, foldername, vec_to_remove)\u001b[0m\n\u001b[1;32m    542\u001b[0m     orth_state2 \u001b[38;5;241m=\u001b[39m pickle\u001b[38;5;241m.\u001b[39mload(file)\n\u001b[1;32m    544\u001b[0m \u001b[38;5;66;03m#first calculate H \\v_i\u001b[39;00m\n\u001b[0;32m--> 545\u001b[0m this_state \u001b[38;5;241m=\u001b[39m apply_thc_mpo_and_compress(H_mu_nu_list_spin_layer, copy\u001b[38;5;241m.\u001b[39mdeepcopy(orth_state2), trunc_tol, \u001b[38;5;241m2\u001b[39m\u001b[38;5;241m*\u001b[39mmax_bond_Krylov, r_THC)\n\u001b[1;32m    546\u001b[0m this_state\u001b[38;5;241m.\u001b[39morthonormalize(\u001b[38;5;124m'\u001b[39m\u001b[38;5;124mright\u001b[39m\u001b[38;5;124m'\u001b[39m)\n\u001b[1;32m    548\u001b[0m this_state \u001b[38;5;241m=\u001b[39m ortho_to_previous_two(orth_state1, orth_state2, this_state, max_bond_Krylov, trunc_tol)\n",
      "File \u001b[0;32m/work_fast/ge49cag/pytenet_thc_spin_cons/thc_experiments/../pytenet/operation_thc.py:87\u001b[0m, in \u001b[0;36mapply_thc_mpo_and_compress\u001b[0;34m(sub_H_list_as_layer, psi, trunc_tol, max_bond_global, r_THC)\u001b[0m\n\u001b[1;32m     84\u001b[0m     temp_mps \u001b[38;5;241m=\u001b[39m H_on_mps_compress_by_layer(temp_layers_mu, H_nu_psi, trunc_tol, max_bond_global)\n\u001b[1;32m     85\u001b[0m     \u001b[38;5;66;03m#we allow a little larger bond-dims for addition\u001b[39;00m\n\u001b[1;32m     86\u001b[0m     \u001b[38;5;66;03m#H_on_psi = add_mps_and_compress_direct_SVD(H_on_psi, temp_mps, trunc_tol, 2*max_bond_global) \u001b[39;00m\n\u001b[0;32m---> 87\u001b[0m     H_on_psi \u001b[38;5;241m=\u001b[39m \u001b[43madd_mps_and_compress\u001b[49m\u001b[43m(\u001b[49m\u001b[43mH_on_psi\u001b[49m\u001b[43m,\u001b[49m\u001b[43m \u001b[49m\u001b[43mtemp_mps\u001b[49m\u001b[43m,\u001b[49m\u001b[43m \u001b[49m\u001b[43mtrunc_tol\u001b[49m\u001b[43m,\u001b[49m\u001b[43m \u001b[49m\u001b[43mmax_bond_global\u001b[49m\u001b[43m)\u001b[49m \n\u001b[1;32m     88\u001b[0m     \u001b[38;5;66;03m#H_on_psi = add_mps_and_compress(H_on_psi, temp_mps, trunc_tol, max_bond_global) \u001b[39;00m\n\u001b[1;32m     89\u001b[0m \u001b[38;5;28;01mexcept\u001b[39;00m \u001b[38;5;167;01mException\u001b[39;00m:\n\u001b[1;32m     90\u001b[0m     \u001b[38;5;66;03m#svd_small_count += 1\u001b[39;00m\n",
      "File \u001b[0;32m/work_fast/ge49cag/pytenet_thc_spin_cons/thc_experiments/../pytenet/operation.py:409\u001b[0m, in \u001b[0;36madd_mps_and_compress\u001b[0;34m(psi1, psi2, tol, max_bond_apply)\u001b[0m\n\u001b[1;32m    403\u001b[0m \u001b[38;5;28;01mdef\u001b[39;00m \u001b[38;5;21madd_mps_and_compress\u001b[39m(psi1: MPS, psi2: MPS, tol, max_bond_apply):\n\u001b[1;32m    404\u001b[0m \u001b[38;5;250m    \u001b[39m\u001b[38;5;124;03m\"\"\"\u001b[39;00m\n\u001b[1;32m    405\u001b[0m \u001b[38;5;124;03m    Add two MPS, and then compress it, with tol and maximum bond dims.\u001b[39;00m\n\u001b[1;32m    406\u001b[0m \u001b[38;5;124;03m    \u001b[39;00m\n\u001b[1;32m    407\u001b[0m \u001b[38;5;124;03m    See ptn.mps.local_orthonormalize_right_svd_max_bond for compression details.\u001b[39;00m\n\u001b[1;32m    408\u001b[0m \u001b[38;5;124;03m    \"\"\"\u001b[39;00m\n\u001b[0;32m--> 409\u001b[0m     psi \u001b[38;5;241m=\u001b[39m \u001b[43madd_mps\u001b[49m\u001b[43m(\u001b[49m\u001b[43mpsi1\u001b[49m\u001b[43m,\u001b[49m\u001b[43m \u001b[49m\u001b[43mpsi2\u001b[49m\u001b[43m)\u001b[49m\n\u001b[1;32m    410\u001b[0m     psi\u001b[38;5;241m.\u001b[39mcompress_no_normalization_max_bond(tol, max_bond \u001b[38;5;241m=\u001b[39m max_bond_apply)\n\u001b[1;32m    412\u001b[0m     \u001b[38;5;28;01mreturn\u001b[39;00m psi\n",
      "File \u001b[0;32m/work_fast/ge49cag/pytenet_thc_spin_cons/thc_experiments/../pytenet/mps.py:545\u001b[0m, in \u001b[0;36madd_mps\u001b[0;34m(mps0, mps1, alpha)\u001b[0m\n\u001b[1;32m    543\u001b[0m     s1 \u001b[38;5;241m=\u001b[39m mps1\u001b[38;5;241m.\u001b[39mA[i]\u001b[38;5;241m.\u001b[39mshape\n\u001b[1;32m    544\u001b[0m     \u001b[38;5;66;03m# form block-diagonal tensor\u001b[39;00m\n\u001b[0;32m--> 545\u001b[0m     mps\u001b[38;5;241m.\u001b[39mA[i] \u001b[38;5;241m=\u001b[39m \u001b[43mnp\u001b[49m\u001b[38;5;241;43m.\u001b[39;49m\u001b[43mblock\u001b[49m\u001b[43m(\u001b[49m\u001b[43m[\u001b[49m\u001b[43m[\u001b[49m\u001b[43mmps0\u001b[49m\u001b[38;5;241;43m.\u001b[39;49m\u001b[43mA\u001b[49m\u001b[43m[\u001b[49m\u001b[43mi\u001b[49m\u001b[43m]\u001b[49m\u001b[43m,\u001b[49m\u001b[43m \u001b[49m\u001b[43mnp\u001b[49m\u001b[38;5;241;43m.\u001b[39;49m\u001b[43mzeros\u001b[49m\u001b[43m(\u001b[49m\u001b[43m(\u001b[49m\u001b[43md\u001b[49m\u001b[43m,\u001b[49m\u001b[43m \u001b[49m\u001b[43ms0\u001b[49m\u001b[43m[\u001b[49m\u001b[38;5;241;43m1\u001b[39;49m\u001b[43m]\u001b[49m\u001b[43m,\u001b[49m\u001b[43m \u001b[49m\u001b[43ms1\u001b[49m\u001b[43m[\u001b[49m\u001b[38;5;241;43m2\u001b[39;49m\u001b[43m]\u001b[49m\u001b[43m)\u001b[49m\u001b[43m)\u001b[49m\u001b[43m]\u001b[49m\u001b[43m,\u001b[49m\u001b[43m \u001b[49m\u001b[43m[\u001b[49m\u001b[43mnp\u001b[49m\u001b[38;5;241;43m.\u001b[39;49m\u001b[43mzeros\u001b[49m\u001b[43m(\u001b[49m\u001b[43m(\u001b[49m\u001b[43md\u001b[49m\u001b[43m,\u001b[49m\u001b[43m \u001b[49m\u001b[43ms1\u001b[49m\u001b[43m[\u001b[49m\u001b[38;5;241;43m1\u001b[39;49m\u001b[43m]\u001b[49m\u001b[43m,\u001b[49m\u001b[43m \u001b[49m\u001b[43ms0\u001b[49m\u001b[43m[\u001b[49m\u001b[38;5;241;43m2\u001b[39;49m\u001b[43m]\u001b[49m\u001b[43m)\u001b[49m\u001b[43m)\u001b[49m\u001b[43m,\u001b[49m\u001b[43m \u001b[49m\u001b[43mmps1\u001b[49m\u001b[38;5;241;43m.\u001b[39;49m\u001b[43mA\u001b[49m\u001b[43m[\u001b[49m\u001b[43mi\u001b[49m\u001b[43m]\u001b[49m\u001b[43m]\u001b[49m\u001b[43m]\u001b[49m\u001b[43m)\u001b[49m\n\u001b[1;32m    546\u001b[0m \u001b[38;5;66;03m# rightmost tensor\u001b[39;00m\n\u001b[1;32m    547\u001b[0m mps\u001b[38;5;241m.\u001b[39mA[\u001b[38;5;241m-\u001b[39m\u001b[38;5;241m1\u001b[39m] \u001b[38;5;241m=\u001b[39m np\u001b[38;5;241m.\u001b[39mblock([[mps0\u001b[38;5;241m.\u001b[39mA[\u001b[38;5;241m-\u001b[39m\u001b[38;5;241m1\u001b[39m]], [mps1\u001b[38;5;241m.\u001b[39mA[\u001b[38;5;241m-\u001b[39m\u001b[38;5;241m1\u001b[39m]]])\n",
      "File \u001b[0;32m~/.local/lib/python3.10/site-packages/numpy/core/shape_base.py:853\u001b[0m, in \u001b[0;36mblock\u001b[0;34m(arrays)\u001b[0m\n\u001b[1;32m    703\u001b[0m \u001b[38;5;129m@array_function_dispatch\u001b[39m(_block_dispatcher)\n\u001b[1;32m    704\u001b[0m \u001b[38;5;28;01mdef\u001b[39;00m \u001b[38;5;21mblock\u001b[39m(arrays):\n\u001b[1;32m    705\u001b[0m \u001b[38;5;250m    \u001b[39m\u001b[38;5;124;03m\"\"\"\u001b[39;00m\n\u001b[1;32m    706\u001b[0m \u001b[38;5;124;03m    Assemble an nd-array from nested lists of blocks.\u001b[39;00m\n\u001b[1;32m    707\u001b[0m \n\u001b[0;32m   (...)\u001b[0m\n\u001b[1;32m    851\u001b[0m \n\u001b[1;32m    852\u001b[0m \u001b[38;5;124;03m    \"\"\"\u001b[39;00m\n\u001b[0;32m--> 853\u001b[0m     arrays, list_ndim, result_ndim, final_size \u001b[38;5;241m=\u001b[39m \u001b[43m_block_setup\u001b[49m\u001b[43m(\u001b[49m\u001b[43marrays\u001b[49m\u001b[43m)\u001b[49m\n\u001b[1;32m    855\u001b[0m     \u001b[38;5;66;03m# It was found through benchmarking that making an array of final size\u001b[39;00m\n\u001b[1;32m    856\u001b[0m     \u001b[38;5;66;03m# around 256x256 was faster by straight concatenation on a\u001b[39;00m\n\u001b[1;32m    857\u001b[0m     \u001b[38;5;66;03m# i7-7700HQ processor and dual channel ram 2400MHz.\u001b[39;00m\n\u001b[0;32m   (...)\u001b[0m\n\u001b[1;32m    867\u001b[0m     \u001b[38;5;66;03m# algorithm is implemented which would likely be faster than the python\u001b[39;00m\n\u001b[1;32m    868\u001b[0m     \u001b[38;5;66;03m# version.\u001b[39;00m\n\u001b[1;32m    869\u001b[0m     \u001b[38;5;28;01mif\u001b[39;00m list_ndim \u001b[38;5;241m*\u001b[39m final_size \u001b[38;5;241m>\u001b[39m (\u001b[38;5;241m2\u001b[39m \u001b[38;5;241m*\u001b[39m \u001b[38;5;241m512\u001b[39m \u001b[38;5;241m*\u001b[39m \u001b[38;5;241m512\u001b[39m):\n",
      "File \u001b[0;32m~/.local/lib/python3.10/site-packages/numpy/core/shape_base.py:884\u001b[0m, in \u001b[0;36m_block_setup\u001b[0;34m(arrays)\u001b[0m\n\u001b[1;32m    879\u001b[0m \u001b[38;5;28;01mdef\u001b[39;00m \u001b[38;5;21m_block_setup\u001b[39m(arrays):\n\u001b[1;32m    880\u001b[0m \u001b[38;5;250m    \u001b[39m\u001b[38;5;124;03m\"\"\"\u001b[39;00m\n\u001b[1;32m    881\u001b[0m \u001b[38;5;124;03m    Returns\u001b[39;00m\n\u001b[1;32m    882\u001b[0m \u001b[38;5;124;03m    (`arrays`, list_ndim, result_ndim, final_size)\u001b[39;00m\n\u001b[1;32m    883\u001b[0m \u001b[38;5;124;03m    \"\"\"\u001b[39;00m\n\u001b[0;32m--> 884\u001b[0m     bottom_index, arr_ndim, final_size \u001b[38;5;241m=\u001b[39m \u001b[43m_block_check_depths_match\u001b[49m\u001b[43m(\u001b[49m\u001b[43marrays\u001b[49m\u001b[43m)\u001b[49m\n\u001b[1;32m    885\u001b[0m     list_ndim \u001b[38;5;241m=\u001b[39m \u001b[38;5;28mlen\u001b[39m(bottom_index)\n\u001b[1;32m    886\u001b[0m     \u001b[38;5;28;01mif\u001b[39;00m bottom_index \u001b[38;5;129;01mand\u001b[39;00m bottom_index[\u001b[38;5;241m-\u001b[39m\u001b[38;5;241m1\u001b[39m] \u001b[38;5;129;01mis\u001b[39;00m \u001b[38;5;28;01mNone\u001b[39;00m:\n",
      "File \u001b[0;32m~/.local/lib/python3.10/site-packages/numpy/core/shape_base.py:525\u001b[0m, in \u001b[0;36m_block_check_depths_match\u001b[0;34m(arrays, parent_index)\u001b[0m\n\u001b[1;32m    521\u001b[0m \u001b[38;5;28;01melif\u001b[39;00m \u001b[38;5;28mtype\u001b[39m(arrays) \u001b[38;5;129;01mis\u001b[39;00m \u001b[38;5;28mlist\u001b[39m \u001b[38;5;129;01mand\u001b[39;00m \u001b[38;5;28mlen\u001b[39m(arrays) \u001b[38;5;241m>\u001b[39m \u001b[38;5;241m0\u001b[39m:\n\u001b[1;32m    522\u001b[0m     idxs_ndims \u001b[38;5;241m=\u001b[39m (_block_check_depths_match(arr, parent_index \u001b[38;5;241m+\u001b[39m [i])\n\u001b[1;32m    523\u001b[0m                   \u001b[38;5;28;01mfor\u001b[39;00m i, arr \u001b[38;5;129;01min\u001b[39;00m \u001b[38;5;28menumerate\u001b[39m(arrays))\n\u001b[0;32m--> 525\u001b[0m     first_index, max_arr_ndim, final_size \u001b[38;5;241m=\u001b[39m \u001b[38;5;28;43mnext\u001b[39;49m\u001b[43m(\u001b[49m\u001b[43midxs_ndims\u001b[49m\u001b[43m)\u001b[49m\n\u001b[1;32m    526\u001b[0m     \u001b[38;5;28;01mfor\u001b[39;00m index, ndim, size \u001b[38;5;129;01min\u001b[39;00m idxs_ndims:\n\u001b[1;32m    527\u001b[0m         final_size \u001b[38;5;241m+\u001b[39m\u001b[38;5;241m=\u001b[39m size\n",
      "File \u001b[0;32m~/.local/lib/python3.10/site-packages/numpy/core/shape_base.py:522\u001b[0m, in \u001b[0;36m<genexpr>\u001b[0;34m(.0)\u001b[0m\n\u001b[1;32m    514\u001b[0m     \u001b[38;5;28;01mraise\u001b[39;00m \u001b[38;5;167;01mTypeError\u001b[39;00m(\n\u001b[1;32m    515\u001b[0m         \u001b[38;5;124m'\u001b[39m\u001b[38;5;132;01m{}\u001b[39;00m\u001b[38;5;124m is a tuple. \u001b[39m\u001b[38;5;124m'\u001b[39m\n\u001b[1;32m    516\u001b[0m         \u001b[38;5;124m'\u001b[39m\u001b[38;5;124mOnly lists can be used to arrange blocks, and np.block does \u001b[39m\u001b[38;5;124m'\u001b[39m\n\u001b[0;32m   (...)\u001b[0m\n\u001b[1;32m    519\u001b[0m         )\n\u001b[1;32m    520\u001b[0m     )\n\u001b[1;32m    521\u001b[0m \u001b[38;5;28;01melif\u001b[39;00m \u001b[38;5;28mtype\u001b[39m(arrays) \u001b[38;5;129;01mis\u001b[39;00m \u001b[38;5;28mlist\u001b[39m \u001b[38;5;129;01mand\u001b[39;00m \u001b[38;5;28mlen\u001b[39m(arrays) \u001b[38;5;241m>\u001b[39m \u001b[38;5;241m0\u001b[39m:\n\u001b[0;32m--> 522\u001b[0m     idxs_ndims \u001b[38;5;241m=\u001b[39m (\u001b[43m_block_check_depths_match\u001b[49m\u001b[43m(\u001b[49m\u001b[43marr\u001b[49m\u001b[43m,\u001b[49m\u001b[43m \u001b[49m\u001b[43mparent_index\u001b[49m\u001b[43m \u001b[49m\u001b[38;5;241;43m+\u001b[39;49m\u001b[43m \u001b[49m\u001b[43m[\u001b[49m\u001b[43mi\u001b[49m\u001b[43m]\u001b[49m\u001b[43m)\u001b[49m\n\u001b[1;32m    523\u001b[0m                   \u001b[38;5;28;01mfor\u001b[39;00m i, arr \u001b[38;5;129;01min\u001b[39;00m \u001b[38;5;28menumerate\u001b[39m(arrays))\n\u001b[1;32m    525\u001b[0m     first_index, max_arr_ndim, final_size \u001b[38;5;241m=\u001b[39m \u001b[38;5;28mnext\u001b[39m(idxs_ndims)\n\u001b[1;32m    526\u001b[0m     \u001b[38;5;28;01mfor\u001b[39;00m index, ndim, size \u001b[38;5;129;01min\u001b[39;00m idxs_ndims:\n",
      "File \u001b[0;32m~/.local/lib/python3.10/site-packages/numpy/core/shape_base.py:526\u001b[0m, in \u001b[0;36m_block_check_depths_match\u001b[0;34m(arrays, parent_index)\u001b[0m\n\u001b[1;32m    522\u001b[0m idxs_ndims \u001b[38;5;241m=\u001b[39m (_block_check_depths_match(arr, parent_index \u001b[38;5;241m+\u001b[39m [i])\n\u001b[1;32m    523\u001b[0m               \u001b[38;5;28;01mfor\u001b[39;00m i, arr \u001b[38;5;129;01min\u001b[39;00m \u001b[38;5;28menumerate\u001b[39m(arrays))\n\u001b[1;32m    525\u001b[0m first_index, max_arr_ndim, final_size \u001b[38;5;241m=\u001b[39m \u001b[38;5;28mnext\u001b[39m(idxs_ndims)\n\u001b[0;32m--> 526\u001b[0m \u001b[38;5;28;01mfor\u001b[39;00m index, ndim, size \u001b[38;5;129;01min\u001b[39;00m idxs_ndims:\n\u001b[1;32m    527\u001b[0m     final_size \u001b[38;5;241m+\u001b[39m\u001b[38;5;241m=\u001b[39m size\n\u001b[1;32m    528\u001b[0m     \u001b[38;5;28;01mif\u001b[39;00m ndim \u001b[38;5;241m>\u001b[39m max_arr_ndim:\n",
      "File \u001b[0;32m~/.local/lib/python3.10/site-packages/numpy/core/shape_base.py:522\u001b[0m, in \u001b[0;36m<genexpr>\u001b[0;34m(.0)\u001b[0m\n\u001b[1;32m    514\u001b[0m     \u001b[38;5;28;01mraise\u001b[39;00m \u001b[38;5;167;01mTypeError\u001b[39;00m(\n\u001b[1;32m    515\u001b[0m         \u001b[38;5;124m'\u001b[39m\u001b[38;5;132;01m{}\u001b[39;00m\u001b[38;5;124m is a tuple. \u001b[39m\u001b[38;5;124m'\u001b[39m\n\u001b[1;32m    516\u001b[0m         \u001b[38;5;124m'\u001b[39m\u001b[38;5;124mOnly lists can be used to arrange blocks, and np.block does \u001b[39m\u001b[38;5;124m'\u001b[39m\n\u001b[0;32m   (...)\u001b[0m\n\u001b[1;32m    519\u001b[0m         )\n\u001b[1;32m    520\u001b[0m     )\n\u001b[1;32m    521\u001b[0m \u001b[38;5;28;01melif\u001b[39;00m \u001b[38;5;28mtype\u001b[39m(arrays) \u001b[38;5;129;01mis\u001b[39;00m \u001b[38;5;28mlist\u001b[39m \u001b[38;5;129;01mand\u001b[39;00m \u001b[38;5;28mlen\u001b[39m(arrays) \u001b[38;5;241m>\u001b[39m \u001b[38;5;241m0\u001b[39m:\n\u001b[0;32m--> 522\u001b[0m     idxs_ndims \u001b[38;5;241m=\u001b[39m (\u001b[43m_block_check_depths_match\u001b[49m\u001b[43m(\u001b[49m\u001b[43marr\u001b[49m\u001b[43m,\u001b[49m\u001b[43m \u001b[49m\u001b[43mparent_index\u001b[49m\u001b[43m \u001b[49m\u001b[38;5;241;43m+\u001b[39;49m\u001b[43m \u001b[49m\u001b[43m[\u001b[49m\u001b[43mi\u001b[49m\u001b[43m]\u001b[49m\u001b[43m)\u001b[49m\n\u001b[1;32m    523\u001b[0m                   \u001b[38;5;28;01mfor\u001b[39;00m i, arr \u001b[38;5;129;01min\u001b[39;00m \u001b[38;5;28menumerate\u001b[39m(arrays))\n\u001b[1;32m    525\u001b[0m     first_index, max_arr_ndim, final_size \u001b[38;5;241m=\u001b[39m \u001b[38;5;28mnext\u001b[39m(idxs_ndims)\n\u001b[1;32m    526\u001b[0m     \u001b[38;5;28;01mfor\u001b[39;00m index, ndim, size \u001b[38;5;129;01min\u001b[39;00m idxs_ndims:\n",
      "File \u001b[0;32m~/.local/lib/python3.10/site-packages/numpy/core/shape_base.py:477\u001b[0m, in \u001b[0;36m_block_check_depths_match\u001b[0;34m(arrays, parent_index)\u001b[0m\n\u001b[1;32m    473\u001b[0m     idx_str \u001b[38;5;241m=\u001b[39m \u001b[38;5;124m'\u001b[39m\u001b[38;5;124m'\u001b[39m\u001b[38;5;241m.\u001b[39mjoin(\u001b[38;5;124m'\u001b[39m\u001b[38;5;124m[\u001b[39m\u001b[38;5;132;01m{}\u001b[39;00m\u001b[38;5;124m]\u001b[39m\u001b[38;5;124m'\u001b[39m\u001b[38;5;241m.\u001b[39mformat(i) \u001b[38;5;28;01mfor\u001b[39;00m i \u001b[38;5;129;01min\u001b[39;00m index \u001b[38;5;28;01mif\u001b[39;00m i \u001b[38;5;129;01mis\u001b[39;00m \u001b[38;5;129;01mnot\u001b[39;00m \u001b[38;5;28;01mNone\u001b[39;00m)\n\u001b[1;32m    474\u001b[0m     \u001b[38;5;28;01mreturn\u001b[39;00m \u001b[38;5;124m'\u001b[39m\u001b[38;5;124marrays\u001b[39m\u001b[38;5;124m'\u001b[39m \u001b[38;5;241m+\u001b[39m idx_str\n\u001b[0;32m--> 477\u001b[0m \u001b[38;5;28;01mdef\u001b[39;00m \u001b[38;5;21m_block_check_depths_match\u001b[39m(arrays, parent_index\u001b[38;5;241m=\u001b[39m[]):\n\u001b[1;32m    478\u001b[0m \u001b[38;5;250m    \u001b[39m\u001b[38;5;124;03m\"\"\"\u001b[39;00m\n\u001b[1;32m    479\u001b[0m \u001b[38;5;124;03m    Recursive function checking that the depths of nested lists in `arrays`\u001b[39;00m\n\u001b[1;32m    480\u001b[0m \u001b[38;5;124;03m    all match. Mismatch raises a ValueError as described in the block\u001b[39;00m\n\u001b[0;32m   (...)\u001b[0m\n\u001b[1;32m    506\u001b[0m \n\u001b[1;32m    507\u001b[0m \u001b[38;5;124;03m    \"\"\"\u001b[39;00m\n\u001b[1;32m    508\u001b[0m     \u001b[38;5;28;01mif\u001b[39;00m \u001b[38;5;28mtype\u001b[39m(arrays) \u001b[38;5;129;01mis\u001b[39;00m \u001b[38;5;28mtuple\u001b[39m:\n\u001b[1;32m    509\u001b[0m         \u001b[38;5;66;03m# not strictly necessary, but saves us from:\u001b[39;00m\n\u001b[1;32m    510\u001b[0m         \u001b[38;5;66;03m#  - more than one way to do things - no point treating tuples like\u001b[39;00m\n\u001b[1;32m    511\u001b[0m         \u001b[38;5;66;03m#    lists\u001b[39;00m\n\u001b[1;32m    512\u001b[0m         \u001b[38;5;66;03m#  - horribly confusing behaviour that results when tuples are\u001b[39;00m\n\u001b[1;32m    513\u001b[0m         \u001b[38;5;66;03m#    treated like ndarray\u001b[39;00m\n",
      "\u001b[0;31mKeyboardInterrupt\u001b[0m: "
     ]
    }
   ],
   "source": [
    "N_Krylov_6 = 30\n",
    "psi_original_6 = copy.deepcopy(v_ritz_5)\n",
    "max_bond_Krylov_6 = 120\n",
    "trunc_tol = 0\n",
    "foldername_6 = f\"/work_fast/ge49cag/code_datas/NH3_1st_ex_restart_5\"\n",
    "generate_krylov_space_othogonal_against(N_Krylov_6, H_mu_nu_list_spin_layer, psi_original_6, max_bond_Krylov_6, trunc_tol, r_thc, foldername_6, copy.deepcopy(NH3_ground))"
   ]
  },
  {
   "cell_type": "code",
   "execution_count": null,
   "metadata": {},
   "outputs": [
    {
     "name": "stderr",
     "output_type": "stream",
     "text": [
      "/work_fast/ge49cag/pytenet_thc_spin_cons/thc_experiments/../pytenet/global_krylov_method.py:214: ComplexWarning: Casting complex values to real discards the imaginary part\n",
      "  H_reduced[i, j] = operator_inner_product(temp1, H_mpo, temp2)\n",
      "/work_fast/ge49cag/pytenet_thc_spin_cons/thc_experiments/../pytenet/global_krylov_method.py:113: ComplexWarning: Casting complex values to real discards the imaginary part\n",
      "  W[i,j] = vdot(temp1, temp2)\n"
     ]
    }
   ],
   "source": [
    "H_reduced_non_rotho_6 = generate_reduced_H_non_ortho(N_Krylov_6, foldername_6, mpo_ref)\n",
    "coeff_6 = coeff_gram_schmidt(N_Krylov_6, foldername_6)\n",
    "#H_reduced: elements calculated by post-orthogonalized Krylov vectos\n",
    "H_reduced_6 = np.einsum('ik, kl, jl -> ij', coeff_6.conj(), H_reduced_non_rotho_6, coeff_6)"
   ]
  },
  {
   "cell_type": "code",
   "execution_count": null,
   "metadata": {},
   "outputs": [
    {
     "name": "stdout",
     "output_type": "stream",
     "text": [
      "(6.142353470295348e-07+0j)\n",
      "(5.389562574009688e-07+0j)\n",
      "(5.135676417467039e-07+0j)\n",
      "(4.959903492363082e-07+0j)\n",
      "(4.883235931174568e-07+0j)\n",
      "(4.873014063377923e-07+0j)\n",
      "(4.842666498916515e-07+0j)\n",
      "(4.822072270371791e-07+0j)\n",
      "(4.819374055387016e-07+0j)\n",
      "(4.808381532939165e-07+0j)\n"
     ]
    }
   ],
   "source": [
    "e_ritz_6, v_ritz_6 = solve_ritz(foldername_6, H_reduced_6, N_Krylov_6, coeff_6, max_bond_Krylov_6, e_1st_ex, mpo_ref)"
   ]
  },
  {
   "cell_type": "code",
   "execution_count": null,
   "metadata": {},
   "outputs": [],
   "source": []
  }
 ],
 "metadata": {
  "kernelspec": {
   "display_name": "Python 3",
   "language": "python",
   "name": "python3"
  },
  "language_info": {
   "codemirror_mode": {
    "name": "ipython",
    "version": 3
   },
   "file_extension": ".py",
   "mimetype": "text/x-python",
   "name": "python",
   "nbconvert_exporter": "python",
   "pygments_lexer": "ipython3",
   "version": "3.10.12"
  }
 },
 "nbformat": 4,
 "nbformat_minor": 2
}
