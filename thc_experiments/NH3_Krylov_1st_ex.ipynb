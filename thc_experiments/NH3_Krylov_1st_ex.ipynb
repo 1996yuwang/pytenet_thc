{
 "cells": [
  {
   "cell_type": "code",
   "execution_count": 8,
   "metadata": {},
   "outputs": [],
   "source": [
    "import sys\n",
    "sys.path.append('..')\n",
    "\n",
    "import numpy as np\n",
    "from pytenet.hartree_fock_mps import generate_single_state\n",
    "from pytenet.operation import add_mps, operator_average\n",
    "from pytenet.hamiltonian_thc import eval_func, generate_thc_mpos_by_layer_qn, get_t_spin, get_h1_spin, get_g_spin, get_t\n",
    "from pytenet.global_krylov_method import generate_krylov_space_in_disk, get_W, get_S, generate_re_ortho_space_with_coeff, coeff_canonical_orthogonalization, remain_only_tridiagonal_elements\n",
    "from pytenet.global_krylov_method import solve_ritz, generate_reduced_H_non_ortho, remain_only_tridiagonal_elements, coeff_gram_schmidt, generate_Hamiltonian_with_occupation_number\n",
    "import numpy as np\n",
    "from scipy import sparse\n",
    "import copy\n",
    "import h5py\n",
    "from numpy.linalg import norm\n",
    "#np.set_printoptions(precision=4,suppress=True)\n",
    "import scipy.io\n",
    "import matplotlib.pyplot as plt\n",
    "import pickle\n",
    "import pytenet as ptn\n",
    "from pytenet.operation_thc import get_num_op_mpo\n"
   ]
  },
  {
   "cell_type": "markdown",
   "metadata": {},
   "source": [
    "Load and initialize datas: \n",
    "\n",
    "no is number of spatial orbitals\n",
    "\n",
    "L is number of spinor orbitals, L = 2*no\n",
    "\n",
    "t_spin is one-body integral in Chemist's notation (considering spins)\n",
    "\n",
    "g_spin is two-body integral in Chemist's notation (considering spins)\n",
    "\n",
    "X_mo and Z_mo are THC tensors, X_mo_up/down are X_mo considering spins\n",
    "\n",
    "r_THC is THC rank"
   ]
  },
  {
   "cell_type": "code",
   "execution_count": 2,
   "metadata": {},
   "outputs": [
    {
     "name": "stdout",
     "output_type": "stream",
     "text": [
      "8\n",
      "(8, 36)\n",
      "(36, 36)\n",
      "rl errV: 6.421105521729929e-13\n",
      "abs errV: 4.286591936668418e-12\n",
      "errt: 1.0574710399920436e-13\n",
      "errh: 1.8088404989173088e-14\n",
      "errht: 9.006422291220954e-14\n"
     ]
    }
   ],
   "source": [
    "#load integrals\n",
    "with h5py.File(\"/work_fast/ge49cag/code_datas/NH3/integral.hdf5\", \"r\") as f:\n",
    "#with h5py.File(\"/work_fast/ge49cag/pytenet_yu/water/eri_water.hdf5\", \"r\") as f:\n",
    "    eri = f[\"eri\"][()]\n",
    "    hkin = f[\"hkin\"][()]\n",
    "    hnuc = f[\"hnuc\"][()]\n",
    "\n",
    "#print(np.linalg.norm(eri))\n",
    "#print(eri.shape)\n",
    "\n",
    "no = eri.shape[0]\n",
    "MV = eri.reshape(no*no,no*no)\n",
    "\n",
    "u = np.load(\"/work_fast/ge49cag/code_datas/NH3/x.npy\")\n",
    "#u = np.load(\"/work_fast/ge49cag/pytenet_yu/water/x.npy\")\n",
    "X_mo = u.transpose(1,0)\n",
    "g_thc, Z_mo = eval_func(u,eri,hkin,hnuc,)\n",
    "h1 = hnuc+hkin\n",
    "nmo = X_mo.shape[1]\n",
    "L = 2*X_mo.shape[1]\n",
    "g_thc = g_thc.reshape(nmo, nmo, nmo, nmo)\n",
    "r_thc = X_mo.shape[0]"
   ]
  },
  {
   "cell_type": "code",
   "execution_count": 3,
   "metadata": {},
   "outputs": [],
   "source": [
    "# H_correct = get_molecular_Hamiltonian_as_sparse_matrix(get_h1_spin(h1), get_g_spin(eri))\n",
    "# H_correct = scipy.io.mmread('/work_fast/ge49cag/code_datas/H_correct_NH3.mtx').tocsr()\n",
    "# H_correct_10e = generate_Hamiltonian_with_occupation_number(H_correct.real, 10)\n",
    "# sparse.linalg.eigsh(H_correct_10e, which='SA', k = 15)"
   ]
  },
  {
   "cell_type": "code",
   "execution_count": 4,
   "metadata": {},
   "outputs": [],
   "source": [
    "# H_correct_10e = generate_Hamiltonian_with_occupation_number(H_correct.real, 10)\n",
    "# sparse.linalg.eigsh(H_correct_10e, which='SA', k = 15)"
   ]
  },
  {
   "cell_type": "markdown",
   "metadata": {},
   "source": [
    "These Hamiltonian are exact molecular Hamiltonian and molecular Hamiltonian reconstructed by THC tensors. The calculation cost time, so that we store them in disk and load them when needed. For water molecule H2O in STO-6G basis, the error is small for r_THC = 28.\n",
    "\n",
    "Actually, considering there are always 10 electrons for a water molecule, we only retain the elements which operator quantum states with 10 electrons."
   ]
  },
  {
   "cell_type": "code",
   "execution_count": 5,
   "metadata": {},
   "outputs": [],
   "source": [
    "e_ground = -67.46923609481743\n",
    "e_1st_ex = -67.00839085980371"
   ]
  },
  {
   "cell_type": "markdown",
   "metadata": {},
   "source": [
    "We can calculate elements in reduced Hamiltonian using conventional MPO.\n",
    "\n",
    "Since we only need to store ONE block during contraction, memory needed is only $\\mathcal{O}(L^2 M^2)$.\n",
    "\n",
    "Create conventional mpo for molecular Hamiltonian:"
   ]
  },
  {
   "cell_type": "code",
   "execution_count": 6,
   "metadata": {},
   "outputs": [
    {
     "name": "stdout",
     "output_type": "stream",
     "text": [
      "[1, 16, 62, 100, 154, 100, 62, 16, 1]\n"
     ]
    }
   ],
   "source": [
    "# h1_spin = get_h1_spin(h1)\n",
    "# g_spin = get_g_spin(eri)\n",
    "g_phy =  eri.transpose(0, 2, 1, 3)\n",
    "#mpo_ref = ptn.hamiltonian.molecular_hamiltonian_mpo(h1_spin, g_spin_phy)\n",
    "mpo_ref = ptn.hamiltonian.spin_molecular_hamiltonian_mpo(h1, g_phy)\n",
    "print(mpo_ref.bond_dims)"
   ]
  },
  {
   "cell_type": "markdown",
   "metadata": {},
   "source": [
    "Generate THC-MPO by layers, using THC tensors. \n",
    "t_spin is used to create MPO for kinetic term.\n",
    "It returns a list of H_mu_nu, each H_mu_nu is also a list, which contains four smaller MPOs with bond dims 2.\n",
    "The final element of this list is MPO for kinetic term."
   ]
  },
  {
   "cell_type": "code",
   "execution_count": 9,
   "metadata": {},
   "outputs": [
    {
     "name": "stdout",
     "output_type": "stream",
     "text": [
      "<class 'list'>\n",
      "<class 'list'>\n",
      "<class 'pytenet.mpo.MPO'>\n",
      "[1, 2, 2, 2, 2, 2, 2, 2, 1]\n"
     ]
    }
   ],
   "source": [
    "#generate thc_mpo\n",
    "t = get_t(h1, eri)\n",
    "H_mu_nu_list_spin_layer = generate_thc_mpos_by_layer_qn(X_mo, Z_mo, L, t)\n",
    "\n",
    "print(type(H_mu_nu_list_spin_layer))\n",
    "print(type(H_mu_nu_list_spin_layer[0]))\n",
    "print(type(H_mu_nu_list_spin_layer[0][0]))\n",
    "print((H_mu_nu_list_spin_layer[0][0].bond_dims))"
   ]
  },
  {
   "cell_type": "markdown",
   "metadata": {},
   "source": [
    "For ground state finding, we use Hatree fock state |11111111110000> as initial state.\n",
    "\n",
    "For 1st excited state, please use single-excited Hatree-Fock state as initial state."
   ]
  },
  {
   "cell_type": "code",
   "execution_count": 11,
   "metadata": {},
   "outputs": [],
   "source": [
    "#temp1 = generate_single_state(16, [1, 1, 1, 1, 1, 1, 1, 1, 1, 0, 0, 1, 0, 0, 0, 0])\n",
    "initial = generate_single_state(16, [1, 1, 1, 1, 1, 1, 1, 1, 1, 0, 1, 0, 0, 0, 0, 0])\n",
    "\n",
    "initial = generate_single_state(8, [3, 3, 3, 3, 1, 1, 0, 0])\n",
    "\n",
    "#hartree_state = add_mps(add_mps(add_mps(temp1, temp2), temp3),temp4)\n",
    "# hartree_state = add_mps(temp1, temp2)\n",
    "# hartree_state.orthonormalize('left')\n",
    "# hartree_state.orthonormalize('right')"
   ]
  },
  {
   "cell_type": "markdown",
   "metadata": {},
   "source": [
    "generate Krylov space:"
   ]
  },
  {
   "cell_type": "code",
   "execution_count": 12,
   "metadata": {},
   "outputs": [
    {
     "name": "stdout",
     "output_type": "stream",
     "text": [
      "[1, 4, 10, 17, 23, 20, 11, 4, 1]\n",
      "2\n",
      "[1, 4, 15, 38, 52, 41, 15, 4, 1]\n",
      "3\n",
      "[1, 4, 16, 50, 77, 53, 16, 4, 1]\n",
      "4\n",
      "[1, 4, 16, 54, 90, 55, 16, 4, 1]\n",
      "5\n",
      "[1, 4, 16, 56, 94, 56, 16, 4, 1]\n",
      "6\n",
      "[1, 4, 16, 56, 94, 56, 16, 4, 1]\n",
      "7\n",
      "[1, 4, 16, 56, 94, 56, 16, 4, 1]\n",
      "8\n",
      "[1, 4, 16, 56, 96, 56, 16, 4, 1]\n",
      "9\n",
      "[1, 4, 16, 56, 96, 56, 16, 4, 1]\n",
      "10\n",
      "[1, 4, 16, 56, 95, 56, 16, 4, 1]\n",
      "11\n",
      "[1, 4, 16, 56, 96, 56, 16, 4, 1]\n",
      "12\n",
      "[1, 4, 16, 56, 96, 56, 16, 4, 1]\n",
      "13\n",
      "[1, 4, 16, 56, 96, 56, 16, 4, 1]\n",
      "14\n",
      "[1, 4, 16, 56, 96, 56, 16, 4, 1]\n",
      "15\n",
      "[1, 4, 16, 56, 95, 56, 16, 4, 1]\n",
      "16\n",
      "[1, 4, 16, 56, 96, 56, 16, 4, 1]\n",
      "17\n",
      "[1, 4, 16, 56, 96, 56, 16, 4, 1]\n",
      "18\n",
      "[1, 4, 16, 56, 96, 56, 16, 4, 1]\n",
      "19\n",
      "[1, 4, 16, 56, 96, 56, 16, 4, 1]\n",
      "20\n",
      "[1, 4, 16, 56, 95, 56, 16, 4, 1]\n",
      "21\n",
      "[1, 4, 16, 56, 96, 56, 16, 4, 1]\n",
      "22\n",
      "[1, 4, 16, 56, 96, 56, 16, 4, 1]\n",
      "23\n",
      "[1, 4, 16, 56, 96, 56, 16, 4, 1]\n",
      "24\n",
      "[1, 4, 16, 56, 96, 56, 16, 4, 1]\n",
      "25\n",
      "[1, 4, 16, 56, 96, 56, 16, 4, 1]\n",
      "26\n",
      "[1, 4, 16, 56, 96, 56, 16, 4, 1]\n",
      "27\n",
      "[1, 4, 16, 56, 96, 56, 16, 4, 1]\n",
      "28\n",
      "[1, 4, 16, 56, 96, 56, 16, 4, 1]\n",
      "29\n",
      "[1, 4, 16, 56, 96, 56, 16, 4, 1]\n",
      "30\n",
      "[1, 4, 16, 56, 96, 56, 16, 4, 1]\n",
      "31\n",
      "[1, 4, 16, 56, 96, 56, 16, 4, 1]\n",
      "32\n",
      "[1, 4, 16, 56, 96, 56, 16, 4, 1]\n",
      "33\n",
      "[1, 4, 16, 56, 96, 56, 16, 4, 1]\n",
      "34\n",
      "[1, 4, 16, 56, 96, 56, 16, 4, 1]\n"
     ]
    }
   ],
   "source": [
    "N_Krylov_1 = 35\n",
    "psi_original_1 = copy.deepcopy(initial)\n",
    "max_bond_Krylov_1 = 150\n",
    "trunc_tol = 1e-10\n",
    "foldername_1 = f\"/work_fast/ge49cag/code_datas/NH3_1st_ex\"\n",
    "generate_krylov_space_in_disk(N_Krylov_1, H_mu_nu_list_spin_layer, psi_original_1, max_bond_Krylov_1, trunc_tol, r_thc, foldername_1)"
   ]
  },
  {
   "cell_type": "code",
   "execution_count": 13,
   "metadata": {},
   "outputs": [
    {
     "name": "stderr",
     "output_type": "stream",
     "text": [
      "/work_fast/ge49cag/pytenet_thc_spin_cons/thc_experiments/../pytenet/global_krylov_method.py:213: ComplexWarning: Casting complex values to real discards the imaginary part\n",
      "  H_reduced[i, j] = operator_inner_product(temp1, H_mpo, temp2)\n"
     ]
    },
    {
     "name": "stderr",
     "output_type": "stream",
     "text": [
      "/work_fast/ge49cag/pytenet_thc_spin_cons/thc_experiments/../pytenet/global_krylov_method.py:112: ComplexWarning: Casting complex values to real discards the imaginary part\n",
      "  W[i,j] = vdot(temp1, temp2)\n"
     ]
    }
   ],
   "source": [
    "H_reduced_non_rotho_1 = generate_reduced_H_non_ortho(N_Krylov_1, foldername_1, mpo_ref)\n",
    "coeff_1 = coeff_gram_schmidt(N_Krylov_1, foldername_1)\n",
    "#H_reduced: elements calculated by post-orthogonalized Krylov vectos\n",
    "H_reduced_1 = np.einsum('ik, kl, jl -> ij', coeff_1.conj(), H_reduced_non_rotho_1, coeff_1)\n",
    "H_reduced_1 = remain_only_tridiagonal_elements(H_reduced_1)"
   ]
  },
  {
   "cell_type": "code",
   "execution_count": 14,
   "metadata": {},
   "outputs": [
    {
     "name": "stdout",
     "output_type": "stream",
     "text": [
      "(0.4341310427576275+0j)\n",
      "(0.03046646361077876+0j)\n",
      "(0.008662569737396097+0j)\n",
      "(0.0065919828738145725+0j)\n"
     ]
    },
    {
     "name": "stdout",
     "output_type": "stream",
     "text": [
      "(0.005344603796075376+0j)\n",
      "(0.00481023012167725+0j)\n",
      "(0.004696966248431522+0j)\n"
     ]
    }
   ],
   "source": [
    "e_ritz_1, v_ritz_1 = solve_ritz(foldername_1, H_reduced_1, N_Krylov_1, coeff_1, max_bond_Krylov_1, e_1st_ex, mpo_ref)"
   ]
  },
  {
   "cell_type": "code",
   "execution_count": 15,
   "metadata": {},
   "outputs": [],
   "source": [
    "# spin = 0\n",
    "# for i in range (L):\n",
    "#     if i%2 == 0:\n",
    "#         spin_local = 0.5* operator_average(v_ritz_1, get_num_op_mpo(i, L))\n",
    "#     if i%2 == 1:\n",
    "#         spin_local = -0.5* operator_average(v_ritz_1, get_num_op_mpo(i, L))\n",
    "#     spin += spin_local \n",
    "# print(spin)"
   ]
  },
  {
   "cell_type": "markdown",
   "metadata": {},
   "source": [
    "Restart:"
   ]
  },
  {
   "cell_type": "code",
   "execution_count": 16,
   "metadata": {},
   "outputs": [
    {
     "name": "stdout",
     "output_type": "stream",
     "text": [
      "[1, 4, 16, 56, 96, 56, 16, 4, 1]\n",
      "2\n",
      "[1, 4, 16, 56, 96, 56, 16, 4, 1]\n",
      "3\n",
      "[1, 4, 16, 56, 96, 56, 16, 4, 1]\n",
      "4\n",
      "[1, 4, 16, 56, 96, 56, 16, 4, 1]\n",
      "5\n",
      "[1, 4, 16, 56, 96, 56, 16, 4, 1]\n",
      "6\n",
      "[1, 4, 16, 56, 96, 56, 16, 4, 1]\n",
      "7\n",
      "[1, 4, 16, 56, 96, 56, 16, 4, 1]\n",
      "8\n",
      "[1, 4, 16, 56, 96, 56, 16, 4, 1]\n",
      "9\n",
      "[1, 4, 16, 56, 96, 56, 16, 4, 1]\n",
      "10\n",
      "[1, 4, 16, 56, 96, 56, 16, 4, 1]\n",
      "11\n",
      "[1, 4, 16, 56, 96, 56, 16, 4, 1]\n",
      "12\n",
      "[1, 4, 16, 56, 96, 56, 16, 4, 1]\n",
      "13\n",
      "[1, 4, 16, 56, 96, 56, 16, 4, 1]\n",
      "14\n",
      "[1, 4, 16, 56, 96, 56, 16, 4, 1]\n",
      "15\n",
      "[1, 4, 16, 56, 96, 56, 16, 4, 1]\n",
      "16\n",
      "[1, 4, 16, 56, 96, 56, 16, 4, 1]\n",
      "17\n",
      "[1, 4, 16, 56, 96, 56, 16, 4, 1]\n",
      "18\n",
      "[1, 4, 16, 56, 96, 56, 16, 4, 1]\n",
      "19\n",
      "[1, 4, 16, 56, 96, 56, 16, 4, 1]\n",
      "20\n",
      "[1, 4, 16, 56, 96, 56, 16, 4, 1]\n",
      "21\n",
      "[1, 4, 16, 56, 96, 56, 16, 4, 1]\n",
      "22\n",
      "[1, 4, 16, 56, 96, 56, 16, 4, 1]\n",
      "23\n",
      "[1, 4, 16, 56, 96, 56, 16, 4, 1]\n",
      "24\n",
      "[1, 4, 16, 56, 96, 56, 16, 4, 1]\n",
      "25\n",
      "[1, 4, 16, 56, 96, 56, 16, 4, 1]\n",
      "26\n",
      "[1, 4, 16, 56, 96, 56, 16, 4, 1]\n",
      "27\n",
      "[1, 4, 16, 56, 96, 56, 16, 4, 1]\n",
      "28\n",
      "[1, 4, 16, 56, 96, 56, 16, 4, 1]\n",
      "29\n",
      "[1, 4, 16, 56, 96, 56, 16, 4, 1]\n",
      "30\n",
      "[1, 4, 16, 56, 96, 56, 16, 4, 1]\n",
      "31\n",
      "[1, 4, 16, 56, 96, 56, 16, 4, 1]\n",
      "32\n",
      "[1, 4, 16, 56, 96, 56, 16, 4, 1]\n",
      "33\n",
      "[1, 4, 16, 56, 96, 56, 16, 4, 1]\n",
      "34\n",
      "[1, 4, 16, 56, 96, 56, 16, 4, 1]\n"
     ]
    }
   ],
   "source": [
    "N_Krylov_2 = 35\n",
    "psi_original_2 = copy.deepcopy(v_ritz_1)\n",
    "max_bond_Krylov_2 = 150\n",
    "trunc_tol = 0\n",
    "foldername_2= f\"/work_fast/ge49cag/code_datas/NH3_1st_ex_restart_1\"\n",
    "generate_krylov_space_in_disk(N_Krylov_2, H_mu_nu_list_spin_layer, psi_original_2, max_bond_Krylov_2, trunc_tol, r_thc, foldername_2)\n"
   ]
  },
  {
   "cell_type": "code",
   "execution_count": 17,
   "metadata": {},
   "outputs": [],
   "source": [
    "H_reduced_non_rotho_2 = generate_reduced_H_non_ortho(N_Krylov_2, foldername_2, mpo_ref)\n",
    "coeff_2 = coeff_gram_schmidt(N_Krylov_2, foldername_2)\n",
    "#H_reduced: elements calculated by post-orthogonalized Krylov vectos\n",
    "H_reduced_2 = np.einsum('ik, kl, jl -> ij', coeff_2.conj(), H_reduced_non_rotho_2, coeff_2)\n",
    "H_reduced_2 = remain_only_tridiagonal_elements(H_reduced_2)"
   ]
  },
  {
   "cell_type": "code",
   "execution_count": 18,
   "metadata": {},
   "outputs": [
    {
     "name": "stdout",
     "output_type": "stream",
     "text": [
      "(0.004637715597212377+0j)\n",
      "(0.004396392857358933+0j)\n",
      "(0.0035241255989433284+0j)\n",
      "(0.0024277110478720942+0j)\n",
      "(0.0010732931755228492+0j)\n",
      "(0.0002379127858347374+0j)\n"
     ]
    },
    {
     "name": "stdout",
     "output_type": "stream",
     "text": [
      "(9.104645809543399e-05+0j)\n"
     ]
    }
   ],
   "source": [
    "e_ritz_2, v_ritz_2 = solve_ritz(foldername_2, H_reduced_2, N_Krylov_2, coeff_2, max_bond_Krylov_2, e_1st_ex, mpo_ref)"
   ]
  },
  {
   "cell_type": "code",
   "execution_count": 24,
   "metadata": {},
   "outputs": [
    {
     "name": "stdout",
     "output_type": "stream",
     "text": [
      "(0.9009664322028655+0j)\n"
     ]
    }
   ],
   "source": [
    "# filename = foldername_2 + f\"/Krylov_vec{10}.pkl\"\n",
    "# with open(filename, 'rb') as file:\n",
    "#     vec_test = pickle.load(file)\n",
    "\n",
    "# spin = 0\n",
    "# for i in range (L):\n",
    "#     if i%2 == 0:\n",
    "#         spin_local = 0.5* operator_average(vec_test, get_num_op_mpo(i, L))\n",
    "#     if i%2 == 1:\n",
    "#         spin_local = -0.5* operator_average(vec_test, get_num_op_mpo(i, L))\n",
    "#     spin += spin_local \n",
    "# print(spin)\n",
    "# # the spin got errors after restart. Or, because the spin for v_ritz_1 has already been not strictly 1?"
   ]
  },
  {
   "cell_type": "markdown",
   "metadata": {},
   "source": [
    "Restart:"
   ]
  },
  {
   "cell_type": "code",
   "execution_count": 19,
   "metadata": {},
   "outputs": [
    {
     "name": "stdout",
     "output_type": "stream",
     "text": [
      "[1, 4, 16, 56, 96, 56, 16, 4, 1]\n",
      "2\n",
      "[1, 4, 16, 56, 96, 56, 16, 4, 1]\n",
      "3\n",
      "[1, 4, 16, 56, 96, 56, 16, 4, 1]\n",
      "4\n",
      "[1, 4, 16, 56, 96, 56, 16, 4, 1]\n",
      "5\n",
      "[1, 4, 16, 56, 96, 56, 16, 4, 1]\n",
      "6\n",
      "[1, 4, 16, 56, 96, 56, 16, 4, 1]\n",
      "7\n",
      "[1, 4, 16, 56, 96, 56, 16, 4, 1]\n",
      "8\n",
      "[1, 4, 16, 56, 96, 56, 16, 4, 1]\n",
      "9\n",
      "[1, 4, 16, 56, 96, 56, 16, 4, 1]\n",
      "10\n",
      "[1, 4, 16, 56, 96, 56, 16, 4, 1]\n",
      "11\n",
      "[1, 4, 16, 56, 96, 56, 16, 4, 1]\n",
      "12\n",
      "[1, 4, 16, 56, 96, 56, 16, 4, 1]\n",
      "13\n",
      "[1, 4, 16, 56, 96, 56, 16, 4, 1]\n",
      "14\n",
      "[1, 4, 16, 56, 96, 56, 16, 4, 1]\n",
      "15\n",
      "[1, 4, 16, 56, 96, 56, 16, 4, 1]\n",
      "16\n",
      "[1, 4, 16, 56, 96, 56, 16, 4, 1]\n",
      "17\n",
      "[1, 4, 16, 56, 96, 56, 16, 4, 1]\n",
      "18\n",
      "[1, 4, 16, 56, 96, 56, 16, 4, 1]\n",
      "19\n",
      "[1, 4, 16, 56, 96, 56, 16, 4, 1]\n"
     ]
    }
   ],
   "source": [
    "N_Krylov_3 = 20\n",
    "psi_original_3 = copy.deepcopy(v_ritz_2)\n",
    "max_bond_Krylov_3 = 150\n",
    "trunc_tol = 0\n",
    "foldername_3 = f\"/work_fast/ge49cag/code_datas/NH3_1st_ex_restart_2\"\n",
    "generate_krylov_space_in_disk(N_Krylov_3, H_mu_nu_list_spin_layer, psi_original_3, max_bond_Krylov_3, trunc_tol, r_thc, foldername_3)\n"
   ]
  },
  {
   "cell_type": "code",
   "execution_count": 20,
   "metadata": {},
   "outputs": [],
   "source": [
    "H_reduced_non_rotho_3 = generate_reduced_H_non_ortho(N_Krylov_3, foldername_3, mpo_ref)\n",
    "coeff_3 = coeff_gram_schmidt(N_Krylov_3, foldername_3)\n",
    "#H_reduced: elements calculated by post-orthogonalized Krylov vectos\n",
    "H_reduced_3 = np.einsum('ik, kl, jl -> ij', coeff_3.conj(), H_reduced_non_rotho_3, coeff_3)\n",
    "H_reduced_3 = remain_only_tridiagonal_elements(H_reduced_3)"
   ]
  },
  {
   "cell_type": "code",
   "execution_count": 21,
   "metadata": {},
   "outputs": [
    {
     "name": "stdout",
     "output_type": "stream",
     "text": [
      "(4.6058410660521076e-05+0j)\n",
      "(1.146729286460868e-05+0j)\n",
      "(3.8110286766368517e-06+0j)\n",
      "(2.1414367097349896e-06+0j)\n"
     ]
    }
   ],
   "source": [
    "e_ritz_3, v_ritz_3 = solve_ritz(foldername_3, H_reduced_3, N_Krylov_3, coeff_3, max_bond_Krylov_3, e_1st_ex, mpo_ref)"
   ]
  },
  {
   "cell_type": "code",
   "execution_count": 22,
   "metadata": {},
   "outputs": [
    {
     "data": {
      "text/plain": [
       "EighResult(eigenvalues=array([-67.00838872, -66.81404485, -66.49069539, -65.79592652,\n",
       "       -64.70254947, -63.6343909 , -62.39644198, -55.74557392,\n",
       "       -51.85601768, -50.92426713, -49.36670301, -47.90790944,\n",
       "       -47.04221742, -33.81077399, -33.1211225 , -31.96608447,\n",
       "       -30.83264572, -30.0521206 , -29.20614183, -28.67710277]), eigenvectors=array([[ 9.99836788e-01, -1.73544627e-02, -4.32312672e-03,\n",
       "         2.14398781e-03,  9.83001540e-04,  5.21292830e-04,\n",
       "         1.84970967e-04,  3.48912774e-06,  3.88288322e-04,\n",
       "         4.34991019e-04, -3.53484463e-04,  3.22681922e-04,\n",
       "         2.53084458e-04,  2.39205780e-05,  4.97171557e-05,\n",
       "        -7.07040985e-05,  8.10381341e-05, -6.32989458e-05,\n",
       "        -3.12932097e-05, -9.14998211e-05],\n",
       "       [-5.56169184e-03, -2.10928282e-01, -1.40006264e-01,\n",
       "         1.62633570e-01,  1.41813638e-01,  1.10044065e-01,\n",
       "         5.33741534e-02,  2.45873602e-03,  3.68115324e-01,\n",
       "         4.37750608e-01, -3.90175272e-01,  3.85627857e-01,\n",
       "         3.16162134e-01,  4.96854133e-02,  1.05412761e-01,\n",
       "        -1.55019975e-01,  1.83424500e-01, -1.46364267e-01,\n",
       "        -7.40147410e-02, -2.19444220e-01],\n",
       "       [ 9.00874994e-03,  4.01517983e-01,  2.61706906e-01,\n",
       "        -2.92034063e-01, -2.38229225e-01, -1.72413841e-01,\n",
       "        -7.66287425e-02, -1.79848601e-03, -1.17659325e-01,\n",
       "        -9.67292733e-02,  2.18685495e-02,  3.79514297e-02,\n",
       "         6.00952873e-02,  7.90531163e-02,  1.75416938e-01,\n",
       "        -2.76927008e-01,  3.49682011e-01, -2.91126337e-01,\n",
       "        -1.53849172e-01, -4.68435606e-01],\n",
       "       [-9.69969227e-03, -4.50703360e-01, -2.86404646e-01,\n",
       "         3.01720333e-01,  2.22593123e-01,  1.43850348e-01,\n",
       "         5.46338958e-02, -3.02495956e-04, -1.83689250e-01,\n",
       "        -2.43732139e-01,  2.44061074e-01, -2.53848039e-01,\n",
       "        -2.09694625e-01,  2.98606377e-02,  7.75709147e-02,\n",
       "        -1.51469052e-01,  2.26059286e-01, -2.07692555e-01,\n",
       "        -1.20726793e-01, -3.88194203e-01],\n",
       "       [ 4.63967838e-03,  2.52287442e-01,  1.17992662e-01,\n",
       "        -2.35884047e-02,  1.12118572e-01,  1.67659964e-01,\n",
       "         1.15540803e-01,  6.23603275e-03,  4.15378435e-01,\n",
       "         3.04624303e-01,  2.71449218e-02, -3.11104290e-01,\n",
       "        -3.92331881e-01, -1.44506666e-01, -2.64738293e-01,\n",
       "         2.61602800e-01, -1.23452722e-01, -2.21872755e-02,\n",
       "        -8.64157027e-02, -4.10358996e-01],\n",
       "       [-5.31221542e-03, -3.15417856e-01, -1.13531333e-01,\n",
       "        -7.75213757e-02, -2.89590024e-01, -3.40528614e-01,\n",
       "        -2.03776961e-01, -5.93844272e-03, -1.83549828e-01,\n",
       "        -6.49354045e-02, -1.09313635e-01,  1.84606772e-01,\n",
       "         1.57521649e-01, -1.57965341e-01, -3.15123781e-01,\n",
       "         3.68906218e-01, -2.49164532e-01,  5.39500347e-02,\n",
       "        -7.44376809e-02, -4.47850718e-01],\n",
       "       [ 5.74181895e-03,  3.58117832e-01,  9.92088342e-02,\n",
       "         1.64399002e-01,  3.91360670e-01,  3.93342732e-01,\n",
       "         1.98389457e-01, -4.84779894e-04, -2.94494576e-01,\n",
       "        -2.62997860e-01,  1.50766474e-02,  2.56449624e-01,\n",
       "         3.54323622e-01, -1.54532848e-02, -7.28524146e-02,\n",
       "         1.69795623e-01, -1.91344074e-01,  9.27541368e-02,\n",
       "        -1.95906640e-02, -2.45353928e-01],\n",
       "       [-2.45783906e-03, -1.77656109e-01,  2.29141175e-02,\n",
       "        -2.12398027e-01, -1.50418736e-01,  6.39717426e-02,\n",
       "         1.65765359e-01,  1.49129397e-02,  2.84364715e-01,\n",
       "        -4.61265880e-02,  2.89198141e-01, -8.76194170e-02,\n",
       "         1.88931443e-01,  3.23157564e-01,  4.43002361e-01,\n",
       "        -7.95010392e-02, -3.72554293e-01,  3.62831560e-01,\n",
       "         7.66878368e-02, -2.73952554e-01],\n",
       "       [ 3.53037457e-03,  2.74797265e-01, -9.25952414e-02,\n",
       "         4.14558286e-01,  1.69986379e-01, -2.88863566e-01,\n",
       "        -4.04360475e-01, -2.04587087e-02, -1.80466019e-01,\n",
       "         1.49064247e-01, -2.45926199e-01, -4.03702884e-02,\n",
       "        -2.59371497e-01,  1.75532575e-01,  2.87757066e-01,\n",
       "        -1.21929836e-01, -2.15782337e-01,  2.72002488e-01,\n",
       "         7.87166153e-02, -1.68465215e-01],\n",
       "       [-2.72818814e-03, -2.24265433e-01,  1.20963344e-01,\n",
       "        -3.63283517e-01, -4.38742672e-02,  2.92376057e-01,\n",
       "         2.50948648e-01, -1.15823338e-02, -3.84914253e-01,\n",
       "         8.44111542e-02, -4.65004618e-01,  9.54610294e-02,\n",
       "        -4.06349693e-01, -5.39859658e-02,  4.90119925e-02,\n",
       "        -1.80003334e-01, -4.02148692e-02,  2.16270859e-01,\n",
       "         1.07675342e-01, -9.55190183e-02],\n",
       "       [ 1.37340296e-03,  1.27829013e-01, -1.42370681e-01,\n",
       "         1.89880605e-01, -1.57217476e-01, -1.12717906e-01,\n",
       "         1.79232802e-01,  3.51860145e-02,  2.04713769e-01,\n",
       "        -1.89142633e-01,  9.61521657e-02,  1.33753001e-01,\n",
       "        -8.16784714e-03, -4.20680820e-01, -2.54627465e-01,\n",
       "        -4.41861528e-01,  1.64529284e-01,  4.19028939e-01,\n",
       "         3.05111506e-01, -1.37356948e-01],\n",
       "       [-2.11547306e-03, -2.11218197e-01,  3.03171462e-01,\n",
       "        -2.78952333e-01,  4.08202906e-01,  1.00040409e-01,\n",
       "        -5.39697366e-01, -5.01851314e-02, -4.03161513e-02,\n",
       "         1.72927764e-01,  1.62497994e-01, -1.71881064e-01,\n",
       "         2.34293210e-01, -1.46468144e-01, -1.50689967e-01,\n",
       "        -1.60211538e-01,  1.37018494e-01,  2.00649794e-01,\n",
       "         1.97906840e-01, -6.94587207e-02],\n",
       "       [ 1.15822994e-03,  1.24257128e-01, -2.28548742e-01,\n",
       "         8.98978042e-02, -2.55851734e-01,  6.90582406e-02,\n",
       "         2.02557703e-01, -5.86125136e-02, -3.46342233e-01,\n",
       "         4.29333369e-01,  1.09612258e-02, -4.16950548e-01,\n",
       "         3.24869101e-01,  1.82968704e-01, -1.06054065e-01,\n",
       "         1.28592159e-01,  2.46914909e-01,  1.05221695e-01,\n",
       "         2.97614191e-01, -6.23443495e-02],\n",
       "       [-8.20227738e-04, -9.75588524e-02,  2.37778283e-01,\n",
       "         3.84352714e-02,  1.60472444e-01, -1.99325151e-01,\n",
       "         9.52567269e-02,  8.95667220e-02,  1.76066103e-01,\n",
       "        -2.69012318e-01, -1.28542621e-01,  1.21652876e-01,\n",
       "        -1.41364594e-01,  4.12747305e-01, -6.33231886e-02,\n",
       "         3.61777907e-01,  3.78727121e-01,  5.94715219e-02,\n",
       "         4.85797233e-01, -8.36116835e-02],\n",
       "       [ 1.36365039e-03,  1.72993875e-01, -4.84016053e-01,\n",
       "        -1.96014348e-01, -1.99031640e-01,  4.60856871e-01,\n",
       "        -4.31593400e-01, -1.04596137e-01,  8.81530622e-02,\n",
       "        -6.67619971e-02,  1.31214186e-01,  2.81728757e-01,\n",
       "        -1.88725757e-01,  6.40575167e-02,  5.96413241e-02,\n",
       "         1.58401841e-01,  1.05324588e-01, -4.16609354e-02,\n",
       "         2.38548243e-01, -3.52516020e-02],\n",
       "       [-6.18798537e-04, -8.26436225e-02,  2.57645906e-01,\n",
       "         1.66686836e-01, -4.00967285e-02, -7.92269183e-02,\n",
       "         1.22949507e-01, -1.74678176e-01, -1.62694847e-01,\n",
       "         3.09491429e-01,  3.72983821e-01,  2.90505875e-01,\n",
       "        -1.33591210e-01, -3.49426746e-01,  3.27646717e-01,\n",
       "         1.33205682e-01, -9.24084221e-02, -2.70812695e-01,\n",
       "         3.88502899e-01, -4.32407559e-02],\n",
       "       [ 5.82108954e-04,  8.18041706e-02, -2.80965864e-01,\n",
       "        -2.42500630e-01,  2.05043964e-01, -1.26479660e-01,\n",
       "         3.69922661e-02,  2.76398817e-01,  8.32226328e-02,\n",
       "        -1.92624238e-01, -3.06376439e-01, -3.08177447e-01,\n",
       "         1.66936166e-01, -3.46974230e-01,  2.73563714e-01,\n",
       "         4.36887941e-02, -1.72231605e-01, -3.10206400e-01,\n",
       "         3.66835485e-01, -3.76817113e-02],\n",
       "       [-7.30475539e-04, -1.05962705e-01,  3.84664176e-01,\n",
       "         3.78821408e-01, -4.14238449e-01,  3.63203014e-01,\n",
       "        -2.19056997e-01, -1.35959997e-01,  1.25854891e-01,\n",
       "        -2.32252200e-01, -2.82270648e-01, -2.34596648e-01,\n",
       "         1.15294457e-01, -1.68012321e-02, -2.71087771e-02,\n",
       "        -9.42807864e-02, -1.62148178e-01, -1.95964476e-01,\n",
       "         1.86087941e-01, -1.74256854e-02],\n",
       "       [ 2.27841671e-04,  3.34158767e-02, -1.23599113e-01,\n",
       "        -1.26981262e-01,  1.49414528e-01, -1.42175051e-01,\n",
       "         9.59562193e-02, -3.60286981e-01, -1.49100716e-03,\n",
       "         1.99770199e-02,  5.09419092e-02,  5.98961042e-02,\n",
       "        -3.43956986e-02,  3.56264322e-01, -4.11562473e-01,\n",
       "        -3.74243587e-01, -3.76120841e-01, -3.54483219e-01,\n",
       "         2.72307616e-01, -2.27975744e-02],\n",
       "       [-1.34176540e-04, -1.99365546e-02,  7.53851238e-02,\n",
       "         8.13433499e-02, -1.03941293e-01,  1.07972053e-01,\n",
       "        -8.15347543e-02,  8.47222495e-01, -1.04234396e-01,\n",
       "         1.67029096e-01,  1.72320371e-01,  1.30072527e-01,\n",
       "        -6.16062908e-02,  1.73482165e-01, -1.93081704e-01,\n",
       "        -1.65442447e-01, -1.57361691e-01, -1.43030481e-01,\n",
       "         1.05792440e-01, -8.65588150e-03]]))"
      ]
     },
     "execution_count": 22,
     "metadata": {},
     "output_type": "execute_result"
    }
   ],
   "source": [
    "np.linalg.eigh(H_reduced_3)"
   ]
  },
  {
   "cell_type": "code",
   "execution_count": null,
   "metadata": {},
   "outputs": [],
   "source": []
  },
  {
   "cell_type": "code",
   "execution_count": null,
   "metadata": {},
   "outputs": [],
   "source": []
  }
 ],
 "metadata": {
  "kernelspec": {
   "display_name": "Python 3",
   "language": "python",
   "name": "python3"
  },
  "language_info": {
   "codemirror_mode": {
    "name": "ipython",
    "version": 3
   },
   "file_extension": ".py",
   "mimetype": "text/x-python",
   "name": "python",
   "nbconvert_exporter": "python",
   "pygments_lexer": "ipython3",
   "version": "3.10.12"
  }
 },
 "nbformat": 4,
 "nbformat_minor": 2
}
