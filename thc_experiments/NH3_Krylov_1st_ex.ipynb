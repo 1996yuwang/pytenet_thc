{
 "cells": [
  {
   "cell_type": "code",
   "execution_count": 26,
   "metadata": {},
   "outputs": [],
   "source": [
    "import sys\n",
    "sys.path.append('..')\n",
    "\n",
    "import numpy as np\n",
    "from pytenet.hartree_fock_mps import generate_single_state\n",
    "from pytenet.operation import add_mps, operator_average\n",
    "from pytenet.hamiltonian_thc import eval_func, generate_thc_mpos_by_layer_qn, get_t_spin, get_h1_spin, get_g_spin, get_t\n",
    "from pytenet.global_krylov_method import generate_krylov_space_in_disk, get_W, get_S, generate_re_ortho_space_with_coeff, coeff_canonical_orthogonalization, remain_only_tridiagonal_elements\n",
    "from pytenet.global_krylov_method import solve_ritz, generate_reduced_H_non_ortho, remain_only_tridiagonal_elements, coeff_gram_schmidt,  generate_krylov_space_othogonal_against\n",
    "import numpy as np\n",
    "from scipy import sparse\n",
    "import copy\n",
    "import h5py\n",
    "from numpy.linalg import norm\n",
    "#np.set_printoptions(precision=4,suppress=True)\n",
    "import scipy.io\n",
    "import matplotlib.pyplot as plt\n",
    "import pickle\n",
    "import pytenet as ptn\n",
    "from pytenet.operation_thc import get_num_op_mpo\n"
   ]
  },
  {
   "cell_type": "markdown",
   "metadata": {},
   "source": [
    "Load and initialize datas: \n",
    "\n",
    "no is number of spatial orbitals\n",
    "\n",
    "L is number of spinor orbitals, L = 2*no\n",
    "\n",
    "t_spin is one-body integral in Chemist's notation (considering spins)\n",
    "\n",
    "g_spin is two-body integral in Chemist's notation (considering spins)\n",
    "\n",
    "X_mo and Z_mo are THC tensors, X_mo_up/down are X_mo considering spins\n",
    "\n",
    "r_THC is THC rank"
   ]
  },
  {
   "cell_type": "code",
   "execution_count": 27,
   "metadata": {},
   "outputs": [
    {
     "name": "stdout",
     "output_type": "stream",
     "text": [
      "8\n",
      "(8, 36)\n",
      "(36, 36)\n",
      "rl errV: 6.421105521729929e-13\n",
      "abs errV: 4.286591936668418e-12\n",
      "errt: 1.0574710399920436e-13\n",
      "errh: 1.8088404989173088e-14\n",
      "errht: 9.006422291220954e-14\n"
     ]
    }
   ],
   "source": [
    "#load integrals\n",
    "with h5py.File(\"/work_fast/ge49cag/code_datas/NH3/integral.hdf5\", \"r\") as f:\n",
    "#with h5py.File(\"/work_fast/ge49cag/pytenet_yu/water/eri_water.hdf5\", \"r\") as f:\n",
    "    eri = f[\"eri\"][()]\n",
    "    hkin = f[\"hkin\"][()]\n",
    "    hnuc = f[\"hnuc\"][()]\n",
    "\n",
    "#print(np.linalg.norm(eri))\n",
    "#print(eri.shape)\n",
    "\n",
    "no = eri.shape[0]\n",
    "MV = eri.reshape(no*no,no*no)\n",
    "\n",
    "u = np.load(\"/work_fast/ge49cag/code_datas/NH3/x.npy\")\n",
    "#u = np.load(\"/work_fast/ge49cag/pytenet_yu/water/x.npy\")\n",
    "X_mo = u.transpose(1,0)\n",
    "g_thc, Z_mo = eval_func(u,eri,hkin,hnuc,)\n",
    "h1 = hnuc+hkin\n",
    "nmo = X_mo.shape[1]\n",
    "L = 2*X_mo.shape[1]\n",
    "g_thc = g_thc.reshape(nmo, nmo, nmo, nmo)\n",
    "r_thc = X_mo.shape[0]"
   ]
  },
  {
   "cell_type": "code",
   "execution_count": 28,
   "metadata": {},
   "outputs": [],
   "source": [
    "# H_correct = get_molecular_Hamiltonian_as_sparse_matrix(get_h1_spin(h1), get_g_spin(eri))\n",
    "# H_correct = scipy.io.mmread('/work_fast/ge49cag/code_datas/H_correct_NH3.mtx').tocsr()\n",
    "# H_correct_10e = generate_Hamiltonian_with_occupation_number(H_correct.real, 10)\n",
    "# sparse.linalg.eigsh(H_correct_10e, which='SA', k = 15)"
   ]
  },
  {
   "cell_type": "code",
   "execution_count": 29,
   "metadata": {},
   "outputs": [],
   "source": [
    "# H_correct_10e = generate_Hamiltonian_with_occupation_number(H_correct.real, 10)\n",
    "# sparse.linalg.eigsh(H_correct_10e, which='SA', k = 15)"
   ]
  },
  {
   "cell_type": "markdown",
   "metadata": {},
   "source": [
    "These Hamiltonian are exact molecular Hamiltonian and molecular Hamiltonian reconstructed by THC tensors. The calculation cost time, so that we store them in disk and load them when needed. For water molecule H2O in STO-6G basis, the error is small for r_THC = 28.\n",
    "\n",
    "Actually, considering there are always 10 electrons for a water molecule, we only retain the elements which operator quantum states with 10 electrons."
   ]
  },
  {
   "cell_type": "code",
   "execution_count": 30,
   "metadata": {},
   "outputs": [],
   "source": [
    "e_ground = -67.46923609481743\n",
    "e_1st_ex = -67.00839085980371\n",
    "e_2nd_ex = -67.00038986115365"
   ]
  },
  {
   "cell_type": "markdown",
   "metadata": {},
   "source": [
    "We can calculate elements in reduced Hamiltonian using conventional MPO.\n",
    "\n",
    "Since we only need to store ONE block during contraction, memory needed is only $\\mathcal{O}(L^2 M^2)$.\n",
    "\n",
    "Create conventional mpo for molecular Hamiltonian:"
   ]
  },
  {
   "cell_type": "code",
   "execution_count": 31,
   "metadata": {},
   "outputs": [
    {
     "name": "stdout",
     "output_type": "stream",
     "text": [
      "[1, 16, 62, 100, 154, 100, 62, 16, 1]\n"
     ]
    }
   ],
   "source": [
    "# h1_spin = get_h1_spin(h1)\n",
    "# g_spin = get_g_spin(eri)\n",
    "g_phy =  eri.transpose(0, 2, 1, 3)\n",
    "#mpo_ref = ptn.hamiltonian.molecular_hamiltonian_mpo(h1_spin, g_spin_phy)\n",
    "mpo_ref = ptn.hamiltonian.spin_molecular_hamiltonian_mpo(h1, g_phy)\n",
    "print(mpo_ref.bond_dims)"
   ]
  },
  {
   "cell_type": "markdown",
   "metadata": {},
   "source": [
    "Generate THC-MPO by layers, using THC tensors. \n",
    "t_spin is used to create MPO for kinetic term.\n",
    "It returns a list of H_mu_nu, each H_mu_nu is also a list, which contains four smaller MPOs with bond dims 2.\n",
    "The final element of this list is MPO for kinetic term."
   ]
  },
  {
   "cell_type": "code",
   "execution_count": 32,
   "metadata": {},
   "outputs": [
    {
     "name": "stdout",
     "output_type": "stream",
     "text": [
      "<class 'list'>\n",
      "<class 'list'>\n",
      "<class 'pytenet.mpo.MPO'>\n",
      "[1, 2, 2, 2, 2, 2, 2, 2, 1]\n"
     ]
    }
   ],
   "source": [
    "#generate thc_mpo\n",
    "t = get_t(h1, eri)\n",
    "H_mu_nu_list_spin_layer = generate_thc_mpos_by_layer_qn(X_mo, Z_mo, L, t)\n",
    "\n",
    "print(type(H_mu_nu_list_spin_layer))\n",
    "print(type(H_mu_nu_list_spin_layer[0]))\n",
    "print(type(H_mu_nu_list_spin_layer[0][0]))\n",
    "print((H_mu_nu_list_spin_layer[0][0].bond_dims))"
   ]
  },
  {
   "cell_type": "markdown",
   "metadata": {},
   "source": [
    "For ground state finding, we use Hatree fock state |11111111110000> as initial state.\n",
    "\n",
    "For 1st excited state, please use single-excited Hatree-Fock state as initial state."
   ]
  },
  {
   "cell_type": "code",
   "execution_count": 33,
   "metadata": {},
   "outputs": [
    {
     "name": "stdout",
     "output_type": "stream",
     "text": [
      "(0.00929712659700499+0j)\n"
     ]
    }
   ],
   "source": [
    "filename = f\"/work_fast/ge49cag/code_datas\" + f\"/NH3_1st_excited.pkl\"\n",
    "with open(filename, 'rb') as file:\n",
    "    initial = pickle.load(file)\n",
    "\n",
    "print(operator_average(initial, mpo_ref) - e_1st_ex)"
   ]
  },
  {
   "cell_type": "code",
   "execution_count": 34,
   "metadata": {},
   "outputs": [
    {
     "name": "stdout",
     "output_type": "stream",
     "text": [
      "(2.9257942912863655e-07+0j)\n"
     ]
    }
   ],
   "source": [
    "filename = f\"/work_fast/ge49cag/code_datas\" + f\"/NH3_ground_state.pkl\"\n",
    "with open(filename, 'rb') as file:\n",
    "    NH3_ground = pickle.load(file)\n",
    "    \n",
    "print(operator_average(NH3_ground, mpo_ref) - e_ground)    "
   ]
  },
  {
   "cell_type": "markdown",
   "metadata": {},
   "source": [
    "MAYBE: for each new-generated Krylov, we delete the component of ground state and then store it.\n",
    "When approximate state is not available, orthogonalize a initial state to all previous ground/excited states.\n",
    "实在不行：用HFS强行和基态正交再找激发态。"
   ]
  },
  {
   "cell_type": "markdown",
   "metadata": {},
   "source": [
    "generate Krylov space:"
   ]
  },
  {
   "cell_type": "code",
   "execution_count": 35,
   "metadata": {},
   "outputs": [
    {
     "name": "stdout",
     "output_type": "stream",
     "text": [
      "[1, 4, 16, 64, 130, 64, 16, 4, 1]\n",
      "2\n",
      "[1, 4, 16, 64, 130, 64, 16, 4, 1]\n",
      "(1+0j)\n",
      "(1.0067494797885712e-16+0j)\n",
      "3\n",
      "[1, 4, 16, 64, 130, 64, 16, 4, 1]\n",
      "(1+0j)\n",
      "(2.314771638256552e-17+0j)\n",
      "4\n",
      "[1, 4, 16, 64, 130, 64, 16, 4, 1]\n",
      "(1+0j)\n",
      "(-4.2392304944183223e-17+0j)\n",
      "5\n",
      "[1, 4, 16, 64, 130, 64, 16, 4, 1]\n",
      "(1+0j)\n",
      "(-1.6686549060909717e-17+0j)\n",
      "6\n",
      "[1, 4, 16, 64, 130, 64, 16, 4, 1]\n",
      "(1+0j)\n",
      "(3.0222135558033436e-17+0j)\n",
      "7\n",
      "[1, 4, 16, 64, 130, 64, 16, 4, 1]\n",
      "(1+0j)\n",
      "(2.008484524529397e-17+0j)\n",
      "8\n",
      "[1, 4, 16, 64, 130, 64, 16, 4, 1]\n",
      "(1+0j)\n",
      "(-1.9109063290057016e-18+0j)\n",
      "9\n",
      "[1, 4, 16, 64, 130, 64, 16, 4, 1]\n",
      "(1+0j)\n",
      "(3.918713227177295e-17+0j)\n",
      "10\n",
      "[1, 4, 16, 64, 130, 64, 16, 4, 1]\n",
      "(1+0j)\n",
      "(3.485709984540897e-17+0j)\n",
      "11\n",
      "[1, 4, 16, 64, 130, 64, 16, 4, 1]\n",
      "(1+0j)\n",
      "(8.87148427636264e-17+0j)\n",
      "12\n",
      "[1, 4, 16, 64, 130, 64, 16, 4, 1]\n",
      "(1+0j)\n",
      "(1.8675382421062814e-17+0j)\n",
      "13\n",
      "[1, 4, 16, 64, 130, 64, 16, 4, 1]\n",
      "(1+0j)\n",
      "(-2.4048959438444095e-17+0j)\n",
      "14\n",
      "[1, 4, 16, 64, 130, 64, 16, 4, 1]\n",
      "(1+0j)\n",
      "(-1.734723475976807e-18+0j)\n",
      "15\n",
      "[1, 4, 16, 64, 130, 64, 16, 4, 1]\n",
      "(1+0j)\n",
      "(-2.0477868532819965e-17+0j)\n",
      "16\n",
      "[1, 4, 16, 64, 130, 64, 16, 4, 1]\n",
      "(1+0j)\n",
      "(5.022566564039099e-17+0j)\n",
      "17\n",
      "[1, 4, 16, 64, 130, 64, 16, 4, 1]\n",
      "(1+0j)\n",
      "(-2.4936649967166602e-17+0j)\n",
      "18\n",
      "[1, 4, 16, 64, 130, 64, 16, 4, 1]\n",
      "(1+0j)\n",
      "(-3.083199928005653e-17+0j)\n",
      "19\n",
      "[1, 4, 16, 64, 130, 64, 16, 4, 1]\n",
      "(1+0j)\n",
      "(1.0002442667536582e-16+0j)\n",
      "20\n",
      "[1, 4, 16, 64, 130, 64, 16, 4, 1]\n",
      "(1+0j)\n",
      "(-6.429318882839041e-17+0j)\n",
      "21\n",
      "[1, 4, 16, 64, 130, 64, 16, 4, 1]\n",
      "(1+0j)\n",
      "(-3.8055496254241206e-17+0j)\n",
      "22\n",
      "[1, 4, 16, 64, 130, 64, 16, 4, 1]\n",
      "(1+0j)\n",
      "(-6.29311598492055e-17+0j)\n",
      "23\n",
      "[1, 4, 16, 64, 130, 64, 16, 4, 1]\n",
      "(1+0j)\n",
      "(7.047314121155779e-17+0j)\n",
      "24\n",
      "[1, 4, 16, 64, 130, 64, 16, 4, 1]\n",
      "(1+0j)\n",
      "(-8.782037597132586e-18+0j)\n",
      "25\n",
      "[1, 4, 16, 64, 130, 64, 16, 4, 1]\n",
      "(1+0j)\n",
      "(7.405100838075995e-17+0j)\n",
      "26\n",
      "[1, 4, 16, 64, 130, 64, 16, 4, 1]\n",
      "(1+0j)\n",
      "(-4.160625836913123e-17+0j)\n",
      "27\n",
      "[1, 4, 16, 64, 130, 64, 16, 4, 1]\n",
      "(1+0j)\n",
      "(-2.846030702774449e-19+0j)\n",
      "28\n",
      "[1, 4, 16, 64, 130, 64, 16, 4, 1]\n",
      "(1+0j)\n",
      "(3.99054162110446e-17+0j)\n",
      "29\n",
      "[1, 4, 16, 64, 130, 64, 16, 4, 1]\n",
      "(1+0j)\n",
      "(-5.150976758842851e-17+0j)\n"
     ]
    }
   ],
   "source": [
    "N_Krylov_1 = 30\n",
    "psi_original_1 = copy.deepcopy(initial)\n",
    "max_bond_Krylov_1 = 150\n",
    "trunc_tol = 0\n",
    "foldername_1 = f\"/work_fast/ge49cag/code_datas/NH3_1st_ex\" \n",
    "#generate_krylov_space_in_disk(N_Krylov_1, H_mu_nu_list_spin_layer, psi_original_1, max_bond_Krylov_1, trunc_tol, r_thc, foldername_1)\n",
    "generate_krylov_space_othogonal_against(N_Krylov_1, H_mu_nu_list_spin_layer, psi_original_1, max_bond_Krylov_1, trunc_tol, r_thc, foldername_1, copy.deepcopy(NH3_ground))\n",
    "#generate_krylov_space_othogonal_against(N_Krylov, H_mu_nu_list_spin_layer, psi_original, max_bond_Krylov, trunc_tol, r_THC, foldername, vec_to_remove)"
   ]
  },
  {
   "cell_type": "code",
   "execution_count": 36,
   "metadata": {},
   "outputs": [
    {
     "name": "stderr",
     "output_type": "stream",
     "text": [
      "/work_fast/ge49cag/pytenet_thc_spin_cons/thc_experiments/../pytenet/global_krylov_method.py:214: ComplexWarning: Casting complex values to real discards the imaginary part\n",
      "  H_reduced[i, j] = operator_inner_product(temp1, H_mpo, temp2)\n"
     ]
    },
    {
     "name": "stderr",
     "output_type": "stream",
     "text": [
      "/work_fast/ge49cag/pytenet_thc_spin_cons/thc_experiments/../pytenet/global_krylov_method.py:113: ComplexWarning: Casting complex values to real discards the imaginary part\n",
      "  W[i,j] = vdot(temp1, temp2)\n"
     ]
    }
   ],
   "source": [
    "#或许在这一步生成GS的时候也把ground state考虑进来\n",
    "H_reduced_non_rotho_1 = generate_reduced_H_non_ortho(N_Krylov_1, foldername_1, mpo_ref)\n",
    "coeff_1 = coeff_gram_schmidt(N_Krylov_1, foldername_1)\n",
    "H_reduced_1 = np.einsum('ik, kl, jl -> ij', coeff_1.conj(), H_reduced_non_rotho_1, coeff_1)"
   ]
  },
  {
   "cell_type": "code",
   "execution_count": 37,
   "metadata": {},
   "outputs": [
    {
     "name": "stdout",
     "output_type": "stream",
     "text": [
      "(0.007273515595201729+0j)\n",
      "(0.004818042063845951+0j)\n",
      "(0.00280449602921351+0j)\n",
      "(0.001728308915247112+0j)\n",
      "(0.0011594267369332556+0j)\n",
      "(0.0009534374583637373+0j)\n"
     ]
    }
   ],
   "source": [
    "e_ritz_1, v_ritz_1 = solve_ritz(foldername_1, H_reduced_1, N_Krylov_1, coeff_1, max_bond_Krylov_1, e_1st_ex, mpo_ref)"
   ]
  },
  {
   "cell_type": "code",
   "execution_count": 39,
   "metadata": {},
   "outputs": [],
   "source": [
    "# spin = 0\n",
    "# for i in range (L):\n",
    "#     if i%2 == 0:\n",
    "#         spin_local = 0.5* operator_average(v_ritz_1, get_num_op_mpo(i, L))\n",
    "#     if i%2 == 1:\n",
    "#         spin_local = -0.5* operator_average(v_ritz_1, get_num_op_mpo(i, L))\n",
    "#     spin += spin_local \n",
    "# print(spin)"
   ]
  },
  {
   "cell_type": "markdown",
   "metadata": {},
   "source": [
    "Restart:"
   ]
  },
  {
   "cell_type": "code",
   "execution_count": 40,
   "metadata": {},
   "outputs": [
    {
     "name": "stdout",
     "output_type": "stream",
     "text": [
      "[1, 4, 16, 64, 130, 64, 16, 4, 1]\n",
      "2\n",
      "[1, 4, 16, 64, 130, 64, 16, 4, 1]\n",
      "(1+0j)\n",
      "(6.836572323878909e-17+0j)\n",
      "3\n",
      "[1, 4, 16, 64, 130, 64, 16, 4, 1]\n",
      "(1+0j)\n",
      "(4.294118229400401e-17+0j)\n",
      "4\n",
      "[1, 4, 16, 64, 130, 64, 16, 4, 1]\n",
      "(1+0j)\n",
      "(6.085084693074894e-18+0j)\n",
      "5\n",
      "[1, 4, 16, 64, 130, 64, 16, 4, 1]\n",
      "(1+0j)\n",
      "(-1.3377699555755518e-16+0j)\n",
      "6\n",
      "[1, 4, 16, 64, 130, 64, 16, 4, 1]\n",
      "(1+0j)\n",
      "(8.683442962072185e-17+0j)\n",
      "7\n",
      "[1, 4, 16, 64, 130, 64, 16, 4, 1]\n",
      "(1+0j)\n",
      "(-2.879234394306818e-17+0j)\n",
      "8\n",
      "[1, 4, 16, 64, 130, 64, 16, 4, 1]\n",
      "(1+0j)\n",
      "(1.1153729849444627e-17+0j)\n",
      "9\n",
      "[1, 4, 16, 64, 130, 64, 16, 4, 1]\n",
      "(1+0j)\n",
      "(-5.611085055791387e-17+0j)\n",
      "10\n",
      "[1, 4, 16, 64, 130, 64, 16, 4, 1]\n",
      "(1+0j)\n",
      "(1.1140177322288558e-17+0j)\n",
      "11\n",
      "[1, 4, 16, 64, 130, 64, 16, 4, 1]\n",
      "(1+0j)\n",
      "(3.3806778990813635e-17+0j)\n",
      "12\n",
      "[1, 4, 16, 64, 130, 64, 16, 4, 1]\n",
      "(1+0j)\n",
      "(-7.218075963322246e-17+0j)\n",
      "13\n",
      "[1, 4, 16, 64, 130, 64, 16, 4, 1]\n",
      "(1+0j)\n",
      "(-1.5385506453927111e-16+0j)\n",
      "14\n",
      "[1, 4, 16, 64, 130, 64, 16, 4, 1]\n",
      "(1+0j)\n",
      "(-6.299214622140781e-17+0j)\n",
      "15\n",
      "[1, 4, 16, 64, 130, 64, 16, 4, 1]\n",
      "(1+0j)\n",
      "(-1.3715157481941631e-17+0j)\n",
      "16\n",
      "[1, 4, 16, 64, 130, 64, 16, 4, 1]\n",
      "(1+0j)\n",
      "(-1.2809848667916235e-16+0j)\n",
      "17\n",
      "[1, 4, 16, 64, 130, 64, 16, 4, 1]\n",
      "(1+0j)\n",
      "(-3.3574691963265957e-17+0j)\n",
      "18\n",
      "[1, 4, 16, 64, 130, 64, 16, 4, 1]\n",
      "(1+0j)\n",
      "(1.1357695383143462e-16+0j)\n",
      "19\n",
      "[1, 4, 16, 64, 130, 64, 16, 4, 1]\n",
      "(1+0j)\n",
      "(-1.1620614409971197e-16+0j)\n",
      "20\n",
      "[1, 4, 16, 64, 130, 64, 16, 4, 1]\n",
      "(1+0j)\n",
      "(-4.083376432123531e-17+0j)\n",
      "21\n",
      "[1, 4, 16, 64, 130, 64, 16, 4, 1]\n",
      "(1+0j)\n",
      "(-6.995814517962717e-17+0j)\n",
      "22\n",
      "[1, 4, 16, 64, 130, 64, 16, 4, 1]\n",
      "(1+0j)\n",
      "(-2.6291902682773483e-17+0j)\n",
      "23\n",
      "[1, 4, 16, 64, 130, 64, 16, 4, 1]\n",
      "(1+0j)\n",
      "(6.091860956652928e-17+0j)\n",
      "24\n",
      "[1, 4, 16, 64, 130, 64, 16, 4, 1]\n",
      "(1+0j)\n",
      "(3.5223018078622825e-17+0j)\n",
      "25\n",
      "[1, 4, 16, 64, 130, 64, 16, 4, 1]\n",
      "(1+0j)\n",
      "(-3.729655473350135e-17+0j)\n",
      "26\n",
      "[1, 4, 16, 64, 130, 64, 16, 4, 1]\n",
      "(1+0j)\n",
      "(-4.743384504624082e-18+0j)\n",
      "27\n",
      "[1, 4, 16, 64, 130, 64, 16, 4, 1]\n",
      "(1+0j)\n",
      "(-2.8941421741784934e-17+0j)\n",
      "28\n",
      "[1, 4, 16, 64, 130, 64, 16, 4, 1]\n",
      "(1+0j)\n",
      "(-1.1546753136970622e-17+0j)\n",
      "29\n",
      "[1, 4, 16, 64, 130, 64, 16, 4, 1]\n",
      "(1+0j)\n",
      "(1.4129864812917337e-16+0j)\n"
     ]
    }
   ],
   "source": [
    "N_Krylov_2 = 30\n",
    "psi_original_2 = copy.deepcopy(v_ritz_1)\n",
    "max_bond_Krylov_2 = 150\n",
    "trunc_tol = 0\n",
    "foldername_2= f\"/work_fast/ge49cag/code_datas/NH3_1st_ex_restart_1\"\n",
    "generate_krylov_space_othogonal_against(N_Krylov_2, H_mu_nu_list_spin_layer, psi_original_2, max_bond_Krylov_2, trunc_tol, r_thc, foldername_2, copy.deepcopy(NH3_ground))"
   ]
  },
  {
   "cell_type": "code",
   "execution_count": 41,
   "metadata": {},
   "outputs": [],
   "source": [
    "H_reduced_non_rotho_2 = generate_reduced_H_non_ortho(N_Krylov_2, foldername_2, mpo_ref)\n",
    "coeff_2 = coeff_gram_schmidt(N_Krylov_2, foldername_2)\n",
    "#H_reduced: elements calculated by post-orthogonalized Krylov vectos\n",
    "H_reduced_2 = np.einsum('ik, kl, jl -> ij', coeff_2.conj(), H_reduced_non_rotho_2, coeff_2)\n",
    "#H_reduced_2 = remain_only_tridiagonal_elements(H_reduced_2)"
   ]
  },
  {
   "cell_type": "code",
   "execution_count": 42,
   "metadata": {},
   "outputs": [],
   "source": [
    "H_reduced_2 = np.einsum('ik, kl, jl -> ij', coeff_2.conj(), H_reduced_non_rotho_2, coeff_2)"
   ]
  },
  {
   "cell_type": "code",
   "execution_count": 43,
   "metadata": {},
   "outputs": [
    {
     "name": "stdout",
     "output_type": "stream",
     "text": [
      "(0.0009128678030378978+0j)\n",
      "(0.0007946191481380538+0j)\n",
      "(0.0006629588337574432+0j)\n",
      "(0.0005669537185752915+0j)\n",
      "(0.0004905346178674108+0j)\n"
     ]
    },
    {
     "name": "stdout",
     "output_type": "stream",
     "text": [
      "(0.0003954864077968523+0j)\n"
     ]
    }
   ],
   "source": [
    "e_ritz_2, v_ritz_2 = solve_ritz(foldername_2, H_reduced_2, N_Krylov_2, coeff_2, max_bond_Krylov_2, e_1st_ex, mpo_ref)"
   ]
  },
  {
   "cell_type": "markdown",
   "metadata": {},
   "source": [
    "Restart:"
   ]
  },
  {
   "cell_type": "code",
   "execution_count": 44,
   "metadata": {},
   "outputs": [
    {
     "name": "stdout",
     "output_type": "stream",
     "text": [
      "[1, 4, 16, 64, 130, 64, 16, 4, 1]\n",
      "2\n",
      "[1, 4, 16, 64, 130, 64, 16, 4, 1]\n",
      "(1+0j)\n",
      "(-9.147955830346444e-19+0j)\n",
      "3\n",
      "[1, 4, 16, 64, 130, 64, 16, 4, 1]\n",
      "(1+0j)\n",
      "(2.522802930102208e-17+0j)\n",
      "4\n",
      "[1, 4, 16, 64, 130, 64, 16, 4, 1]\n",
      "(1+0j)\n",
      "(5.129631528572043e-17+0j)\n",
      "5\n",
      "[1, 4, 16, 64, 130, 64, 16, 4, 1]\n",
      "(1+0j)\n",
      "(1.2183721913305856e-17+0j)\n",
      "6\n",
      "[1, 4, 16, 64, 130, 64, 16, 4, 1]\n",
      "(1+0j)\n",
      "(-9.550465886881687e-17+0j)\n",
      "7\n",
      "[1, 4, 16, 64, 130, 64, 16, 4, 1]\n",
      "(1+0j)\n",
      "(-1.4071927759325142e-16+0j)\n",
      "8\n",
      "[1, 4, 16, 64, 130, 64, 16, 4, 1]\n",
      "(1+0j)\n",
      "(-8.030549966328571e-17+0j)\n",
      "9\n",
      "[1, 4, 16, 64, 130, 64, 16, 4, 1]\n",
      "(1+0j)\n",
      "(-5.6107462426124854e-18+0j)\n",
      "10\n",
      "[1, 4, 16, 64, 130, 64, 16, 4, 1]\n",
      "(1+0j)\n",
      "(1.322049024074512e-17+0j)\n",
      "11\n",
      "[1, 4, 16, 64, 130, 64, 16, 4, 1]\n",
      "(1+0j)\n",
      "(2.15485181781494e-17+0j)\n",
      "12\n",
      "[1, 4, 16, 64, 130, 64, 16, 4, 1]\n",
      "(1+0j)\n",
      "(-4.0345873343616834e-17+0j)\n",
      "13\n",
      "[1, 4, 16, 64, 130, 64, 16, 4, 1]\n",
      "(1+0j)\n",
      "(-3.5948078281472506e-17+0j)\n",
      "14\n",
      "[1, 4, 16, 64, 130, 64, 16, 4, 1]\n",
      "(1+0j)\n",
      "(5.283452711793424e-17+0j)\n",
      "15\n",
      "[1, 4, 16, 64, 130, 64, 16, 4, 1]\n",
      "(1+0j)\n",
      "(1.2969768488357847e-16+0j)\n",
      "16\n",
      "[1, 4, 16, 64, 130, 64, 16, 4, 1]\n",
      "(1+0j)\n",
      "(3.836720437883079e-17+0j)\n",
      "17\n",
      "[1, 4, 16, 64, 130, 64, 16, 4, 1]\n",
      "(1+0j)\n",
      "(-3.020180676729933e-17+0j)\n",
      "18\n",
      "[1, 4, 16, 64, 130, 64, 16, 4, 1]\n",
      "(1+0j)\n",
      "(-3.8069048781397274e-17+0j)\n",
      "19\n",
      "[1, 4, 16, 64, 130, 64, 16, 4, 1]\n",
      "(1+0j)\n",
      "(-1.5493926671175662e-17+0j)\n"
     ]
    }
   ],
   "source": [
    "N_Krylov_3 = 20\n",
    "psi_original_3 = copy.deepcopy(v_ritz_2)\n",
    "max_bond_Krylov_3 = 150\n",
    "trunc_tol = 0\n",
    "foldername_3 = f\"/work_fast/ge49cag/code_datas/NH3_1st_ex_restart_2\"\n",
    "generate_krylov_space_othogonal_against(N_Krylov_3, H_mu_nu_list_spin_layer, psi_original_3, max_bond_Krylov_3, trunc_tol, r_thc, foldername_3, copy.deepcopy(NH3_ground))\n"
   ]
  },
  {
   "cell_type": "code",
   "execution_count": 45,
   "metadata": {},
   "outputs": [],
   "source": [
    "H_reduced_non_rotho_3 = generate_reduced_H_non_ortho(N_Krylov_3, foldername_3, mpo_ref)\n",
    "coeff_3 = coeff_gram_schmidt(N_Krylov_3, foldername_3)\n",
    "#H_reduced: elements calculated by post-orthogonalized Krylov vectos\n",
    "H_reduced_3 = np.einsum('ik, kl, jl -> ij', coeff_3.conj(), H_reduced_non_rotho_3, coeff_3)\n"
   ]
  },
  {
   "cell_type": "code",
   "execution_count": 46,
   "metadata": {},
   "outputs": [
    {
     "name": "stdout",
     "output_type": "stream",
     "text": [
      "(0.00034600424542929886+0j)\n",
      "(0.00030049075907356837+0j)\n"
     ]
    },
    {
     "name": "stdout",
     "output_type": "stream",
     "text": [
      "(0.0002538725854748236+0j)\n",
      "(0.00021170241001300383+0j)\n"
     ]
    }
   ],
   "source": [
    "e_ritz_3, v_ritz_3 = solve_ritz(foldername_3, H_reduced_3, N_Krylov_3, coeff_3, max_bond_Krylov_3, e_1st_ex, mpo_ref)"
   ]
  },
  {
   "cell_type": "markdown",
   "metadata": {},
   "source": [
    "restart:"
   ]
  },
  {
   "cell_type": "code",
   "execution_count": 47,
   "metadata": {},
   "outputs": [
    {
     "name": "stdout",
     "output_type": "stream",
     "text": [
      "[1, 4, 16, 64, 130, 64, 16, 4, 1]\n",
      "2\n",
      "[1, 4, 16, 64, 130, 64, 16, 4, 1]\n",
      "(1+0j)\n",
      "(2.303929616531697e-17+0j)\n",
      "3\n",
      "[1, 4, 16, 64, 130, 64, 16, 4, 1]\n",
      "(1+0j)\n",
      "(-1.0330413824713447e-16+0j)\n",
      "4\n",
      "[1, 4, 16, 64, 130, 64, 16, 4, 1]\n",
      "(1+0j)\n",
      "(-2.0684544571950014e-17+0j)\n",
      "5\n",
      "[1, 4, 16, 64, 130, 64, 16, 4, 1]\n",
      "(1+0j)\n",
      "(1.2228106439741981e-16+0j)\n",
      "6\n",
      "[1, 4, 16, 64, 130, 64, 16, 4, 1]\n",
      "(1+0j)\n",
      "(6.8406380820257295e-18+0j)\n",
      "7\n",
      "[1, 4, 16, 64, 130, 64, 16, 4, 1]\n",
      "(1+0j)\n",
      "(-4.496050884025826e-17+0j)\n",
      "8\n",
      "[1, 4, 16, 64, 130, 64, 16, 4, 1]\n",
      "(1+0j)\n",
      "(5.2932782939815737e-17+0j)\n",
      "9\n",
      "[1, 4, 16, 64, 130, 64, 16, 4, 1]\n",
      "(1+0j)\n",
      "(5.2292426031691486e-17+0j)\n",
      "10\n",
      "[1, 4, 16, 64, 130, 64, 16, 4, 1]\n",
      "(1+0j)\n",
      "(3.416592096044946e-17+0j)\n",
      "11\n",
      "[1, 4, 16, 64, 130, 64, 16, 4, 1]\n",
      "(1+0j)\n",
      "(2.0850563029611857e-17+0j)\n",
      "12\n",
      "[1, 4, 16, 64, 130, 64, 16, 4, 1]\n",
      "(1+0j)\n",
      "(-1.620882247865829e-17+0j)\n",
      "13\n",
      "[1, 4, 16, 64, 130, 64, 16, 4, 1]\n",
      "(1+0j)\n",
      "(2.9449641510137514e-17+0j)\n",
      "14\n",
      "[1, 4, 16, 64, 130, 64, 16, 4, 1]\n",
      "(1+0j)\n",
      "(1.519238294195313e-16+0j)\n",
      "15\n",
      "[1, 4, 16, 64, 130, 64, 16, 4, 1]\n",
      "(1+0j)\n",
      "(-1.0462550964485118e-16+0j)\n",
      "16\n",
      "[1, 4, 16, 64, 130, 64, 16, 4, 1]\n",
      "(1+0j)\n",
      "(-2.1777894700265865e-16+0j)\n",
      "17\n",
      "[1, 4, 16, 64, 130, 64, 16, 4, 1]\n",
      "(1+0j)\n",
      "(5.0998159688286915e-17+0j)\n",
      "18\n",
      "[1, 4, 16, 64, 130, 64, 16, 4, 1]\n",
      "(1+0j)\n",
      "(-2.1412992906588713e-17+0j)\n",
      "19\n",
      "[1, 4, 16, 64, 130, 64, 16, 4, 1]\n",
      "(1+0j)\n",
      "(-1.1332623207904735e-16+0j)\n"
     ]
    }
   ],
   "source": [
    "N_Krylov_4 = 20\n",
    "psi_original_4 = copy.deepcopy(v_ritz_3)\n",
    "max_bond_Krylov_4 = 150\n",
    "trunc_tol = 0\n",
    "foldername_4 = f\"/work_fast/ge49cag/code_datas/NH3_1st_ex_restart_3\"\n",
    "generate_krylov_space_othogonal_against(N_Krylov_4, H_mu_nu_list_spin_layer, psi_original_4, max_bond_Krylov_4, trunc_tol, r_thc, foldername_4, copy.deepcopy(NH3_ground))\n"
   ]
  },
  {
   "cell_type": "code",
   "execution_count": 48,
   "metadata": {},
   "outputs": [],
   "source": [
    "H_reduced_non_rotho_4 = generate_reduced_H_non_ortho(N_Krylov_4, foldername_4, mpo_ref)\n",
    "coeff_4 = coeff_gram_schmidt(N_Krylov_4, foldername_4)\n",
    "#H_reduced: elements calculated by post-orthogonalized Krylov vectos\n",
    "H_reduced_4 = np.einsum('ik, kl, jl -> ij', coeff_4.conj(), H_reduced_non_rotho_4, coeff_4)"
   ]
  },
  {
   "cell_type": "code",
   "execution_count": 49,
   "metadata": {},
   "outputs": [
    {
     "name": "stdout",
     "output_type": "stream",
     "text": [
      "(0.0001957093503079932+0j)\n",
      "(0.00018190127475747886+0j)\n",
      "(0.00016519590333530232+0j)\n",
      "(0.00013315061545426943+0j)\n"
     ]
    }
   ],
   "source": [
    "e_ritz_4, v_ritz_4 = solve_ritz(foldername_4, H_reduced_4, N_Krylov_4, coeff_4, max_bond_Krylov_4, e_1st_ex, mpo_ref)"
   ]
  },
  {
   "cell_type": "markdown",
   "metadata": {},
   "source": [
    "restart:"
   ]
  },
  {
   "cell_type": "code",
   "execution_count": 50,
   "metadata": {},
   "outputs": [
    {
     "name": "stdout",
     "output_type": "stream",
     "text": [
      "[1, 4, 16, 64, 130, 64, 16, 4, 1]\n",
      "2\n",
      "[1, 4, 16, 64, 130, 64, 16, 4, 1]\n",
      "(1+0j)\n",
      "(3.4206578541917665e-17+0j)\n",
      "3\n",
      "[1, 4, 16, 64, 130, 64, 16, 4, 1]\n",
      "(1+0j)\n",
      "(-1.8133281334820062e-17+0j)\n",
      "4\n",
      "[1, 4, 16, 64, 130, 64, 16, 4, 1]\n",
      "(1+0j)\n",
      "(-5.244828009398628e-18+0j)\n",
      "5\n",
      "[1, 4, 16, 64, 130, 64, 16, 4, 1]\n",
      "(1+0j)\n",
      "(-6.450325299930948e-17+0j)\n",
      "6\n",
      "[1, 4, 16, 64, 130, 64, 16, 4, 1]\n",
      "(1+0j)\n",
      "(-8.257554796192723e-17+0j)\n",
      "7\n",
      "[1, 4, 16, 64, 130, 64, 16, 4, 1]\n",
      "(1+0j)\n",
      "(-6.391371806802049e-17+0j)\n",
      "8\n",
      "[1, 4, 16, 64, 130, 64, 16, 4, 1]\n",
      "(1+0j)\n",
      "(-1.2603850255143989e-17+0j)\n",
      "9\n",
      "[1, 4, 16, 64, 130, 64, 16, 4, 1]\n",
      "(1+0j)\n",
      "(4.0766001685454967e-17+0j)\n",
      "10\n",
      "[1, 4, 16, 64, 130, 64, 16, 4, 1]\n",
      "(1+0j)\n",
      "(8.755948982357153e-17+0j)\n",
      "11\n",
      "[1, 4, 16, 64, 130, 64, 16, 4, 1]\n",
      "(1+0j)\n",
      "(1.1207939958068902e-17+0j)\n",
      "12\n",
      "[1, 4, 16, 64, 130, 64, 16, 4, 1]\n",
      "(1+0j)\n",
      "(6.095926714799749e-17+0j)\n",
      "13\n",
      "[1, 4, 16, 64, 130, 64, 16, 4, 1]\n",
      "(1+0j)\n",
      "(-1.2130528244218286e-16+0j)\n",
      "14\n",
      "[1, 4, 16, 64, 130, 64, 16, 4, 1]\n",
      "(1+0j)\n",
      "(3.4206578541917665e-17+0j)\n",
      "15\n",
      "[1, 4, 16, 64, 130, 64, 16, 4, 1]\n",
      "(1+0j)\n",
      "(4.6918849014310204e-17+0j)\n",
      "16\n",
      "[1, 4, 16, 64, 130, 64, 16, 4, 1]\n",
      "(1+0j)\n",
      "(-2.7745411220261862e-17+0j)\n",
      "17\n",
      "[1, 4, 16, 64, 130, 64, 16, 4, 1]\n",
      "(1+0j)\n",
      "(3.950561665994057e-18+0j)\n",
      "18\n",
      "[1, 4, 16, 64, 130, 64, 16, 4, 1]\n",
      "(1+0j)\n",
      "(6.852157730108388e-17+0j)\n",
      "19\n",
      "[1, 4, 16, 64, 130, 64, 16, 4, 1]\n",
      "(1+0j)\n",
      "(-5.933974015284726e-17+0j)\n",
      "20\n",
      "[1, 4, 16, 64, 130, 64, 16, 4, 1]\n",
      "(1+0j)\n",
      "(3.609037981661123e-17+0j)\n",
      "21\n",
      "[1, 4, 16, 64, 130, 64, 16, 4, 1]\n",
      "(1+0j)\n",
      "(-4.7972558000694554e-17+0j)\n",
      "22\n",
      "[1, 4, 16, 64, 130, 64, 16, 4, 1]\n",
      "(1+0j)\n",
      "(5.369511259234461e-17+0j)\n",
      "23\n",
      "[1, 4, 16, 64, 130, 64, 16, 4, 1]\n",
      "(1+0j)\n",
      "(4.7281379115735045e-17+0j)\n",
      "24\n",
      "[1, 4, 16, 64, 130, 64, 16, 4, 1]\n",
      "(1+0j)\n",
      "(2.3889717244360287e-17+0j)\n",
      "25\n",
      "[1, 4, 16, 64, 130, 64, 16, 4, 1]\n",
      "(1+0j)\n",
      "(-1.649427258188299e-17+0j)\n",
      "26\n",
      "[1, 4, 16, 64, 130, 64, 16, 4, 1]\n",
      "(1+0j)\n",
      "(-4.2500725161431774e-17+0j)\n",
      "27\n",
      "[1, 4, 16, 64, 130, 64, 16, 4, 1]\n",
      "(1+0j)\n",
      "(1.3823577699190182e-18+0j)\n",
      "28\n",
      "[1, 4, 16, 64, 130, 64, 16, 4, 1]\n",
      "(1+0j)\n",
      "(3.6652809693588084e-17+0j)\n",
      "29\n",
      "[1, 4, 16, 64, 130, 64, 16, 4, 1]\n",
      "(1+0j)\n",
      "(8.088825833099667e-17+0j)\n",
      "30\n",
      "[1, 4, 16, 64, 130, 64, 16, 4, 1]\n",
      "(1+0j)\n",
      "(1.796726287715822e-16+0j)\n",
      "31\n",
      "[1, 4, 16, 64, 130, 64, 16, 4, 1]\n",
      "(1+0j)\n",
      "(-1.5853746267169289e-16+0j)\n",
      "32\n",
      "[1, 4, 16, 64, 130, 64, 16, 4, 1]\n",
      "(1+0j)\n",
      "(-3.618863563849273e-17+0j)\n",
      "33\n",
      "[1, 4, 16, 64, 130, 64, 16, 4, 1]\n",
      "(1+0j)\n",
      "(-4.751516020917723e-17+0j)\n",
      "34\n",
      "[1, 4, 16, 64, 130, 64, 16, 4, 1]\n",
      "(1+0j)\n",
      "(-2.962582436316641e-17+0j)\n",
      "35\n",
      "[1, 4, 16, 64, 130, 64, 16, 4, 1]\n",
      "(1+0j)\n",
      "(-1.49890950346121e-17+0j)\n",
      "36\n",
      "[1, 4, 16, 64, 130, 64, 16, 4, 1]\n",
      "(1+0j)\n",
      "(7.237049501340742e-18+0j)\n",
      "37\n",
      "[1, 4, 16, 64, 130, 64, 16, 4, 1]\n",
      "(1+0j)\n",
      "(-6.754579534584693e-17+0j)\n",
      "38\n",
      "[1, 4, 16, 64, 130, 64, 16, 4, 1]\n",
      "(1+0j)\n",
      "(-1.0382591054264312e-16+0j)\n",
      "39\n",
      "[1, 4, 16, 64, 130, 64, 16, 4, 1]\n",
      "(1+0j)\n",
      "(-2.855517471783697e-17+0j)\n",
      "40\n",
      "[1, 4, 16, 64, 130, 64, 16, 4, 1]\n",
      "(1+0j)\n",
      "(-5.44811591673966e-18+0j)\n",
      "41\n",
      "[1, 4, 16, 64, 130, 64, 16, 4, 1]\n",
      "(1+0j)\n",
      "(-4.1795993749316196e-17+0j)\n",
      "42\n",
      "[1, 4, 16, 64, 130, 64, 16, 4, 1]\n",
      "(1+0j)\n",
      "(6.675974877079494e-17+0j)\n",
      "43\n",
      "[1, 4, 16, 64, 130, 64, 16, 4, 1]\n",
      "(1+0j)\n",
      "(5.265156800132731e-17+0j)\n",
      "44\n",
      "[1, 4, 16, 64, 130, 64, 16, 4, 1]\n",
      "(1+0j)\n",
      "(-3.621235256101585e-17+0j)\n",
      "45\n",
      "[1, 4, 16, 64, 130, 64, 16, 4, 1]\n",
      "(1+0j)\n",
      "(-2.9883322379131716e-17+0j)\n",
      "46\n",
      "[1, 4, 16, 64, 130, 64, 16, 4, 1]\n",
      "(1+0j)\n",
      "(3.1712913545201005e-18+0j)\n",
      "47\n",
      "[1, 4, 16, 64, 130, 64, 16, 4, 1]\n",
      "(1+0j)\n",
      "(-1.1565726674989119e-16+0j)\n",
      "48\n",
      "[1, 4, 16, 64, 130, 64, 16, 4, 1]\n",
      "(1+0j)\n",
      "(-1.5720931501039814e-17+0j)\n",
      "49\n",
      "[1, 4, 16, 64, 130, 64, 16, 4, 1]\n",
      "(1+0j)\n",
      "(5.914322850908427e-17+0j)\n"
     ]
    }
   ],
   "source": [
    "N_Krylov_5 = 50\n",
    "psi_original_5 = copy.deepcopy(v_ritz_4)\n",
    "max_bond_Krylov_5 = 150\n",
    "trunc_tol = 0\n",
    "foldername_5 = f\"/work_fast/ge49cag/code_datas/NH3_1st_ex_restart_4\"\n",
    "generate_krylov_space_othogonal_against(N_Krylov_5, H_mu_nu_list_spin_layer, psi_original_5, max_bond_Krylov_5, trunc_tol, r_thc, foldername_5, copy.deepcopy(NH3_ground))"
   ]
  },
  {
   "cell_type": "code",
   "execution_count": 51,
   "metadata": {},
   "outputs": [],
   "source": [
    "H_reduced_non_rotho_5 = generate_reduced_H_non_ortho(N_Krylov_5, foldername_5, mpo_ref)\n",
    "coeff_5 = coeff_gram_schmidt(N_Krylov_5, foldername_5)\n",
    "#H_reduced: elements calculated by post-orthogonalized Krylov vectos\n",
    "H_reduced_5 = np.einsum('ik, kl, jl -> ij', coeff_5.conj(), H_reduced_non_rotho_5, coeff_5)"
   ]
  },
  {
   "cell_type": "code",
   "execution_count": 52,
   "metadata": {},
   "outputs": [
    {
     "name": "stdout",
     "output_type": "stream",
     "text": [
      "(0.00011792875700677996+0j)\n",
      "(0.00010461903880809587+0j)\n"
     ]
    },
    {
     "name": "stdout",
     "output_type": "stream",
     "text": [
      "(9.648781013993357e-05+0j)\n",
      "(8.659310577741053e-05+0j)\n",
      "(5.353524180407021e-05+0j)\n",
      "(3.7816789188127586e-05+0j)\n",
      "(2.0977322321868996e-05+0j)\n",
      "(1.1811459827981707e-05+0j)\n",
      "(3.860821337298148e-06+0j)\n",
      "(9.781012693110824e-07+0j)\n"
     ]
    }
   ],
   "source": [
    "e_ritz_5, v_ritz_5 = solve_ritz(foldername_5, H_reduced_5, N_Krylov_5, coeff_5, max_bond_Krylov_5, e_1st_ex, mpo_ref)"
   ]
  },
  {
   "cell_type": "code",
   "execution_count": 60,
   "metadata": {},
   "outputs": [
    {
     "name": "stdout",
     "output_type": "stream",
     "text": [
      "[1, 4, 16, 64, 130, 64, 16, 4, 1]\n",
      "2\n",
      "[1, 4, 16, 64, 130, 64, 16, 4, 1]\n",
      "(1+0j)\n",
      "(3.3745792618611326e-18+0j)\n",
      "3\n",
      "[1, 4, 16, 64, 130, 64, 16, 4, 1]\n",
      "(1+0j)\n",
      "(-4.363913744254155e-18+0j)\n",
      "4\n",
      "[1, 4, 16, 64, 130, 64, 16, 4, 1]\n",
      "(1+0j)\n",
      "(-9.356664748549903e-17+0j)\n",
      "5\n",
      "[1, 4, 16, 64, 130, 64, 16, 4, 1]\n",
      "(1+0j)\n",
      "(7.521313758439285e-17+0j)\n",
      "6\n",
      "[1, 4, 16, 64, 130, 64, 16, 4, 1]\n",
      "(1+0j)\n",
      "(-3.531788576871531e-17+0j)\n",
      "7\n",
      "[1, 4, 16, 64, 130, 64, 16, 4, 1]\n",
      "(1+0j)\n",
      "(2.5139937874507634e-17+0j)\n",
      "8\n",
      "[1, 4, 16, 64, 130, 64, 16, 4, 1]\n",
      "(1+0j)\n",
      "(-2.3493305825045274e-17+0j)\n",
      "9\n",
      "[1, 4, 16, 64, 130, 64, 16, 4, 1]\n",
      "(1+0j)\n",
      "(-8.353777739000812e-17+0j)\n",
      "10\n",
      "[1, 4, 16, 64, 130, 64, 16, 4, 1]\n",
      "(1+0j)\n",
      "(3.4436971503570835e-17+0j)\n",
      "11\n",
      "[1, 4, 16, 64, 130, 64, 16, 4, 1]\n",
      "(1+0j)\n",
      "(9.161508357502512e-17+0j)\n",
      "12\n",
      "[1, 4, 16, 64, 130, 64, 16, 4, 1]\n",
      "(1+0j)\n",
      "(-9.904186845655083e-17+0j)\n",
      "13\n",
      "[1, 4, 16, 64, 130, 64, 16, 4, 1]\n",
      "(1+0j)\n",
      "(-5.603969979034451e-17+0j)\n",
      "14\n",
      "[1, 4, 16, 64, 130, 64, 16, 4, 1]\n",
      "(1+0j)\n",
      "(4.6702008579813103e-17+0j)\n",
      "15\n",
      "[1, 4, 16, 64, 130, 64, 16, 4, 1]\n",
      "(1+0j)\n",
      "(-4.7718448116518264e-17+0j)\n",
      "16\n",
      "[1, 4, 16, 64, 130, 64, 16, 4, 1]\n",
      "(1+0j)\n",
      "(5.4998696298168975e-17+0j)\n",
      "17\n",
      "[1, 4, 16, 64, 130, 64, 16, 4, 1]\n",
      "(1+0j)\n",
      "(-3.6022617180830885e-17+0j)\n",
      "18\n",
      "[1, 4, 16, 64, 130, 64, 16, 4, 1]\n",
      "(1+0j)\n",
      "(-2.7233803320120265e-17+0j)\n",
      "19\n",
      "[1, 4, 16, 64, 130, 64, 16, 4, 1]\n",
      "(1+0j)\n",
      "(-4.3747557659790104e-17+0j)\n",
      "20\n",
      "[1, 4, 16, 64, 130, 64, 16, 4, 1]\n",
      "(1+0j)\n",
      "(-2.539743589047294e-17+0j)\n",
      "21\n",
      "[1, 4, 16, 64, 130, 64, 16, 4, 1]\n",
      "(1+0j)\n",
      "(-2.3445871979999033e-17+0j)\n",
      "22\n",
      "[1, 4, 16, 64, 130, 64, 16, 4, 1]\n",
      "(1+0j)\n",
      "(1.1896408337597197e-16+0j)\n",
      "23\n",
      "[1, 4, 16, 64, 130, 64, 16, 4, 1]\n",
      "(1+0j)\n",
      "(6.7559347873003e-17+0j)\n",
      "24\n",
      "[1, 4, 16, 64, 130, 64, 16, 4, 1]\n",
      "(1+0j)\n",
      "(-4.187730891225261e-17+0j)\n",
      "25\n",
      "[1, 4, 16, 64, 130, 64, 16, 4, 1]\n",
      "(1+0j)\n",
      "(9.076127436419279e-17+0j)\n",
      "26\n",
      "[1, 4, 16, 64, 130, 64, 16, 4, 1]\n",
      "(1+0j)\n",
      "(-2.870425251655373e-17+0j)\n",
      "27\n",
      "[1, 4, 16, 64, 130, 64, 16, 4, 1]\n",
      "(1+0j)\n",
      "(-6.06069014419397e-17+0j)\n",
      "28\n",
      "[1, 4, 16, 64, 130, 64, 16, 4, 1]\n",
      "(1+0j)\n",
      "(-9.584347204771859e-17+0j)\n",
      "29\n",
      "[1, 4, 16, 64, 130, 64, 16, 4, 1]\n",
      "(1+0j)\n",
      "(-7.45931094670027e-17+0j)\n",
      "30\n",
      "[1, 4, 16, 64, 130, 64, 16, 4, 1]\n",
      "(1+0j)\n",
      "(1.8316452209663804e-17+0j)\n",
      "31\n",
      "[1, 4, 16, 64, 130, 64, 16, 4, 1]\n",
      "(1+0j)\n",
      "(5.3430838312801265e-17+0j)\n",
      "32\n",
      "[1, 4, 16, 64, 130, 64, 16, 4, 1]\n",
      "(1+0j)\n",
      "(-6.754579534584693e-17+0j)\n",
      "33\n",
      "[1, 4, 16, 64, 130, 64, 16, 4, 1]\n",
      "(1+0j)\n",
      "(4.5197678065489466e-17+0j)\n",
      "34\n",
      "[1, 4, 16, 64, 130, 64, 16, 4, 1]\n",
      "(1+0j)\n",
      "(1.179069862577986e-17+0j)\n",
      "35\n",
      "[1, 4, 16, 64, 130, 64, 16, 4, 1]\n",
      "(1+0j)\n",
      "(-3.0726289568239196e-16+0j)\n",
      "36\n",
      "[1, 4, 16, 64, 130, 64, 16, 4, 1]\n",
      "(1+0j)\n",
      "(7.01207755055e-17+0j)\n",
      "37\n",
      "[1, 4, 16, 64, 130, 64, 16, 4, 1]\n",
      "(1+0j)\n",
      "(-1.7570851457843206e-17+0j)\n",
      "38\n",
      "[1, 4, 16, 64, 130, 64, 16, 4, 1]\n",
      "(1+0j)\n",
      "(6.174192559126046e-17+0j)\n",
      "39\n",
      "[1, 4, 16, 64, 130, 64, 16, 4, 1]\n",
      "(1+0j)\n",
      "(2.4638494369733088e-17+0j)\n",
      "40\n",
      "[1, 4, 16, 64, 130, 64, 16, 4, 1]\n",
      "(1+0j)\n",
      "(2.713215936644975e-17+0j)\n",
      "41\n",
      "[1, 4, 16, 64, 130, 64, 16, 4, 1]\n",
      "(1+0j)\n",
      "(-7.884860299400831e-17+0j)\n",
      "42\n",
      "[1, 4, 16, 64, 130, 64, 16, 4, 1]\n",
      "(1+0j)\n",
      "(-9.280770596475918e-17+0j)\n",
      "43\n",
      "[1, 4, 16, 64, 130, 64, 16, 4, 1]\n",
      "(1+0j)\n",
      "(-5.730008481585891e-17+0j)\n",
      "44\n",
      "[1, 4, 16, 64, 130, 64, 16, 4, 1]\n",
      "(1+0j)\n",
      "(-5.220433460517704e-17+0j)\n",
      "45\n",
      "[1, 4, 16, 64, 130, 64, 16, 4, 1]\n",
      "(1+0j)\n",
      "(-7.70732219365633e-17+0j)\n",
      "46\n",
      "[1, 4, 16, 64, 130, 64, 16, 4, 1]\n",
      "(1+0j)\n",
      "(4.3530717225293e-17+0j)\n",
      "47\n",
      "[1, 4, 16, 64, 130, 64, 16, 4, 1]\n",
      "(1+0j)\n",
      "(2.610216730258852e-17+0j)\n",
      "48\n",
      "[1, 4, 16, 64, 130, 64, 16, 4, 1]\n",
      "(1+0j)\n",
      "(-4.8030156241107846e-17+0j)\n",
      "49\n",
      "[1, 4, 16, 64, 130, 64, 16, 4, 1]\n",
      "(1+0j)\n",
      "(-9.584347204771859e-17+0j)\n"
     ]
    }
   ],
   "source": [
    "N_Krylov_6 = 50\n",
    "psi_original_6 = copy.deepcopy(v_ritz_5)\n",
    "max_bond_Krylov_6 = 150\n",
    "trunc_tol = 0\n",
    "foldername_6 = f\"/work_fast/ge49cag/code_datas/NH3_1st_ex_restart_5\"\n",
    "generate_krylov_space_othogonal_against(N_Krylov_6, H_mu_nu_list_spin_layer, psi_original_6, max_bond_Krylov_6, trunc_tol, r_thc, foldername_6, copy.deepcopy(NH3_ground))"
   ]
  },
  {
   "cell_type": "code",
   "execution_count": 61,
   "metadata": {},
   "outputs": [
    {
     "name": "stderr",
     "output_type": "stream",
     "text": [
      "/work_fast/ge49cag/pytenet_thc_spin_cons/thc_experiments/../pytenet/global_krylov_method.py:214: ComplexWarning: Casting complex values to real discards the imaginary part\n",
      "  H_reduced[i, j] = operator_inner_product(temp1, H_mpo, temp2)\n",
      "/work_fast/ge49cag/pytenet_thc_spin_cons/thc_experiments/../pytenet/global_krylov_method.py:113: ComplexWarning: Casting complex values to real discards the imaginary part\n",
      "  W[i,j] = vdot(temp1, temp2)\n"
     ]
    }
   ],
   "source": [
    "H_reduced_non_rotho_6 = generate_reduced_H_non_ortho(N_Krylov_6, foldername_6, mpo_ref)\n",
    "coeff_6 = coeff_gram_schmidt(N_Krylov_6, foldername_6)\n",
    "#H_reduced: elements calculated by post-orthogonalized Krylov vectos\n",
    "H_reduced_6 = np.einsum('ik, kl, jl -> ij', coeff_6.conj(), H_reduced_non_rotho_6, coeff_6)"
   ]
  },
  {
   "cell_type": "code",
   "execution_count": 62,
   "metadata": {},
   "outputs": [
    {
     "name": "stdout",
     "output_type": "stream",
     "text": [
      "(6.142353470295348e-07+0j)\n",
      "(5.389562574009688e-07+0j)\n",
      "(5.135676417467039e-07+0j)\n",
      "(4.959903492363082e-07+0j)\n",
      "(4.883235931174568e-07+0j)\n",
      "(4.873014063377923e-07+0j)\n",
      "(4.842666498916515e-07+0j)\n",
      "(4.822072270371791e-07+0j)\n",
      "(4.819374055387016e-07+0j)\n",
      "(4.808381532939165e-07+0j)\n"
     ]
    }
   ],
   "source": [
    "e_ritz_6, v_ritz_6 = solve_ritz(foldername_6, H_reduced_6, N_Krylov_6, coeff_6, max_bond_Krylov_6, e_1st_ex, mpo_ref)"
   ]
  },
  {
   "cell_type": "code",
   "execution_count": null,
   "metadata": {},
   "outputs": [],
   "source": []
  }
 ],
 "metadata": {
  "kernelspec": {
   "display_name": "Python 3",
   "language": "python",
   "name": "python3"
  },
  "language_info": {
   "codemirror_mode": {
    "name": "ipython",
    "version": 3
   },
   "file_extension": ".py",
   "mimetype": "text/x-python",
   "name": "python",
   "nbconvert_exporter": "python",
   "pygments_lexer": "ipython3",
   "version": "3.10.12"
  }
 },
 "nbformat": 4,
 "nbformat_minor": 2
}
