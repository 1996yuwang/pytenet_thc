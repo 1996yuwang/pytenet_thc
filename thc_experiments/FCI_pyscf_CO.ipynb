{
 "cells": [
  {
   "cell_type": "code",
   "execution_count": 1,
   "metadata": {},
   "outputs": [],
   "source": [
    "from pyscf import gto, scf, fci\n"
   ]
  },
  {
   "cell_type": "code",
   "execution_count": 2,
   "metadata": {},
   "outputs": [],
   "source": [
    "atomdesription = '''\n",
    "        C  0.0  0.0 -0.563\n",
    "        O  0.0  0.0  0.563\n",
    "    '''"
   ]
  },
  {
   "cell_type": "code",
   "execution_count": 3,
   "metadata": {},
   "outputs": [
    {
     "data": {
      "text/plain": [
       "<pyscf.gto.mole.Mole at 0x726c941d1cc0>"
      ]
     },
     "execution_count": 3,
     "metadata": {},
     "output_type": "execute_result"
    }
   ],
   "source": [
    "# Define molecular geometry and basis set\n",
    "mol = gto.Mole()\n",
    "mol.atom = atomdesription\n",
    "#mol.unit = 'Bohr'\n",
    "mol.basis = 'sto-6g'\n",
    "mol.spin = 0        \n",
    "mol.charge = 0\n",
    "mol.build()\n"
   ]
  },
  {
   "cell_type": "code",
   "execution_count": 4,
   "metadata": {},
   "outputs": [
    {
     "name": "stdout",
     "output_type": "stream",
     "text": [
      "converged SCF energy = -112.303079251486\n"
     ]
    },
    {
     "data": {
      "text/plain": [
       "-112.30307925148634"
      ]
     },
     "execution_count": 4,
     "metadata": {},
     "output_type": "execute_result"
    }
   ],
   "source": [
    "# Run Restricted Hartree-Fock (RHF) calculation\n",
    "mf = scf.RHF(mol)\n",
    "mf.kernel()\n"
   ]
  },
  {
   "cell_type": "code",
   "execution_count": 5,
   "metadata": {},
   "outputs": [],
   "source": [
    "# Initialize the FCI solver\n",
    "cisolver = fci.FCI(mol, mf.mo_coeff)\n",
    "\n",
    "# Compute the ground state energy\n",
    "e_fci, fcivec = cisolver.kernel()\n",
    "\n",
    "# To compute multiple states (e.g., first 5 states)\n",
    "nroots = 10\n",
    "e_fci, fcivecs = cisolver.kernel(nroots=nroots)\n"
   ]
  },
  {
   "cell_type": "code",
   "execution_count": 6,
   "metadata": {},
   "outputs": [
    {
     "name": "stdout",
     "output_type": "stream",
     "text": [
      "FCI Energy Spectrum:\n",
      "State 0: Energy = -135.0003866542843 Hartree\n",
      "State 1: Energy = -134.7673453653454 Hartree\n",
      "State 2: Energy = -134.76734536534272 Hartree\n",
      "State 3: Energy = -134.67293180420572 Hartree\n",
      "State 4: Energy = -134.6729318041932 Hartree\n",
      "State 5: Energy = -134.66722849706764 Hartree\n",
      "State 6: Energy = -134.62360235500924 Hartree\n",
      "State 7: Energy = -134.62360235500896 Hartree\n",
      "State 8: Energy = -134.60822369294772 Hartree\n",
      "State 9: Energy = -134.58870514230216 Hartree\n"
     ]
    }
   ],
   "source": [
    "# Print the FCI energy spectrum\n",
    "print('FCI Energy Spectrum:')\n",
    "for i, energy in enumerate(e_fci):\n",
    "    #print(f'State {i}: Energy = {energy- mol.get_enuc()} Hartree')\n",
    "    print(f'State {i}: Energy = {energy - mol.get_enuc()} Hartree')\n"
   ]
  },
  {
   "cell_type": "code",
   "execution_count": 7,
   "metadata": {},
   "outputs": [
    {
     "data": {
      "text/plain": [
       "22.558175953960927"
      ]
     },
     "execution_count": 7,
     "metadata": {},
     "output_type": "execute_result"
    }
   ],
   "source": [
    "mol.get_enuc()"
   ]
  },
  {
   "cell_type": "code",
   "execution_count": 8,
   "metadata": {},
   "outputs": [],
   "source": [
    "# FCI Energy Spectrum:\n",
    "# State 0: Energy = -135.0003866542846 Hartree\n",
    "# State 1: Energy = -134.7673453653453 Hartree\n",
    "# State 2: Energy = -134.76734536534204 Hartree\n",
    "# State 3: Energy = -134.6729318042247 Hartree\n",
    "# State 4: Energy = -134.67293180420955 Hartree\n",
    "# State 5: Energy = -134.66722849706784 Hartree\n",
    "# State 6: Energy = -134.62360235500893 Hartree\n",
    "# State 7: Energy = -134.6236023550087 Hartree\n",
    "# State 8: Energy = -134.60822369294786 Hartree\n",
    "# State 9: Energy = -134.58870514230605 Hartree"
   ]
  }
 ],
 "metadata": {
  "kernelspec": {
   "display_name": "Python 3",
   "language": "python",
   "name": "python3"
  },
  "language_info": {
   "codemirror_mode": {
    "name": "ipython",
    "version": 3
   },
   "file_extension": ".py",
   "mimetype": "text/x-python",
   "name": "python",
   "nbconvert_exporter": "python",
   "pygments_lexer": "ipython3",
   "version": "3.10.12"
  }
 },
 "nbformat": 4,
 "nbformat_minor": 2
}
