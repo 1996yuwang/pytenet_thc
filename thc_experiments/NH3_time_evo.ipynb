{
 "cells": [
  {
   "cell_type": "code",
   "execution_count": 33,
   "metadata": {},
   "outputs": [],
   "source": [
    "import sys\n",
    "sys.path.append('..')\n",
    "\n",
    "import numpy as np\n",
    "from pytenet.hartree_fock_mps import generate_single_state\n",
    "from pytenet.hamiltonian_thc import eval_func, generate_thc_mpos_by_layer_qn, get_t, get_h1_spin, get_g_spin\n",
    "from pytenet.global_krylov_method import generate_krylov_space_in_disk, get_W, get_S, remain_only_tridiagonal_elements\n",
    "from pytenet.global_krylov_method import generate_Hamiltonian_with_occupation_number, generate_reduced_H_non_ortho\n",
    "from pytenet.operation_thc import apply_thc_mpo_and_compress, add_mps_and_compress\n",
    "from pytenet.operation import vdot, add_mps\n",
    "import numpy as np\n",
    "from scipy import sparse\n",
    "import copy\n",
    "import h5py\n",
    "from numpy.linalg import norm\n",
    "#np.set_printoptions(precision=4,suppress=True)\n",
    "import scipy.io\n",
    "import matplotlib.pyplot as plt\n",
    "import pickle\n",
    "import pytenet as ptn\n",
    "import scipy.sparse.linalg as spla\n",
    "from pytenet.krylov_time_evo import ED_time_evo, Krylov_evo_using_vecs_single_step, Krylov_time_evo_using_vecs, Krylov_evo_using_built_space, create_Krylov_space, gram_schmidt"
   ]
  },
  {
   "cell_type": "code",
   "execution_count": 34,
   "metadata": {},
   "outputs": [
    {
     "name": "stdout",
     "output_type": "stream",
     "text": [
      "7\n",
      "(7, 28)\n",
      "(28, 28)\n",
      "rl errV: 2.8386751875274264e-12\n",
      "abs errV: 2.0615721155266396e-11\n",
      "errt: 7.097049412242525e-13\n",
      "errh: 2.585427402664151e-13\n",
      "errht: 9.079449636842276e-14\n"
     ]
    }
   ],
   "source": [
    "#load integrals\n",
    "with h5py.File(\"../data_water/eri_water.hdf5\", \"r\") as f:\n",
    "#with h5py.File(\"/work_fast/ge49cag/pytenet_yu/water/eri_water.hdf5\", \"r\") as f:\n",
    "    eri = f[\"eri\"][()]\n",
    "    hkin = f[\"hkin\"][()]\n",
    "    hnuc = f[\"hnuc\"][()]\n",
    "\n",
    "#print(np.linalg.norm(eri))\n",
    "#print(eri.shape)\n",
    "\n",
    "no = eri.shape[0]\n",
    "MV = eri.reshape(no*no,no*no)\n",
    "\n",
    "u = np.load(\"../data_water/x.npy\")\n",
    "#u = np.load(\"/work_fast/ge49cag/pytenet_yu/water/x.npy\")\n",
    "X_mo = u.transpose(1,0)\n",
    "g_thc, Z_mo = eval_func(u,eri,hkin,hnuc,)\n",
    "h1 = hnuc+hkin\n",
    "nmo = X_mo.shape[1]\n",
    "L = X_mo.shape[1]\n",
    "g_thc = g_thc.reshape(nmo, nmo, nmo, nmo)\n",
    "r_thc = X_mo.shape[0]"
   ]
  },
  {
   "cell_type": "code",
   "execution_count": 35,
   "metadata": {},
   "outputs": [],
   "source": [
    "#ref Hamiltonian as matrix\n",
    "H_ref = scipy.io.mmread('../data_water/H_water_correct.mtx').tocsr()\n",
    "H_thc = scipy.io.mmread('../data_water/H_water_thc.mtx').tocsr()\n",
    "\n",
    "#initial state\n",
    "filename = f\"/work_fast/ge49cag/code_datas\" + f\"/water_ground_ionization.pkl\"\n",
    "with open(filename, 'rb') as file:\n",
    "    initial_state = pickle.load(file)\n",
    "\n",
    "#thc mpo\n",
    "t = get_t(h1, eri)\n",
    "H_mu_nu_list_spin_layer = generate_thc_mpos_by_layer_qn(X_mo, Z_mo, L, t)\n",
    "r_THC = int((len(H_mu_nu_list_spin_layer)-1)**(1/2) / 2)\n",
    "    "
   ]
  },
  {
   "cell_type": "code",
   "execution_count": 36,
   "metadata": {},
   "outputs": [
    {
     "name": "stderr",
     "output_type": "stream",
     "text": [
      "/work_fast/ge49cag/pytenet_thc_spin_cons/thc_experiments/../pytenet/krylov_time_evo.py:103: ComplexWarning: Casting complex values to real discards the imaginary part\n",
      "  TN[i, j] = np.vdot(Krylov_vector_list[i], H@Krylov_vector_list[j])\n"
     ]
    },
    {
     "name": "stdout",
     "output_type": "stream",
     "text": [
      "[[-8.19779895e-01+5.72583778e-01j]\n",
      " [ 6.25612246e-03+8.30175739e-03j]\n",
      " [ 5.19439204e-04-6.36076473e-04j]\n",
      " [-8.09283115e-05-4.25433979e-05j]]\n",
      "total swift: 1.9077630331028186\n",
      "5.4866900147348975e-06\n"
     ]
    }
   ],
   "source": [
    "N_krylov = 4\n",
    "\n",
    "psi_krylov_ref = Krylov_time_evo_using_vecs(H_ref, N_krylov, initial_state.as_vector(), 1, 0.03)\n",
    "psi_ed = ED_time_evo(H_ref, initial_state.as_vector(), 0.03)\n",
    "print('total swift:', norm(psi_ed - initial_state.as_vector()))\n",
    "print(norm(psi_krylov_ref - psi_ed))"
   ]
  },
  {
   "cell_type": "code",
   "execution_count": 37,
   "metadata": {},
   "outputs": [
    {
     "data": {
      "text/plain": [
       "'\\nfor i in range(n):\\nfirst update foldername\\ngenerate_krylov_space_in_disk(N_Krylov, H_mu_nu_list_spin_layer, psi_original, max_bond_Krylov, trunc_tol, r_THC, foldername)\\nthen calculate time-evolved state (with re-ortho)\\n'"
      ]
     },
     "execution_count": 37,
     "metadata": {},
     "output_type": "execute_result"
    }
   ],
   "source": [
    "'''\n",
    "for i in range(n):\n",
    "first update foldername\n",
    "generate_krylov_space_in_disk(N_Krylov, H_mu_nu_list_spin_layer, psi_original, max_bond_Krylov, trunc_tol, r_THC, foldername)\n",
    "then calculate time-evolved state (with re-ortho)\n",
    "'''\n",
    "#不需要创造很多文件夹储存文件，对每个文件好好命名然后都存在同一个文件夹即可"
   ]
  },
  {
   "cell_type": "code",
   "execution_count": 38,
   "metadata": {},
   "outputs": [
    {
     "name": "stdout",
     "output_type": "stream",
     "text": [
      "[1, 4, 16, 31, 31, 16, 4, 1]\n",
      "[1, 4, 16, 30, 30, 16, 4, 1]\n",
      "[1, 4, 16, 30, 30, 16, 4, 1]\n",
      "[1, 4, 16, 30, 30, 16, 4, 1]\n"
     ]
    }
   ],
   "source": [
    "##only use max_bond, don't set truncation tol!\n",
    "space_test = create_Krylov_space(4, H_mu_nu_list_spin_layer, copy.deepcopy(initial_state), 0, 30, r_THC)"
   ]
  },
  {
   "cell_type": "code",
   "execution_count": 39,
   "metadata": {},
   "outputs": [],
   "source": [
    "# space_test_vec = []\n",
    "# for i in range (len(space_test)):\n",
    "#     temp = space_test[i].as_vector()\n",
    "#     temp /= norm(temp)\n",
    "#     space_test_vec.append(temp)\n",
    "\n",
    "# space_test_vec = gram_schmidt(space_test_vec)\n",
    "\n",
    "space_test_vec = [mps_krylov.as_vector() for mps_krylov in space_test]\n",
    "space_test_vec = gram_schmidt(space_test_vec)"
   ]
  },
  {
   "cell_type": "code",
   "execution_count": 40,
   "metadata": {},
   "outputs": [
    {
     "name": "stdout",
     "output_type": "stream",
     "text": [
      "0.0004761841209985205\n",
      "0.00047618669594564364\n"
     ]
    },
    {
     "name": "stderr",
     "output_type": "stream",
     "text": [
      "/work_fast/ge49cag/pytenet_thc_spin_cons/thc_experiments/../pytenet/krylov_time_evo.py:181: ComplexWarning: Casting complex values to real discards the imaginary part\n",
      "  TN[i, j] = np.vdot(Krylov_vector_list[i], H @Krylov_vector_list[j])\n"
     ]
    }
   ],
   "source": [
    "#only use max_bond, don't set truncation tol!\n",
    "vec_test = Krylov_evo_using_built_space(H_ref, space_test_vec, 0.03)\n",
    "print(norm(vec_test - psi_krylov_ref))\n",
    "print(norm(vec_test - psi_ed))"
   ]
  },
  {
   "cell_type": "code",
   "execution_count": null,
   "metadata": {},
   "outputs": [],
   "source": [
    "# dt = 0.03\n",
    "\n",
    "# D = 40:\n",
    "# 7.159356839258043e-13 (trunc error)\n",
    "# 5.486690011281797e-06 (total error)\n",
    "\n",
    "# D = 35\n",
    "# 3.537471270532817e-06 (trunc error)\n",
    "# 6.522437168647089e-06 (total error)\n",
    "\n",
    "# D= 30\n",
    "# 0.0004761841209985205 (trunc error)\n",
    "# 0.00047618669594564364 (total error)"
   ]
  },
  {
   "cell_type": "code",
   "execution_count": null,
   "metadata": {},
   "outputs": [],
   "source": []
  },
  {
   "cell_type": "code",
   "execution_count": null,
   "metadata": {},
   "outputs": [],
   "source": []
  }
 ],
 "metadata": {
  "kernelspec": {
   "display_name": "Python 3",
   "language": "python",
   "name": "python3"
  },
  "language_info": {
   "codemirror_mode": {
    "name": "ipython",
    "version": 3
   },
   "file_extension": ".py",
   "mimetype": "text/x-python",
   "name": "python",
   "nbconvert_exporter": "python",
   "pygments_lexer": "ipython3",
   "version": "3.10.12"
  }
 },
 "nbformat": 4,
 "nbformat_minor": 2
}
