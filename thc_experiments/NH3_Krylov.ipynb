{
 "cells": [
  {
   "cell_type": "code",
   "execution_count": 1,
   "metadata": {},
   "outputs": [],
   "source": [
    "import sys\n",
    "sys.path.append('..')\n",
    "\n",
    "import numpy as np\n",
    "from pytenet.hartree_fock_mps import generate_single_state\n",
    "from pytenet.operation import add_mps, operator_average\n",
    "from pytenet.hamiltonian_thc import eval_func, generate_thc_mpos_by_layer_qn, get_t, get_h1_spin, get_g_spin\n",
    "from pytenet.global_krylov_method import generate_krylov_space_in_disk, get_W, get_S, generate_re_ortho_space_with_coeff, coeff_canonical_orthogonalization, remain_only_tridiagonal_elements\n",
    "from pytenet.global_krylov_method import solve_ritz, generate_reduced_H_non_ortho, remain_only_tridiagonal_elements, coeff_gram_schmidt, generate_Hamiltonian_with_occupation_number\n",
    "import numpy as np\n",
    "from scipy import sparse\n",
    "import copy\n",
    "import h5py\n",
    "from numpy.linalg import norm\n",
    "#np.set_printoptions(precision=4,suppress=True)\n",
    "import scipy.io\n",
    "import matplotlib.pyplot as plt\n",
    "import pickle\n",
    "import pytenet as ptn\n",
    "from pytenet.operation_thc import get_num_op_mpo\n"
   ]
  },
  {
   "cell_type": "markdown",
   "metadata": {},
   "source": [
    "Load and initialize datas: \n",
    "\n",
    "no is number of spatial orbitals\n",
    "\n",
    "L is number of spinor orbitals, L = 2*no\n",
    "\n",
    "t_spin is one-body integral in Chemist's notation (considering spins)\n",
    "\n",
    "g_spin is two-body integral in Chemist's notation (considering spins)\n",
    "\n",
    "X_mo and Z_mo are THC tensors, X_mo_up/down are X_mo considering spins\n",
    "\n",
    "r_THC is THC rank"
   ]
  },
  {
   "cell_type": "code",
   "execution_count": 2,
   "metadata": {},
   "outputs": [
    {
     "name": "stdout",
     "output_type": "stream",
     "text": [
      "8\n",
      "(8, 36)\n",
      "(36, 36)\n",
      "rl errV: 6.421105521729929e-13\n",
      "abs errV: 4.286591936668418e-12\n",
      "errt: 1.0574710399920436e-13\n",
      "errh: 1.8088404989173088e-14\n",
      "errht: 9.006422291220954e-14\n"
     ]
    }
   ],
   "source": [
    "#load integrals\n",
    "with h5py.File(\"/work_fast/ge49cag/code_datas/NH3/integral.hdf5\", \"r\") as f:\n",
    "#with h5py.File(\"/work_fast/ge49cag/pytenet_yu/water/eri_water.hdf5\", \"r\") as f:\n",
    "    eri = f[\"eri\"][()]\n",
    "    hkin = f[\"hkin\"][()]\n",
    "    hnuc = f[\"hnuc\"][()]\n",
    "\n",
    "#print(np.linalg.norm(eri))\n",
    "#print(eri.shape)\n",
    "\n",
    "no = eri.shape[0]\n",
    "MV = eri.reshape(no*no,no*no)\n",
    "\n",
    "u = np.load(\"/work_fast/ge49cag/code_datas/NH3/x.npy\")\n",
    "#u = np.load(\"/work_fast/ge49cag/pytenet_yu/water/x.npy\")\n",
    "X_mo = u.transpose(1,0)\n",
    "g_thc, Z_mo = eval_func(u,eri,hkin,hnuc,)\n",
    "h1 = hnuc+hkin\n",
    "nmo = X_mo.shape[1]\n",
    "L = 2*X_mo.shape[1]\n",
    "g_thc = g_thc.reshape(nmo, nmo, nmo, nmo)\n",
    "r_thc = X_mo.shape[0]"
   ]
  },
  {
   "cell_type": "code",
   "execution_count": 3,
   "metadata": {},
   "outputs": [],
   "source": [
    "# H_correct = get_molecular_Hamiltonian_as_sparse_matrix(get_h1_spin(h1), get_g_spin(eri))\n",
    "H_correct = scipy.io.mmread('/work_fast/ge49cag/code_datas/H_correct_NH3.mtx').tocsr()\n",
    "# H_correct_10e = generate_Hamiltonian_with_occupation_number(H_correct.real, 10)\n",
    "# sparse.linalg.eigsh(H_correct_10e, which='SA', k = 15)"
   ]
  },
  {
   "cell_type": "code",
   "execution_count": 4,
   "metadata": {},
   "outputs": [
    {
     "name": "stderr",
     "output_type": "stream",
     "text": [
      "/home/ge49cag/.local/lib/python3.10/site-packages/scipy/sparse/_index.py:143: SparseEfficiencyWarning: Changing the sparsity structure of a csr_matrix is expensive. lil_matrix is more efficient.\n",
      "  self._set_arrayXarray(i, j, x)\n"
     ]
    }
   ],
   "source": [
    "H_correct_10e = generate_Hamiltonian_with_occupation_number(H_correct.real, 10)\n",
    "e ,v = sparse.linalg.eigsh(H_correct_10e, which='SA', k = 15)"
   ]
  },
  {
   "cell_type": "code",
   "execution_count": 5,
   "metadata": {},
   "outputs": [],
   "source": [
    "e_ground = e[0]\n",
    "e_1st_ex = e[1]"
   ]
  },
  {
   "cell_type": "markdown",
   "metadata": {},
   "source": [
    "We can calculate elements in reduced Hamiltonian using conventional MPO.\n",
    "\n",
    "Since we only need to store ONE block during contraction, memory needed is only $\\mathcal{O}(L^2 M^2)$.\n",
    "\n",
    "Create conventional mpo for molecular Hamiltonian:"
   ]
  },
  {
   "cell_type": "code",
   "execution_count": 6,
   "metadata": {},
   "outputs": [
    {
     "name": "stdout",
     "output_type": "stream",
     "text": [
      "[1, 16, 62, 100, 154, 100, 62, 16, 1]\n"
     ]
    }
   ],
   "source": [
    "# h1_spin = get_h1_spin(h1)\n",
    "# g_spin = get_g_spin(eri)\n",
    "g_phy =  eri.transpose(0, 2, 1, 3)\n",
    "#mpo_ref = ptn.hamiltonian.molecular_hamiltonian_mpo(h1_spin, g_spin_phy)\n",
    "mpo_ref = ptn.hamiltonian.spin_molecular_hamiltonian_mpo(h1, g_phy)\n",
    "print(mpo_ref.bond_dims)"
   ]
  },
  {
   "cell_type": "markdown",
   "metadata": {},
   "source": [
    "Generate THC-MPO by layers, using THC tensors. \n",
    "t_spin is used to create MPO for kinetic term.\n",
    "It returns a list of H_mu_nu, each H_mu_nu is also a list, which contains four smaller MPOs with bond dims 2.\n",
    "The final element of this list is MPO for kinetic term."
   ]
  },
  {
   "cell_type": "code",
   "execution_count": 7,
   "metadata": {},
   "outputs": [
    {
     "name": "stdout",
     "output_type": "stream",
     "text": [
      "<class 'list'>\n",
      "<class 'list'>\n",
      "<class 'pytenet.mpo.MPO'>\n",
      "[1, 2, 2, 2, 2, 2, 2, 2, 1]\n"
     ]
    }
   ],
   "source": [
    "#generate thc_mpo\n",
    "t = get_t(h1, eri)\n",
    "H_mu_nu_list_spin_layer = generate_thc_mpos_by_layer_qn(X_mo, Z_mo, L, t)\n",
    "\n",
    "print(type(H_mu_nu_list_spin_layer))\n",
    "print(type(H_mu_nu_list_spin_layer[0]))\n",
    "print(type(H_mu_nu_list_spin_layer[0][0]))\n",
    "print((H_mu_nu_list_spin_layer[0][0].bond_dims))"
   ]
  },
  {
   "cell_type": "markdown",
   "metadata": {},
   "source": [
    "For ground state finding, we use Hatree fock state |11111111110000> as initial state.\n",
    "\n",
    "For 1st excited state, please use single-excited Hatree-Fock state as initial state, or even superposition of several single-excited Hatree-Fock states as initial state."
   ]
  },
  {
   "cell_type": "code",
   "execution_count": 8,
   "metadata": {},
   "outputs": [],
   "source": [
    "#temp1 = generate_single_state(16, [1, 1, 1, 1, 1, 1, 1, 1, 1, 0, 0, 1, 0, 0, 0, 0])\n",
    "#initial = generate_single_state(16, [1, 1, 1, 1, 1, 1, 1, 1, 1, 0, 1, 0, 0, 0, 0, 0])\n",
    "\n",
    "initial = generate_single_state(8, [3, 3, 3, 3, 3, 0, 0, 0])\n",
    "\n",
    "#hartree_state = add_mps(add_mps(add_mps(temp1, temp2), temp3),temp4)\n",
    "# hartree_state = add_mps(temp1, temp2)\n",
    "# hartree_state.orthonormalize('left')\n",
    "# hartree_state.orthonormalize('right')"
   ]
  },
  {
   "cell_type": "markdown",
   "metadata": {},
   "source": [
    "generate Krylov space:"
   ]
  },
  {
   "cell_type": "code",
   "execution_count": 9,
   "metadata": {},
   "outputs": [
    {
     "name": "stdout",
     "output_type": "stream",
     "text": [
      "[1, 4, 9, 17, 23, 22, 11, 4, 1]\n",
      "2\n",
      "[1, 4, 14, 38, 57, 41, 15, 4, 1]\n",
      "3\n",
      "[1, 4, 16, 51, 97, 57, 16, 4, 1]\n",
      "4\n"
     ]
    }
   ],
   "source": [
    "N_Krylov_1 = 30\n",
    "psi_original_1 = copy.deepcopy(initial)\n",
    "#psi_original_1 = copy.deepcopy(initial)\n",
    "max_bond_Krylov_1 = 150\n",
    "trunc_tol = 1e-10\n",
    "foldername_1 = f\"/work_fast/ge49cag/code_datas/NH3_Krylov\"\n",
    "generate_krylov_space_in_disk(N_Krylov_1, H_mu_nu_list_spin_layer, psi_original_1, max_bond_Krylov_1, trunc_tol, r_thc, foldername_1)"
   ]
  },
  {
   "cell_type": "code",
   "execution_count": null,
   "metadata": {},
   "outputs": [
    {
     "name": "stderr",
     "output_type": "stream",
     "text": [
      "/work_fast/ge49cag/pytenet_thc/pytenet/global_krylov_method.py:208: ComplexWarning: Casting complex values to real discards the imaginary part\n",
      "  H_reduced[i, j] = operator_inner_product(temp1, H_mpo, temp2)\n",
      "/work_fast/ge49cag/pytenet_thc/pytenet/global_krylov_method.py:107: ComplexWarning: Casting complex values to real discards the imaginary part\n",
      "  W[i,j] = np.vdot(temp1.as_vector(), temp2.as_vector())\n"
     ]
    }
   ],
   "source": [
    "H_reduced_non_rotho_1 = generate_reduced_H_non_ortho(N_Krylov_1, foldername_1, mpo_ref)\n",
    "coeff_1 = coeff_gram_schmidt(N_Krylov_1, foldername_1)\n",
    "#H_reduced: elements calculated by post-orthogonalized Krylov vectos\n",
    "H_reduced_1 = np.einsum('ik, kl, jl -> ij', coeff_1.conj(), H_reduced_non_rotho_1, coeff_1)\n",
    "H_reduced_1 = remain_only_tridiagonal_elements(H_reduced_1)"
   ]
  },
  {
   "cell_type": "code",
   "execution_count": null,
   "metadata": {},
   "outputs": [],
   "source": [
    "e_ritz_1, v_ritz_1 = solve_ritz(foldername_1, H_reduced_1, N_Krylov_1, coeff_1, max_bond_Krylov_1, e_1st_ex, mpo_ref)"
   ]
  },
  {
   "cell_type": "code",
   "execution_count": null,
   "metadata": {},
   "outputs": [
    {
     "name": "stdout",
     "output_type": "stream",
     "text": [
      "ground error (0.7940927865886493+0j)\n",
      "first excited error (2.361285750591634+0j)\n",
      "ground error (0.0742903956390677+0j)\n",
      "first excited error (0.9561593790221963+0j)\n",
      "ground error (0.006055777692210995+0j)\n",
      "first excited error (0.6121926334759138+0j)\n",
      "ground error (0.0023502472284206988+0j)\n",
      "first excited error (0.42946095724316535+0j)\n",
      "ground error (0.0021117996088833024+0j)\n",
      "first excited error (0.14200213258493477+0j)\n",
      "ground error (0.0020710751372803315+0j)\n",
      "first excited error (0.06376993543304366+0j)\n"
     ]
    }
   ],
   "source": [
    "#e_ritz_1, v_ritz_1 = solve_ritz_two_vec(foldername_1, H_reduced_1, N_Krylov_1, coeff_1, max_bond_Krylov_1, e_ground, e_1st_ex, mpo_ref)"
   ]
  },
  {
   "cell_type": "markdown",
   "metadata": {},
   "source": [
    "Restart:"
   ]
  },
  {
   "cell_type": "code",
   "execution_count": null,
   "metadata": {},
   "outputs": [],
   "source": []
  },
  {
   "cell_type": "code",
   "execution_count": null,
   "metadata": {},
   "outputs": [],
   "source": [
    "N_Krylov_2 = 30\n",
    "psi_original_2 = copy.deepcopy(v_ritz_1)\n",
    "max_bond_Krylov_2 = 150\n",
    "trunc_tol = 0\n",
    "foldername_2= f\"/work_fast/ge49cag/code_datas/NH3_Krylov_restart_1\"\n",
    "generate_krylov_space_in_disk(N_Krylov_2, H_mu_nu_list_spin_layer, psi_original_2, max_bond_Krylov_2, trunc_tol, r_thc, foldername_2)\n"
   ]
  },
  {
   "cell_type": "code",
   "execution_count": null,
   "metadata": {},
   "outputs": [
    {
     "name": "stderr",
     "output_type": "stream",
     "text": [
      "/work_fast/ge49cag/pytenet_thc/pytenet/global_krylov_method.py:208: ComplexWarning: Casting complex values to real discards the imaginary part\n",
      "  H_reduced[i, j] = operator_inner_product(temp1, H_mpo, temp2)\n",
      "/work_fast/ge49cag/pytenet_thc/pytenet/global_krylov_method.py:107: ComplexWarning: Casting complex values to real discards the imaginary part\n",
      "  W[i,j] = np.vdot(temp1.as_vector(), temp2.as_vector())\n"
     ]
    }
   ],
   "source": [
    "H_reduced_non_rotho_2 = generate_reduced_H_non_ortho(N_Krylov_2, foldername_2, mpo_ref)\n",
    "coeff_2 = coeff_gram_schmidt(N_Krylov_2, foldername_2)\n",
    "#H_reduced: elements calculated by post-orthogonalized Krylov vectos\n",
    "H_reduced_2 = np.einsum('ik, kl, jl -> ij', coeff_2.conj(), H_reduced_non_rotho_2, coeff_2)\n",
    "H_reduced_2 = remain_only_tridiagonal_elements(H_reduced_2)"
   ]
  },
  {
   "cell_type": "code",
   "execution_count": null,
   "metadata": {},
   "outputs": [],
   "source": [
    "e_ritz_2, v_ritz_2 = solve_ritz(foldername_2, H_reduced_2, N_Krylov_2, coeff_2, max_bond_Krylov_2, e_ground, mpo_ref)"
   ]
  },
  {
   "cell_type": "code",
   "execution_count": null,
   "metadata": {},
   "outputs": [
    {
     "name": "stdout",
     "output_type": "stream",
     "text": [
      "ground error (0.0737229314763681+0j)\n",
      "first excited error (0.2149294491378413+0j)\n",
      "ground error (0.009471039632131806+0j)\n",
      "first excited error (0.06587347192504467+0j)\n",
      "ground error (0.008334886514504092+0j)\n",
      "first excited error (0.06111858653547131+0j)\n",
      "ground error (0.008194723907308799+0j)\n",
      "first excited error (0.05986899077619512+0j)\n",
      "ground error (0.00819551552946507+0j)\n",
      "first excited error (0.05987650229307917+0j)\n",
      "ground error (0.008195515604015213+0j)\n",
      "first excited error (0.05987650290393276+0j)\n"
     ]
    }
   ],
   "source": [
    "#e_ritz_2, v_ritz_2 = solve_ritz_two_vec(foldername_2, H_reduced_2, N_Krylov_2, coeff_2, max_bond_Krylov_2, e_ground, e_1st_ex, mpo_ref)"
   ]
  },
  {
   "cell_type": "markdown",
   "metadata": {},
   "source": [
    "Restart:"
   ]
  },
  {
   "cell_type": "code",
   "execution_count": null,
   "metadata": {},
   "outputs": [],
   "source": [
    "N_Krylov_3 = 30\n",
    "psi_original_3 = copy.deepcopy(v_ritz_2)\n",
    "max_bond_Krylov_3 = 150\n",
    "trunc_tol = 0\n",
    "foldername_3 = f\"/work_fast/ge49cag/code_datas/NH3_Krylov_restart_2\"\n",
    "generate_krylov_space_in_disk(N_Krylov_3, H_mu_nu_list_spin_layer, psi_original_3, max_bond_Krylov_3, trunc_tol, r_thc, foldername_3)\n"
   ]
  },
  {
   "cell_type": "code",
   "execution_count": null,
   "metadata": {},
   "outputs": [],
   "source": [
    "H_reduced_non_rotho_3 = generate_reduced_H_non_ortho(N_Krylov_3, foldername_3, mpo_ref)\n",
    "coeff_3 = coeff_gram_schmidt(N_Krylov_3, foldername_3)\n",
    "#H_reduced: elements calculated by post-orthogonalized Krylov vectos\n",
    "H_reduced_3 = np.einsum('ik, kl, jl -> ij', coeff_3.conj(), H_reduced_non_rotho_3, coeff_3)\n",
    "H_reduced_3 = remain_only_tridiagonal_elements(H_reduced_3)"
   ]
  },
  {
   "cell_type": "code",
   "execution_count": null,
   "metadata": {},
   "outputs": [
    {
     "name": "stdout",
     "output_type": "stream",
     "text": [
      "(0.0017008614715621206+0j)\n",
      "(0.0014598163742221004+0j)\n"
     ]
    },
    {
     "name": "stdout",
     "output_type": "stream",
     "text": [
      "(0.0014448042806947115+0j)\n",
      "(0.0014465827941876341+0j)\n"
     ]
    }
   ],
   "source": [
    "e_ritz_3, v_ritz_3 = solve_ritz(foldername_3, H_reduced_3, N_Krylov_3, coeff_3, max_bond_Krylov_3, e_ground, mpo_ref)"
   ]
  },
  {
   "cell_type": "markdown",
   "metadata": {},
   "source": [
    "Restart:"
   ]
  },
  {
   "cell_type": "code",
   "execution_count": null,
   "metadata": {},
   "outputs": [
    {
     "name": "stdout",
     "output_type": "stream",
     "text": [
      "[1, 2, 4, 8, 16, 32, 64, 103, 123, 102, 64, 32, 16, 8, 4, 2, 1]\n",
      "2\n",
      "[1, 2, 4, 8, 16, 32, 64, 109, 130, 109, 64, 32, 16, 8, 4, 2, 1]\n",
      "3\n",
      "[1, 2, 4, 8, 16, 32, 64, 109, 130, 109, 64, 32, 16, 8, 4, 2, 1]\n",
      "4\n",
      "[1, 2, 4, 8, 16, 32, 64, 109, 130, 109, 64, 32, 16, 8, 4, 2, 1]\n",
      "5\n",
      "[1, 2, 4, 8, 16, 32, 64, 109, 130, 109, 64, 32, 16, 8, 4, 2, 1]\n",
      "6\n",
      "[1, 2, 4, 8, 16, 32, 64, 109, 130, 109, 64, 32, 16, 8, 4, 2, 1]\n",
      "7\n",
      "[1, 2, 4, 8, 16, 32, 64, 109, 129, 109, 64, 32, 16, 8, 4, 2, 1]\n",
      "8\n",
      "[1, 2, 4, 8, 16, 32, 64, 109, 130, 109, 64, 32, 16, 8, 4, 2, 1]\n",
      "9\n",
      "[1, 2, 4, 8, 16, 32, 64, 109, 130, 109, 64, 32, 16, 8, 4, 2, 1]\n",
      "10\n",
      "[1, 2, 4, 8, 16, 32, 64, 109, 129, 109, 64, 32, 16, 8, 4, 2, 1]\n",
      "11\n",
      "[1, 2, 4, 8, 16, 32, 64, 109, 129, 109, 64, 32, 16, 8, 4, 2, 1]\n",
      "12\n",
      "[1, 2, 4, 8, 16, 32, 64, 109, 130, 109, 64, 32, 16, 8, 4, 2, 1]\n",
      "13\n",
      "[1, 2, 4, 8, 16, 32, 64, 109, 130, 109, 64, 32, 16, 8, 4, 2, 1]\n",
      "14\n",
      "[1, 2, 4, 8, 16, 32, 64, 109, 130, 109, 64, 32, 16, 8, 4, 2, 1]\n"
     ]
    }
   ],
   "source": [
    "N_Krylov_4 = 20\n",
    "psi_original_4 = copy.deepcopy(v_ritz_3)\n",
    "max_bond_Krylov_4 = 150\n",
    "trunc_tol = 0\n",
    "foldername_4 = f\"/work_fast/ge49cag/code_datas/NH3_Krylov_restart_2\"\n",
    "generate_krylov_space_in_disk(N_Krylov_4, H_mu_nu_list_spin_layer, psi_original_4, max_bond_Krylov_4, trunc_tol, r_thc, foldername_4)\n"
   ]
  },
  {
   "cell_type": "code",
   "execution_count": null,
   "metadata": {},
   "outputs": [],
   "source": [
    "H_reduced_non_rotho_4 = generate_reduced_H_non_ortho(N_Krylov_4, foldername_4, mpo_ref)\n",
    "coeff_4 = coeff_gram_schmidt(N_Krylov_4, foldername_4)\n",
    "#H_reduced: elements calculated by post-orthogonalized Krylov vectos\n",
    "H_reduced_4 = np.einsum('ik, kl, jl -> ij', coeff_4.conj(), H_reduced_non_rotho_4, coeff_4)\n",
    "H_reduced_4 = remain_only_tridiagonal_elements(H_reduced_4)"
   ]
  },
  {
   "cell_type": "code",
   "execution_count": null,
   "metadata": {},
   "outputs": [
    {
     "name": "stdout",
     "output_type": "stream",
     "text": [
      "(0.001242530620800153+0j)\n",
      "(0.0010893509091403075+0j)\n",
      "(0.0010749644893479626+0j)\n"
     ]
    }
   ],
   "source": [
    "e_ritz_4, v_ritz_4 = solve_ritz(foldername_4, H_reduced_4, N_Krylov_4, coeff_4, max_bond_Krylov_4, e_ground, mpo_ref)"
   ]
  },
  {
   "cell_type": "code",
   "execution_count": null,
   "metadata": {},
   "outputs": [
    {
     "data": {
      "text/plain": [
       "EighResult(eigenvalues=array([-67.46797558, -66.91092798, -65.99838787, -64.49687512,\n",
       "       -62.99089116, -60.2149507 , -51.5303401 , -49.82418047,\n",
       "       -48.25771974, -46.7813123 , -33.88833276, -32.52056411,\n",
       "       -30.97456805, -29.34365196, -28.43720283]), eigenvectors=array([[-9.99957479e-01,  7.64715374e-03, -3.69788184e-03,\n",
       "         2.38994410e-03,  1.15948899e-03, -7.74614162e-05,\n",
       "        -8.90935742e-04, -1.67039253e-03,  1.18272035e-03,\n",
       "        -7.44023235e-04, -2.98440977e-04,  3.23796770e-04,\n",
       "         2.42499170e-04,  1.03328930e-04,  1.56017444e-04],\n",
       "       [ 3.87280592e-03,  8.86387512e-02, -1.13101963e-01,\n",
       "         1.47793206e-01,  1.08048925e-01, -1.16941874e-02,\n",
       "        -2.95557368e-01, -6.13454779e-01,  4.72919913e-01,\n",
       "        -3.20368366e-01, -2.08597312e-01,  2.35538444e-01,\n",
       "         1.84203996e-01,  8.19971104e-02,  1.26752001e-01],\n",
       "       [-3.92356566e-03, -2.27836674e-01,  2.77116845e-01,\n",
       "        -3.32940978e-01, -2.22022129e-01,  1.97637328e-02,\n",
       "         1.62223959e-01,  1.99179564e-01, -5.62075028e-02,\n",
       "        -2.40749439e-02, -3.69066913e-01,  4.59065197e-01,\n",
       "         3.96433919e-01,  1.94041850e-01,  3.15048970e-01],\n",
       "       [ 5.18741875e-03,  3.70538717e-01, -4.28356866e-01,\n",
       "         4.69668921e-01,  2.82229668e-01, -1.97411509e-02,\n",
       "         6.09501076e-02,  2.45961705e-01, -2.49899726e-01,\n",
       "         1.93374911e-01, -1.23909970e-01,  2.15819174e-01,\n",
       "         2.44184739e-01,  1.48357575e-01,  2.66324599e-01],\n",
       "       [-2.30238489e-03, -2.51500687e-01,  1.87581356e-01,\n",
       "        -9.28743682e-03,  1.23253890e-01, -2.85601851e-02,\n",
       "        -3.45625850e-01, -2.38832110e-01, -1.74667069e-01,\n",
       "         3.46964907e-01,  4.00924075e-01, -2.09221069e-01,\n",
       "         1.23080516e-01,  2.29507138e-01,  5.34541608e-01],\n",
       "       [ 2.89320261e-03,  3.99047867e-01, -2.08735991e-01,\n",
       "        -2.08838525e-01, -3.78564062e-01,  5.85718025e-02,\n",
       "         2.99598762e-01,  7.21892262e-02,  2.37647641e-01,\n",
       "        -2.79830663e-01,  2.99224581e-01, -2.54731513e-01,\n",
       "        -1.38183435e-02,  1.56277293e-01,  4.45013983e-01],\n",
       "       [-2.84186067e-03, -4.43776024e-01,  1.51158366e-01,\n",
       "         3.39831728e-01,  4.04375451e-01, -3.61145195e-02,\n",
       "         2.91617001e-01,  2.55447803e-01,  1.96566605e-01,\n",
       "        -4.29102517e-01, -2.34438002e-02, -1.61114550e-01,\n",
       "        -1.60462732e-01,  3.47640260e-02,  2.70870364e-01],\n",
       "       [ 1.12849421e-03,  2.20202284e-01,  5.77339149e-02,\n",
       "        -1.94131529e-01,  6.06011236e-02, -5.85722004e-02,\n",
       "        -3.34771377e-01,  6.49157255e-02, -1.83881678e-01,\n",
       "        -6.13841907e-02, -5.32591303e-01, -1.38173193e-01,\n",
       "        -5.43905679e-01, -1.09432949e-01,  3.72780800e-01],\n",
       "       [-1.55189648e-03, -3.68357870e-01, -2.80866308e-01,\n",
       "         3.11231579e-01, -4.49800572e-01,  1.65568366e-01,\n",
       "         2.82519362e-01, -2.64455819e-01,  6.51352364e-02,\n",
       "         3.63283926e-01, -2.07142910e-01,  3.61535624e-02,\n",
       "        -2.83733744e-01, -1.23730282e-01,  1.81175299e-01],\n",
       "       [ 1.14812389e-03,  3.00531171e-01,  3.19203786e-01,\n",
       "        -1.57962164e-01,  3.88877261e-01, -5.03805148e-02,\n",
       "         4.54065014e-01, -2.07225404e-01,  2.45441657e-01,\n",
       "         3.82709333e-01,  8.90900234e-02,  2.41513109e-01,\n",
       "        -1.75723977e-01, -2.38959440e-01,  1.37845148e-01],\n",
       "       [-5.30002705e-04, -1.57536749e-01, -2.45418702e-01,\n",
       "        -8.22603519e-02, -5.08472549e-02, -1.19375687e-01,\n",
       "        -2.67321294e-01,  2.18363727e-01,  3.98518475e-02,\n",
       "        -1.37896497e-01,  4.01284649e-01,  5.17417634e-01,\n",
       "        -1.46099812e-01, -5.12074475e-01,  1.98206922e-01],\n",
       "       [ 7.42398171e-04,  2.52169702e-01,  5.19963571e-01,\n",
       "         4.34108429e-01, -2.46022717e-01,  3.81571970e-01,\n",
       "        -1.90028865e-02, -1.08607933e-01, -3.06148663e-01,\n",
       "        -2.44333152e-01,  9.80226619e-02,  8.18627821e-02,\n",
       "         6.07507047e-02, -2.80862135e-01,  8.37058660e-02],\n",
       "       [-3.38245112e-04, -1.20104106e-01, -2.68692648e-01,\n",
       "        -2.66707878e-01,  2.02865475e-01,  1.20846754e-02,\n",
       "         2.51168270e-01, -3.24844991e-01, -4.01410817e-01,\n",
       "        -1.95568655e-01, -1.11373955e-01, -2.60731808e-01,\n",
       "         3.45489809e-01, -4.71493124e-01,  1.04421737e-01],\n",
       "       [ 1.71470806e-04,  6.34154121e-02,  1.52885528e-01,\n",
       "         1.77381050e-01, -1.71208503e-01, -3.14011898e-01,\n",
       "        -1.60695286e-01,  2.58543995e-01,  3.93162276e-01,\n",
       "         2.37951484e-01, -1.84205032e-01, -3.50631987e-01,\n",
       "         3.84076027e-01, -4.43590188e-01,  9.05440344e-02],\n",
       "       [-1.16761294e-04, -4.58017407e-02, -1.22606148e-01,\n",
       "        -1.73808121e-01,  2.15770596e-01,  8.37587790e-01,\n",
       "        -1.71936147e-01,  2.16919751e-01,  2.75306582e-01,\n",
       "         1.44150883e-01, -5.12420993e-02, -9.22463348e-02,\n",
       "         9.52060630e-02, -1.03640744e-01,  2.05001234e-02]]))"
      ]
     },
     "execution_count": 22,
     "metadata": {},
     "output_type": "execute_result"
    }
   ],
   "source": [
    "np.linalg.eigh(H_reduced_4)"
   ]
  },
  {
   "cell_type": "code",
   "execution_count": null,
   "metadata": {},
   "outputs": [],
   "source": []
  },
  {
   "cell_type": "code",
   "execution_count": null,
   "metadata": {},
   "outputs": [],
   "source": []
  }
 ],
 "metadata": {
  "kernelspec": {
   "display_name": "Python 3",
   "language": "python",
   "name": "python3"
  },
  "language_info": {
   "codemirror_mode": {
    "name": "ipython",
    "version": 3
   },
   "file_extension": ".py",
   "mimetype": "text/x-python",
   "name": "python",
   "nbconvert_exporter": "python",
   "pygments_lexer": "ipython3",
   "version": "3.10.12"
  }
 },
 "nbformat": 4,
 "nbformat_minor": 2
}
