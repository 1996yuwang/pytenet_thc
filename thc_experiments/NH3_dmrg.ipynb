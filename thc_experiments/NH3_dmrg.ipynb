{
 "cells": [
  {
   "cell_type": "code",
   "execution_count": 1,
   "metadata": {},
   "outputs": [],
   "source": [
    "import sys\n",
    "sys.path.append('..')\n",
    "\n",
    "import numpy as np\n",
    "from pytenet.hartree_fock_mps import generate_single_state\n",
    "from pytenet.hamiltonian_thc import eval_func, get_anni_op_mpo\n",
    "from pytenet.global_krylov_method import generate_krylov_space_in_disk, get_W, get_S, remain_only_tridiagonal_elements\n",
    "from pytenet.global_krylov_method import generate_Hamiltonian_with_occupation_number, generate_reduced_H_non_ortho\n",
    "import numpy as np\n",
    "from scipy import sparse\n",
    "import copy\n",
    "import h5py\n",
    "from numpy.linalg import norm\n",
    "#np.set_printoptions(precision=4,suppress=True)\n",
    "import scipy.io\n",
    "import matplotlib.pyplot as plt\n",
    "import pickle\n",
    "import pytenet as ptn\n",
    "import unittest"
   ]
  },
  {
   "cell_type": "code",
   "execution_count": 2,
   "metadata": {},
   "outputs": [
    {
     "name": "stdout",
     "output_type": "stream",
     "text": [
      "8\n",
      "(8, 36)\n",
      "(36, 36)\n",
      "rl errV: 6.421105521729929e-13\n",
      "abs errV: 4.286591936668418e-12\n",
      "errt: 1.0574710399920436e-13\n",
      "errh: 1.8088404989173088e-14\n",
      "errht: 9.006422291220954e-14\n"
     ]
    }
   ],
   "source": [
    "#load integrals\n",
    "with h5py.File(\"/work_fast/ge49cag/code_datas/NH3/integral.hdf5\", \"r\") as f:\n",
    "#with h5py.File(\"/work_fast/ge49cag/pytenet_yu/water/eri_water.hdf5\", \"r\") as f:\n",
    "    eri = f[\"eri\"][()]\n",
    "    hkin = f[\"hkin\"][()]\n",
    "    hnuc = f[\"hnuc\"][()]\n",
    "\n",
    "#print(np.linalg.norm(eri))\n",
    "#print(eri.shape)\n",
    "\n",
    "no = eri.shape[0]\n",
    "MV = eri.reshape(no*no,no*no)\n",
    "\n",
    "u = np.load(\"/work_fast/ge49cag/code_datas/NH3/x.npy\")\n",
    "#u = np.load(\"/work_fast/ge49cag/pytenet_yu/water/x.npy\")\n",
    "X_mo = u.transpose(1,0)\n",
    "g_thc, Z_mo = eval_func(u,eri,hkin,hnuc,)\n",
    "h1 = hnuc+hkin\n",
    "nmo = X_mo.shape[1]\n",
    "L = 2*X_mo.shape[1]\n",
    "g_thc = g_thc.reshape(nmo, nmo, nmo, nmo)\n",
    "r_thc = X_mo.shape[0]"
   ]
  },
  {
   "cell_type": "code",
   "execution_count": 11,
   "metadata": {},
   "outputs": [
    {
     "name": "stdout",
     "output_type": "stream",
     "text": [
      "[1, 16, 62, 100, 154, 100, 62, 16, 1]\n"
     ]
    }
   ],
   "source": [
    "# h1_spin = get_h1_spin(h1)\n",
    "# g_spin = get_g_spin(eri)\n",
    "g_phy =  eri.transpose(0, 2, 1, 3)\n",
    "#mpo_ref = ptn.hamiltonian.molecular_hamiltonian_mpo(h1_spin, g_spin_phy)\n",
    "mpo_ref = ptn.hamiltonian.spin_molecular_hamiltonian_mpo(h1, g_phy)\n",
    "print(mpo_ref.bond_dims)\n",
    "\n",
    "e_ground = -67.46923609481743\n",
    "e_1st_ex = -67.00839085980371\n",
    "e_2nd_ex = -67.00038986115365"
   ]
  },
  {
   "cell_type": "code",
   "execution_count": 4,
   "metadata": {},
   "outputs": [
    {
     "name": "stderr",
     "output_type": "stream",
     "text": [
      "/work_fast/ge49cag/pytenet_thc_spin_cons/thc_experiments/../pytenet/krylov.py:40: RuntimeWarning: beta[0] ~= 0 encountered during Lanczos iteration.\n",
      "  warnings.warn(\n",
      "/work_fast/ge49cag/pytenet_thc_spin_cons/thc_experiments/../pytenet/krylov.py:40: RuntimeWarning: beta[2] ~= 0 encountered during Lanczos iteration.\n",
      "  warnings.warn(\n"
     ]
    },
    {
     "name": "stdout",
     "output_type": "stream",
     "text": [
      "-1.1368683772161603e-13\n",
      "[1, 4, 16, 64, 130, 64, 16, 4, 1]\n"
     ]
    }
   ],
   "source": [
    "psi = generate_single_state(8, [3, 3, 3, 3, 3, 0, 0, 0])\n",
    "\n",
    "en_min, psi_min = ptn.calculate_ground_state_local_twosite(mpo_ref, psi, 10, 25, 0)\n",
    "e0 = en_min[-1]\n",
    "print(e0 - e_ground)\n",
    "print(psi_min.bond_dims)"
   ]
  },
  {
   "cell_type": "code",
   "execution_count": 5,
   "metadata": {},
   "outputs": [
    {
     "name": "stdout",
     "output_type": "stream",
     "text": [
      "[1, 4, 16, 64, 130, 64, 16, 4, 1]\n",
      "(-1.2789769243681803e-13+0j)\n"
     ]
    }
   ],
   "source": [
    "psi_test = copy.deepcopy(psi_min)\n",
    "psi_test.orthonormalize('right')\n",
    "psi_test.orthonormalize('left')\n",
    "psi_test.orthonormalize('right')\n",
    "psi_test.compress_direct_svd_left_max_bond(0, 150)\n",
    "psi_test.orthonormalize('left')\n",
    "psi_test.orthonormalize('right')\n",
    "psi_test.orthonormalize('left')\n",
    "\n",
    "print(psi_test.bond_dims)\n",
    "\n",
    "print(ptn.operation.operator_average(psi_test, mpo_ref) - e_ground)"
   ]
  },
  {
   "cell_type": "code",
   "execution_count": 6,
   "metadata": {},
   "outputs": [],
   "source": [
    "filename = f\"/work_fast/ge49cag/code_datas\" + f\"/NH3_ground_dmrg.pkl\"\n",
    "with open(filename, 'wb') as file:\n",
    "    pickle.dump(psi_min, file)"
   ]
  },
  {
   "cell_type": "code",
   "execution_count": 16,
   "metadata": {},
   "outputs": [
    {
     "name": "stdout",
     "output_type": "stream",
     "text": [
      "(-1.7337242752546445e-12+0j)\n"
     ]
    }
   ],
   "source": [
    "filename = f\"/work_fast/ge49cag/code_datas\" + f\"/NH3_ground_dmrg.pkl\"\n",
    "with open(filename, 'rb') as file:\n",
    "    NH3_ground = pickle.load(file)\n",
    "\n",
    "print(ptn.operation.operator_average(NH3_ground, mpo_ref) - e_ground)"
   ]
  },
  {
   "cell_type": "markdown",
   "metadata": {},
   "source": [
    "1st excited state:"
   ]
  },
  {
   "cell_type": "code",
   "execution_count": 17,
   "metadata": {},
   "outputs": [
    {
     "data": {
      "text/plain": [
       "1.0000000000000004"
      ]
     },
     "execution_count": 17,
     "metadata": {},
     "output_type": "execute_result"
    }
   ],
   "source": [
    "minus_ground = copy.deepcopy(NH3_ground)\n",
    "minus_ground.A[0] = -minus_ground.A[0]\n",
    "psi_ex_initial = ptn.operation.add_mps(generate_single_state(8, [3, 3, 3, 3, 3, 0, 0, 0]), minus_ground)\n",
    "psi_ex_initial.orthonormalize('right')\n",
    "psi_ex_initial.orthonormalize('left')"
   ]
  },
  {
   "cell_type": "code",
   "execution_count": 19,
   "metadata": {},
   "outputs": [
    {
     "name": "stdout",
     "output_type": "stream",
     "text": [
      "-0.46084523501548347\n",
      "[1, 4, 16, 64, 130, 64, 16, 4, 1]\n"
     ]
    }
   ],
   "source": [
    "en_1st_ex, psi_1st_ex = ptn.calculate_ground_state_local_twosite(mpo_ref, psi_ex_initial, 5, 25, 0)\n",
    "e1 = en_1st_ex[-1]\n",
    "print(e1 - e_1st_ex)\n",
    "print(psi_1st_ex.bond_dims)"
   ]
  },
  {
   "cell_type": "code",
   "execution_count": null,
   "metadata": {},
   "outputs": [],
   "source": [
    "psi_test_1st_ex = copy.deepcopy(psi_1st_ex)\n",
    "psi_test_1st_ex.orthonormalize('right')\n",
    "psi_test_1st_ex.orthonormalize('left')\n",
    "psi_test_1st_ex.orthonormalize('right')\n",
    "psi_test_1st_ex.compress_direct_svd_left_max_bond(0, 120)\n",
    "psi_test_1st_ex.orthonormalize('left')\n",
    "psi_test_1st_ex.orthonormalize('right')\n",
    "psi_test_1st_ex.orthonormalize('left')\n",
    "\n",
    "print(psi_test_1st_ex.bond_dims)\n",
    "\n",
    "print(ptn.operation.operator_average(psi_test_1st_ex, mpo_ref) - e_1st_ex)"
   ]
  },
  {
   "cell_type": "code",
   "execution_count": 8,
   "metadata": {},
   "outputs": [],
   "source": [
    "# anni_3_up = get_anni_op_mpo(3, 0, 7)\n",
    "# initial = ptn.operation.apply_operator(anni_3_up, copy.deepcopy(water_ground))"
   ]
  },
  {
   "cell_type": "markdown",
   "metadata": {},
   "source": [
    "test: (attention, here the index for ED is inversed!)"
   ]
  },
  {
   "cell_type": "code",
   "execution_count": 9,
   "metadata": {},
   "outputs": [],
   "source": [
    "# norm((ptn.fermi_sim.annihil_op(14, 2**(7)) @ (copy.deepcopy(water_ground)).as_vector()) + initial.as_vector())"
   ]
  },
  {
   "cell_type": "code",
   "execution_count": 10,
   "metadata": {},
   "outputs": [],
   "source": [
    "# initial.orthonormalize('right')\n",
    "\n",
    "# filename = f\"/work_fast/ge49cag/code_datas\" + f\"/water_ground_ionization.pkl\"\n",
    "# with open(filename, 'wb') as file:\n",
    "#     pickle.dump(initial, file)"
   ]
  },
  {
   "cell_type": "code",
   "execution_count": null,
   "metadata": {},
   "outputs": [],
   "source": []
  }
 ],
 "metadata": {
  "kernelspec": {
   "display_name": "Python 3",
   "language": "python",
   "name": "python3"
  },
  "language_info": {
   "codemirror_mode": {
    "name": "ipython",
    "version": 3
   },
   "file_extension": ".py",
   "mimetype": "text/x-python",
   "name": "python",
   "nbconvert_exporter": "python",
   "pygments_lexer": "ipython3",
   "version": "3.10.12"
  }
 },
 "nbformat": 4,
 "nbformat_minor": 2
}
