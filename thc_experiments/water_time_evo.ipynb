{
 "cells": [
  {
   "cell_type": "code",
   "execution_count": 1,
   "metadata": {},
   "outputs": [],
   "source": [
    "import sys\n",
    "sys.path.append('..')\n",
    "\n",
    "import numpy as np\n",
    "from pytenet.hartree_fock_mps import generate_single_state\n",
    "from pytenet.hamiltonian_thc import eval_func, generate_thc_mpos_by_layer_qn, get_t, get_h1_spin, get_g_spin\n",
    "from pytenet.global_krylov_method import generate_krylov_space_in_disk, get_W, get_S, remain_only_tridiagonal_elements\n",
    "from pytenet.global_krylov_method import generate_Hamiltonian_with_occupation_number, generate_reduced_H_non_ortho\n",
    "from pytenet.operation_thc import apply_thc_mpo_and_compress, add_mps_and_compress\n",
    "from pytenet.operation import vdot, add_mps\n",
    "import numpy as np\n",
    "from scipy import sparse\n",
    "import copy\n",
    "import h5py\n",
    "from numpy.linalg import norm\n",
    "#np.set_printoptions(precision=4,suppress=True)\n",
    "import scipy.io\n",
    "import matplotlib.pyplot as plt\n",
    "import pickle\n",
    "import pytenet as ptn\n",
    "import scipy.sparse.linalg as spla\n",
    "from pytenet.krylov_time_evo import ED_time_evo, Krylov_evo_using_vecs_single_step, Krylov_time_evo_using_vecs, Krylov_evo_using_built_space, create_Krylov_space, gram_schmidt, Krylov_evo_using_built_mps_space"
   ]
  },
  {
   "cell_type": "code",
   "execution_count": 2,
   "metadata": {},
   "outputs": [
    {
     "name": "stdout",
     "output_type": "stream",
     "text": [
      "7\n",
      "(7, 28)\n",
      "(28, 28)\n",
      "rl errV: 2.8386751875274264e-12\n",
      "abs errV: 2.0615721155266396e-11\n",
      "errt: 7.097049412242525e-13\n",
      "errh: 2.585427402664151e-13\n",
      "errht: 9.079449636842276e-14\n"
     ]
    }
   ],
   "source": [
    "#load integrals\n",
    "with h5py.File(\"../data_water/eri_water.hdf5\", \"r\") as f:\n",
    "#with h5py.File(\"/work_fast/ge49cag/pytenet_yu/water/eri_water.hdf5\", \"r\") as f:\n",
    "    eri = f[\"eri\"][()]\n",
    "    hkin = f[\"hkin\"][()]\n",
    "    hnuc = f[\"hnuc\"][()]\n",
    "\n",
    "#print(np.linalg.norm(eri))\n",
    "#print(eri.shape)\n",
    "\n",
    "no = eri.shape[0]\n",
    "MV = eri.reshape(no*no,no*no)\n",
    "\n",
    "u = np.load(\"../data_water/x.npy\")\n",
    "#u = np.load(\"/work_fast/ge49cag/pytenet_yu/water/x.npy\")\n",
    "X_mo = u.transpose(1,0)\n",
    "g_thc, Z_mo = eval_func(u,eri,hkin,hnuc,)\n",
    "h1 = hnuc+hkin\n",
    "nmo = X_mo.shape[1]\n",
    "L = X_mo.shape[1]\n",
    "g_thc = g_thc.reshape(nmo, nmo, nmo, nmo)\n",
    "r_thc = X_mo.shape[0]"
   ]
  },
  {
   "cell_type": "code",
   "execution_count": 3,
   "metadata": {},
   "outputs": [
    {
     "name": "stdout",
     "output_type": "stream",
     "text": [
      "[1, 16, 58, 96, 96, 58, 16, 1]\n"
     ]
    }
   ],
   "source": [
    "# h1_spin = get_h1_spin(h1)\n",
    "# g_spin = get_g_spin(eri)\n",
    "g_phy =  eri.transpose(0, 2, 1, 3)\n",
    "#mpo_ref = ptn.hamiltonian.molecular_hamiltonian_mpo(h1_spin, g_spin_phy)\n",
    "mpo_ref = ptn.hamiltonian.spin_molecular_hamiltonian_mpo(h1, g_phy)\n",
    "print(mpo_ref.bond_dims)"
   ]
  },
  {
   "cell_type": "code",
   "execution_count": 4,
   "metadata": {},
   "outputs": [],
   "source": [
    "#ref Hamiltonian as matrix\n",
    "H_ref = scipy.io.mmread('../data_water/H_water_correct.mtx').tocsr()\n",
    "H_thc = scipy.io.mmread('../data_water/H_water_thc.mtx').tocsr()\n",
    "\n",
    "#initial state\n",
    "filename = f\"/work_fast/ge49cag/code_datas\" + f\"/water_ground_ionization.pkl\"\n",
    "with open(filename, 'rb') as file:\n",
    "    initial_state = pickle.load(file)\n",
    "\n",
    "#thc mpo\n",
    "t = get_t(h1, eri)\n",
    "H_mu_nu_list_spin_layer = generate_thc_mpos_by_layer_qn(X_mo, Z_mo, L, t)\n",
    "r_THC = int((len(H_mu_nu_list_spin_layer)-1)**(1/2) / 2)\n",
    "    "
   ]
  },
  {
   "cell_type": "code",
   "execution_count": null,
   "metadata": {},
   "outputs": [
    {
     "name": "stderr",
     "output_type": "stream",
     "text": [
      "/work_fast/ge49cag/pytenet_thc_spin_cons/thc_experiments/../pytenet/krylov_time_evo.py:103: ComplexWarning: Casting complex values to real discards the imaginary part\n",
      "  TN[i, j] = np.vdot(Krylov_vector_list[i], H@Krylov_vector_list[j])\n"
     ]
    },
    {
     "name": "stdout",
     "output_type": "stream",
     "text": [
      "[[-8.19779895e-01+5.72583778e-01j]\n",
      " [ 6.25612246e-03+8.30175739e-03j]\n",
      " [ 5.19439204e-04-6.36076473e-04j]\n",
      " [-8.09283115e-05-4.25433979e-05j]]\n",
      "total swift: 1.9077630331028186\n",
      "5.4866900147348975e-06\n"
     ]
    }
   ],
   "source": [
    "N_krylov = 4\n",
    "\n",
    "# psi_krylov_ref = Krylov_time_evo_using_vecs(H_ref, N_krylov, initial_state.as_vector(), 1, 0.03)\n",
    "# psi_ed = ED_time_evo(H_ref, initial_state.as_vector(), 0.03)\n",
    "# print('total swift:', norm(psi_ed - initial_state.as_vector()))\n",
    "# print(norm(psi_krylov_ref - psi_ed))"
   ]
  },
  {
   "cell_type": "code",
   "execution_count": 6,
   "metadata": {},
   "outputs": [
    {
     "data": {
      "text/plain": [
       "'\\nfor i in range(n):\\nfirst update foldername\\ngenerate_krylov_space_in_disk(N_Krylov, H_mu_nu_list_spin_layer, psi_original, max_bond_Krylov, trunc_tol, r_THC, foldername)\\nthen calculate time-evolved state (with re-ortho)\\n'"
      ]
     },
     "execution_count": 6,
     "metadata": {},
     "output_type": "execute_result"
    }
   ],
   "source": [
    "'''\n",
    "for i in range(n):\n",
    "first update foldername\n",
    "generate_krylov_space_in_disk(N_Krylov, H_mu_nu_list_spin_layer, psi_original, max_bond_Krylov, trunc_tol, r_THC, foldername)\n",
    "then calculate time-evolved state (with re-ortho)\n",
    "'''\n",
    "#不需要创造很多文件夹储存文件，对每个文件好好命名然后都存在同一个文件夹即可"
   ]
  },
  {
   "cell_type": "code",
   "execution_count": null,
   "metadata": {},
   "outputs": [
    {
     "name": "stdout",
     "output_type": "stream",
     "text": [
      "25\n",
      "0.005\n",
      "[[ 9.12277076e-01+4.09569907e-01j]\n",
      " [ 7.02891426e-04-1.59174003e-03j]\n",
      " [-2.17667192e-05-8.57932323e-06j]\n",
      " [-1.45955943e-07+4.09603669e-07j]]\n",
      "trunc error 0.0003381346092251197\n",
      "krylov error 4.321174892779629e-09\n",
      "total error 0.0003381346163018882\n",
      "0.008\n",
      "[[ 7.80595680e-01+6.25030106e-01j]\n",
      " [ 1.71833703e-03-2.18978036e-03j]\n",
      " [-4.93515830e-05-3.38181422e-05j]\n",
      " [-9.26340238e-07+1.51871980e-06j]]\n",
      "trunc error 0.0005432200863476756\n",
      "krylov error 2.8293402217984362e-08\n",
      "total error 0.0005432201560540054\n",
      "0.01\n",
      "[[ 6.64499916e-01+7.47280237e-01j]\n",
      " [ 2.57103609e-03-2.34335723e-03j]\n",
      " [-6.82631881e-05-6.37196399e-05j]\n",
      " [-2.19481749e-06+2.68852285e-06j]]\n",
      "trunc error 0.0006783577907883388\n",
      "krylov error 6.901748649253585e-08\n",
      "total error 0.0006783580188202916\n",
      "0.02\n",
      "[[-1.16866495e-01+9.93123267e-01j]\n",
      " [ 6.91712506e-03+6.43572598e-04j]\n",
      " [-2.52202463e-05-3.69422311e-04j]\n",
      " [-2.69548007e-05+5.50050066e-06j]]\n",
      "trunc error 0.001384447772776346\n",
      "krylov error 1.0965504568938947e-06\n",
      "total error 0.0013844563084207786\n",
      "0.03\n",
      "[[-8.19779895e-01+5.72583778e-01j]\n",
      " [ 6.25612246e-03+8.30175739e-03j]\n",
      " [ 5.19439204e-04-6.36076473e-04j]\n",
      " [-8.09283115e-05-4.25433979e-05j]]\n",
      "trunc error 0.002047144075659127\n",
      "krylov error 5.4866900147348975e-06\n",
      "total error 0.0020472110995450737\n",
      "0.04\n",
      "[[-9.72588749e-01-2.32116748e-01j]\n",
      " [-2.56745628e-03+1.35740728e-02j]\n",
      " [ 1.41895506e-03-1.87051346e-04j]\n",
      " [-8.27603686e-05-1.95280239e-04j]]\n",
      "trunc error 0.0026922235562393325\n",
      "krylov error 1.705890122489035e-05\n",
      "total error 0.0026925233328180392\n",
      "0.05\n",
      "[[-4.72803783e-01-8.80997071e-01j]\n",
      " [-1.46584636e-02+8.99739033e-03j]\n",
      " [ 1.76683447e-03+1.27867724e-03j]\n",
      " [ 1.13656067e-04-3.86514204e-04j]]\n",
      "trunc error 0.0033143728966827106\n",
      "krylov error 4.078012059353811e-05\n",
      "total error 0.003315354420602472\n",
      "0.06\n",
      "[[ 0.34415698-9.38682119e-01j]\n",
      " [-0.01972473-5.74802667e-03j]\n",
      " [ 0.00055654+2.99715310e-03j]\n",
      " [ 0.00055652-3.78127868e-04j]]\n",
      "trunc error 0.0039110186794820805\n",
      "krylov error 8.241515441946866e-05\n",
      "total error 0.0039136469509332365\n",
      "0.07\n",
      "[[ 0.93008685-3.66541270e-01j]\n",
      " [-0.01042551-2.14503495e-02j]\n",
      " [-0.00220074+3.35243913e-03j]\n",
      " [ 0.00102166+9.49110934e-05j]]\n",
      "trunc error 0.004481771612591367\n",
      "krylov error 0.0001481190309196412\n",
      "total error 0.004487869911274052\n",
      "0.08\n",
      "[[ 0.89187497+0.45143808j]\n",
      " [ 0.0101372 -0.02514664j]\n",
      " [-0.00492136+0.00110647j]\n",
      " [ 0.00103507+0.00103177j]]\n",
      "trunc error 0.005028073798949213\n",
      "krylov error 0.0002439992386757104\n",
      "total error 0.005040754368658021\n",
      "0.09\n",
      "[[ 2.55267630e-01+0.96637293j]\n",
      " [ 2.84846199e-02-0.01043749j]\n",
      " [-5.21929537e-03-0.00321575j]\n",
      " [ 1.84701632e-04+0.00196412j]]\n",
      "trunc error 0.0055527385196272915\n",
      "krylov error 0.0003756783825265259\n",
      "total error 0.005576877810868128\n",
      "0.1\n",
      "[[-0.55247715+0.83281815j]\n",
      " [ 0.02964383+0.0156544j ]\n",
      " [-0.00172721-0.00704438j]\n",
      " [-0.0014432 +0.00210086j]]\n",
      "trunc error 0.006059364433717787\n",
      "krylov error 0.0005478885143321248\n",
      "total error 0.006102048197001841\n",
      "0.15\n",
      "[[ 0.99435486+0.09299457j]\n",
      " [-0.00157375-0.04899759j]\n",
      " [-0.00714531+0.01108152j]\n",
      " [ 0.00483351-0.00315535j]]\n",
      "trunc error 0.0084291370951222\n",
      "krylov error 0.0020849895875472337\n",
      "total error 0.008757885228368636\n",
      "0.2\n",
      "[[-0.38777034-9.19279623e-01j]\n",
      " [-0.05506707+3.29214532e-02j]\n",
      " [ 0.0193035 -2.80388845e-03j]\n",
      " [-0.00789761+2.72338583e-04j]]\n",
      "trunc error 0.010589989298042177\n",
      "krylov error 0.004530918410593255\n",
      "total error 0.011648508101408283\n",
      "0.3\n",
      "[[ 9.77636979e-01+0.18490456j]\n",
      " [ 2.32461778e-03-0.09620598j]\n",
      " [-1.21382680e-03+0.02625948j]\n",
      " [ 5.98524329e-04-0.00915708j]]\n",
      "trunc error 0.014987758115512726\n",
      "krylov error 0.010342025644465286\n",
      "total error 0.01852210231492125\n",
      "0.5\n",
      "[[-0.20603243-0.96446516j]\n",
      " [-0.1405202 +0.07579853j]\n",
      " [ 0.03917213-0.01191838j]\n",
      " [-0.01352585+0.00260617j]]\n",
      "trunc error 0.024978804527931258\n",
      "krylov error 0.023502117915161016\n",
      "total error 0.03535052936063253\n"
     ]
    }
   ],
   "source": [
    "# only use max_bond, don't set truncation tol!\n",
    "# need introduce min_bond again to reduce error!\n",
    "dt_list = [0.005, 0.008, 0.01, 0.02, 0.03, 0.04, 0.05, 0.06, 0.07, 0.08, 0.09, 0.1, 0.15, 0.2, 0.3, 0.5]\n",
    "#max_bond_list = [25, 30, 35, 40]\n",
    "max_bond_list = [25]\n",
    "\n",
    "for max_bond in max_bond_list:\n",
    "    print (max_bond)\n",
    "    space_test = create_Krylov_space(N_krylov, H_mu_nu_list_spin_layer, copy.deepcopy(initial_state), 0, max_bond, r_THC)\n",
    "    for dt in dt_list:\n",
    "        print (dt)\n",
    "        psi_krylov_ref = Krylov_time_evo_using_vecs(H_ref, N_krylov, initial_state.as_vector(), 1, dt)\n",
    "        psi_ed = ED_time_evo(H_ref, initial_state.as_vector(), dt)\n",
    "        vec_mps_test = Krylov_evo_using_built_mps_space(mpo_ref, space_test, max_bond, dt)\n",
    "        print('trunc error', norm(vec_mps_test.as_vector() - psi_krylov_ref))\n",
    "        print('krylov error', norm(psi_krylov_ref - psi_ed))\n",
    "        print('total error', norm(vec_mps_test.as_vector() - psi_ed))\n",
    "        \n",
    "# 用总时间1au画误差分析\n",
    "# 用总时间1fs = 40au画D=30/40时候的误差图（或许可以说明误差累积/以及由于纠缠，误差增长变快）\n",
    "# 并且比较内存使用\n",
    "# 或许也可以画"
   ]
  },
  {
   "cell_type": "code",
   "execution_count": null,
   "metadata": {},
   "outputs": [],
   "source": [
    "# dt = 0.03\n",
    "\n",
    "# Krylov_mps_list = copy.deepcopy(space_test)\n",
    "# TN = np.zeros([len(Krylov_mps_list),len(Krylov_mps_list)])\n",
    "# for i in range (TN.shape[0]):\n",
    "#     for j in range (TN.shape[1]):\n",
    "#         if abs(i - j) < 2:\n",
    "#             TN[i, j] = ptn.operation.operator_inner_product(Krylov_mps_list[i], mpo_ref, Krylov_mps_list[j])\n",
    "            \n",
    "# c1 = np.zeros([len(Krylov_mps_list), 1])\n",
    "# c1[0,0] = 1\n",
    "# exp_TN = spla.expm(-1j*dt*TN)\n",
    "# c_reduced = exp_TN@ c1\n",
    "\n",
    "# psi_evloved = copy.deepcopy(Krylov_mps_list[0])\n",
    "# psi_evloved.A[0] = c_reduced[0] *psi_evloved.A[0]\n",
    "\n",
    "# for i in range (1, len(Krylov_mps_list), 1):\n",
    "#     temp = copy.deepcopy(Krylov_mps_list[i])\n",
    "#     temp.A[0] = c_reduced[i] *temp.A[0]\n",
    "#     psi_evloved = add_mps(psi_evloved, temp)\n",
    "    \n",
    "# print(norm(psi_evloved.as_vector() - psi_krylov_ref))\n",
    "# psi_evloved.orthonormalize('right')\n",
    "# psi_evloved.orthonormalize('left')\n",
    "\n",
    "\n",
    "# psi_evloved.compress_direct_svd_right_max_bond(0, max_bond)\n",
    "# psi_evloved.orthonormalize('right')\n",
    "# psi_evloved.orthonormalize('left')\n",
    "    \n",
    "# print(norm(psi_evloved.as_vector() - psi_krylov_ref))\n",
    "# print(norm(psi_evloved.as_vector() - psi_ed))\n",
    "# print(norm(psi_krylov_ref - psi_ed))"
   ]
  },
  {
   "cell_type": "code",
   "execution_count": null,
   "metadata": {},
   "outputs": [],
   "source": [
    "# /tmp/ipykernel_3032840/2463284093.py:8: ComplexWarning: Casting complex values to real discards the imaginary part\n",
    "#   TN[i, j] = ptn.operation.operator_inner_product(Krylov_mps_list[i], mpo_ref, Krylov_mps_list[j])\n",
    "# 3.5432687797238603e-06\n",
    "# 9.462310845684574e-06\n",
    "# 1.093342968130352e-05\n",
    "# 5.4866900147348975e-06"
   ]
  },
  {
   "cell_type": "code",
   "execution_count": null,
   "metadata": {},
   "outputs": [
    {
     "name": "stdout",
     "output_type": "stream",
     "text": [
      "9.462310845684574e-06\n",
      "1.093342968130352e-05\n",
      "5.4866900147348975e-06\n"
     ]
    }
   ],
   "source": []
  },
  {
   "cell_type": "code",
   "execution_count": null,
   "metadata": {},
   "outputs": [],
   "source": [
    "# space_test_vec = []\n",
    "# for i in range (len(space_test)):\n",
    "#     temp = space_test[i].as_vector()\n",
    "#     temp /= norm(temp)\n",
    "#     space_test_vec.append(temp)\n",
    "\n",
    "# space_test_vec = gram_schmidt(space_test_vec)\n",
    "\n",
    "space_test_vec = [mps_krylov.as_vector() for mps_krylov in space_test]\n",
    "space_test_vec = gram_schmidt(space_test_vec)"
   ]
  },
  {
   "cell_type": "code",
   "execution_count": null,
   "metadata": {},
   "outputs": [
    {
     "name": "stdout",
     "output_type": "stream",
     "text": [
      "1.1907312675090874e-12\n",
      "4.078012058453979e-05\n"
     ]
    }
   ],
   "source": [
    "# #only use max_bond, don't set truncation tol!\n",
    "# vec_test = Krylov_evo_using_built_space(H_ref, space_test_vec, 0.05)\n",
    "# print(norm(vec_test - psi_krylov_ref))\n",
    "# print(norm(vec_test - psi_ed))"
   ]
  },
  {
   "cell_type": "code",
   "execution_count": null,
   "metadata": {},
   "outputs": [],
   "source": [
    "# dt = 0.03\n",
    "\n",
    "# D = 45:\n",
    "\n",
    "\n",
    "\n",
    "# D = 40:\n",
    "# 7.159356839258043e-13 (trunc error)\n",
    "# 5.486690011281797e-06 (total error)\n",
    "\n",
    "# D = 35\n",
    "# 3.537471270532817e-06 (trunc error)\n",
    "# 6.522437168647089e-06 (total error)\n",
    "\n",
    "# D= 30\n",
    "# 0.0004761841209985205 (trunc error)\n",
    "# 0.00047618669594564364 (total error)"
   ]
  },
  {
   "cell_type": "code",
   "execution_count": null,
   "metadata": {},
   "outputs": [],
   "source": []
  },
  {
   "cell_type": "code",
   "execution_count": null,
   "metadata": {},
   "outputs": [],
   "source": []
  }
 ],
 "metadata": {
  "kernelspec": {
   "display_name": "Python 3",
   "language": "python",
   "name": "python3"
  },
  "language_info": {
   "codemirror_mode": {
    "name": "ipython",
    "version": 3
   },
   "file_extension": ".py",
   "mimetype": "text/x-python",
   "name": "python",
   "nbconvert_exporter": "python",
   "pygments_lexer": "ipython3",
   "version": "3.10.12"
  }
 },
 "nbformat": 4,
 "nbformat_minor": 2
}
