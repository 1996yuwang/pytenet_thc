{
 "cells": [
  {
   "cell_type": "code",
   "execution_count": 12,
   "metadata": {},
   "outputs": [],
   "source": [
    "import sys\n",
    "sys.path.append('..')\n",
    "\n",
    "import numpy as np\n",
    "from pytenet.hartree_fock_mps import generate_single_state\n",
    "from pytenet.operation import add_mps\n",
    "from pytenet.hamiltonian_thc import eval_func, generate_thc_mpos_by_layer_qn, get_t, get_h1_spin, get_g_spin\n",
    "from pytenet.global_krylov_method import generate_krylov_space_in_disk, get_W, get_S, generate_re_ortho_space_with_coeff, coeff_canonical_orthogonalization, remain_only_tridiagonal_elements\n",
    "from pytenet.global_krylov_method import solve_ritz, generate_reduced_H_non_ortho, remain_only_tridiagonal_elements, coeff_gram_schmidt\n",
    "import numpy as np\n",
    "from scipy import sparse\n",
    "import copy\n",
    "import h5py\n",
    "from numpy.linalg import norm\n",
    "#np.set_printoptions(precision=4,suppress=True)\n",
    "import scipy.io\n",
    "import matplotlib.pyplot as plt\n",
    "import pickle\n",
    "import pytenet as ptn\n"
   ]
  },
  {
   "cell_type": "markdown",
   "metadata": {},
   "source": [
    "Load and initialize datas: \n",
    "\n",
    "no is number of spatial orbitals\n",
    "\n",
    "L is number of spinor orbitals, L = 2*no\n",
    "\n",
    "t_spin is one-body integral in Chemist's notation (considering spins)\n",
    "\n",
    "g_spin is two-body integral in Chemist's notation (considering spins)\n",
    "\n",
    "X_mo and Z_mo are THC tensors, X_mo_up/down are X_mo considering spins\n",
    "\n",
    "r_THC is THC rank"
   ]
  },
  {
   "cell_type": "code",
   "execution_count": 13,
   "metadata": {},
   "outputs": [
    {
     "name": "stdout",
     "output_type": "stream",
     "text": [
      "10\n",
      "(10, 54)\n",
      "(54, 54)\n",
      "rl errV: 1.4498292603511656e-11\n",
      "abs errV: 1.3196782231700643e-10\n",
      "errt: 2.099879258112062e-12\n",
      "errh: 6.558902582841945e-13\n",
      "errht: 5.566935276081254e-13\n"
     ]
    }
   ],
   "source": [
    "#load integrals\n",
    "#with h5py.File(\"data_water/eri_water.hdf5\", \"r\") as f:\n",
    "with h5py.File(\"/work_fast/ge49cag/code_Luo/data/CO/integral.hdf5\", \"r\") as f:\n",
    "    eri = f[\"eri\"][()]\n",
    "    hkin = f[\"hkin\"][()]\n",
    "    hnuc = f[\"hnuc\"][()]\n",
    "\n",
    "#print(np.linalg.norm(eri))\n",
    "#print(eri.shape)\n",
    "\n",
    "no = eri.shape[0]\n",
    "MV = eri.reshape(no*no,no*no)\n",
    "\n",
    "u = np.load(\"/work_fast/ge49cag/code_Luo/data/CO/x.npy\")\n",
    "#u = np.load(\"/work_fast/ge49cag/pytenet_yu/water/x.npy\")\n",
    "X_mo = u.transpose(1,0)\n",
    "g_thc, Z_mo = eval_func(u,eri,hkin,hnuc,)\n",
    "h1 = hnuc+hkin\n",
    "nmo = X_mo.shape[1]\n",
    "L = 2*X_mo.shape[1]\n",
    "g_thc = g_thc.reshape(nmo, nmo, nmo, nmo)\n",
    "r_thc = X_mo.shape[0]"
   ]
  },
  {
   "cell_type": "markdown",
   "metadata": {},
   "source": [
    "These Hamiltonian are exact molecular Hamiltonian and molecular Hamiltonian reconstructed by THC tensors. The calculation cost time, so that we store them in disk and load them when needed. For water molecule H2O in STO-6G basis, the error is small for r_THC = 28.\n",
    "\n",
    "Actually, considering there are always 10 electrons for a water molecule, we only retain the elements which operator quantum states with 10 electrons."
   ]
  },
  {
   "cell_type": "markdown",
   "metadata": {},
   "source": [
    "Generate THC-MPO by layers, using THC tensors. \n",
    "t_spin is used to create MPO for kinetic term.\n",
    "It returns a list of H_mu_nu, each H_mu_nu is also a list, which contains four smaller MPOs with bond dims 2.\n",
    "The final element of this list is MPO for kinetic term."
   ]
  },
  {
   "cell_type": "code",
   "execution_count": 14,
   "metadata": {},
   "outputs": [
    {
     "name": "stdout",
     "output_type": "stream",
     "text": [
      "<class 'list'>\n",
      "<class 'list'>\n",
      "<class 'pytenet.mpo.MPO'>\n",
      "[1, 2, 2, 2, 2, 2, 2, 2, 2, 2, 1]\n"
     ]
    }
   ],
   "source": [
    "#generate thc_mpo\n",
    "t = get_t(h1, eri)\n",
    "H_mu_nu_list_spin_layer = generate_thc_mpos_by_layer_qn(X_mo, Z_mo, L, t)\n",
    "\n",
    "print(type(H_mu_nu_list_spin_layer))\n",
    "print(type(H_mu_nu_list_spin_layer[0]))\n",
    "print(type(H_mu_nu_list_spin_layer[0][0]))\n",
    "print((H_mu_nu_list_spin_layer[0][0].bond_dims))"
   ]
  },
  {
   "cell_type": "markdown",
   "metadata": {},
   "source": [
    "Attention!!! Now mpo_ref is generated bt thc tensors!"
   ]
  },
  {
   "cell_type": "code",
   "execution_count": 15,
   "metadata": {},
   "outputs": [
    {
     "name": "stdout",
     "output_type": "stream",
     "text": [
      "[1, 16, 70, 108, 162, 232, 162, 108, 70, 16, 1]\n",
      "1.3196782231700643e-10\n"
     ]
    }
   ],
   "source": [
    "g_phy =  eri.transpose(0, 2, 1, 3)\n",
    "# mpo_ref = ptn.hamiltonian.spin_molecular_hamiltonian_mpo(h1, g_phy)\n",
    "# print(mpo_ref.bond_dims)\n",
    "\n",
    "g_thc_phy =  g_thc.transpose(0, 2, 1, 3)\n",
    "mpo_ref = ptn.hamiltonian.spin_molecular_hamiltonian_mpo(h1, g_thc_phy)\n",
    "print(mpo_ref.bond_dims)\n",
    "\n",
    "#these values generated from Pyscf\n",
    "e_ground = -135.0003866542846\n",
    "e_1st_ex = -134.7673453653453\n",
    "e_2nd_ex = -134.6729318042247\n",
    "\n",
    "print(norm(g_phy - g_thc_phy))"
   ]
  },
  {
   "cell_type": "markdown",
   "metadata": {},
   "source": [
    "For ground state finding, we use Hatree fock state |11111111110000> as initial state.\n",
    "\n",
    "For 1st excited state, please use single-excited Hatree-Fock state as initial state, or even superposition of several single-excited Hatree-Fock states as initial state."
   ]
  },
  {
   "cell_type": "code",
   "execution_count": 16,
   "metadata": {},
   "outputs": [],
   "source": [
    "initial = generate_single_state(10, [3, 3, 3, 3, 3, 0, 0, 0, 0, 0])"
   ]
  },
  {
   "cell_type": "markdown",
   "metadata": {},
   "source": [
    "We generate a group of orthogonal Krylov vectors using THC-MPO, with bond dim 40 for Krylov vectors. The vectors are stored in the folder = 'foldername', thus you don't have to generate them again for next time use. "
   ]
  },
  {
   "cell_type": "code",
   "execution_count": 17,
   "metadata": {},
   "outputs": [
    {
     "name": "stdout",
     "output_type": "stream",
     "text": [
      "[1, 4, 11, 22, 37, 56, 37, 22, 11, 4, 1]\n",
      "2\n",
      "[1, 4, 16, 57, 163, 250, 136, 57, 16, 4, 1]\n",
      "3\n",
      "[1, 4, 16, 64, 236, 250, 150, 57, 16, 4, 1]\n",
      "4\n",
      "[1, 4, 16, 63, 184, 250, 173, 63, 16, 4, 1]\n",
      "5\n",
      "[1, 4, 16, 63, 186, 250, 188, 63, 16, 4, 1]\n",
      "6\n",
      "[1, 4, 16, 63, 192, 250, 194, 63, 16, 4, 1]\n",
      "7\n",
      "[1, 4, 16, 63, 197, 250, 195, 63, 16, 4, 1]\n",
      "8\n",
      "[1, 4, 16, 63, 194, 250, 195, 63, 16, 4, 1]\n",
      "9\n",
      "[1, 4, 16, 63, 197, 250, 197, 63, 16, 4, 1]\n",
      "10\n",
      "[1, 4, 16, 63, 195, 250, 197, 63, 16, 4, 1]\n",
      "11\n",
      "[1, 4, 16, 64, 201, 250, 203, 64, 16, 4, 1]\n",
      "12\n",
      "[1, 4, 16, 64, 212, 250, 210, 64, 16, 4, 1]\n",
      "13\n"
     ]
    },
    {
     "ename": "KeyboardInterrupt",
     "evalue": "",
     "output_type": "error",
     "traceback": [
      "\u001b[0;31m---------------------------------------------------------------------------\u001b[0m",
      "\u001b[0;31mKeyboardInterrupt\u001b[0m                         Traceback (most recent call last)",
      "Cell \u001b[0;32mIn[17], line 6\u001b[0m\n\u001b[1;32m      4\u001b[0m trunc_tol \u001b[38;5;241m=\u001b[39m \u001b[38;5;241m1e-11\u001b[39m\n\u001b[1;32m      5\u001b[0m foldername_1 \u001b[38;5;241m=\u001b[39m \u001b[38;5;124mf\u001b[39m\u001b[38;5;124m\"\u001b[39m\u001b[38;5;124m/work_fast/ge49cag/code_datas/CO_Krylov\u001b[39m\u001b[38;5;124m\"\u001b[39m\n\u001b[0;32m----> 6\u001b[0m \u001b[43mgenerate_krylov_space_in_disk\u001b[49m\u001b[43m(\u001b[49m\u001b[43mN_Krylov_1\u001b[49m\u001b[43m,\u001b[49m\u001b[43m \u001b[49m\u001b[43mH_mu_nu_list_spin_layer\u001b[49m\u001b[43m,\u001b[49m\u001b[43m \u001b[49m\u001b[43mpsi_original_1\u001b[49m\u001b[43m,\u001b[49m\u001b[43m \u001b[49m\u001b[43mmax_bond_Krylov_1\u001b[49m\u001b[43m,\u001b[49m\u001b[43m \u001b[49m\u001b[43mtrunc_tol\u001b[49m\u001b[43m,\u001b[49m\u001b[43m \u001b[49m\u001b[43mr_thc\u001b[49m\u001b[43m,\u001b[49m\u001b[43m \u001b[49m\u001b[43mfoldername_1\u001b[49m\u001b[43m)\u001b[49m\n",
      "File \u001b[0;32m/work_fast/ge49cag/pytenet_thc_spin_cons/thc_experiments/../pytenet/global_krylov_method.py:66\u001b[0m, in \u001b[0;36mgenerate_krylov_space_in_disk\u001b[0;34m(N_Krylov, H_mu_nu_list_spin_layer, psi_original, max_bond_Krylov, trunc_tol, r_THC, foldername)\u001b[0m\n\u001b[1;32m     63\u001b[0m     orth_state2 \u001b[38;5;241m=\u001b[39m pickle\u001b[38;5;241m.\u001b[39mload(file)\n\u001b[1;32m     65\u001b[0m \u001b[38;5;66;03m#first calculate H \\v_i\u001b[39;00m\n\u001b[0;32m---> 66\u001b[0m this_state \u001b[38;5;241m=\u001b[39m \u001b[43mapply_thc_mpo_and_compress\u001b[49m\u001b[43m(\u001b[49m\u001b[43mH_mu_nu_list_spin_layer\u001b[49m\u001b[43m,\u001b[49m\u001b[43m \u001b[49m\u001b[43mcopy\u001b[49m\u001b[38;5;241;43m.\u001b[39;49m\u001b[43mdeepcopy\u001b[49m\u001b[43m(\u001b[49m\u001b[43morth_state2\u001b[49m\u001b[43m)\u001b[49m\u001b[43m,\u001b[49m\u001b[43m \u001b[49m\u001b[43mtrunc_tol\u001b[49m\u001b[43m,\u001b[49m\u001b[43m \u001b[49m\u001b[38;5;241;43m2\u001b[39;49m\u001b[38;5;241;43m*\u001b[39;49m\u001b[43mmax_bond_Krylov\u001b[49m\u001b[43m,\u001b[49m\u001b[43m \u001b[49m\u001b[43mr_THC\u001b[49m\u001b[43m)\u001b[49m\n\u001b[1;32m     67\u001b[0m this_state\u001b[38;5;241m.\u001b[39morthonormalize(\u001b[38;5;124m'\u001b[39m\u001b[38;5;124mright\u001b[39m\u001b[38;5;124m'\u001b[39m)\n\u001b[1;32m     68\u001b[0m \u001b[38;5;66;03m#print(this_state.bond_dims)\u001b[39;00m\n\u001b[1;32m     69\u001b[0m \u001b[38;5;66;03m#orthogonalize \"this state H \\v_i\" against the previous two” and compress the bond dims back \u001b[39;00m\n",
      "File \u001b[0;32m/work_fast/ge49cag/pytenet_thc_spin_cons/thc_experiments/../pytenet/operation_thc.py:87\u001b[0m, in \u001b[0;36mapply_thc_mpo_and_compress\u001b[0;34m(sub_H_list_as_layer, psi, trunc_tol, max_bond_global, r_THC)\u001b[0m\n\u001b[1;32m     84\u001b[0m     temp_mps \u001b[38;5;241m=\u001b[39m H_on_mps_compress_by_layer(temp_layers_mu, H_nu_psi, trunc_tol, max_bond_global)\n\u001b[1;32m     85\u001b[0m     \u001b[38;5;66;03m#we allow a little larger bond-dims for addition\u001b[39;00m\n\u001b[1;32m     86\u001b[0m     \u001b[38;5;66;03m#H_on_psi = add_mps_and_compress_direct_SVD(H_on_psi, temp_mps, trunc_tol, 2*max_bond_global) \u001b[39;00m\n\u001b[0;32m---> 87\u001b[0m     H_on_psi \u001b[38;5;241m=\u001b[39m \u001b[43madd_mps_and_compress\u001b[49m\u001b[43m(\u001b[49m\u001b[43mH_on_psi\u001b[49m\u001b[43m,\u001b[49m\u001b[43m \u001b[49m\u001b[43mtemp_mps\u001b[49m\u001b[43m,\u001b[49m\u001b[43m \u001b[49m\u001b[43mtrunc_tol\u001b[49m\u001b[43m,\u001b[49m\u001b[43m \u001b[49m\u001b[43mmax_bond_global\u001b[49m\u001b[43m)\u001b[49m \n\u001b[1;32m     88\u001b[0m     \u001b[38;5;66;03m#H_on_psi = add_mps_and_compress(H_on_psi, temp_mps, trunc_tol, max_bond_global) \u001b[39;00m\n\u001b[1;32m     89\u001b[0m \u001b[38;5;28;01mexcept\u001b[39;00m \u001b[38;5;167;01mException\u001b[39;00m:\n\u001b[1;32m     90\u001b[0m     \u001b[38;5;66;03m#svd_small_count += 1\u001b[39;00m\n",
      "File \u001b[0;32m/work_fast/ge49cag/pytenet_thc_spin_cons/thc_experiments/../pytenet/operation.py:410\u001b[0m, in \u001b[0;36madd_mps_and_compress\u001b[0;34m(psi1, psi2, tol, max_bond_apply)\u001b[0m\n\u001b[1;32m    404\u001b[0m \u001b[38;5;250m\u001b[39m\u001b[38;5;124;03m\"\"\"\u001b[39;00m\n\u001b[1;32m    405\u001b[0m \u001b[38;5;124;03mAdd two MPS, and then compress it, with tol and maximum bond dims.\u001b[39;00m\n\u001b[1;32m    406\u001b[0m \u001b[38;5;124;03m\u001b[39;00m\n\u001b[1;32m    407\u001b[0m \u001b[38;5;124;03mSee ptn.mps.local_orthonormalize_right_svd_max_bond for compression details.\u001b[39;00m\n\u001b[1;32m    408\u001b[0m \u001b[38;5;124;03m\"\"\"\u001b[39;00m\n\u001b[1;32m    409\u001b[0m psi \u001b[38;5;241m=\u001b[39m add_mps(psi1, psi2)\n\u001b[0;32m--> 410\u001b[0m \u001b[43mpsi\u001b[49m\u001b[38;5;241;43m.\u001b[39;49m\u001b[43mcompress_no_normalization_max_bond\u001b[49m\u001b[43m(\u001b[49m\u001b[43mtol\u001b[49m\u001b[43m,\u001b[49m\u001b[43m \u001b[49m\u001b[43mmax_bond\u001b[49m\u001b[43m \u001b[49m\u001b[38;5;241;43m=\u001b[39;49m\u001b[43m \u001b[49m\u001b[43mmax_bond_apply\u001b[49m\u001b[43m)\u001b[49m\n\u001b[1;32m    412\u001b[0m \u001b[38;5;28;01mreturn\u001b[39;00m psi\n",
      "File \u001b[0;32m/work_fast/ge49cag/pytenet_thc_spin_cons/thc_experiments/../pytenet/mps.py:236\u001b[0m, in \u001b[0;36mMPS.compress_no_normalization_max_bond\u001b[0;34m(self, tol, mode, max_bond)\u001b[0m\n\u001b[1;32m    222\u001b[0m \u001b[38;5;250m\u001b[39m\u001b[38;5;124;03m\"\"\"\u001b[39;00m\n\u001b[1;32m    223\u001b[0m \u001b[38;5;124;03mThis compression doesn't work with normalized MPS. Mainly used for H|\\psi> calculation, which is not normalzied.\u001b[39;00m\n\u001b[1;32m    224\u001b[0m \u001b[38;5;124;03m\u001b[39;00m\n\u001b[0;32m   (...)\u001b[0m\n\u001b[1;32m    232\u001b[0m \u001b[38;5;124;03mAttention: the tol here works on normalized matrix, thus the final error will be scaled by nrm!\u001b[39;00m\n\u001b[1;32m    233\u001b[0m \u001b[38;5;124;03m\"\"\"\u001b[39;00m\n\u001b[1;32m    234\u001b[0m \u001b[38;5;28;01mif\u001b[39;00m mode \u001b[38;5;241m==\u001b[39m \u001b[38;5;124m'\u001b[39m\u001b[38;5;124mleft\u001b[39m\u001b[38;5;124m'\u001b[39m:\n\u001b[1;32m    235\u001b[0m     \u001b[38;5;66;03m# transform to right-canonical form first\u001b[39;00m\n\u001b[0;32m--> 236\u001b[0m     nrm \u001b[38;5;241m=\u001b[39m \u001b[38;5;28;43mself\u001b[39;49m\u001b[38;5;241;43m.\u001b[39;49m\u001b[43morthonormalize\u001b[49m\u001b[43m(\u001b[49m\u001b[43mmode\u001b[49m\u001b[38;5;241;43m=\u001b[39;49m\u001b[38;5;124;43m'\u001b[39;49m\u001b[38;5;124;43mright\u001b[39;49m\u001b[38;5;124;43m'\u001b[39;49m\u001b[43m)\u001b[49m\n\u001b[1;32m    237\u001b[0m     \u001b[38;5;66;03m# cancel the normalization in this step:\u001b[39;00m\n\u001b[1;32m    238\u001b[0m     \u001b[38;5;28mself\u001b[39m\u001b[38;5;241m.\u001b[39mA[\u001b[38;5;241m0\u001b[39m] \u001b[38;5;241m=\u001b[39m nrm\u001b[38;5;241m*\u001b[39m \u001b[38;5;28mself\u001b[39m\u001b[38;5;241m.\u001b[39mA[\u001b[38;5;241m0\u001b[39m]\n",
      "File \u001b[0;32m/work_fast/ge49cag/pytenet_thc_spin_cons/thc_experiments/../pytenet/mps.py:112\u001b[0m, in \u001b[0;36mMPS.orthonormalize\u001b[0;34m(self, mode)\u001b[0m\n\u001b[1;32m    110\u001b[0m \u001b[38;5;28;01mif\u001b[39;00m mode \u001b[38;5;241m==\u001b[39m \u001b[38;5;124m'\u001b[39m\u001b[38;5;124mright\u001b[39m\u001b[38;5;124m'\u001b[39m:\n\u001b[1;32m    111\u001b[0m     \u001b[38;5;28;01mfor\u001b[39;00m i \u001b[38;5;129;01min\u001b[39;00m \u001b[38;5;28mreversed\u001b[39m(\u001b[38;5;28mrange\u001b[39m(\u001b[38;5;241m1\u001b[39m, \u001b[38;5;28mlen\u001b[39m(\u001b[38;5;28mself\u001b[39m\u001b[38;5;241m.\u001b[39mA))):\n\u001b[0;32m--> 112\u001b[0m         \u001b[38;5;28mself\u001b[39m\u001b[38;5;241m.\u001b[39mA[i], \u001b[38;5;28mself\u001b[39m\u001b[38;5;241m.\u001b[39mA[i\u001b[38;5;241m-\u001b[39m\u001b[38;5;241m1\u001b[39m], \u001b[38;5;28mself\u001b[39m\u001b[38;5;241m.\u001b[39mqD[i] \u001b[38;5;241m=\u001b[39m \u001b[43mlocal_orthonormalize_right_qr\u001b[49m\u001b[43m(\u001b[49m\u001b[38;5;28;43mself\u001b[39;49m\u001b[38;5;241;43m.\u001b[39;49m\u001b[43mA\u001b[49m\u001b[43m[\u001b[49m\u001b[43mi\u001b[49m\u001b[43m]\u001b[49m\u001b[43m,\u001b[49m\u001b[43m \u001b[49m\u001b[38;5;28;43mself\u001b[39;49m\u001b[38;5;241;43m.\u001b[39;49m\u001b[43mA\u001b[49m\u001b[43m[\u001b[49m\u001b[43mi\u001b[49m\u001b[38;5;241;43m-\u001b[39;49m\u001b[38;5;241;43m1\u001b[39;49m\u001b[43m]\u001b[49m\u001b[43m,\u001b[49m\u001b[43m \u001b[49m\u001b[38;5;28;43mself\u001b[39;49m\u001b[38;5;241;43m.\u001b[39;49m\u001b[43mqd\u001b[49m\u001b[43m,\u001b[49m\u001b[43m \u001b[49m\u001b[38;5;28;43mself\u001b[39;49m\u001b[38;5;241;43m.\u001b[39;49m\u001b[43mqD\u001b[49m\u001b[43m[\u001b[49m\u001b[43mi\u001b[49m\u001b[43m:\u001b[49m\u001b[43mi\u001b[49m\u001b[38;5;241;43m+\u001b[39;49m\u001b[38;5;241;43m2\u001b[39;49m\u001b[43m]\u001b[49m\u001b[43m)\u001b[49m\n\u001b[1;32m    113\u001b[0m     \u001b[38;5;66;03m# first tensor\u001b[39;00m\n\u001b[1;32m    114\u001b[0m     \u001b[38;5;28mself\u001b[39m\u001b[38;5;241m.\u001b[39mA[\u001b[38;5;241m0\u001b[39m], T, \u001b[38;5;28mself\u001b[39m\u001b[38;5;241m.\u001b[39mqD[\u001b[38;5;241m0\u001b[39m] \u001b[38;5;241m=\u001b[39m local_orthonormalize_right_qr(\u001b[38;5;28mself\u001b[39m\u001b[38;5;241m.\u001b[39mA[\u001b[38;5;241m0\u001b[39m], np\u001b[38;5;241m.\u001b[39marray([[[\u001b[38;5;241m1\u001b[39m]]]), \u001b[38;5;28mself\u001b[39m\u001b[38;5;241m.\u001b[39mqd, \u001b[38;5;28mself\u001b[39m\u001b[38;5;241m.\u001b[39mqD[:\u001b[38;5;241m2\u001b[39m])\n",
      "File \u001b[0;32m/work_fast/ge49cag/pytenet_thc_spin_cons/thc_experiments/../pytenet/mps.py:415\u001b[0m, in \u001b[0;36mlocal_orthonormalize_right_qr\u001b[0;34m(A, Aprev, qd, qD)\u001b[0m\n\u001b[1;32m    413\u001b[0m \u001b[38;5;28;01massert\u001b[39;00m \u001b[38;5;28mlen\u001b[39m(s) \u001b[38;5;241m==\u001b[39m \u001b[38;5;241m3\u001b[39m\n\u001b[1;32m    414\u001b[0m q0 \u001b[38;5;241m=\u001b[39m qnumber_flatten([qd, \u001b[38;5;241m-\u001b[39mqD[\u001b[38;5;241m1\u001b[39m]])\n\u001b[0;32m--> 415\u001b[0m Q, R, qbond \u001b[38;5;241m=\u001b[39m qr(\u001b[43mA\u001b[49m\u001b[38;5;241;43m.\u001b[39;49m\u001b[43mreshape\u001b[49m\u001b[43m(\u001b[49m\u001b[43m(\u001b[49m\u001b[43ms\u001b[49m\u001b[43m[\u001b[49m\u001b[38;5;241;43m0\u001b[39;49m\u001b[43m]\u001b[49m\u001b[38;5;241;43m*\u001b[39;49m\u001b[43ms\u001b[49m\u001b[43m[\u001b[49m\u001b[38;5;241;43m1\u001b[39;49m\u001b[43m]\u001b[49m\u001b[43m,\u001b[49m\u001b[43m \u001b[49m\u001b[43ms\u001b[49m\u001b[43m[\u001b[49m\u001b[38;5;241;43m2\u001b[39;49m\u001b[43m]\u001b[49m\u001b[43m)\u001b[49m\u001b[43m)\u001b[49m, q0, \u001b[38;5;241m-\u001b[39mqD[\u001b[38;5;241m0\u001b[39m])\n\u001b[1;32m    416\u001b[0m A \u001b[38;5;241m=\u001b[39m Q\u001b[38;5;241m.\u001b[39mreshape((s[\u001b[38;5;241m0\u001b[39m], s[\u001b[38;5;241m1\u001b[39m], Q\u001b[38;5;241m.\u001b[39mshape[\u001b[38;5;241m1\u001b[39m]))\u001b[38;5;241m.\u001b[39mtranspose((\u001b[38;5;241m0\u001b[39m, \u001b[38;5;241m2\u001b[39m, \u001b[38;5;241m1\u001b[39m))\n\u001b[1;32m    417\u001b[0m \u001b[38;5;66;03m# update Aprev tensor: multiply with R from right\u001b[39;00m\n",
      "\u001b[0;31mKeyboardInterrupt\u001b[0m: "
     ]
    }
   ],
   "source": [
    "N_Krylov_1 = 30\n",
    "psi_original_1 = copy.deepcopy(initial)\n",
    "max_bond_Krylov_1 = 250\n",
    "trunc_tol = 0\n",
    "foldername_1 = f\"/work_fast/ge49cag/code_datas/CO_Krylov\"\n",
    "generate_krylov_space_in_disk(N_Krylov_1, H_mu_nu_list_spin_layer, psi_original_1, max_bond_Krylov_1, trunc_tol, r_thc, foldername_1)"
   ]
  },
  {
   "cell_type": "code",
   "execution_count": null,
   "metadata": {},
   "outputs": [],
   "source": [
    "H_reduced_non_rotho_1 = generate_reduced_H_non_ortho(N_Krylov_1, foldername_1, mpo_ref)\n",
    "coeff_1 = coeff_gram_schmidt(N_Krylov_1, foldername_1)\n",
    "#H_reduced: elements calculated by post-orthogonalized Krylov vectos\n",
    "H_reduced_1 = np.einsum('ik, kl, jl -> ij', coeff_1.conj(), H_reduced_non_rotho_1, coeff_1)"
   ]
  },
  {
   "cell_type": "code",
   "execution_count": null,
   "metadata": {},
   "outputs": [],
   "source": [
    "e_ritz_1, v_ritz_1 = solve_ritz(foldername_1, H_reduced_1, N_Krylov_1, coeff_1, max_bond_Krylov_1, e_ground, mpo_ref)"
   ]
  },
  {
   "cell_type": "code",
   "execution_count": null,
   "metadata": {},
   "outputs": [],
   "source": [
    "N_Krylov_2 = 30\n",
    "psi_original_2 = copy.deepcopy(v_ritz_1)\n",
    "max_bond_Krylov_2 = 250\n",
    "trunc_tol = 0\n",
    "foldername_2= f\"/work_fast/ge49cag/code_datas/CO_Krylov_2\"\n",
    "generate_krylov_space_in_disk(N_Krylov_2, H_mu_nu_list_spin_layer, psi_original_2, max_bond_Krylov_2, trunc_tol, r_thc, foldername_2)\n",
    "\n"
   ]
  },
  {
   "cell_type": "code",
   "execution_count": null,
   "metadata": {},
   "outputs": [],
   "source": [
    "H_reduced_non_rotho_2 = generate_reduced_H_non_ortho(N_Krylov_2, foldername_2, mpo_ref)\n",
    "coeff_2 = coeff_gram_schmidt(N_Krylov_2, foldername_2)\n",
    "#H_reduced: elements calculated by post-orthogonalized Krylov vectos\n",
    "H_reduced_2 = np.einsum('ik, kl, jl -> ij', coeff_2.conj(), H_reduced_non_rotho_2, coeff_2)\n"
   ]
  },
  {
   "cell_type": "code",
   "execution_count": null,
   "metadata": {},
   "outputs": [],
   "source": [
    "e_ritz_2, v_ritz_2 = solve_ritz(foldername_2, H_reduced_2, N_Krylov_2, coeff_2, max_bond_Krylov_2, e_ground, mpo_ref)"
   ]
  },
  {
   "cell_type": "markdown",
   "metadata": {},
   "source": [
    "restart:"
   ]
  },
  {
   "cell_type": "code",
   "execution_count": null,
   "metadata": {},
   "outputs": [],
   "source": [
    "N_Krylov_3 = 20\n",
    "#psi_original_3 = copy.deepcopy(v_ritz_2)\n",
    "max_bond_Krylov_3 = 250\n",
    "trunc_tol = 0\n",
    "foldername_3 = f\"/work_fast/ge49cag/code_datas/CO_Krylov_3\"\n",
    "generate_krylov_space_in_disk(N_Krylov_3, H_mu_nu_list_spin_layer, psi_original_3, max_bond_Krylov_3, trunc_tol, r_thc, foldername_3)\n",
    "\n"
   ]
  },
  {
   "cell_type": "code",
   "execution_count": null,
   "metadata": {},
   "outputs": [],
   "source": [
    "\n",
    "H_reduced_non_rotho_3 = generate_reduced_H_non_ortho(N_Krylov_3, foldername_3, mpo_ref)\n",
    "coeff_3 = coeff_gram_schmidt(N_Krylov_3, foldername_3)\n",
    "#H_reduced: elements calculated by post-orthogonalized Krylov vectos\n",
    "H_reduced_3 = np.einsum('ik, kl, jl -> ij', coeff_3.conj(), H_reduced_non_rotho_3, coeff_3)\n"
   ]
  },
  {
   "cell_type": "code",
   "execution_count": null,
   "metadata": {},
   "outputs": [],
   "source": [
    "e_ritz_3, v_ritz_3 = solve_ritz(foldername_3, H_reduced_3, N_Krylov_3, coeff_3, max_bond_Krylov_3, e_ground, mpo_ref)"
   ]
  },
  {
   "cell_type": "markdown",
   "metadata": {},
   "source": [
    "restart:"
   ]
  },
  {
   "cell_type": "code",
   "execution_count": null,
   "metadata": {},
   "outputs": [],
   "source": [
    "N_Krylov_4 = 20\n",
    "psi_original_4 = copy.deepcopy(v_ritz_3)\n",
    "max_bond_Krylov_4 = 250\n",
    "trunc_tol = 0\n",
    "foldername_4 = f\"/work_fast/ge49cag/code_datas/CO_Krylov_4\"\n",
    "generate_krylov_space_in_disk(N_Krylov_4, H_mu_nu_list_spin_layer, psi_original_4, max_bond_Krylov_4, trunc_tol, r_thc, foldername_4)\n"
   ]
  },
  {
   "cell_type": "code",
   "execution_count": null,
   "metadata": {},
   "outputs": [],
   "source": [
    "H_reduced_non_rotho_4 = generate_reduced_H_non_ortho(N_Krylov_4, foldername_4, mpo_ref)\n",
    "coeff_4 = coeff_gram_schmidt(N_Krylov_4, foldername_4)\n",
    "#H_reduced: elements calculated by post-orthogonalized Krylov vectos\n",
    "H_reduced_4 = np.einsum('ik, kl, jl -> ij', coeff_4.conj(), H_reduced_non_rotho_4, coeff_4)\n"
   ]
  },
  {
   "cell_type": "code",
   "execution_count": null,
   "metadata": {},
   "outputs": [],
   "source": [
    "e_ritz_4, v_ritz_4 = solve_ritz(foldername_4, H_reduced_4, N_Krylov_4, coeff_4, max_bond_Krylov_4, e_ground, mpo_ref)"
   ]
  },
  {
   "cell_type": "code",
   "execution_count": null,
   "metadata": {},
   "outputs": [],
   "source": [
    "e_final, v_final = np.linalg.norm(H_reduced_4)\n",
    "print(e_final[0] - e_ground)"
   ]
  },
  {
   "cell_type": "code",
   "execution_count": null,
   "metadata": {},
   "outputs": [],
   "source": []
  },
  {
   "cell_type": "code",
   "execution_count": null,
   "metadata": {},
   "outputs": [],
   "source": []
  }
 ],
 "metadata": {
  "kernelspec": {
   "display_name": "Python 3",
   "language": "python",
   "name": "python3"
  },
  "language_info": {
   "codemirror_mode": {
    "name": "ipython",
    "version": 3
   },
   "file_extension": ".py",
   "mimetype": "text/x-python",
   "name": "python",
   "nbconvert_exporter": "python",
   "pygments_lexer": "ipython3",
   "version": "3.10.12"
  }
 },
 "nbformat": 4,
 "nbformat_minor": 2
}
