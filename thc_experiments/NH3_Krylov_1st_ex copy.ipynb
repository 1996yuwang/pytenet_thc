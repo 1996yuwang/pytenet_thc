{
 "cells": [
  {
   "cell_type": "code",
   "execution_count": 1,
   "metadata": {},
   "outputs": [],
   "source": [
    "import sys\n",
    "sys.path.append('..')\n",
    "\n",
    "import numpy as np\n",
    "from pytenet.hartree_fock_mps import generate_single_state\n",
    "from pytenet.operation import add_mps, operator_average\n",
    "from pytenet.hamiltonian_thc import eval_func, generate_thc_mpos_by_layer_qn, get_t_spin, get_h1_spin, get_g_spin, get_t\n",
    "from pytenet.global_krylov_method import generate_krylov_space_in_disk, get_W, get_S, generate_re_ortho_space_with_coeff, coeff_canonical_orthogonalization, remain_only_tridiagonal_elements\n",
    "from pytenet.global_krylov_method import solve_ritz, generate_reduced_H_non_ortho, remain_only_tridiagonal_elements, coeff_gram_schmidt,  generate_krylov_space_othogonal_against\n",
    "import numpy as np\n",
    "from scipy import sparse\n",
    "import copy\n",
    "import h5py\n",
    "from numpy.linalg import norm\n",
    "#np.set_printoptions(precision=4,suppress=True)\n",
    "import scipy.io\n",
    "import matplotlib.pyplot as plt\n",
    "import pickle\n",
    "import pytenet as ptn\n"
   ]
  },
  {
   "cell_type": "markdown",
   "metadata": {},
   "source": [
    "Load and initialize datas: \n",
    "\n",
    "no is number of spatial orbitals\n",
    "\n",
    "L is number of spinor orbitals, L = 2*no\n",
    "\n",
    "t_spin is one-body integral in Chemist's notation (considering spins)\n",
    "\n",
    "g_spin is two-body integral in Chemist's notation (considering spins)\n",
    "\n",
    "X_mo and Z_mo are THC tensors, X_mo_up/down are X_mo considering spins\n",
    "\n",
    "r_THC is THC rank"
   ]
  },
  {
   "cell_type": "code",
   "execution_count": 2,
   "metadata": {},
   "outputs": [
    {
     "name": "stdout",
     "output_type": "stream",
     "text": [
      "8\n",
      "(8, 36)\n",
      "(36, 36)\n",
      "rl errV: 6.421105521729929e-13\n",
      "abs errV: 4.286591936668418e-12\n",
      "errt: 1.0574710399920436e-13\n",
      "errh: 1.8088404989173088e-14\n",
      "errht: 9.006422291220954e-14\n"
     ]
    }
   ],
   "source": [
    "#load integrals\n",
    "with h5py.File(\"/work_fast/ge49cag/code_datas/NH3/integral.hdf5\", \"r\") as f:\n",
    "#with h5py.File(\"/work_fast/ge49cag/pytenet_yu/water/eri_water.hdf5\", \"r\") as f:\n",
    "    eri = f[\"eri\"][()]\n",
    "    hkin = f[\"hkin\"][()]\n",
    "    hnuc = f[\"hnuc\"][()]\n",
    "\n",
    "#print(np.linalg.norm(eri))\n",
    "#print(eri.shape)\n",
    "\n",
    "no = eri.shape[0]\n",
    "MV = eri.reshape(no*no,no*no)\n",
    "\n",
    "u = np.load(\"/work_fast/ge49cag/code_datas/NH3/x.npy\")\n",
    "#u = np.load(\"/work_fast/ge49cag/pytenet_yu/water/x.npy\")\n",
    "X_mo = u.transpose(1,0)\n",
    "g_thc, Z_mo = eval_func(u,eri,hkin,hnuc,)\n",
    "h1 = hnuc+hkin\n",
    "nmo = X_mo.shape[1]\n",
    "L = 2*X_mo.shape[1]\n",
    "g_thc = g_thc.reshape(nmo, nmo, nmo, nmo)\n",
    "r_thc = X_mo.shape[0]"
   ]
  },
  {
   "cell_type": "code",
   "execution_count": 3,
   "metadata": {},
   "outputs": [],
   "source": [
    "# H_correct = get_molecular_Hamiltonian_as_sparse_matrix(get_h1_spin(h1), get_g_spin(eri))\n",
    "# H_correct = scipy.io.mmread('/work_fast/ge49cag/code_datas/H_correct_NH3.mtx').tocsr()\n",
    "# H_correct_10e = generate_Hamiltonian_with_occupation_number(H_correct.real, 10)\n",
    "# sparse.linalg.eigsh(H_correct_10e, which='SA', k = 15)"
   ]
  },
  {
   "cell_type": "code",
   "execution_count": 4,
   "metadata": {},
   "outputs": [],
   "source": [
    "# H_correct_10e = generate_Hamiltonian_with_occupation_number(H_correct.real, 10)\n",
    "# sparse.linalg.eigsh(H_correct_10e, which='SA', k = 15)"
   ]
  },
  {
   "cell_type": "markdown",
   "metadata": {},
   "source": [
    "These Hamiltonian are exact molecular Hamiltonian and molecular Hamiltonian reconstructed by THC tensors. The calculation cost time, so that we store them in disk and load them when needed. For water molecule H2O in STO-6G basis, the error is small for r_THC = 28.\n",
    "\n",
    "Actually, considering there are always 10 electrons for a water molecule, we only retain the elements which operator quantum states with 10 electrons."
   ]
  },
  {
   "cell_type": "code",
   "execution_count": 5,
   "metadata": {},
   "outputs": [],
   "source": [
    "e_ground = -67.46923609481743\n",
    "e_1st_ex = -67.00839085980371\n",
    "e_2nd_ex = -67.00038986115365"
   ]
  },
  {
   "cell_type": "markdown",
   "metadata": {},
   "source": [
    "We can calculate elements in reduced Hamiltonian using conventional MPO.\n",
    "\n",
    "Since we only need to store ONE block during contraction, memory needed is only $\\mathcal{O}(L^2 M^2)$.\n",
    "\n",
    "Create conventional mpo for molecular Hamiltonian:"
   ]
  },
  {
   "cell_type": "code",
   "execution_count": 6,
   "metadata": {},
   "outputs": [
    {
     "name": "stdout",
     "output_type": "stream",
     "text": [
      "[1, 16, 62, 100, 154, 100, 62, 16, 1]\n"
     ]
    }
   ],
   "source": [
    "# h1_spin = get_h1_spin(h1)\n",
    "# g_spin = get_g_spin(eri)\n",
    "g_phy =  eri.transpose(0, 2, 1, 3)\n",
    "#mpo_ref = ptn.hamiltonian.molecular_hamiltonian_mpo(h1_spin, g_spin_phy)\n",
    "mpo_ref = ptn.hamiltonian.spin_molecular_hamiltonian_mpo(h1, g_phy)\n",
    "print(mpo_ref.bond_dims)"
   ]
  },
  {
   "cell_type": "markdown",
   "metadata": {},
   "source": [
    "Generate THC-MPO by layers, using THC tensors. \n",
    "t_spin is used to create MPO for kinetic term.\n",
    "It returns a list of H_mu_nu, each H_mu_nu is also a list, which contains four smaller MPOs with bond dims 2.\n",
    "The final element of this list is MPO for kinetic term."
   ]
  },
  {
   "cell_type": "code",
   "execution_count": 7,
   "metadata": {},
   "outputs": [
    {
     "name": "stdout",
     "output_type": "stream",
     "text": [
      "<class 'list'>\n",
      "<class 'list'>\n",
      "<class 'pytenet.mpo.MPO'>\n",
      "[1, 2, 2, 2, 2, 2, 2, 2, 1]\n"
     ]
    }
   ],
   "source": [
    "#generate thc_mpo\n",
    "t = get_t(h1, eri)\n",
    "H_mu_nu_list_spin_layer = generate_thc_mpos_by_layer_qn(X_mo, Z_mo, L, t)\n",
    "\n",
    "print(type(H_mu_nu_list_spin_layer))\n",
    "print(type(H_mu_nu_list_spin_layer[0]))\n",
    "print(type(H_mu_nu_list_spin_layer[0][0]))\n",
    "print((H_mu_nu_list_spin_layer[0][0].bond_dims))"
   ]
  },
  {
   "cell_type": "markdown",
   "metadata": {},
   "source": [
    "For ground state finding, we use Hatree fock state |11111111110000> as initial state.\n",
    "\n",
    "For 1st excited state, please use single-excited Hatree-Fock state as initial state."
   ]
  },
  {
   "cell_type": "code",
   "execution_count": 8,
   "metadata": {},
   "outputs": [
    {
     "name": "stdout",
     "output_type": "stream",
     "text": [
      "(0.00929712659700499+0j)\n"
     ]
    }
   ],
   "source": [
    "filename = f\"/work_fast/ge49cag/code_datas\" + f\"/NH3_1st_excited.pkl\"\n",
    "with open(filename, 'rb') as file:\n",
    "    initial = pickle.load(file)\n",
    "\n",
    "print(operator_average(initial, mpo_ref) - e_1st_ex)"
   ]
  },
  {
   "cell_type": "code",
   "execution_count": 9,
   "metadata": {},
   "outputs": [
    {
     "name": "stdout",
     "output_type": "stream",
     "text": [
      "(2.747419941329099e-06+0j)\n"
     ]
    }
   ],
   "source": [
    "filename = f\"/work_fast/ge49cag/code_datas\" + f\"/NH3_ground_state.pkl\"\n",
    "with open(filename, 'rb') as file:\n",
    "    NH3_ground = pickle.load(file)\n",
    "    \n",
    "print(operator_average(NH3_ground, mpo_ref) - e_ground)    "
   ]
  },
  {
   "cell_type": "markdown",
   "metadata": {},
   "source": [
    "MAYBE: for each new-generated Krylov, we delete the component of ground state and then store it.\n",
    "When approximate state is not available, orthogonalize a initial state to all previous ground/excited states.\n",
    "实在不行：用HFS强行和基态正交再找激发态。"
   ]
  },
  {
   "cell_type": "markdown",
   "metadata": {},
   "source": [
    "generate Krylov space:"
   ]
  },
  {
   "cell_type": "code",
   "execution_count": 10,
   "metadata": {},
   "outputs": [
    {
     "name": "stdout",
     "output_type": "stream",
     "text": [
      "[1, 4, 16, 64, 120, 64, 16, 4, 1]\n",
      "2\n",
      "[1, 4, 16, 64, 120, 64, 16, 4, 1]\n",
      "(-2.4659613515593914e-09+0j)\n",
      "3\n",
      "[1, 4, 16, 64, 120, 64, 16, 4, 1]\n",
      "(2.16929417854391e-07+0j)\n",
      "4\n",
      "[1, 4, 16, 64, 120, 64, 16, 4, 1]\n",
      "(3.865513989283133e-08+0j)\n",
      "5\n",
      "[1, 4, 16, 64, 120, 64, 16, 4, 1]\n",
      "(2.0112329943567774e-09+0j)\n",
      "6\n",
      "[1, 4, 16, 64, 120, 64, 16, 4, 1]\n",
      "(-1.1844591487033184e-06+0j)\n",
      "7\n",
      "[1, 4, 16, 64, 120, 64, 16, 4, 1]\n",
      "(-4.0172420206509556e-08+0j)\n",
      "8\n",
      "[1, 4, 16, 64, 120, 64, 16, 4, 1]\n",
      "(2.8989119722671653e-08+0j)\n",
      "9\n",
      "[1, 4, 16, 64, 120, 64, 16, 4, 1]\n",
      "(-2.795571492491015e-07+0j)\n",
      "10\n",
      "[1, 4, 16, 64, 120, 64, 16, 4, 1]\n",
      "(4.424207338961481e-08+0j)\n",
      "11\n",
      "[1, 4, 16, 64, 120, 64, 16, 4, 1]\n",
      "(-2.814530274667564e-09+0j)\n",
      "12\n",
      "[1, 4, 16, 64, 120, 64, 16, 4, 1]\n",
      "(-2.9695458826986e-06+0j)\n",
      "13\n",
      "[1, 4, 16, 64, 120, 64, 16, 4, 1]\n",
      "(7.761583196638777e-08+0j)\n",
      "14\n",
      "[1, 4, 16, 64, 120, 64, 16, 4, 1]\n",
      "(7.6710679782605e-08+0j)\n",
      "15\n",
      "[1, 4, 16, 64, 120, 64, 16, 4, 1]\n",
      "(1.6273267321605225e-07+0j)\n",
      "16\n",
      "[1, 4, 16, 64, 120, 64, 16, 4, 1]\n",
      "(3.5791889960305235e-08+0j)\n",
      "17\n",
      "[1, 4, 16, 64, 120, 64, 16, 4, 1]\n",
      "(-4.313492247378151e-07+0j)\n",
      "18\n",
      "[1, 4, 16, 64, 120, 64, 16, 4, 1]\n",
      "(1.2098081212940763e-07+0j)\n",
      "19\n",
      "[1, 4, 16, 64, 120, 64, 16, 4, 1]\n",
      "(-4.431820065775973e-08+0j)\n",
      "20\n",
      "[1, 4, 16, 64, 120, 64, 16, 4, 1]\n",
      "(1.8863830769018397e-07+0j)\n",
      "21\n",
      "[1, 4, 16, 64, 120, 64, 16, 4, 1]\n",
      "(-2.3377176514390767e-07+0j)\n",
      "22\n",
      "[1, 4, 16, 64, 120, 64, 16, 4, 1]\n",
      "(6.164673601395708e-08+0j)\n",
      "23\n",
      "[1, 4, 16, 64, 120, 64, 16, 4, 1]\n",
      "(6.195093117644635e-07+0j)\n",
      "24\n",
      "[1, 4, 16, 64, 120, 64, 16, 4, 1]\n",
      "(6.666752064764204e-07+0j)\n",
      "25\n",
      "[1, 4, 16, 64, 120, 64, 16, 4, 1]\n",
      "(8.301792121936458e-09+0j)\n",
      "26\n",
      "[1, 4, 16, 64, 120, 64, 16, 4, 1]\n",
      "(-3.242398349053051e-09+0j)\n",
      "27\n",
      "[1, 4, 16, 64, 120, 64, 16, 4, 1]\n",
      "(-1.4937354177761361e-06+0j)\n",
      "28\n",
      "[1, 4, 16, 64, 120, 64, 16, 4, 1]\n",
      "(3.4125434605585653e-07+0j)\n",
      "29\n",
      "[1, 4, 16, 64, 120, 64, 16, 4, 1]\n",
      "(3.932011779920791e-07+0j)\n",
      "30\n",
      "[1, 4, 16, 64, 120, 64, 16, 4, 1]\n",
      "(-2.822683296437641e-07+0j)\n",
      "31\n",
      "[1, 4, 16, 64, 120, 64, 16, 4, 1]\n",
      "(1.1578691415137536e-08+0j)\n",
      "32\n",
      "[1, 4, 16, 64, 120, 64, 16, 4, 1]\n",
      "(-1.426526763369045e-06+0j)\n",
      "33\n",
      "[1, 4, 16, 64, 120, 64, 16, 4, 1]\n",
      "(1.0478719604906604e-08+0j)\n",
      "34\n",
      "[1, 4, 16, 64, 120, 64, 16, 4, 1]\n",
      "(3.426607276376325e-08+0j)\n",
      "35\n",
      "[1, 4, 16, 64, 120, 64, 16, 4, 1]\n",
      "(-2.8539590438107104e-06+0j)\n",
      "36\n",
      "[1, 4, 16, 64, 120, 64, 16, 4, 1]\n",
      "(4.931704566269867e-09+0j)\n",
      "37\n",
      "[1, 4, 16, 64, 120, 64, 16, 4, 1]\n",
      "(3.0367773335167173e-08+0j)\n",
      "38\n",
      "[1, 4, 16, 64, 120, 64, 16, 4, 1]\n",
      "(-3.562841127508306e-07+0j)\n",
      "39\n",
      "[1, 4, 16, 64, 120, 64, 16, 4, 1]\n",
      "(-3.1816496396319064e-09+0j)\n",
      "40\n",
      "[1, 4, 16, 64, 120, 64, 16, 4, 1]\n",
      "(1.1822938060229574e-06+0j)\n",
      "41\n",
      "[1, 4, 16, 64, 120, 64, 16, 4, 1]\n",
      "(-8.257476858590605e-08+0j)\n",
      "42\n",
      "[1, 4, 16, 64, 120, 64, 16, 4, 1]\n",
      "(7.907411377023948e-09+0j)\n",
      "43\n",
      "[1, 4, 16, 64, 120, 64, 16, 4, 1]\n",
      "(4.1482427329234505e-07+0j)\n",
      "44\n",
      "[1, 4, 16, 64, 120, 64, 16, 4, 1]\n",
      "(-4.9457761525854675e-08+0j)\n",
      "45\n",
      "[1, 4, 16, 64, 120, 64, 16, 4, 1]\n",
      "(-1.5485525623035092e-09+0j)\n",
      "46\n",
      "[1, 4, 16, 64, 120, 64, 16, 4, 1]\n",
      "(-1.1356081284474287e-06+0j)\n",
      "47\n",
      "[1, 4, 16, 64, 120, 64, 16, 4, 1]\n",
      "(2.1316389174546387e-07+0j)\n",
      "48\n",
      "[1, 4, 16, 64, 120, 64, 16, 4, 1]\n",
      "(-7.306949301453039e-08+0j)\n",
      "49\n",
      "[1, 4, 16, 64, 120, 64, 16, 4, 1]\n",
      "(-4.01969461124041e-07+0j)\n"
     ]
    }
   ],
   "source": [
    "N_Krylov_1 = 50\n",
    "psi_original_1 = copy.deepcopy(initial)\n",
    "max_bond_Krylov_1 = 120\n",
    "trunc_tol = 0\n",
    "foldername_1 = f\"/work_fast/ge49cag/code_datas/NH3_1st_ex\" \n",
    "#generate_krylov_space_in_disk(N_Krylov_1, H_mu_nu_list_spin_layer, psi_original_1, max_bond_Krylov_1, trunc_tol, r_thc, foldername_1)\n",
    "generate_krylov_space_othogonal_against(N_Krylov_1, H_mu_nu_list_spin_layer, psi_original_1, max_bond_Krylov_1, trunc_tol, r_thc, foldername_1, copy.deepcopy(NH3_ground))\n",
    "#generate_krylov_space_othogonal_against(N_Krylov, H_mu_nu_list_spin_layer, psi_original, max_bond_Krylov, trunc_tol, r_THC, foldername, vec_to_remove)"
   ]
  },
  {
   "cell_type": "code",
   "execution_count": 11,
   "metadata": {},
   "outputs": [
    {
     "name": "stderr",
     "output_type": "stream",
     "text": [
      "/work_fast/ge49cag/pytenet_thc_spin_cons/thc_experiments/../pytenet/global_krylov_method.py:214: ComplexWarning: Casting complex values to real discards the imaginary part\n",
      "  H_reduced[i, j] = operator_inner_product(temp1, H_mpo, temp2)\n"
     ]
    },
    {
     "name": "stderr",
     "output_type": "stream",
     "text": [
      "/work_fast/ge49cag/pytenet_thc_spin_cons/thc_experiments/../pytenet/global_krylov_method.py:113: ComplexWarning: Casting complex values to real discards the imaginary part\n",
      "  W[i,j] = vdot(temp1, temp2)\n"
     ]
    }
   ],
   "source": [
    "#或许在这一步生成GS的时候也把ground state考虑进来\n",
    "H_reduced_non_rotho_1 = generate_reduced_H_non_ortho(N_Krylov_1, foldername_1, mpo_ref)\n",
    "coeff_1 = coeff_gram_schmidt(N_Krylov_1, foldername_1)\n",
    "H_reduced_1 = np.einsum('ik, kl, jl -> ij', coeff_1.conj(), H_reduced_non_rotho_1, coeff_1)"
   ]
  },
  {
   "cell_type": "code",
   "execution_count": 12,
   "metadata": {},
   "outputs": [
    {
     "name": "stdout",
     "output_type": "stream",
     "text": [
      "(0.008924045400320324+0j)\n",
      "(0.006944921621780509+0j)\n",
      "(0.004542685286736514+0j)\n"
     ]
    },
    {
     "name": "stdout",
     "output_type": "stream",
     "text": [
      "(0.003525847583532027+0j)\n",
      "(0.0028409863732150598+0j)\n",
      "(0.002382367171549049+0j)\n",
      "(0.0021164262737585204+0j)\n",
      "(0.0018315294370978563+0j)\n",
      "(0.00152519022194042+0j)\n",
      "(0.001436938691853129+0j)\n"
     ]
    }
   ],
   "source": [
    "e_ritz_1, v_ritz_1 = solve_ritz(foldername_1, H_reduced_1, N_Krylov_1, coeff_1, max_bond_Krylov_1, e_1st_ex, mpo_ref)"
   ]
  },
  {
   "cell_type": "code",
   "execution_count": 13,
   "metadata": {},
   "outputs": [],
   "source": [
    "# spin = 0\n",
    "# for i in range (L):\n",
    "#     if i%2 == 0:\n",
    "#         spin_local = 0.5* operator_average(v_ritz_1, get_num_op_mpo(i, L))\n",
    "#     if i%2 == 1:\n",
    "#         spin_local = -0.5* operator_average(v_ritz_1, get_num_op_mpo(i, L))\n",
    "#     spin += spin_local \n",
    "# print(spin)"
   ]
  },
  {
   "cell_type": "markdown",
   "metadata": {},
   "source": [
    "Restart:"
   ]
  },
  {
   "cell_type": "code",
   "execution_count": 14,
   "metadata": {},
   "outputs": [
    {
     "name": "stdout",
     "output_type": "stream",
     "text": [
      "[1, 4, 16, 64, 120, 64, 16, 4, 1]\n",
      "2\n",
      "[1, 4, 16, 64, 120, 64, 16, 4, 1]\n",
      "(-6.77047505470435e-06+0j)\n",
      "3\n",
      "[1, 4, 16, 64, 120, 64, 16, 4, 1]\n",
      "(-1.2933849698838579e-06+0j)\n",
      "4\n",
      "[1, 4, 16, 64, 120, 64, 16, 4, 1]\n",
      "(3.772016248569063e-07+0j)\n",
      "5\n",
      "[1, 4, 16, 64, 120, 64, 16, 4, 1]\n",
      "(2.0990392024621059e-07+0j)\n",
      "6\n",
      "[1, 4, 16, 64, 120, 64, 16, 4, 1]\n",
      "(-3.885470724582259e-06+0j)\n",
      "7\n",
      "[1, 4, 16, 64, 120, 64, 16, 4, 1]\n",
      "(2.107521030046309e-08+0j)\n",
      "8\n",
      "[1, 4, 16, 64, 120, 64, 16, 4, 1]\n",
      "(-6.509714558195473e-07+0j)\n",
      "9\n",
      "[1, 4, 16, 64, 120, 64, 16, 4, 1]\n",
      "(3.448180842619225e-07+0j)\n",
      "10\n",
      "[1, 4, 16, 64, 120, 64, 16, 4, 1]\n",
      "(9.733482179195114e-08+0j)\n",
      "11\n",
      "[1, 4, 16, 64, 120, 64, 16, 4, 1]\n",
      "(1.0429497301813612e-08+0j)\n",
      "12\n",
      "[1, 4, 16, 64, 120, 64, 16, 4, 1]\n",
      "(-4.6068225919828005e-07+0j)\n",
      "13\n",
      "[1, 4, 16, 64, 120, 64, 16, 4, 1]\n",
      "(4.149838447702059e-09+0j)\n",
      "14\n",
      "[1, 4, 16, 64, 120, 64, 16, 4, 1]\n",
      "(-1.6312851680045108e-07+0j)\n",
      "15\n",
      "[1, 4, 16, 64, 120, 64, 16, 4, 1]\n",
      "(-1.7616285503729628e-07+0j)\n",
      "16\n",
      "[1, 4, 16, 64, 120, 64, 16, 4, 1]\n",
      "(4.532341180791752e-08+0j)\n",
      "17\n",
      "[1, 4, 16, 64, 120, 64, 16, 4, 1]\n",
      "(-3.4636540497526617e-07+0j)\n",
      "18\n",
      "[1, 4, 16, 64, 120, 64, 16, 4, 1]\n",
      "(-1.0303910567621222e-07+0j)\n",
      "19\n",
      "[1, 4, 16, 64, 120, 64, 16, 4, 1]\n",
      "(1.6997501189988965e-07+0j)\n",
      "20\n",
      "[1, 4, 16, 64, 120, 64, 16, 4, 1]\n",
      "(8.481373676398217e-07+0j)\n",
      "21\n",
      "[1, 4, 16, 64, 120, 64, 16, 4, 1]\n",
      "(-1.0693115147754681e-07+0j)\n",
      "22\n",
      "[1, 4, 16, 64, 120, 64, 16, 4, 1]\n",
      "(-5.397854122296005e-08+0j)\n",
      "23\n",
      "[1, 4, 16, 64, 120, 64, 16, 4, 1]\n",
      "(-4.946558907415659e-08+0j)\n",
      "24\n",
      "[1, 4, 16, 64, 120, 64, 16, 4, 1]\n",
      "(-1.6569298094806296e-06+0j)\n",
      "25\n",
      "[1, 4, 16, 64, 120, 64, 16, 4, 1]\n",
      "(1.8801251498573037e-08+0j)\n",
      "26\n",
      "[1, 4, 16, 64, 120, 64, 16, 4, 1]\n",
      "(-4.309557288609549e-07+0j)\n",
      "27\n",
      "[1, 4, 16, 64, 120, 64, 16, 4, 1]\n",
      "(1.281702551044579e-07+0j)\n",
      "28\n",
      "[1, 4, 16, 64, 120, 64, 16, 4, 1]\n",
      "(2.68111547518311e-07+0j)\n",
      "29\n",
      "[1, 4, 16, 64, 120, 64, 16, 4, 1]\n",
      "(3.7319002984062283e-08+0j)\n",
      "30\n",
      "[1, 4, 16, 64, 120, 64, 16, 4, 1]\n",
      "(3.958837833082946e-08+0j)\n",
      "31\n",
      "[1, 4, 16, 64, 120, 64, 16, 4, 1]\n",
      "(-1.135622235145877e-08+0j)\n",
      "32\n",
      "[1, 4, 16, 64, 120, 64, 16, 4, 1]\n",
      "(1.3890073429934785e-06+0j)\n",
      "33\n",
      "[1, 4, 16, 64, 120, 64, 16, 4, 1]\n",
      "(-1.156844640097705e-08+0j)\n",
      "34\n",
      "[1, 4, 16, 64, 120, 64, 16, 4, 1]\n",
      "(-2.0572821662543078e-07+0j)\n",
      "35\n",
      "[1, 4, 16, 64, 120, 64, 16, 4, 1]\n",
      "(-5.884727129104703e-07+0j)\n",
      "36\n",
      "[1, 4, 16, 64, 120, 64, 16, 4, 1]\n",
      "(-1.8772706090815932e-08+0j)\n",
      "37\n",
      "[1, 4, 16, 64, 120, 64, 16, 4, 1]\n",
      "(-2.2248341449856122e-09+0j)\n",
      "38\n",
      "[1, 4, 16, 64, 120, 64, 16, 4, 1]\n",
      "(1.4391978465694202e-08+0j)\n",
      "39\n",
      "[1, 4, 16, 64, 120, 64, 16, 4, 1]\n",
      "(-4.678903545640364e-09+0j)\n",
      "40\n",
      "[1, 4, 16, 64, 120, 64, 16, 4, 1]\n",
      "(4.848006237208346e-07+0j)\n",
      "41\n",
      "[1, 4, 16, 64, 120, 64, 16, 4, 1]\n",
      "(-4.775856750371501e-07+0j)\n",
      "42\n",
      "[1, 4, 16, 64, 120, 64, 16, 4, 1]\n",
      "(2.3292565143562217e-08+0j)\n",
      "43\n",
      "[1, 4, 16, 64, 120, 64, 16, 4, 1]\n",
      "(1.4121913629895882e-06+0j)\n",
      "44\n",
      "[1, 4, 16, 64, 120, 64, 16, 4, 1]\n",
      "(-3.7683681422311045e-07+0j)\n",
      "45\n",
      "[1, 4, 16, 64, 120, 64, 16, 4, 1]\n",
      "(4.324471150585988e-09+0j)\n",
      "46\n",
      "[1, 4, 16, 64, 120, 64, 16, 4, 1]\n",
      "(-3.9583509624612737e-07+0j)\n",
      "47\n",
      "[1, 4, 16, 64, 120, 64, 16, 4, 1]\n",
      "(1.7245092210303996e-08+0j)\n",
      "48\n",
      "[1, 4, 16, 64, 120, 64, 16, 4, 1]\n",
      "(-6.157691214477029e-08+0j)\n",
      "49\n",
      "[1, 4, 16, 64, 120, 64, 16, 4, 1]\n",
      "(-9.122730149978644e-07+0j)\n"
     ]
    }
   ],
   "source": [
    "N_Krylov_2 = 50\n",
    "psi_original_2 = copy.deepcopy(v_ritz_1)\n",
    "max_bond_Krylov_2 = 120\n",
    "trunc_tol = 0\n",
    "foldername_2= f\"/work_fast/ge49cag/code_datas/NH3_1st_ex_restart_1\"\n",
    "generate_krylov_space_othogonal_against(N_Krylov_2, H_mu_nu_list_spin_layer, psi_original_2, max_bond_Krylov_2, trunc_tol, r_thc, foldername_2, copy.deepcopy(NH3_ground))"
   ]
  },
  {
   "cell_type": "code",
   "execution_count": 15,
   "metadata": {},
   "outputs": [],
   "source": [
    "H_reduced_non_rotho_2 = generate_reduced_H_non_ortho(N_Krylov_2, foldername_2, mpo_ref)\n",
    "coeff_2 = coeff_gram_schmidt(N_Krylov_2, foldername_2)\n",
    "#H_reduced: elements calculated by post-orthogonalized Krylov vectos\n",
    "H_reduced_2 = np.einsum('ik, kl, jl -> ij', coeff_2.conj(), H_reduced_non_rotho_2, coeff_2)\n",
    "#H_reduced_2 = remain_only_tridiagonal_elements(H_reduced_2)"
   ]
  },
  {
   "cell_type": "code",
   "execution_count": 16,
   "metadata": {},
   "outputs": [],
   "source": [
    "H_reduced_2 = np.einsum('ik, kl, jl -> ij', coeff_2.conj(), H_reduced_non_rotho_2, coeff_2)"
   ]
  },
  {
   "cell_type": "code",
   "execution_count": 17,
   "metadata": {},
   "outputs": [
    {
     "name": "stdout",
     "output_type": "stream",
     "text": [
      "(0.001397955184486932+0j)\n",
      "(0.0013183691311979828+0j)\n",
      "(0.0012464339127689072+0j)\n",
      "(0.0011965522737682477+0j)\n",
      "(0.0011858446152643864+0j)\n",
      "(0.0011833601004553884+0j)\n",
      "(0.0011826279005475726+0j)\n",
      "(0.0011798755404157646+0j)\n",
      "(0.0011749765497484077+0j)\n",
      "(0.001154484244935361+0j)\n"
     ]
    }
   ],
   "source": [
    "e_ritz_2, v_ritz_2 = solve_ritz(foldername_2, H_reduced_2, N_Krylov_2, coeff_2, max_bond_Krylov_2, e_1st_ex, mpo_ref)"
   ]
  },
  {
   "cell_type": "markdown",
   "metadata": {},
   "source": [
    "Restart:"
   ]
  },
  {
   "cell_type": "code",
   "execution_count": 18,
   "metadata": {},
   "outputs": [
    {
     "name": "stdout",
     "output_type": "stream",
     "text": [
      "[1, 4, 16, 64, 120, 64, 16, 4, 1]\n",
      "2\n",
      "[1, 4, 16, 64, 120, 64, 16, 4, 1]\n",
      "(8.353112347673614e-06+0j)\n",
      "3\n",
      "[1, 4, 16, 64, 120, 64, 16, 4, 1]\n",
      "(6.9899508935772e-06+0j)\n",
      "4\n",
      "[1, 4, 16, 64, 120, 64, 16, 4, 1]\n",
      "(-4.816275200445849e-07+0j)\n",
      "5\n",
      "[1, 4, 16, 64, 120, 64, 16, 4, 1]\n",
      "(-8.118258827661227e-08+0j)\n",
      "6\n",
      "[1, 4, 16, 64, 120, 64, 16, 4, 1]\n",
      "(-1.1949016067989065e-06+0j)\n",
      "7\n",
      "[1, 4, 16, 64, 120, 64, 16, 4, 1]\n",
      "(-4.1905757771203167e-08+0j)\n",
      "8\n",
      "[1, 4, 16, 64, 120, 64, 16, 4, 1]\n",
      "(-1.673782543077859e-08+0j)\n",
      "9\n",
      "[1, 4, 16, 64, 120, 64, 16, 4, 1]\n",
      "(-7.235602668192255e-07+0j)\n",
      "10\n",
      "[1, 4, 16, 64, 120, 64, 16, 4, 1]\n",
      "(3.340514967856774e-08+0j)\n",
      "11\n",
      "[1, 4, 16, 64, 120, 64, 16, 4, 1]\n",
      "(4.103633266679639e-08+0j)\n",
      "12\n",
      "[1, 4, 16, 64, 120, 64, 16, 4, 1]\n",
      "(8.273274449644102e-07+0j)\n",
      "13\n",
      "[1, 4, 16, 64, 120, 64, 16, 4, 1]\n",
      "(-1.6561415740320648e-09+0j)\n",
      "14\n",
      "[1, 4, 16, 64, 120, 64, 16, 4, 1]\n",
      "(4.113574233793253e-07+0j)\n",
      "15\n",
      "[1, 4, 16, 64, 120, 64, 16, 4, 1]\n",
      "(-8.206539858778038e-07+0j)\n",
      "16\n",
      "[1, 4, 16, 64, 120, 64, 16, 4, 1]\n",
      "(1.0553350940042169e-08+0j)\n",
      "17\n",
      "[1, 4, 16, 64, 120, 64, 16, 4, 1]\n",
      "(-7.70360567421997e-07+0j)\n",
      "18\n",
      "[1, 4, 16, 64, 120, 64, 16, 4, 1]\n",
      "(2.940832224363759e-08+0j)\n",
      "19\n",
      "[1, 4, 16, 64, 120, 64, 16, 4, 1]\n",
      "(1.561801349149629e-08+0j)\n",
      "20\n",
      "[1, 4, 16, 64, 120, 64, 16, 4, 1]\n",
      "(3.9539672232581993e-07+0j)\n",
      "21\n",
      "[1, 4, 16, 64, 120, 64, 16, 4, 1]\n",
      "(1.8327163773371766e-07+0j)\n",
      "22\n",
      "[1, 4, 16, 64, 120, 64, 16, 4, 1]\n",
      "(-1.702398541714052e-08+0j)\n",
      "23\n",
      "[1, 4, 16, 64, 120, 64, 16, 4, 1]\n",
      "(2.1293577619793495e-07+0j)\n",
      "24\n",
      "[1, 4, 16, 64, 120, 64, 16, 4, 1]\n",
      "(-2.03241620140343e-08+0j)\n",
      "25\n",
      "[1, 4, 16, 64, 120, 64, 16, 4, 1]\n",
      "(-3.351419427321747e-08+0j)\n",
      "26\n",
      "[1, 4, 16, 64, 120, 64, 16, 4, 1]\n",
      "(1.7249399847382523e-07+0j)\n",
      "27\n",
      "[1, 4, 16, 64, 120, 64, 16, 4, 1]\n",
      "(-7.316577485972232e-07+0j)\n",
      "28\n",
      "[1, 4, 16, 64, 120, 64, 16, 4, 1]\n",
      "(-3.901128873618539e-08+0j)\n",
      "29\n",
      "[1, 4, 16, 64, 120, 64, 16, 4, 1]\n",
      "(2.979331195047746e-07+0j)\n"
     ]
    }
   ],
   "source": [
    "N_Krylov_3 = 30\n",
    "psi_original_3 = copy.deepcopy(v_ritz_2)\n",
    "max_bond_Krylov_3 = 120\n",
    "trunc_tol = 0\n",
    "foldername_3 = f\"/work_fast/ge49cag/code_datas/NH3_1st_ex_restart_2\"\n",
    "generate_krylov_space_othogonal_against(N_Krylov_3, H_mu_nu_list_spin_layer, psi_original_3, max_bond_Krylov_3, trunc_tol, r_thc, foldername_3, copy.deepcopy(NH3_ground))\n"
   ]
  },
  {
   "cell_type": "code",
   "execution_count": 19,
   "metadata": {},
   "outputs": [],
   "source": [
    "H_reduced_non_rotho_3 = generate_reduced_H_non_ortho(N_Krylov_3, foldername_3, mpo_ref)\n",
    "coeff_3 = coeff_gram_schmidt(N_Krylov_3, foldername_3)\n",
    "#H_reduced: elements calculated by post-orthogonalized Krylov vectos\n",
    "H_reduced_3 = np.einsum('ik, kl, jl -> ij', coeff_3.conj(), H_reduced_non_rotho_3, coeff_3)\n"
   ]
  },
  {
   "cell_type": "code",
   "execution_count": 20,
   "metadata": {},
   "outputs": [
    {
     "name": "stdout",
     "output_type": "stream",
     "text": [
      "(0.0011470223215042097+0j)\n",
      "(0.0011260387373823733+0j)\n",
      "(0.0011241968222037713+0j)\n",
      "(0.0011203298214326196+0j)\n"
     ]
    },
    {
     "name": "stdout",
     "output_type": "stream",
     "text": [
      "(0.0011112679826084104+0j)\n",
      "(0.001103322100689752+0j)\n"
     ]
    }
   ],
   "source": [
    "e_ritz_3, v_ritz_3 = solve_ritz(foldername_3, H_reduced_3, N_Krylov_3, coeff_3, max_bond_Krylov_3, e_1st_ex, mpo_ref)"
   ]
  },
  {
   "cell_type": "markdown",
   "metadata": {},
   "source": [
    "restart:"
   ]
  },
  {
   "cell_type": "code",
   "execution_count": 21,
   "metadata": {},
   "outputs": [
    {
     "name": "stdout",
     "output_type": "stream",
     "text": [
      "[1, 4, 16, 64, 120, 64, 16, 4, 1]\n",
      "2\n",
      "[1, 4, 16, 64, 120, 64, 16, 4, 1]\n",
      "(-9.04424251187529e-07+0j)\n",
      "3\n",
      "[1, 4, 16, 64, 120, 64, 16, 4, 1]\n",
      "(-9.089688248584515e-07+0j)\n",
      "4\n",
      "[1, 4, 16, 64, 120, 64, 16, 4, 1]\n",
      "(4.5949291244500837e-07+0j)\n",
      "5\n",
      "[1, 4, 16, 64, 120, 64, 16, 4, 1]\n",
      "(-3.944863132818875e-07+0j)\n",
      "6\n",
      "[1, 4, 16, 64, 120, 64, 16, 4, 1]\n",
      "(5.490490026248179e-07+0j)\n",
      "7\n",
      "[1, 4, 16, 64, 120, 64, 16, 4, 1]\n",
      "(-7.567945349207434e-08+0j)\n",
      "8\n",
      "[1, 4, 16, 64, 120, 64, 16, 4, 1]\n",
      "(1.8574054452423407e-08+0j)\n",
      "9\n",
      "[1, 4, 16, 64, 120, 64, 16, 4, 1]\n",
      "(-9.074157716841406e-08+0j)\n",
      "10\n",
      "[1, 4, 16, 64, 120, 64, 16, 4, 1]\n",
      "(-3.435466685707423e-10+0j)\n",
      "11\n",
      "[1, 4, 16, 64, 120, 64, 16, 4, 1]\n",
      "(-1.0212469814187448e-07+0j)\n",
      "12\n",
      "[1, 4, 16, 64, 120, 64, 16, 4, 1]\n",
      "(-1.3604932507102014e-06+0j)\n",
      "13\n",
      "[1, 4, 16, 64, 120, 64, 16, 4, 1]\n",
      "(-4.356213597839025e-09+0j)\n",
      "14\n",
      "[1, 4, 16, 64, 120, 64, 16, 4, 1]\n",
      "(3.4772839981265572e-06+0j)\n",
      "15\n",
      "[1, 4, 16, 64, 120, 64, 16, 4, 1]\n",
      "(2.870208327517961e-07+0j)\n",
      "16\n",
      "[1, 4, 16, 64, 120, 64, 16, 4, 1]\n",
      "(1.1956536341109253e-07+0j)\n",
      "17\n",
      "[1, 4, 16, 64, 120, 64, 16, 4, 1]\n",
      "(6.772685048111386e-07+0j)\n",
      "18\n",
      "[1, 4, 16, 64, 120, 64, 16, 4, 1]\n",
      "(-3.2878450238475374e-07+0j)\n",
      "19\n",
      "[1, 4, 16, 64, 120, 64, 16, 4, 1]\n",
      "(-1.010703371385704e-08+0j)\n",
      "20\n",
      "[1, 4, 16, 64, 120, 64, 16, 4, 1]\n",
      "(-2.1976215085008934e-06+0j)\n",
      "21\n",
      "[1, 4, 16, 64, 120, 64, 16, 4, 1]\n",
      "(9.242077825686776e-09+0j)\n",
      "22\n",
      "[1, 4, 16, 64, 120, 64, 16, 4, 1]\n",
      "(-1.643987049205673e-07+0j)\n",
      "23\n",
      "[1, 4, 16, 64, 120, 64, 16, 4, 1]\n",
      "(1.1356801195175977e-06+0j)\n",
      "24\n",
      "[1, 4, 16, 64, 120, 64, 16, 4, 1]\n",
      "(4.828946690709442e-07+0j)\n",
      "25\n",
      "[1, 4, 16, 64, 120, 64, 16, 4, 1]\n",
      "(1.8125811918072345e-08+0j)\n",
      "26\n",
      "[1, 4, 16, 64, 120, 64, 16, 4, 1]\n",
      "(2.0203844695287887e-07+0j)\n",
      "27\n",
      "[1, 4, 16, 64, 120, 64, 16, 4, 1]\n",
      "(-3.108881473788043e-07+0j)\n",
      "28\n",
      "[1, 4, 16, 64, 120, 64, 16, 4, 1]\n",
      "(-1.8987091305034374e-09+0j)\n",
      "29\n",
      "[1, 4, 16, 64, 120, 64, 16, 4, 1]\n",
      "(-4.6468383375900175e-08+0j)\n"
     ]
    }
   ],
   "source": [
    "N_Krylov_4 = 30\n",
    "psi_original_4 = copy.deepcopy(v_ritz_3)\n",
    "max_bond_Krylov_4 = 120\n",
    "trunc_tol = 0\n",
    "foldername_4 = f\"/work_fast/ge49cag/code_datas/NH3_1st_ex_restart_3\"\n",
    "generate_krylov_space_othogonal_against(N_Krylov_4, H_mu_nu_list_spin_layer, psi_original_4, max_bond_Krylov_4, trunc_tol, r_thc, foldername_4, copy.deepcopy(NH3_ground))\n"
   ]
  },
  {
   "cell_type": "code",
   "execution_count": 22,
   "metadata": {},
   "outputs": [],
   "source": [
    "H_reduced_non_rotho_4 = generate_reduced_H_non_ortho(N_Krylov_4, foldername_4, mpo_ref)\n",
    "coeff_4 = coeff_gram_schmidt(N_Krylov_4, foldername_4)\n",
    "#H_reduced: elements calculated by post-orthogonalized Krylov vectos\n",
    "H_reduced_4 = np.einsum('ik, kl, jl -> ij', coeff_4.conj(), H_reduced_non_rotho_4, coeff_4)"
   ]
  },
  {
   "cell_type": "code",
   "execution_count": 23,
   "metadata": {},
   "outputs": [
    {
     "name": "stdout",
     "output_type": "stream",
     "text": [
      "(0.0010998118856093697+0j)\n",
      "(0.0010968866635892027+0j)\n"
     ]
    },
    {
     "name": "stdout",
     "output_type": "stream",
     "text": [
      "(0.0010942610815902754+0j)\n",
      "(0.0010934011441037228+0j)\n",
      "(0.0010919006127920738+0j)\n",
      "(0.0010755484506006496+0j)\n"
     ]
    }
   ],
   "source": [
    "e_ritz_4, v_ritz_4 = solve_ritz(foldername_4, H_reduced_4, N_Krylov_4, coeff_4, max_bond_Krylov_4, e_1st_ex, mpo_ref)"
   ]
  },
  {
   "cell_type": "markdown",
   "metadata": {},
   "source": [
    "restart:"
   ]
  },
  {
   "cell_type": "code",
   "execution_count": 10,
   "metadata": {},
   "outputs": [],
   "source": [
    "N_Krylov_5 = 30\n",
    "#psi_original_5 = copy.deepcopy(v_ritz_4)\n",
    "max_bond_Krylov_5 = 120\n",
    "trunc_tol = 0\n",
    "foldername_5 = f\"/work_fast/ge49cag/code_datas/NH3_1st_ex_restart_4\"\n",
    "#generate_krylov_space_othogonal_against(N_Krylov_5, H_mu_nu_list_spin_layer, psi_original_5, max_bond_Krylov_5, trunc_tol, r_thc, foldername_5, copy.deepcopy(NH3_ground))"
   ]
  },
  {
   "cell_type": "code",
   "execution_count": 11,
   "metadata": {},
   "outputs": [
    {
     "name": "stderr",
     "output_type": "stream",
     "text": [
      "/work_fast/ge49cag/pytenet_thc_spin_cons/thc_experiments/../pytenet/global_krylov_method.py:214: ComplexWarning: Casting complex values to real discards the imaginary part\n",
      "  H_reduced[i, j] = operator_inner_product(temp1, H_mpo, temp2)\n",
      "/work_fast/ge49cag/pytenet_thc_spin_cons/thc_experiments/../pytenet/global_krylov_method.py:113: ComplexWarning: Casting complex values to real discards the imaginary part\n",
      "  W[i,j] = vdot(temp1, temp2)\n"
     ]
    }
   ],
   "source": [
    "H_reduced_non_rotho_5 = generate_reduced_H_non_ortho(N_Krylov_5, foldername_5, mpo_ref)\n",
    "coeff_5 = coeff_gram_schmidt(N_Krylov_5, foldername_5)\n",
    "#H_reduced: elements calculated by post-orthogonalized Krylov vectos\n",
    "H_reduced_5 = np.einsum('ik, kl, jl -> ij', coeff_5.conj(), H_reduced_non_rotho_5, coeff_5)"
   ]
  },
  {
   "cell_type": "code",
   "execution_count": 13,
   "metadata": {},
   "outputs": [
    {
     "name": "stdout",
     "output_type": "stream",
     "text": [
      "0.00105976589004797\n"
     ]
    }
   ],
   "source": [
    "e_test, v_test = np.linalg.eigh(H_reduced_5)\n",
    "print(e_test[0] - e_1st_ex)"
   ]
  },
  {
   "cell_type": "code",
   "execution_count": 14,
   "metadata": {},
   "outputs": [
    {
     "name": "stdout",
     "output_type": "stream",
     "text": [
      "(0.0010687932477679851+0j)\n",
      "(0.0010643892557027357+0j)\n",
      "(0.001063453286022309+0j)\n",
      "(0.0010632522551645707+0j)\n",
      "(0.0010630885972489068+0j)\n",
      "(0.0010598104073693548+0j)\n"
     ]
    }
   ],
   "source": [
    "e_ritz_5, v_ritz_5 = solve_ritz(foldername_5, H_reduced_5, N_Krylov_5, coeff_5, max_bond_Krylov_5, e_1st_ex, mpo_ref)"
   ]
  },
  {
   "cell_type": "code",
   "execution_count": null,
   "metadata": {},
   "outputs": [],
   "source": []
  },
  {
   "cell_type": "code",
   "execution_count": 10,
   "metadata": {},
   "outputs": [],
   "source": [
    "N_Krylov_6 = 20\n",
    "#psi_original_6 = copy.deepcopy(v_ritz_5)\n",
    "max_bond_Krylov_6 = 120\n",
    "trunc_tol = 0\n",
    "foldername_6 = f\"/work_fast/ge49cag/code_datas/NH3_1st_ex_restart_5\"\n",
    "#generate_krylov_space_othogonal_against(N_Krylov_6, H_mu_nu_list_spin_layer, psi_original_6, max_bond_Krylov_6, trunc_tol, r_thc, foldername_6, copy.deepcopy(NH3_ground))"
   ]
  },
  {
   "cell_type": "code",
   "execution_count": 11,
   "metadata": {},
   "outputs": [
    {
     "name": "stderr",
     "output_type": "stream",
     "text": [
      "/work_fast/ge49cag/pytenet_thc_spin_cons/thc_experiments/../pytenet/global_krylov_method.py:214: ComplexWarning: Casting complex values to real discards the imaginary part\n",
      "  H_reduced[i, j] = operator_inner_product(temp1, H_mpo, temp2)\n",
      "/work_fast/ge49cag/pytenet_thc_spin_cons/thc_experiments/../pytenet/global_krylov_method.py:113: ComplexWarning: Casting complex values to real discards the imaginary part\n",
      "  W[i,j] = vdot(temp1, temp2)\n"
     ]
    }
   ],
   "source": [
    "H_reduced_non_rotho_6 = generate_reduced_H_non_ortho(N_Krylov_6, foldername_6, mpo_ref)\n",
    "coeff_6 = coeff_gram_schmidt(N_Krylov_6, foldername_6)\n",
    "#H_reduced: elements calculated by post-orthogonalized Krylov vectos\n",
    "H_reduced_6 = np.einsum('ik, kl, jl -> ij', coeff_6.conj(), H_reduced_non_rotho_6, coeff_6)"
   ]
  },
  {
   "cell_type": "code",
   "execution_count": 12,
   "metadata": {},
   "outputs": [
    {
     "name": "stdout",
     "output_type": "stream",
     "text": [
      "(0.0010555542853865063+0j)\n",
      "(0.0010512901423425092+0j)\n",
      "(0.0010509705565624472+0j)\n",
      "(0.0010501509774343276+0j)\n"
     ]
    }
   ],
   "source": [
    "e_ritz_6, v_ritz_6 = solve_ritz(foldername_6, H_reduced_6, N_Krylov_6, coeff_6, max_bond_Krylov_6, e_1st_ex, mpo_ref)"
   ]
  },
  {
   "cell_type": "code",
   "execution_count": null,
   "metadata": {},
   "outputs": [],
   "source": []
  }
 ],
 "metadata": {
  "kernelspec": {
   "display_name": "Python 3",
   "language": "python",
   "name": "python3"
  },
  "language_info": {
   "codemirror_mode": {
    "name": "ipython",
    "version": 3
   },
   "file_extension": ".py",
   "mimetype": "text/x-python",
   "name": "python",
   "nbconvert_exporter": "python",
   "pygments_lexer": "ipython3",
   "version": "3.10.12"
  }
 },
 "nbformat": 4,
 "nbformat_minor": 2
}
